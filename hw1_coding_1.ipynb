{
 "cells": [
  {
   "cell_type": "markdown",
   "metadata": {
    "application/vnd.databricks.v1+cell": {
     "cellMetadata": {
      "byteLimit": 2048000,
      "rowLimit": 10000
     },
     "inputWidgets": {},
     "nuid": "093181c9-1ba7-4729-b216-2a5db1807bc3",
     "showTitle": false,
     "title": ""
    },
    "id": "Sjb2mQNt_sag"
   },
   "source": [
    "# CMU notebook\n",
    "Before you turn these assignments in, make sure everything runs as expected. Be sure to click **run all** (in the upper right).\n",
    "\n",
    "Follow the guide and fill in any place that says `YOUR CODE HERE` or \"YOUR ANSWER HERE.\""
   ]
  },
  {
   "cell_type": "markdown",
   "metadata": {
    "application/vnd.databricks.v1+cell": {
     "cellMetadata": {
      "byteLimit": 2048000,
      "rowLimit": 10000
     },
     "inputWidgets": {},
     "nuid": "c0441617-829d-4c74-907e-0ec9ae6db5dc",
     "showTitle": false,
     "title": ""
    }
   },
   "source": [
    "%md\n",
    "---"
   ]
  },
  {
   "cell_type": "markdown",
   "metadata": {
    "application/vnd.databricks.v1+cell": {
     "cellMetadata": {
      "byteLimit": 2048000,
      "rowLimit": 10000
     },
     "inputWidgets": {},
     "nuid": "af977e9e-9aa5-4962-a055-94151e0596d4",
     "showTitle": false,
     "title": ""
    },
    "id": "hyHgAiN7_sal"
   },
   "source": [
    "# CMU Machine Learning with Large Datasets\n",
    "\n",
    "## Homework 1 - Coding 1: Entity Resolution"
   ]
  },
  {
   "cell_type": "code",
   "execution_count": 0,
   "metadata": {
    "application/vnd.databricks.v1+cell": {
     "cellMetadata": {
      "byteLimit": 2048000,
      "rowLimit": 10000
     },
     "inputWidgets": {},
     "nuid": "22176ab8-aaf0-4f0e-868d-a0dd5c8b03ae",
     "showTitle": false,
     "title": ""
    }
   },
   "outputs": [
    {
     "output_type": "display_data",
     "data": {
      "text/plain": [
       "\u001B[0;31m---------------------------------------------------------------------------\u001B[0m\n",
       "\u001B[0;31mNotImplementedError\u001B[0m                       Traceback (most recent call last)\n",
       "File \u001B[0;32m<command-1053596579161915>:7\u001B[0m\n",
       "\u001B[1;32m      5\u001B[0m collaborators \u001B[38;5;241m=\u001B[39m [\u001B[38;5;124m\"\u001B[39m\u001B[38;5;124m\"\u001B[39m]\n",
       "\u001B[1;32m      6\u001B[0m \u001B[38;5;66;03m# YOUR CODE HERE\u001B[39;00m\n",
       "\u001B[0;32m----> 7\u001B[0m \u001B[38;5;28;01mraise\u001B[39;00m \u001B[38;5;167;01mNotImplementedError\u001B[39;00m()\n",
       "\n",
       "\u001B[0;31mNotImplementedError\u001B[0m: "
      ]
     },
     "metadata": {
      "application/vnd.databricks.v1+output": {
       "arguments": {},
       "data": "\u001B[0;31m---------------------------------------------------------------------------\u001B[0m\n\u001B[0;31mNotImplementedError\u001B[0m                       Traceback (most recent call last)\nFile \u001B[0;32m<command-1053596579161915>:7\u001B[0m\n\u001B[1;32m      5\u001B[0m collaborators \u001B[38;5;241m=\u001B[39m [\u001B[38;5;124m\"\u001B[39m\u001B[38;5;124m\"\u001B[39m]\n\u001B[1;32m      6\u001B[0m \u001B[38;5;66;03m# YOUR CODE HERE\u001B[39;00m\n\u001B[0;32m----> 7\u001B[0m \u001B[38;5;28;01mraise\u001B[39;00m \u001B[38;5;167;01mNotImplementedError\u001B[39;00m()\n\n\u001B[0;31mNotImplementedError\u001B[0m: ",
       "errorSummary": "<span class='ansi-red-fg'>NotImplementedError</span>: ",
       "errorTraceType": "ansi",
       "metadata": {},
       "type": "ipynbError"
      }
     },
     "output_type": "display_data"
    }
   ],
   "source": [
    "# Who did you collaborate with on this assignment? \n",
    "# if no one, collaborators should contain an empty string,\n",
    "# else list your collaborators below\n",
    "\n",
    "collaborators = [\"\"]\n",
    "# YOUR CODE HERE\n",
    "# raise NotImplementedError()\n"
   ]
  },
  {
   "cell_type": "code",
   "execution_count": 0,
   "metadata": {
    "application/vnd.databricks.v1+cell": {
     "cellMetadata": {
      "byteLimit": 2048000,
      "rowLimit": 10000
     },
     "inputWidgets": {},
     "nuid": "f12bf19b-cfcb-4344-a693-0426a4e86616",
     "showTitle": false,
     "title": ""
    }
   },
   "outputs": [],
   "source": [
    "try:\n",
    "    collaborators\n",
    "except:\n",
    "    raise AssertionError(\"you did not list your collaborators, if any\")"
   ]
  },
  {
   "cell_type": "code",
   "execution_count": 0,
   "metadata": {
    "application/vnd.databricks.v1+cell": {
     "cellMetadata": {
      "byteLimit": 2048000,
      "rowLimit": 10000
     },
     "inputWidgets": {},
     "nuid": "61e60de4-6e7e-42cb-884c-9b5ef15d943d",
     "showTitle": false,
     "title": ""
    },
    "deletable": false,
    "editable": false,
    "id": "f7y2cra8_sao",
    "nbgrader": {
     "cell_type": "code",
     "checksum": "37f6f3f7e06f6a127489a093d625ac67",
     "grade": false,
     "grade_id": "cell-ac93bd79d8ca1cf8",
     "locked": true,
     "schema_version": 3,
     "solution": false,
     "task": false
    }
   },
   "outputs": [
    {
     "output_type": "display_data",
     "data": {
      "text/plain": [
       "\u001B[0;31m---------------------------------------------------------------------------\u001B[0m\n",
       "\u001B[0;31mModuleNotFoundError\u001B[0m                       Traceback (most recent call last)\n",
       "File \u001B[0;32m<command-1053596579161917>:5\u001B[0m\n",
       "\u001B[1;32m      1\u001B[0m \u001B[38;5;66;03m# YOU CAN MOST LIKELY IGNORE THIS CELL. This is only of use for running this notebook locally.\u001B[39;00m\n",
       "\u001B[1;32m      2\u001B[0m \n",
       "\u001B[1;32m      3\u001B[0m \u001B[38;5;66;03m# THIS CELL DOES NOT NEED TO BE RUN ON DATABRICKS. BUT MUST BE UNCOMMENTED WHEN SUBMITTING TO GRADESOPE!!!\u001B[39;00m\n",
       "\u001B[1;32m      4\u001B[0m \u001B[38;5;66;03m# Note that Databricks already creates a SparkContext for you, so this cell can be skipped.\u001B[39;00m\n",
       "\u001B[0;32m----> 5\u001B[0m \u001B[38;5;28;01mimport\u001B[39;00m \u001B[38;5;21;01mfindspark\u001B[39;00m\n",
       "\u001B[1;32m      6\u001B[0m findspark\u001B[38;5;241m.\u001B[39minit()\n",
       "\u001B[1;32m      7\u001B[0m \u001B[38;5;28;01mimport\u001B[39;00m \u001B[38;5;21;01mpyspark\u001B[39;00m\n",
       "\n",
       "\u001B[0;31mModuleNotFoundError\u001B[0m: No module named 'findspark'"
      ]
     },
     "metadata": {
      "application/vnd.databricks.v1+output": {
       "arguments": {},
       "data": "\u001B[0;31m---------------------------------------------------------------------------\u001B[0m\n\u001B[0;31mModuleNotFoundError\u001B[0m                       Traceback (most recent call last)\nFile \u001B[0;32m<command-1053596579161917>:5\u001B[0m\n\u001B[1;32m      1\u001B[0m \u001B[38;5;66;03m# YOU CAN MOST LIKELY IGNORE THIS CELL. This is only of use for running this notebook locally.\u001B[39;00m\n\u001B[1;32m      2\u001B[0m \n\u001B[1;32m      3\u001B[0m \u001B[38;5;66;03m# THIS CELL DOES NOT NEED TO BE RUN ON DATABRICKS. BUT MUST BE UNCOMMENTED WHEN SUBMITTING TO GRADESOPE!!!\u001B[39;00m\n\u001B[1;32m      4\u001B[0m \u001B[38;5;66;03m# Note that Databricks already creates a SparkContext for you, so this cell can be skipped.\u001B[39;00m\n\u001B[0;32m----> 5\u001B[0m \u001B[38;5;28;01mimport\u001B[39;00m \u001B[38;5;21;01mfindspark\u001B[39;00m\n\u001B[1;32m      6\u001B[0m findspark\u001B[38;5;241m.\u001B[39minit()\n\u001B[1;32m      7\u001B[0m \u001B[38;5;28;01mimport\u001B[39;00m \u001B[38;5;21;01mpyspark\u001B[39;00m\n\n\u001B[0;31mModuleNotFoundError\u001B[0m: No module named 'findspark'",
       "errorSummary": "<span class='ansi-red-fg'>ModuleNotFoundError</span>: No module named 'findspark'",
       "errorTraceType": "ansi",
       "metadata": {},
       "type": "ipynbError"
      }
     },
     "output_type": "display_data"
    }
   ],
   "source": [
    "# YOU CAN MOST LIKELY IGNORE THIS CELL. This is only of use for running this notebook locally.\n",
    "\n",
    "# THIS CELL DOES NOT NEED TO BE RUN ON DATABRICKS. BUT MUST BE UNCOMMENTED WHEN SUBMITTING TO GRADESOPE!!!\n",
    "# Note that Databricks already creates a SparkContext for you, so this cell can be skipped.\n",
    "import findspark\n",
    "findspark.init()\n",
    "import pyspark\n",
    "from pyspark.sql import SQLContext\n",
    "sc = pyspark.SparkContext(appName=\"hw\")\n",
    "sqlContext = SQLContext(sc)\n",
    "\n",
    "print(\"spark context started\")"
   ]
  },
  {
   "cell_type": "markdown",
   "metadata": {
    "application/vnd.databricks.v1+cell": {
     "cellMetadata": {
      "byteLimit": 2048000,
      "rowLimit": 10000
     },
     "inputWidgets": {},
     "nuid": "066f4c31-ae27-4d60-b1fe-2c88759c44b9",
     "showTitle": false,
     "title": ""
    },
    "id": "SlKMN2aS_sao"
   },
   "source": [
    "# **1. Text Analysis and Entity Resolution**\n",
    "Entity resolution is a common, yet difficult problem in data cleaning and integration. This lab will demonstrate how we can use Apache Spark to apply powerful and scalable text analysis techniques and perform entity resolution across two datasets of commercial products."
   ]
  },
  {
   "cell_type": "markdown",
   "metadata": {
    "application/vnd.databricks.v1+cell": {
     "cellMetadata": {
      "byteLimit": 2048000,
      "rowLimit": 10000
     },
     "inputWidgets": {},
     "nuid": "c33190ba-a615-4d20-85d5-38fd5ef71b69",
     "showTitle": false,
     "title": ""
    },
    "id": "vdKXdK9P_saq"
   },
   "source": [
    "Entity Resolution, or \"[Record linkage][wiki]\" is the term used by statisticians, epidemiologists, and historians, among others, to describe the process of joining records from one data source with another that describe the same entity. Our terms with the same meaning include, \"entity disambiguation/linking\", \"duplicate detection\", \"deduplication\", \"record matching\", \"(reference) reconciliation\", \"object identification\", \"data/information integration\", and \"conflation\".\n",
    "\n",
    "Entity Resolution (ER) refers to the task of finding records in a dataset that refer to the same entity across different data sources (e.g., data files, books, websites, databases). ER is necessary when joining datasets based on entities that may or may not share a common identifier (e.g., database key, URI, National identification number), as may be the case due to differences in record shape, storage location, and/or curator style or preference. A dataset that has undergone ER may be referred to as being cross-linked.\n",
    "[wiki]: https://en.wikipedia.org/wiki/Record_linkage"
   ]
  },
  {
   "cell_type": "markdown",
   "metadata": {
    "application/vnd.databricks.v1+cell": {
     "cellMetadata": {
      "byteLimit": 2048000,
      "rowLimit": 10000
     },
     "inputWidgets": {},
     "nuid": "b4baa55f-39f6-4aeb-b759-5a24fd20cd07",
     "showTitle": false,
     "title": ""
    },
    "id": "Q5WCrE1o_sar"
   },
   "source": [
    "## Part 0: Preliminaries\n",
    "\n",
    "### Code\n",
    "\n",
    "This assignment can be completed using basic Python, PySpark transformations and actions, and the plotting library matplotlib.\n",
    "\n",
    "### Files\n",
    "[Data files](https://github.com/spark-mooc/mooc-setup/tree/master/metric-learning/data/3-amazon-googleproducts) for this assignment are from the [metric-learning](https://github.com/spark-mooc/mooc-setup/tree/master/metric-learning) project and can be found at:\n",
    "`dbfs:/FileStore/tables/lab1/`\n",
    "\n",
    "The directory contains the following files:\n",
    "* **Google.csv**, the Google Products dataset, named as targets.csv in the repository\n",
    "* **Amazon.csv**, the Amazon dataset, named as sources.csv in the repository\n",
    "* **Google_small.csv**, 200 records sampled from the Google data, subset of targets.csv\n",
    "* **Amazon_small.csv**, 200 records sampled from the Amazon data, subset of sources.csv\n",
    "* **Amazon_Google_perfectMapping.csv**, the \"gold standard\" mapping, named as mapping.csv in the repository\n",
    "* **stopwords.txt**, a list of common English words\n",
    "\n",
    "Besides the complete data files, there are \"sample\" data files for each dataset - we will use these for **Part 1**. In addition, there is a \"gold standard\" file that contains all of the true mappings between entities in the two datasets. Every row in the gold standard file has a pair of record IDs (one Google, one Amazon) that belong to two records that describe the same thing in the real world. We will use the gold standard to evaluate our algorithms.\n",
    "\n",
    "### Table of Contents\n",
    "0) **Preliminaries**\n",
    "\n",
    "1) **Bag of Words**\n",
    " * Tokenization\n",
    " * Tokenizing Small Datasets\n",
    " * Record with the Most Tokens\n",
    " \n",
    "2) **Weighted Bag of Words with TF-IDF**\n",
    " * Implement Term Frequency\n",
    " * Create a Corpus\n",
    " * Implement IDF\n",
    " * Smallest IDF\n",
    " * IDF Histogram\n",
    " * Implement TF-IDF\n",
    " \n",
    "3) **Cosine Similarity**\n",
    " * Implement Math Components\n",
    " * Implement Cosine Similarity\n",
    " * Perform Entity Resolution\n",
    " * Entity Resolution with Broadcast Variables\n",
    " * Gold Standard Evaluation\n",
    " \n",
    "4) **Scalable Entity Resolution (Full Dataset)**\n",
    " * Tokenize\n",
    " * Compute IDFs and TF-IDFs\n",
    " * Compute Norms for the Weights\n",
    " * Create Inverted Indices\n",
    " * Indentify Common Tokens\n",
    " \n",
    "5) **Analysis**\n",
    " * Counting True Positives, False Positives, and True Negatives\n",
    " * Precision, Recall, F-measures\n",
    " * Line Plots\n",
    "\n",
    "We read in each of the files and create an RDD consisting of lines.\n",
    "For each of the data files (\"Google.csv\", \"Amazon.csv\", and the samples), we want to parse the IDs out of each record. The IDs are the first column of the file (they are URLs for Google, and alphanumeric strings for Amazon). Omitting the headers, we load these data files into pair RDDs where the *mapping ID* is the key, and the value is a string consisting of the name/title, description, and manufacturer from the record.\n",
    "\n",
    "The file format of an Amazon line is:\n",
    "\n",
    "```\n",
    "\"id\",\"title\",\"description\",\"manufacturer\",\"price\"\n",
    "```\n",
    "\n",
    "The file format of a Google line is:\n",
    "\n",
    "```\n",
    "\"id\",\"name\",\"description\",\"manufacturer\",\"price\"\n",
    "```"
   ]
  },
  {
   "cell_type": "code",
   "execution_count": 0,
   "metadata": {
    "application/vnd.databricks.v1+cell": {
     "cellMetadata": {
      "byteLimit": 2048000,
      "rowLimit": 10000
     },
     "inputWidgets": {},
     "nuid": "0d0205e0-c62d-4300-9c62-6006aed865b5",
     "showTitle": false,
     "title": ""
    },
    "id": "vtwC6CKZ_sas"
   },
   "outputs": [],
   "source": [
    "# imports that will be used in the notebook -- shouldn't need to import any other libraries\n",
    "from nose.tools import assert_equal, assert_true\n",
    "import re\n",
    "import sys\n",
    "import os\n",
    "from pyspark import SparkFiles\n",
    "import matplotlib.pyplot as plt\n",
    "from pyspark.sql import Row\n",
    "import math\n",
    "from pyspark import Broadcast\n",
    "from pyspark.accumulators import AccumulatorParam"
   ]
  },
  {
   "cell_type": "code",
   "execution_count": 0,
   "metadata": {
    "application/vnd.databricks.v1+cell": {
     "cellMetadata": {
      "byteLimit": 2048000,
      "rowLimit": 10000
     },
     "inputWidgets": {},
     "nuid": "6f2cf7a4-7aef-4275-ba73-351dde3ac298",
     "showTitle": false,
     "title": ""
    },
    "id": "_DEVLA94_sat"
   },
   "outputs": [],
   "source": [
    "DATAFILE_PATTERN = '^(.+),\"(.+)\",(.*),(.*),(.*)'\n",
    "\n",
    "def removeQuotes(s):\n",
    "    \"\"\" Remove quotation marks from an input string\n",
    "    Args:\n",
    "        s (str): input string that might have the quote \"\" characters\n",
    "    Returns:\n",
    "        str: a string without the quote characters\n",
    "    \"\"\"\n",
    "    return ''.join(i for i in s if i!='\"')\n",
    "\n",
    "\n",
    "def parseDatafileLine(datafileLine):\n",
    "    \"\"\" Parse a line of the data file using the specified regular expression pattern\n",
    "    Args:\n",
    "        datafileLine (str): input string that is a line from the data file\n",
    "    Returns:\n",
    "        tuple: a tuple including the parsed results using the given regular expression and without the quote characters\n",
    "    \"\"\"\n",
    "    match = re.search(DATAFILE_PATTERN, datafileLine.decode('utf-8'))\n",
    "    if match is None:\n",
    "        print('Invalid datafile line: %s' % datafileLine)\n",
    "        return (datafileLine, -1)\n",
    "    elif match.group(1) == '\"id\"':\n",
    "        print('Header datafile line: %s' % datafileLine)\n",
    "        return (datafileLine, 0)\n",
    "    else:\n",
    "        product = '%s %s %s' % (match.group(2), match.group(3), match.group(4))\n",
    "        return ((removeQuotes(match.group(1)), product), 1)"
   ]
  },
  {
   "cell_type": "markdown",
   "metadata": {
    "application/vnd.databricks.v1+cell": {
     "cellMetadata": {
      "byteLimit": 2048000,
      "rowLimit": 10000
     },
     "inputWidgets": {},
     "nuid": "5fc52616-92ce-4e7a-b963-cc509eb6fd32",
     "showTitle": false,
     "title": ""
    },
    "id": "01wMqply_sau"
   },
   "source": [
    "Run the following cell to load the data files."
   ]
  },
  {
   "cell_type": "code",
   "execution_count": 0,
   "metadata": {
    "application/vnd.databricks.v1+cell": {
     "cellMetadata": {
      "byteLimit": 2048000,
      "rowLimit": 10000
     },
     "inputWidgets": {},
     "nuid": "b4ee59bf-cff4-48b2-a298-1e096dcb6a84",
     "showTitle": false,
     "title": ""
    },
    "id": "ubQX_x0q_sau"
   },
   "outputs": [
    {
     "output_type": "stream",
     "name": "stdout",
     "output_type": "stream",
     "text": [
      "Google_small.csv - Read 201 lines, successfully parsed 200 lines, failed to parse 0 lines\nGoogle.csv - Read 3227 lines, successfully parsed 3226 lines, failed to parse 0 lines\nAmazon_small.csv - Read 201 lines, successfully parsed 200 lines, failed to parse 0 lines\nAmazon.csv - Read 1364 lines, successfully parsed 1363 lines, failed to parse 0 lines\n"
     ]
    }
   ],
   "source": [
    "GOOGLE_PATH = 'Google.csv'\n",
    "GOOGLE_SMALL_PATH = 'Google_small.csv'\n",
    "AMAZON_PATH = 'Amazon.csv'\n",
    "AMAZON_SMALL_PATH = 'Amazon_small.csv'\n",
    "GOLD_STANDARD_PATH = 'Amazon_Google_perfectMapping.csv'\n",
    "STOPWORDS_PATH = 'stopwords.txt'\n",
    "\n",
    "\n",
    "def parseData(filename, path):\n",
    "    \"\"\" Parse a data file\n",
    "    Args:\n",
    "        filename (str): input file name of the data file\n",
    "    Returns:\n",
    "        RDD: a RDD of parsed lines\n",
    "    \"\"\"\n",
    "    sc.addFile(filename)\n",
    "    return (sc\n",
    "            .textFile(\"file:///\" + SparkFiles.get(path), 4, 0)\n",
    "            .map(parseDatafileLine)\n",
    "            .cache())\n",
    "\n",
    "def loadData(path):\n",
    "    \"\"\" Load a data file\n",
    "    Args:\n",
    "        path (str): input file name of the data file\n",
    "    Returns:\n",
    "        RDD: a RDD of parsed valid lines\n",
    "    \"\"\"\n",
    "\n",
    "    url = \"https://raw.githubusercontent.com/10605/data/master/hw1/\" + path\n",
    "    raw = parseData(url, path).cache()\n",
    "    failed = (raw\n",
    "              .filter(lambda s: s[1] == -1)\n",
    "              .map(lambda s: s[0]))\n",
    "    for line in failed.take(10):\n",
    "        print('%s - Invalid datafile line: %s' % (path, line))\n",
    "    valid = (raw\n",
    "             .filter(lambda s: s[1] == 1)\n",
    "             .map(lambda s: s[0])\n",
    "             .cache())\n",
    "    print('%s - Read %d lines, successfully parsed %d lines, failed to parse %d lines' % (path,\n",
    "                                                                                        raw.count(),\n",
    "                                                                                        valid.count(),\n",
    "                                                                                        failed.count()))\n",
    "    assert failed.count() == 0\n",
    "    assert raw.count() == (valid.count() + 1)\n",
    "    return valid\n",
    "\n",
    "googleSmall = loadData(GOOGLE_SMALL_PATH)\n",
    "google = loadData(GOOGLE_PATH)\n",
    "amazonSmall = loadData(AMAZON_SMALL_PATH)\n",
    "amazon = loadData(AMAZON_PATH)"
   ]
  },
  {
   "cell_type": "markdown",
   "metadata": {
    "application/vnd.databricks.v1+cell": {
     "cellMetadata": {
      "byteLimit": 2048000,
      "rowLimit": 10000
     },
     "inputWidgets": {},
     "nuid": "d5ac7c06-4985-4edd-992c-98c405cecb83",
     "showTitle": false,
     "title": ""
    },
    "id": "W7Ry2v2f_sav"
   },
   "source": [
    "Let's examine the lines that were just loaded in the two subset (small) files - one from Google and one from Amazon"
   ]
  },
  {
   "cell_type": "code",
   "execution_count": 0,
   "metadata": {
    "application/vnd.databricks.v1+cell": {
     "cellMetadata": {
      "byteLimit": 2048000,
      "rowLimit": 10000
     },
     "inputWidgets": {},
     "nuid": "2a714407-2c41-4cc8-ab6e-d42479740e53",
     "showTitle": false,
     "title": ""
    },
    "id": "phqfZ4WN_saw"
   },
   "outputs": [
    {
     "output_type": "stream",
     "name": "stdout",
     "output_type": "stream",
     "text": [
      "google: http://www.google.com/base/feeds/snippets/11448761432933644608: spanish vocabulary builder \"expand your vocabulary! contains fun lessons that both teach and entertain you'll quickly find yourself mastering new terms. includes games and more!\" \n\ngoogle: http://www.google.com/base/feeds/snippets/8175198959985911471: topics presents: museums of world \"5 cd-rom set. step behind the velvet rope to examine some of the most treasured collections of antiquities art and inventions. includes the following the louvre - virtual visit 25 rooms in full screen interactive video detailed map of the louvre ...\" \n\ngoogle: http://www.google.com/base/feeds/snippets/18445827127704822533: sierrahome hse hallmark card studio special edition win 98 me 2000 xp \"hallmark card studio special edition (win 98 me 2000 xp)\" \"sierrahome\"\n\namazon: b000jz4hqo: clickart 950 000 - premier image pack (dvd-rom)  \"broderbund\"\n\namazon: b0006zf55o: ca international - arcserve lap/desktop oem 30pk \"oem arcserve backup v11.1 win 30u for laptops and desktops\" \"computer associates\"\n\namazon: b00004tkvy: noah's ark activity center (jewel case ages 3-8)  \"victory multimedia\"\n\n"
     ]
    }
   ],
   "source": [
    "for line in googleSmall.take(3):\n",
    "    print('google: %s: %s\\n' % (line[0], line[1]))\n",
    "\n",
    "for line in amazonSmall.take(3):\n",
    "    print('amazon: %s: %s\\n' % (line[0], line[1]))"
   ]
  },
  {
   "cell_type": "markdown",
   "metadata": {
    "application/vnd.databricks.v1+cell": {
     "cellMetadata": {
      "byteLimit": 2048000,
      "rowLimit": 10000
     },
     "inputWidgets": {},
     "nuid": "43abdd05-a0c2-43ab-ad7a-139ca5f8f643",
     "showTitle": false,
     "title": ""
    },
    "id": "Efsia92K_saw"
   },
   "source": [
    "## Part 1: ER as Text Similarity - Bags of Words\n",
    "\n",
    "A simple approach to entity resolution is to treat all records as strings and compute their similarity with a string distance function. In this part, we will build some components for performing bag-of-words text-analysis, and then use them to compute record similarity.\n",
    "[Bag-of-words][bag-of-words] is a conceptually simple yet powerful approach to text analysis.\n",
    "\n",
    "The idea is to treat strings, a.k.a. **documents**, as *unordered collections* of words, or **tokens**, i.e., as bags of words.\n",
    "> **Note on terminology**: a \"token\" is the result of parsing the document down to the elements we consider \"atomic\" for the task at hand.  Tokens can be things like words, numbers, acronyms, or other exotica like word-roots or fixed-length character strings.\n",
    "> Bag of words techniques all apply to any sort of token, so when we say \"bag-of-words\" we really mean \"bag-of-tokens,\" strictly speaking.\n",
    "Tokens become the atomic unit of text comparison. If we want to compare two documents, we count how many tokens they share in common. If we want to search for documents with keyword queries (this is what Google does), then we turn the keywords into tokens and find documents that contain them. The power of this approach is that it makes string comparisons insensitive to small differences that probably do not affect meaning much, for example, punctuation and word order.\n",
    "[bag-of-words]: https://en.wikipedia.org/wiki/Bag-of-words_model"
   ]
  },
  {
   "cell_type": "markdown",
   "metadata": {
    "application/vnd.databricks.v1+cell": {
     "cellMetadata": {
      "byteLimit": 2048000,
      "rowLimit": 10000
     },
     "inputWidgets": {},
     "nuid": "c5c601f7-1d10-41e0-a7b2-ebe67013d1e9",
     "showTitle": false,
     "title": ""
    },
    "id": "OWpOs9Dp_saw"
   },
   "source": [
    "### (1a) Tokenize a String\n",
    "Implement the function `tokenize(string)` that takes a string and returns a list of non-empty tokens in the string. `tokenize` should split strings using the provided regular expression. Since we want to make token-matching case insensitive, make sure all tokens are turned lower-case. Give an interpretation, in natural language, of what the regular expression, `split_regex = r’\\W+'`, matches.\n",
    "If you need help with Regular Expressions, try the site [regex101](https://regex101.com/) where you can interactively explore the results of applying different regular expressions to strings.\n",
    "\n",
    "*Note that `\\W` includes the \"_\" character*.\n",
    "\n",
    "You should use [re.split()](https://docs.python.org/2/library/re.html#re.split) to perform the string split. Also:\n",
    "\n",
    "* make sure you remove any empty tokens\n",
    "* make sure you convert the string to lower case.\n",
    "\n",
    "#### Removing stopwords\n",
    "*[Stopwords][stopwords]* are common (English) words that do not contribute much to the content or meaning of a document (e.g., \"the\", \"a\", \"is\", \"to\", etc.). Stopwords add noise to bag-of-words comparisons, so they are usually excluded.\n",
    "Using the included file \"stopwords.txt\", in `tokenize` make sure not to emit stopwords.\n",
    "[stopwords]: https://en.wikipedia.org/wiki/Stop_words"
   ]
  },
  {
   "cell_type": "code",
   "execution_count": 0,
   "metadata": {
    "application/vnd.databricks.v1+cell": {
     "cellMetadata": {
      "byteLimit": 2048000,
      "rowLimit": 10000
     },
     "inputWidgets": {},
     "nuid": "ba9a30d8-7c1d-4edb-96ac-cc7989e4a0bd",
     "showTitle": false,
     "title": ""
    },
    "deletable": false,
    "id": "l1CASwdl_sax",
    "nbgrader": {
     "cell_type": "code",
     "checksum": "8c9869e6085bea726b13c21dd2890cad",
     "grade": false,
     "grade_id": "tokenize",
     "locked": false,
     "schema_version": 3,
     "solution": true,
     "task": false
    }
   },
   "outputs": [
    {
     "output_type": "stream",
     "name": "stdout",
     "output_type": "stream",
     "text": [
      "These are the stopwords: {'out', 'we', 'was', 'how', 'myself', 'for', 'they', 'about', 'then', 'both', 'so', 'don', 'as', 'any', 'after', 'you', 'why', 'been', 'where', 'by', 'yourself', 'a', 'did', 'their', 'doing', 'be', 'further', 'ours', 'now', 'am', 'her', 'yourselves', 'that', 'what', 'my', 'to', 'not', 'own', 'there', 'this', 'each', 'all', 'more', 'me', 'which', 'himself', 'nor', 'other', 'who', 'same', 'at', 'such', 't', 'up', 'than', 'can', 'too', 'these', 'while', 'before', 'ourselves', 'he', 'i', 'our', 'its', 'but', 'with', 'because', 'those', 'the', 'it', 'hers', 'just', 'over', 'between', 'had', 'does', 'have', 'and', 'some', 'or', 'only', 'when', 'below', 'in', 'if', 'theirs', 'again', 'his', 'whom', 'above', 'should', 'itself', 'themselves', 'until', 'are', 'she', 'will', 'from', 'into', 'no', 'your', 'few', 'herself', 'of', 'has', 'down', 'were', 'once', 'having', 'them', 'under', 'him', 'do', 'on', 'an', 'yours', 'being', 'off', 'very', 'through', 'most', 'against', 'here', 'is', 's', 'during'}\n['quick', 'brown', 'fox', 'jumps', 'lazy', 'dog']\n"
     ]
    }
   ],
   "source": [
    "stopfile = \"https://raw.githubusercontent.com/10605/data/master/hw1/stopwords.txt\"\n",
    "sc.addFile(stopfile)\n",
    "stopwords = set(sc.textFile(\"file:///\" + SparkFiles.get(\"stopwords.txt\")).collect())\n",
    "print('These are the stopwords: %s' % stopwords)\n",
    "quickbrownfox = 'a quick brown fox jumps over the lazy dog'\n",
    "\n",
    "def tokenize(string):\n",
    "    \"\"\" An implementation of input string tokenization that excludes stopwords\n",
    "    Args:\n",
    "        string (str): input string\n",
    "    Returns:\n",
    "        list: a list of tokens without stopwords\n",
    "    \"\"\"\n",
    "    # TODO: Uncomment the template below and replace <FILL IN> with appropriate code\n",
    "    split_regex = r'\\W+'\n",
    "    words = re.split(split_regex, string.lower())\n",
    "    words = [token for token in words if token]\n",
    "    words = [token for token in words if token not in stopwords]\n",
    "    return words\n",
    "    \n",
    "    # YOUR CODE HERE\n",
    "    # raise NotImplementedError()\n",
    "\n",
    "print(tokenize(quickbrownfox)) # Should give ['quick', 'brown', ... ]"
   ]
  },
  {
   "cell_type": "code",
   "execution_count": 0,
   "metadata": {
    "application/vnd.databricks.v1+cell": {
     "cellMetadata": {
      "byteLimit": 2048000,
      "rowLimit": 10000
     },
     "inputWidgets": {},
     "nuid": "6131e97c-a823-4497-861c-2a6852b8af4d",
     "showTitle": false,
     "title": ""
    },
    "deletable": false,
    "editable": false,
    "id": "0Xr5qyp1_sax",
    "nbgrader": {
     "cell_type": "code",
     "checksum": "b382614c3b7b6c06d2edd9d82a9ae900",
     "grade": true,
     "grade_id": "tokenize_test",
     "locked": true,
     "points": 1,
     "schema_version": 3,
     "solution": false,
     "task": false
    }
   },
   "outputs": [],
   "source": [
    "\"\"\"Check that 'why', 'a', 'the' are all stopping words\"\"\"\n",
    "assert_equal(tokenize(\"Why a the?\"), [])\n",
    "\"\"\"Check that the word character \\W includes _\"\"\"\n",
    "assert_equal(tokenize(\"Being at the_?\"), ['the_'])\n",
    "\"\"\"Check that the function first tokenizes the string, then removes stopping words\"\"\"\n",
    "assert_equal(tokenize(quickbrownfox), ['quick','brown','fox','jumps','lazy','dog'])"
   ]
  },
  {
   "cell_type": "markdown",
   "metadata": {
    "application/vnd.databricks.v1+cell": {
     "cellMetadata": {
      "byteLimit": 2048000,
      "rowLimit": 10000
     },
     "inputWidgets": {},
     "nuid": "527c08ca-fbd2-430b-8aaa-8149473c34da",
     "showTitle": false,
     "title": ""
    },
    "id": "E3cduNPs_sax"
   },
   "source": [
    "### (1b) Tokenizing the small datasets\n",
    "Now let's tokenize the two *small* datasets. For each ID in a dataset, `tokenize` the values, and then count the total number of tokens.\n",
    "\n",
    "The resulting RDDs, `amazonRecToToken` and `googleRecToToken` should be collections of `(recordID, [token_list])` pairs. For instance, here's a record that should be found in the resulting `amazonRecToToken` RDD:\n",
    "\n",
    "```\n",
    "('b00004tkvy', ['noah', 'ark', 'activity', 'center', 'jewel', 'case', 'ages', '3', '8', 'victory', 'multimedia'])\n",
    "```\n",
    "\n",
    "How many tokens, total, are there in the two datasets?"
   ]
  },
  {
   "cell_type": "code",
   "execution_count": 0,
   "metadata": {
    "application/vnd.databricks.v1+cell": {
     "cellMetadata": {
      "byteLimit": 2048000,
      "rowLimit": 10000
     },
     "inputWidgets": {},
     "nuid": "48918a2d-c35e-44d7-8c2b-2fd1b16a3ec3",
     "showTitle": false,
     "title": ""
    },
    "deletable": false,
    "id": "2pQz1x_T_saz",
    "nbgrader": {
     "cell_type": "code",
     "checksum": "fe26dda79dcac70252f66481b0888ef1",
     "grade": false,
     "grade_id": "count_tokens",
     "locked": false,
     "schema_version": 3,
     "solution": true,
     "task": false
    }
   },
   "outputs": [
    {
     "output_type": "stream",
     "name": "stdout",
     "output_type": "stream",
     "text": [
      "There are 22520 tokens in the combined datasets\n"
     ]
    }
   ],
   "source": [
    "# TODO: Uncomment the template below and replace <FILL IN> with appropriate code\n",
    "amazonRecToToken = amazonSmall.map(lambda x: (x[0], tokenize(x[1])))\n",
    "googleRecToToken = googleSmall.map(lambda x: (x[0], tokenize(x[1])))\n",
    "\n",
    "# YOUR CODE HERE\n",
    "# raise NotImplementedError()\n",
    "\n",
    "def countTokens(vendorRDD):\n",
    "    \"\"\" Count and return the number of tokens\n",
    "    Args:\n",
    "        vendorRDD (RDD of (recordId, tokenizedValue)): Pair tuple of record ID to tokenized output\n",
    "    Returns:\n",
    "        count: count of all tokens\n",
    "    \"\"\"\n",
    "    # TODO: Uncomment the template below and replace <FILL IN> with appropriate code\n",
    "    recordCount = vendorRDD.map(lambda x: len(x[1]))\n",
    "    recordSum = recordCount.sum()\n",
    "    return recordSum\n",
    "\n",
    "    # YOUR CODE HERE\n",
    "    # raise NotImplementedError()\n",
    "\n",
    "totalTokens = countTokens(amazonRecToToken) + countTokens(googleRecToToken)\n",
    "print('There are %s tokens in the combined datasets' % totalTokens)"
   ]
  },
  {
   "cell_type": "code",
   "execution_count": 0,
   "metadata": {
    "application/vnd.databricks.v1+cell": {
     "cellMetadata": {
      "byteLimit": 2048000,
      "rowLimit": 10000
     },
     "inputWidgets": {},
     "nuid": "891eefaf-69bd-46e8-ab32-935c5d9fefd4",
     "showTitle": false,
     "title": ""
    },
    "id": "nv6XTlto_sa0"
   },
   "outputs": [
    {
     "output_type": "execute_result",
     "data": {
      "text/plain": [
       "[('b000jz4hqo',\n",
       "  ['clickart',\n",
       "   '950',\n",
       "   '000',\n",
       "   'premier',\n",
       "   'image',\n",
       "   'pack',\n",
       "   'dvd',\n",
       "   'rom',\n",
       "   'broderbund']),\n",
       " ('b0006zf55o',\n",
       "  ['ca',\n",
       "   'international',\n",
       "   'arcserve',\n",
       "   'lap',\n",
       "   'desktop',\n",
       "   'oem',\n",
       "   '30pk',\n",
       "   'oem',\n",
       "   'arcserve',\n",
       "   'backup',\n",
       "   'v11',\n",
       "   '1',\n",
       "   'win',\n",
       "   '30u',\n",
       "   'laptops',\n",
       "   'desktops',\n",
       "   'computer',\n",
       "   'associates']),\n",
       " ('b00004tkvy',\n",
       "  ['noah',\n",
       "   'ark',\n",
       "   'activity',\n",
       "   'center',\n",
       "   'jewel',\n",
       "   'case',\n",
       "   'ages',\n",
       "   '3',\n",
       "   '8',\n",
       "   'victory',\n",
       "   'multimedia']),\n",
       " ('b000g80lqo',\n",
       "  ['peachtree',\n",
       "   'sage',\n",
       "   'premium',\n",
       "   'accounting',\n",
       "   'nonprofits',\n",
       "   '2007',\n",
       "   'peachtree',\n",
       "   'premium',\n",
       "   'accounting',\n",
       "   'nonprofits',\n",
       "   '2007',\n",
       "   'affordable',\n",
       "   'easy',\n",
       "   'use',\n",
       "   'accounting',\n",
       "   'solution',\n",
       "   'provides',\n",
       "   'donor',\n",
       "   'grantor',\n",
       "   'management',\n",
       "   're',\n",
       "   'like',\n",
       "   'nonprofit',\n",
       "   'organizations',\n",
       "   're',\n",
       "   'constantly',\n",
       "   'striving',\n",
       "   'maximize',\n",
       "   'every',\n",
       "   'dollar',\n",
       "   'annual',\n",
       "   'operating',\n",
       "   'budget',\n",
       "   'financial',\n",
       "   'reporting',\n",
       "   'programs',\n",
       "   'funds',\n",
       "   'advanced',\n",
       "   'operational',\n",
       "   'reporting',\n",
       "   'rock',\n",
       "   'solid',\n",
       "   'core',\n",
       "   'accounting',\n",
       "   'features',\n",
       "   'made',\n",
       "   'peachtree',\n",
       "   'choice',\n",
       "   'hundreds',\n",
       "   'thousands',\n",
       "   'small',\n",
       "   'businesses',\n",
       "   'result',\n",
       "   'accounting',\n",
       "   'solution',\n",
       "   'tailor',\n",
       "   'made',\n",
       "   'challenges',\n",
       "   'operating',\n",
       "   'nonprofit',\n",
       "   'organization',\n",
       "   'keep',\n",
       "   'audit',\n",
       "   'trail',\n",
       "   'record',\n",
       "   'report',\n",
       "   'changes',\n",
       "   'made',\n",
       "   'transactions',\n",
       "   'improve',\n",
       "   'data',\n",
       "   'integrity',\n",
       "   'prior',\n",
       "   'period',\n",
       "   'locking',\n",
       "   'archive',\n",
       "   'organization',\n",
       "   'data',\n",
       "   'snap',\n",
       "   'shots',\n",
       "   'data',\n",
       "   'closed',\n",
       "   'year',\n",
       "   'set',\n",
       "   'individual',\n",
       "   'user',\n",
       "   'profiles',\n",
       "   'password',\n",
       "   'protection',\n",
       "   'peachtree',\n",
       "   'restore',\n",
       "   'wizard',\n",
       "   'restores',\n",
       "   'backed',\n",
       "   'data',\n",
       "   'files',\n",
       "   'plus',\n",
       "   'web',\n",
       "   'transactions',\n",
       "   'customized',\n",
       "   'forms',\n",
       "   'includes',\n",
       "   'standard',\n",
       "   'accounting',\n",
       "   'features',\n",
       "   'general',\n",
       "   'ledger',\n",
       "   'accounts',\n",
       "   'receivable',\n",
       "   'accounts',\n",
       "   'payable',\n",
       "   'payroll',\n",
       "   'solutions',\n",
       "   'time',\n",
       "   'billing',\n",
       "   'job',\n",
       "   'costing',\n",
       "   'fixed',\n",
       "   'assets',\n",
       "   'analysis',\n",
       "   'reporting',\n",
       "   'customization',\n",
       "   'easily',\n",
       "   'convert',\n",
       "   'quickbooks',\n",
       "   'sage',\n",
       "   'software']),\n",
       " ('b0006se5bq',\n",
       "  ['singing',\n",
       "   'coach',\n",
       "   'unlimited',\n",
       "   'singing',\n",
       "   'coach',\n",
       "   'unlimited',\n",
       "   'electronic',\n",
       "   'learning',\n",
       "   'products',\n",
       "   'win',\n",
       "   'nt',\n",
       "   '2000',\n",
       "   'xp',\n",
       "   'carry',\n",
       "   'tune',\n",
       "   'technologies']),\n",
       " ('b000ehpzv8',\n",
       "  ['emc',\n",
       "   'retrospect',\n",
       "   '7',\n",
       "   '5',\n",
       "   'disk',\n",
       "   'disk',\n",
       "   'windows',\n",
       "   'emc',\n",
       "   'retrospect',\n",
       "   '7',\n",
       "   '5',\n",
       "   'disk',\n",
       "   'diskcromwindows',\n",
       "   'dantz']),\n",
       " ('b00021xhzw',\n",
       "  ['adobe',\n",
       "   'effects',\n",
       "   'professional',\n",
       "   '6',\n",
       "   '5',\n",
       "   'upgrade',\n",
       "   'standard',\n",
       "   'professional',\n",
       "   'upgrade',\n",
       "   'installation',\n",
       "   'effects',\n",
       "   'standard',\n",
       "   'new',\n",
       "   'disk',\n",
       "   'caching',\n",
       "   'tools',\n",
       "   'speed',\n",
       "   'interactive',\n",
       "   'work',\n",
       "   'save',\n",
       "   'combination',\n",
       "   'animation',\n",
       "   'parameters',\n",
       "   'presets',\n",
       "   'create',\n",
       "   'transformations',\n",
       "   'masks',\n",
       "   'expressions',\n",
       "   'effects',\n",
       "   'text',\n",
       "   'tighter',\n",
       "   'integration',\n",
       "   'adobe',\n",
       "   'tools',\n",
       "   'import',\n",
       "   'photoshop',\n",
       "   'cs',\n",
       "   'illustrator',\n",
       "   'cs',\n",
       "   'files',\n",
       "   'preserved',\n",
       "   'layers',\n",
       "   'attributes',\n",
       "   'output',\n",
       "   'firewire',\n",
       "   'easier',\n",
       "   'previewing',\n",
       "   'ntsc',\n",
       "   'pal',\n",
       "   'video',\n",
       "   'monitors',\n",
       "   'adobe']),\n",
       " ('b000gzwjgc',\n",
       "  ['acad',\n",
       "   'upgrade',\n",
       "   'dragon',\n",
       "   'naturallyspeaking',\n",
       "   'pro',\n",
       "   'solution',\n",
       "   '9',\n",
       "   '0',\n",
       "   'a289a',\n",
       "   'fd7',\n",
       "   '9',\n",
       "   '0',\n",
       "   'marketing',\n",
       "   'information',\n",
       "   'dragon',\n",
       "   'naturallyspeakingprofessional',\n",
       "   '9',\n",
       "   'saveyou',\n",
       "   'organizationmoney',\n",
       "   'itempowers',\n",
       "   'anyone',\n",
       "   'tocreate',\n",
       "   'documents',\n",
       "   'overthree',\n",
       "   'times',\n",
       "   'faster',\n",
       "   'thantyping',\n",
       "   'also',\n",
       "   'protectsagainst',\n",
       "   'repetitive',\n",
       "   'stressinjuries',\n",
       "   'result',\n",
       "   'lostproductivity',\n",
       "   'higher',\n",
       "   'workers',\n",
       "   'compensationpremiums',\n",
       "   'higher',\n",
       "   'temporary',\n",
       "   'labor',\n",
       "   'costs',\n",
       "   'accuracy',\n",
       "   'performance',\n",
       "   'ease',\n",
       "   'use',\n",
       "   'indragon',\n",
       "   'naturallyspeaking',\n",
       "   'professional',\n",
       "   '9make',\n",
       "   'ideal',\n",
       "   'solution',\n",
       "   'busy',\n",
       "   'corporateprofessionals',\n",
       "   'employees',\n",
       "   'canuse',\n",
       "   'dragon',\n",
       "   'naturallyspeaking',\n",
       "   'professionalto',\n",
       "   'create',\n",
       "   'documents',\n",
       "   'email',\n",
       "   'messages',\n",
       "   'write',\n",
       "   'reports',\n",
       "   'complete',\n",
       "   'forms',\n",
       "   'voice',\n",
       "   'product',\n",
       "   'information',\n",
       "   'software',\n",
       "   'sub',\n",
       "   'type',\n",
       "   'voice',\n",
       "   'recognition',\n",
       "   'software',\n",
       "   'name',\n",
       "   'dragon',\n",
       "   'naturallyspeaking',\n",
       "   'v',\n",
       "   '9',\n",
       "   '0',\n",
       "   'professional',\n",
       "   'upgrade',\n",
       "   'features',\n",
       "   'benefits',\n",
       "   'accurate',\n",
       "   'ever',\n",
       "   'faster',\n",
       "   'safer',\n",
       "   'typing',\n",
       "   'section',\n",
       "   '508',\n",
       "   'certified',\n",
       "   'easy',\n",
       "   'use',\n",
       "   'special',\n",
       "   'user',\n",
       "   'training',\n",
       "   'required',\n",
       "   'support',\n",
       "   'citrix',\n",
       "   'thin',\n",
       "   'client',\n",
       "   'environments',\n",
       "   'enterprise',\n",
       "   'ready',\n",
       "   'ease',\n",
       "   'administration',\n",
       "   'mobility',\n",
       "   'bluetooth',\n",
       "   'support',\n",
       "   'robust',\n",
       "   'customization',\n",
       "   'natural',\n",
       "   'language',\n",
       "   'capabilities',\n",
       "   'text',\n",
       "   'speech',\n",
       "   'language',\n",
       "   'support',\n",
       "   'english',\n",
       "   'platform',\n",
       "   'support',\n",
       "   'pc',\n",
       "   'miscellaneous',\n",
       "   'compatibility',\n",
       "   'microsoft',\n",
       "   'office',\n",
       "   'applications',\n",
       "   'word',\n",
       "   'excel',\n",
       "   'outlook',\n",
       "   'andpowerpoint',\n",
       "   'corel',\n",
       "   'wordperfect',\n",
       "   'nuance',\n",
       "   'academic']),\n",
       " ('b0000dbykm',\n",
       "  ['mia',\n",
       "   'math',\n",
       "   'adventure',\n",
       "   'time',\n",
       "   'mia',\n",
       "   'math',\n",
       "   'adventure',\n",
       "   'time',\n",
       "   'children',\n",
       "   'help',\n",
       "   'mia',\n",
       "   'save',\n",
       "   'house',\n",
       "   'using',\n",
       "   'math',\n",
       "   'skills',\n",
       "   'kutoka']),\n",
       " ('b00029bqa2',\n",
       "  ['disney',\n",
       "   '1st',\n",
       "   '2nd',\n",
       "   'grade',\n",
       "   'bundle',\n",
       "   'pixar',\n",
       "   '1st',\n",
       "   'grade',\n",
       "   'secret',\n",
       "   'keys',\n",
       "   'aladdin',\n",
       "   'reading',\n",
       "   'quest',\n",
       "   'disney',\n",
       "   '1st',\n",
       "   '2nd',\n",
       "   'grade',\n",
       "   'bundle',\n",
       "   'help',\n",
       "   'child',\n",
       "   'learn',\n",
       "   'challenging',\n",
       "   'imagination',\n",
       "   'skill',\n",
       "   'building',\n",
       "   'activities',\n",
       "   'develop',\n",
       "   'love',\n",
       "   'education',\n",
       "   'child',\n",
       "   'features',\n",
       "   'disney',\n",
       "   'pixar',\n",
       "   'buzz',\n",
       "   'lightyear',\n",
       "   'learning',\n",
       "   '1st',\n",
       "   'grade',\n",
       "   'aladdin',\n",
       "   'reading',\n",
       "   'quest',\n",
       "   'disney',\n",
       "   'search',\n",
       "   'secret',\n",
       "   'keys',\n",
       "   'disney']),\n",
       " ('b0007prnjo',\n",
       "  ['paper',\n",
       "   'art',\n",
       "   'gift',\n",
       "   'wrapping',\n",
       "   'many',\n",
       "   'times',\n",
       "   'heard',\n",
       "   'thought',\n",
       "   'counts',\n",
       "   'especially',\n",
       "   'true',\n",
       "   'comes',\n",
       "   'giftseven',\n",
       "   'simple',\n",
       "   'gift',\n",
       "   'thoughtfully',\n",
       "   'presented',\n",
       "   'bring',\n",
       "   'special',\n",
       "   'joy',\n",
       "   'recipient',\n",
       "   'well',\n",
       "   'giver',\n",
       "   'cd',\n",
       "   'beautiful',\n",
       "   'guide',\n",
       "   'gift',\n",
       "   'wrapping',\n",
       "   'need',\n",
       "   'know',\n",
       "   'paper',\n",
       "   'fabric',\n",
       "   'different',\n",
       "   'tools',\n",
       "   'special',\n",
       "   'effects',\n",
       "   'basic',\n",
       "   'advanced',\n",
       "   'techniques',\n",
       "   'boxes',\n",
       "   'cylinders',\n",
       "   'baskets',\n",
       "   'bags',\n",
       "   'system',\n",
       "   'requirements',\n",
       "   'windows',\n",
       "   'windows',\n",
       "   '98',\n",
       "   '2000',\n",
       "   'xp',\n",
       "   '386',\n",
       "   'faster',\n",
       "   '8',\n",
       "   'mb',\n",
       "   'ram',\n",
       "   '640x480',\n",
       "   'monitor',\n",
       "   '256',\n",
       "   'colors',\n",
       "   '16',\n",
       "   'bit',\n",
       "   'color',\n",
       "   'better',\n",
       "   'recommended',\n",
       "   'soundblaster',\n",
       "   'compatible',\n",
       "   'sound',\n",
       "   'card',\n",
       "   'speakers',\n",
       "   '2x',\n",
       "   'cd',\n",
       "   'rom',\n",
       "   'drive',\n",
       "   'system',\n",
       "   'requirements',\n",
       "   'macintosh',\n",
       "   'mac',\n",
       "   'os',\n",
       "   '7',\n",
       "   '09',\n",
       "   '2',\n",
       "   'os',\n",
       "   'x',\n",
       "   'classic',\n",
       "   'mode',\n",
       "   '8',\n",
       "   'mb',\n",
       "   'ram',\n",
       "   '640x480',\n",
       "   'monitor',\n",
       "   '256',\n",
       "   'colors',\n",
       "   'thousands',\n",
       "   'colors',\n",
       "   'better',\n",
       "   'recommended',\n",
       "   '2x',\n",
       "   'cd',\n",
       "   'rom',\n",
       "   'drive',\n",
       "   'arc',\n",
       "   'media',\n",
       "   'inc']),\n",
       " ('b000aazr5i',\n",
       "  ['nfs',\n",
       "   'maestro',\n",
       "   'solo',\n",
       "   '2006',\n",
       "   '1u',\n",
       "   'marketing',\n",
       "   'information',\n",
       "   'nfs',\n",
       "   'maestro',\n",
       "   'solo',\n",
       "   'de',\n",
       "   'facto',\n",
       "   'standard',\n",
       "   'network',\n",
       "   'file',\n",
       "   'system',\n",
       "   'protocol',\n",
       "   'pc',\n",
       "   'supports',\n",
       "   'latest',\n",
       "   'nfs',\n",
       "   'technologies',\n",
       "   'including',\n",
       "   'nfsv4',\n",
       "   'nfs',\n",
       "   'tcp',\n",
       "   'webnfs',\n",
       "   'advanced',\n",
       "   'nfs',\n",
       "   'features',\n",
       "   'strong',\n",
       "   'security',\n",
       "   'seamless',\n",
       "   'integration',\n",
       "   'windows',\n",
       "   'operating',\n",
       "   'systems',\n",
       "   'comprehensive',\n",
       "   'support',\n",
       "   'enterprise',\n",
       "   'directory',\n",
       "   'services',\n",
       "   'make',\n",
       "   'nfs',\n",
       "   'maestro',\n",
       "   'solo',\n",
       "   'advanced',\n",
       "   'secured',\n",
       "   'pc',\n",
       "   'nfs',\n",
       "   'client',\n",
       "   'also',\n",
       "   'provides',\n",
       "   'bi',\n",
       "   'directional',\n",
       "   'file',\n",
       "   'printer',\n",
       "   'access',\n",
       "   'windows',\n",
       "   'nfs',\n",
       "   'enabled',\n",
       "   'hosts',\n",
       "   'product',\n",
       "   'information',\n",
       "   'software',\n",
       "   'sub',\n",
       "   'type',\n",
       "   'emulation',\n",
       "   'software',\n",
       "   'name',\n",
       "   'nfs',\n",
       "   'maestro',\n",
       "   'solo',\n",
       "   '2006',\n",
       "   'complete',\n",
       "   'product',\n",
       "   'features',\n",
       "   'benefits',\n",
       "   'support',\n",
       "   'operations',\n",
       "   'ipv6',\n",
       "   'networking',\n",
       "   'new',\n",
       "   'unicode',\n",
       "   'support',\n",
       "   'support',\n",
       "   'setuid',\n",
       "   'setgid',\n",
       "   'connection',\n",
       "   'specific',\n",
       "   'rpcsec_gss',\n",
       "   'type',\n",
       "   'service',\n",
       "   'symbolic',\n",
       "   'links',\n",
       "   'creation',\n",
       "   'nfs',\n",
       "   'support',\n",
       "   'supports',\n",
       "   'nfs',\n",
       "   'version',\n",
       "   '2',\n",
       "   '3',\n",
       "   '4',\n",
       "   'rfc',\n",
       "   '1094',\n",
       "   'rfc1813',\n",
       "   'rfc3530',\n",
       "   'client',\n",
       "   'server',\n",
       "   'implementations',\n",
       "   'kernel',\n",
       "   'mode',\n",
       "   'implementation',\n",
       "   'native',\n",
       "   '32',\n",
       "   'bit',\n",
       "   '64',\n",
       "   'bit',\n",
       "   'implementation',\n",
       "   'supports',\n",
       "   'operation',\n",
       "   'ipv6',\n",
       "   'networks',\n",
       "   'supports',\n",
       "   'setuid',\n",
       "   'setgid',\n",
       "   'supports',\n",
       "   'webnfs',\n",
       "   'rfc2054',\n",
       "   'nfs',\n",
       "   'tcp',\n",
       "   'supports',\n",
       "   '32',\n",
       "   'bit',\n",
       "   'file',\n",
       "   'locking',\n",
       "   'hard',\n",
       "   'soft',\n",
       "   'mount',\n",
       "   'supports',\n",
       "   'microsoft',\n",
       "   'unc',\n",
       "   'unlimited',\n",
       "   'remote',\n",
       "   'drives',\n",
       "   'printers',\n",
       "   'cache',\n",
       "   'manager',\n",
       "   'device',\n",
       "   'less',\n",
       "   'connection',\n",
       "   'support',\n",
       "   'creates',\n",
       "   'supports',\n",
       "   'symbolic',\n",
       "   'links',\n",
       "   'nfsv4',\n",
       "   'compatible',\n",
       "   'command',\n",
       "   'line',\n",
       "   'applications',\n",
       "   'directory',\n",
       "   'services',\n",
       "   'support',\n",
       "   'supports',\n",
       "   'nis',\n",
       "   'nis',\n",
       "   'ldap',\n",
       "   'microsoft',\n",
       "   'active',\n",
       "   'directory',\n",
       "   'support',\n",
       "   'sc',\n",
       "   'hummingbird',\n",
       "   'communications']),\n",
       " ('b000bhl1r8',\n",
       "  ['microsoft',\n",
       "   'sql',\n",
       "   'server',\n",
       "   'standard',\n",
       "   'edition',\n",
       "   '2005',\n",
       "   '64',\n",
       "   'bit',\n",
       "   'cd',\n",
       "   'dvd',\n",
       "   '5',\n",
       "   'client',\n",
       "   'sql',\n",
       "   'server',\n",
       "   'comprehensive',\n",
       "   'integrated',\n",
       "   'end',\n",
       "   'end',\n",
       "   'data',\n",
       "   'solution',\n",
       "   'empowers',\n",
       "   'users',\n",
       "   'across',\n",
       "   'organization',\n",
       "   'providing',\n",
       "   'secure',\n",
       "   'reliable',\n",
       "   'productive',\n",
       "   'platform',\n",
       "   'enterprise',\n",
       "   'data',\n",
       "   'business',\n",
       "   'intelligence',\n",
       "   'bi',\n",
       "   'applications',\n",
       "   'sql',\n",
       "   'server',\n",
       "   '2005',\n",
       "   'delivers',\n",
       "   'powerful',\n",
       "   'familiar',\n",
       "   'tools',\n",
       "   'information',\n",
       "   'technology',\n",
       "   'professionals',\n",
       "   'well',\n",
       "   'information',\n",
       "   'workers',\n",
       "   'reducing',\n",
       "   'complexity',\n",
       "   'creating',\n",
       "   'deploying',\n",
       "   'managing',\n",
       "   'using',\n",
       "   'enterprise',\n",
       "   'data',\n",
       "   'analytical',\n",
       "   'applications',\n",
       "   'platforms',\n",
       "   'ranging',\n",
       "   'mobile',\n",
       "   'devices',\n",
       "   'enterprise',\n",
       "   'data',\n",
       "   'systems',\n",
       "   'comprehensive',\n",
       "   'feature',\n",
       "   'set',\n",
       "   'interoperability',\n",
       "   'existing',\n",
       "   'systems',\n",
       "   'automation',\n",
       "   'routine',\n",
       "   'tasks',\n",
       "   'sql',\n",
       "   'server',\n",
       "   '2005',\n",
       "   'provides',\n",
       "   'complete',\n",
       "   'data',\n",
       "   'solution',\n",
       "   'enterprises',\n",
       "   'sizes',\n",
       "   'microsoft']),\n",
       " ('b000i82j80', ['spy', 'sweeper', 'spanish', 'webroot', 'software']),\n",
       " ('b00006hmwc',\n",
       "  ['domino',\n",
       "   'designer',\n",
       "   'developer',\n",
       "   'v5',\n",
       "   '0',\n",
       "   'reference',\n",
       "   'domino',\n",
       "   'designer',\n",
       "   'developer',\n",
       "   'r5',\n",
       "   'doc',\n",
       "   'pack',\n",
       "   'includes',\n",
       "   'following',\n",
       "   'titles',\n",
       "   'application',\n",
       "   'development',\n",
       "   'domino',\n",
       "   'designer',\n",
       "   'intermediate',\n",
       "   'advanced',\n",
       "   '536',\n",
       "   'pages',\n",
       "   'explains',\n",
       "   'building',\n",
       "   'applications',\n",
       "   'creating',\n",
       "   'databases',\n",
       "   'using',\n",
       "   'forms',\n",
       "   'fields',\n",
       "   'views',\n",
       "   'folders',\n",
       "   'navi',\n",
       "   'lotus',\n",
       "   'development']),\n",
       " ('b000in6u62', ['omnioutliner', 'professional', '3', '0', 'csdc']),\n",
       " ('b000083k56',\n",
       "  ['compaq',\n",
       "   'comp',\n",
       "   'secure',\n",
       "   'path',\n",
       "   'v3',\n",
       "   '0c',\n",
       "   'netware',\n",
       "   'wrkgrp',\n",
       "   '50',\n",
       "   'lic',\n",
       "   '231327',\n",
       "   'b22',\n",
       "   'compaq',\n",
       "   'computer']),\n",
       " ('b00006hvvo',\n",
       "  ['upg',\n",
       "   'sgms',\n",
       "   '1000',\n",
       "   'incremental',\n",
       "   'node',\n",
       "   'today',\n",
       "   'enterprises',\n",
       "   'service',\n",
       "   'providers',\n",
       "   'face',\n",
       "   'increasing',\n",
       "   'security',\n",
       "   'challenges',\n",
       "   'distributed',\n",
       "   'networks',\n",
       "   'security',\n",
       "   'virus',\n",
       "   'attacks',\n",
       "   'enforcing',\n",
       "   'security',\n",
       "   'policies',\n",
       "   'distributed',\n",
       "   'network',\n",
       "   'grows',\n",
       "   'branches',\n",
       "   'multiple',\n",
       "   'subnetworks',\n",
       "   'linked',\n",
       "   'internet',\n",
       "   'complexity',\n",
       "   'managing',\n",
       "   'security',\n",
       "   'appliances',\n",
       "   'security',\n",
       "   'policies',\n",
       "   'updates',\n",
       "   'single',\n",
       "   'flaw',\n",
       "   'security',\n",
       "   'implementation',\n",
       "   'point',\n",
       "   'network',\n",
       "   'expose',\n",
       "   'entire',\n",
       "   'infrastructure',\n",
       "   'allowing',\n",
       "   'malicious',\n",
       "   'access',\n",
       "   'important',\n",
       "   'data',\n",
       "   'files',\n",
       "   'severe',\n",
       "   'consequences',\n",
       "   'managing',\n",
       "   'security',\n",
       "   'distributed',\n",
       "   'networks',\n",
       "   'site',\n",
       "   'site',\n",
       "   'basis',\n",
       "   'time',\n",
       "   'consuming',\n",
       "   'expensive',\n",
       "   'unreliable',\n",
       "   'putting',\n",
       "   'big',\n",
       "   'strain',\n",
       "   'already',\n",
       "   'limited',\n",
       "   'resources',\n",
       "   'sonicwall',\n",
       "   'global',\n",
       "   'management',\n",
       "   'system',\n",
       "   'sonicwall',\n",
       "   'gms',\n",
       "   'standard',\n",
       "   'edition',\n",
       "   'enables',\n",
       "   'distributed',\n",
       "   'enterprises',\n",
       "   'service',\n",
       "   'providers',\n",
       "   'manage',\n",
       "   'thousands',\n",
       "   'sonicwall',\n",
       "   'internet',\n",
       "   'security',\n",
       "   'appliances',\n",
       "   'central',\n",
       "   'location',\n",
       "   'powerful',\n",
       "   'flexible',\n",
       "   'intuitive',\n",
       "   'application',\n",
       "   'sonicwall',\n",
       "   'gms',\n",
       "   'delivers',\n",
       "   'cost',\n",
       "   'effective',\n",
       "   'global',\n",
       "   'security',\n",
       "   'management',\n",
       "   'solution',\n",
       "   'reduces',\n",
       "   'staffing',\n",
       "   'requirements',\n",
       "   'speeds',\n",
       "   'deployment',\n",
       "   'lowers',\n",
       "   'cost',\n",
       "   'managing',\n",
       "   'security',\n",
       "   'services',\n",
       "   'sonicwall',\n",
       "   'gms',\n",
       "   'gives',\n",
       "   'administrators',\n",
       "   'integrated',\n",
       "   'tools',\n",
       "   'manage',\n",
       "   'security',\n",
       "   'policies',\n",
       "   'services',\n",
       "   'throughout',\n",
       "   'large',\n",
       "   'scale',\n",
       "   'multiple',\n",
       "   'policy',\n",
       "   'enterprise',\n",
       "   'service',\n",
       "   'provider',\n",
       "   'environment',\n",
       "   'administrators',\n",
       "   'easily',\n",
       "   'configure',\n",
       "   'sonicwall',\n",
       "   'firewall',\n",
       "   'settings',\n",
       "   'deploy',\n",
       "   'vpn',\n",
       "   'user',\n",
       "   'add',\n",
       "   'sonicwall',\n",
       "   'upgrade',\n",
       "   'subscription',\n",
       "   'services',\n",
       "   'gateway',\n",
       "   'anti',\n",
       "   'virus',\n",
       "   'anti',\n",
       "   'spyware',\n",
       "   'intrusion',\n",
       "   'prevention',\n",
       "   'service',\n",
       "   'complete',\n",
       "   'anti',\n",
       "   'virus',\n",
       "   'content',\n",
       "   'filtering',\n",
       "   'service',\n",
       "   'click',\n",
       "   'button',\n",
       "   'sonic',\n",
       "   'systems',\n",
       "   'inc']),\n",
       " ('b0000ycfcw',\n",
       "  ['human',\n",
       "   'body',\n",
       "   'topics',\n",
       "   'presents',\n",
       "   'human',\n",
       "   'body',\n",
       "   'll',\n",
       "   'uncover',\n",
       "   'deepest',\n",
       "   'mysteries',\n",
       "   'complexities',\n",
       "   'human',\n",
       "   'form',\n",
       "   'complete',\n",
       "   'introduction',\n",
       "   'anatomy',\n",
       "   'physiology',\n",
       "   'topics',\n",
       "   'entertainment']),\n",
       " ('b00066dd5m',\n",
       "  ['school',\n",
       "   'zone',\n",
       "   'pencil',\n",
       "   'pal',\n",
       "   'software',\n",
       "   'big',\n",
       "   'phonics',\n",
       "   'cd',\n",
       "   'rom',\n",
       "   'book',\n",
       "   'school',\n",
       "   'zone',\n",
       "   'interactive'])]"
      ]
     },
     "execution_count": 8,
     "metadata": {},
     "output_type": "execute_result"
    }
   ],
   "source": [
    "amazonRecToToken.take(20)"
   ]
  },
  {
   "cell_type": "code",
   "execution_count": 0,
   "metadata": {
    "application/vnd.databricks.v1+cell": {
     "cellMetadata": {
      "byteLimit": 2048000,
      "rowLimit": 10000
     },
     "inputWidgets": {},
     "nuid": "8a39e592-5c71-4ed4-822c-45690b6c19d2",
     "showTitle": false,
     "title": ""
    },
    "deletable": false,
    "editable": false,
    "id": "fXH12q92_sa0",
    "nbgrader": {
     "cell_type": "code",
     "checksum": "1653247df422dfa22c6dc2c00693767a",
     "grade": true,
     "grade_id": "count_tokens_test",
     "locked": true,
     "points": 1,
     "schema_version": 3,
     "solution": false,
     "task": false
    }
   },
   "outputs": [],
   "source": [
    "\"\"\"Check that the total number of tokens in two datasets are 22520\"\"\"\n",
    "assert_equal(totalTokens, 22520)"
   ]
  },
  {
   "cell_type": "markdown",
   "metadata": {
    "application/vnd.databricks.v1+cell": {
     "cellMetadata": {
      "byteLimit": 2048000,
      "rowLimit": 10000
     },
     "inputWidgets": {},
     "nuid": "3df6f4f2-4053-4af0-a86f-b9fbd2177963",
     "showTitle": false,
     "title": ""
    },
    "id": "ABoP1sdo_sa0"
   },
   "source": [
    "### (1c) Amazon record with the most tokens\n",
    "Which Amazon record has the biggest number of tokens?\n",
    "In other words, you want to sort the records and get the one with the largest count of tokens.\n",
    "\n",
    "**Hint**: The RDD [takeOrdered()](http://spark.apache.org/docs/1.6.2/api/python/pyspark.html#pyspark.RDD.takeOrdered) transformation may be of some help here."
   ]
  },
  {
   "cell_type": "code",
   "execution_count": 0,
   "metadata": {
    "application/vnd.databricks.v1+cell": {
     "cellMetadata": {
      "byteLimit": 2048000,
      "rowLimit": 10000
     },
     "inputWidgets": {},
     "nuid": "9ee3a791-4228-4f6b-8fb8-cd817fcc088e",
     "showTitle": false,
     "title": ""
    },
    "deletable": false,
    "id": "4vZRgStJ_sa1",
    "nbgrader": {
     "cell_type": "code",
     "checksum": "968c9afea112c9ed93ff32f7dbf03432",
     "grade": false,
     "grade_id": "find_biggest_record",
     "locked": false,
     "schema_version": 3,
     "solution": true,
     "task": false
    }
   },
   "outputs": [
    {
     "output_type": "stream",
     "name": "stdout",
     "output_type": "stream",
     "text": [
      "The Amazon record with ID \"b000o24l3q\" has the most tokens (1547)\n"
     ]
    }
   ],
   "source": [
    "def findBiggestRecord(vendorRDD):\n",
    "    \"\"\" Find and return the record with the largest number of tokens\n",
    "    Args:\n",
    "        vendorRDD (RDD of (recordId, tokens)): input Pair Tuple of record ID and tokens\n",
    "    Returns:\n",
    "        list: a list of 1 Pair Tuple of record ID and tokens\n",
    "    \"\"\"\n",
    "    # TODO: Uncomment the template below and replace <FILL IN> with appropriate code\n",
    "    return vendorRDD.takeOrdered(1, key=lambda x: -len(x[1]))\n",
    "    \n",
    "    # YOUR CODE HERE\n",
    "    # raise NotImplementedError()\n",
    "\n",
    "biggestRecordAmazon = findBiggestRecord(amazonRecToToken)\n",
    "print('The Amazon record with ID \"%s\" has the most tokens (%s)' % (biggestRecordAmazon[0][0],\n",
    "                                                                   len(biggestRecordAmazon[0][1])))"
   ]
  },
  {
   "cell_type": "code",
   "execution_count": 0,
   "metadata": {
    "application/vnd.databricks.v1+cell": {
     "cellMetadata": {
      "byteLimit": 2048000,
      "rowLimit": 10000
     },
     "inputWidgets": {},
     "nuid": "39312e1f-9746-45fd-a8bb-e0954b2f1941",
     "showTitle": false,
     "title": ""
    },
    "deletable": false,
    "editable": false,
    "id": "QyiihX3K_sa1",
    "nbgrader": {
     "cell_type": "code",
     "checksum": "181ba4fe6c81e560ca564b58ac8c6795",
     "grade": true,
     "grade_id": "find_biggest_record_test",
     "locked": true,
     "points": 1,
     "schema_version": 3,
     "solution": false,
     "task": false
    }
   },
   "outputs": [],
   "source": [
    "\"\"\"Check that some record has the largest number of tokens 1547\"\"\"\n",
    "assert_equal(len(biggestRecordAmazon[0][1]), 1547)"
   ]
  },
  {
   "cell_type": "markdown",
   "metadata": {
    "application/vnd.databricks.v1+cell": {
     "cellMetadata": {
      "byteLimit": 2048000,
      "rowLimit": 10000
     },
     "inputWidgets": {},
     "nuid": "f4c6512d-72c8-402c-8dcb-64dd46605df3",
     "showTitle": false,
     "title": ""
    },
    "id": "xAelJ12h_sa1"
   },
   "source": [
    "## Part 2: ER as Text Similarity - Weighted Bag-of-Words using TF-IDF\n",
    "Bag-of-words comparisons are not very good when all tokens are treated the same: some tokens are more important than others. Weights give us a way to specify which tokens to favor. With weights, when we compare documents, instead of counting common tokens, we sum up the weights of common tokens. A good heuristic for assigning weights is called \"Term-Frequency/Inverse-Document-Frequency,\" or [TF-IDF][tfidf] for short.\n",
    "\n",
    "### TF\n",
    "\n",
    "TF rewards tokens that appear many times in the same document. It is computed as the frequency of a token in a document, that is, if document *d* contains 100 tokens and token *t* appears in *d* 5 times, then the TF weight of *t* in *d* is *5/100 = 1/20*. The intuition for TF is that if a word occurs often in a document, then it is more important to the meaning of the document.\n",
    "\n",
    "### IDF\n",
    "\n",
    "IDF rewards tokens that are rare overall in a dataset. The intuition is that it is more significant if two documents share a rare word than a common one. IDF weight for a token, *t*, in a set of documents, *U*, is computed as follows:\n",
    "* Let *N* be the total number of documents in *U*\n",
    "* Find *n(t)*, the number of documents in *U* that contain *t*\n",
    "* Then *IDF(t) = N/n(t)*.\n",
    "\n",
    "Note that *n(t)/N* is the frequency of *t* in *U*, and *N/n(t)* is the inverse frequency.\n",
    "\n",
    "> **Note on terminology**: Sometimes token weights depend on the document the token belongs to, that is, the same token may have a different weight when it's found in different documents.  We call these weights *local* weights.  TF is an example of a local weight, because it depends on the length of the source.  On the other hand, some token weights only depend on the token, and are the same everywhere that token is found.  We call these weights *global*, and IDF is one such weight.\n",
    "\n",
    "### TF-IDF\n",
    "\n",
    "Finally, to bring it all together, the total TF-IDF weight for a token in a document is the product of its TF and IDF weights.\n",
    "[tfidf]: https://en.wikipedia.org/wiki/Tf%E2%80%93idf"
   ]
  },
  {
   "cell_type": "markdown",
   "metadata": {
    "application/vnd.databricks.v1+cell": {
     "cellMetadata": {
      "byteLimit": 2048000,
      "rowLimit": 10000
     },
     "inputWidgets": {},
     "nuid": "5a60ab90-de86-4e22-b22b-8e3c3b3ae634",
     "showTitle": false,
     "title": ""
    },
    "id": "KkIKXbTE_sa1"
   },
   "source": [
    "### (2a) Implement a TF function\n",
    "\n",
    "Implement `tf(tokens)` that takes a list of tokens and returns a Python [dictionary](https://docs.python.org/2/tutorial/datastructures.html#dictionaries) mapping tokens to TF weights."
   ]
  },
  {
   "cell_type": "code",
   "execution_count": 0,
   "metadata": {
    "application/vnd.databricks.v1+cell": {
     "cellMetadata": {
      "byteLimit": 2048000,
      "rowLimit": 10000
     },
     "inputWidgets": {},
     "nuid": "70a5558a-4c5c-460d-b869-328709a26fb9",
     "showTitle": false,
     "title": ""
    },
    "deletable": false,
    "id": "OfujUjBr_sa1",
    "nbgrader": {
     "cell_type": "code",
     "checksum": "7ba59fc76713d92e6945bb9a228dc50f",
     "grade": false,
     "grade_id": "tf",
     "locked": false,
     "schema_version": 3,
     "solution": true,
     "task": false
    }
   },
   "outputs": [
    {
     "output_type": "stream",
     "name": "stdout",
     "output_type": "stream",
     "text": [
      "{'quick': 0.16666666666666666, 'brown': 0.16666666666666666, 'fox': 0.16666666666666666, 'jumps': 0.16666666666666666, 'lazy': 0.16666666666666666, 'dog': 0.16666666666666666}\n"
     ]
    }
   ],
   "source": [
    "def tf(tokens):\n",
    "    \"\"\" Compute TF\n",
    "    Args:\n",
    "        tokens (list of str): input list of tokens from tokenize\n",
    "    Returns:\n",
    "        dictionary: a dictionary of tokens to its TF values\n",
    "    \"\"\"\n",
    "    # TODO: Uncomment the template below and replace <FILL IN> with appropriate code\n",
    "    token_tf = {}\n",
    "    total_tokens = len(tokens)\n",
    "\n",
    "    token_counts = {}\n",
    "    for token in tokens:\n",
    "        if token in token_counts:\n",
    "            token_counts[token] += 1\n",
    "        else:\n",
    "            token_counts[token] = 1\n",
    "    \n",
    "    for token, count in token_counts.items():\n",
    "        token_tf[token] = count / total_tokens\n",
    "\n",
    "    return token_tf\n",
    "    # YOUR CODE HERE\n",
    "    # raise NotImplementedError()\n",
    "\n",
    "print(tf(tokenize(quickbrownfox))) # Should give { 'quick': 0.1666 ... }"
   ]
  },
  {
   "cell_type": "code",
   "execution_count": 0,
   "metadata": {
    "application/vnd.databricks.v1+cell": {
     "cellMetadata": {
      "byteLimit": 2048000,
      "rowLimit": 10000
     },
     "inputWidgets": {},
     "nuid": "202d0bd4-6206-4311-b6c8-f1c30bb550fd",
     "showTitle": false,
     "title": ""
    },
    "deletable": false,
    "editable": false,
    "id": "s1Ku2Ylg_sa1",
    "nbgrader": {
     "cell_type": "code",
     "checksum": "7412a845ee92d75342a665ceccd17aad",
     "grade": true,
     "grade_id": "tf_test",
     "locked": true,
     "points": 1,
     "schema_version": 3,
     "solution": false,
     "task": false
    }
   },
   "outputs": [],
   "source": [
    "\"\"\"Check for the TF score of each word in the list of tokens extracted from the string\"\"\"\n",
    "tf_test = tf(tokenize(quickbrownfox))\n",
    "assert_equal(tf_test, {'brown': 0.16666666666666666, 'lazy': 0.16666666666666666,\n",
    "                       'jumps': 0.16666666666666666, 'fox': 0.16666666666666666,\n",
    "                       'dog': 0.16666666666666666, 'quick': 0.16666666666666666})\n",
    "\"\"\"Check for the TF score of each word in the list of tokens extracted from the string\"\"\"\n",
    "tf_test2 = tf(tokenize('one_ one_ two!'))\n",
    "assert_equal(tf_test2,  {'one_': 0.6666666666666666, 'two': 0.3333333333333333})\n"
   ]
  },
  {
   "cell_type": "markdown",
   "metadata": {
    "application/vnd.databricks.v1+cell": {
     "cellMetadata": {
      "byteLimit": 2048000,
      "rowLimit": 10000
     },
     "inputWidgets": {},
     "nuid": "f24e17c2-5978-4bc6-87e3-c579d3f331a3",
     "showTitle": false,
     "title": ""
    },
    "id": "ZLmpxuwz_sa2"
   },
   "source": [
    "### (2b) Create a corpus\n",
    "Create a pair RDD called `corpusRDD`, consisting of a combination of the two small datasets, `amazonRecToToken` and `googleRecToToken`. Each element of the `corpusRDD` should be a pair consisting of a key from one of the small datasets (ID or URL) and the value is the associated value for that key from the small datasets."
   ]
  },
  {
   "cell_type": "code",
   "execution_count": 0,
   "metadata": {
    "application/vnd.databricks.v1+cell": {
     "cellMetadata": {
      "byteLimit": 2048000,
      "rowLimit": 10000
     },
     "inputWidgets": {},
     "nuid": "2a412965-ffef-4170-a83b-81c47353b054",
     "showTitle": false,
     "title": ""
    },
    "deletable": false,
    "id": "cUWtMpZa_sa2",
    "nbgrader": {
     "cell_type": "code",
     "checksum": "fa5fdd5ad55b31bfa633cf6a7fcddc8f",
     "grade": false,
     "grade_id": "create_corpus",
     "locked": false,
     "schema_version": 3,
     "solution": true,
     "task": false
    }
   },
   "outputs": [],
   "source": [
    "# TODO: Uncomment the template below and replace <FILL IN> with appropriate code\n",
    "corpusRDD = amazonRecToToken + googleRecToToken\n",
    "    \n",
    "# YOUR CODE HERE\n",
    "# raise NotImplementedError()"
   ]
  },
  {
   "cell_type": "code",
   "execution_count": 0,
   "metadata": {
    "application/vnd.databricks.v1+cell": {
     "cellMetadata": {
      "byteLimit": 2048000,
      "rowLimit": 10000
     },
     "inputWidgets": {},
     "nuid": "47140002-2eb7-4599-9231-e488e537cc8a",
     "showTitle": false,
     "title": ""
    },
    "id": "IIEpNzC6_sa2"
   },
   "outputs": [
    {
     "output_type": "stream",
     "name": "stdout",
     "output_type": "stream",
     "text": [
      "('b000jz4hqo', ['clickart', '950', '000', 'premier', 'image', 'pack', 'dvd', 'rom', 'broderbund'])\n('b0006zf55o', ['ca', 'international', 'arcserve', 'lap', 'desktop', 'oem', '30pk', 'oem', 'arcserve', 'backup', 'v11', '1', 'win', '30u', 'laptops', 'desktops', 'computer', 'associates'])\n('b00004tkvy', ['noah', 'ark', 'activity', 'center', 'jewel', 'case', 'ages', '3', '8', 'victory', 'multimedia'])\n('b000g80lqo', ['peachtree', 'sage', 'premium', 'accounting', 'nonprofits', '2007', 'peachtree', 'premium', 'accounting', 'nonprofits', '2007', 'affordable', 'easy', 'use', 'accounting', 'solution', 'provides', 'donor', 'grantor', 'management', 're', 'like', 'nonprofit', 'organizations', 're', 'constantly', 'striving', 'maximize', 'every', 'dollar', 'annual', 'operating', 'budget', 'financial', 'reporting', 'programs', 'funds', 'advanced', 'operational', 'reporting', 'rock', 'solid', 'core', 'accounting', 'features', 'made', 'peachtree', 'choice', 'hundreds', 'thousands', 'small', 'businesses', 'result', 'accounting', 'solution', 'tailor', 'made', 'challenges', 'operating', 'nonprofit', 'organization', 'keep', 'audit', 'trail', 'record', 'report', 'changes', 'made', 'transactions', 'improve', 'data', 'integrity', 'prior', 'period', 'locking', 'archive', 'organization', 'data', 'snap', 'shots', 'data', 'closed', 'year', 'set', 'individual', 'user', 'profiles', 'password', 'protection', 'peachtree', 'restore', 'wizard', 'restores', 'backed', 'data', 'files', 'plus', 'web', 'transactions', 'customized', 'forms', 'includes', 'standard', 'accounting', 'features', 'general', 'ledger', 'accounts', 'receivable', 'accounts', 'payable', 'payroll', 'solutions', 'time', 'billing', 'job', 'costing', 'fixed', 'assets', 'analysis', 'reporting', 'customization', 'easily', 'convert', 'quickbooks', 'sage', 'software'])\n('b0006se5bq', ['singing', 'coach', 'unlimited', 'singing', 'coach', 'unlimited', 'electronic', 'learning', 'products', 'win', 'nt', '2000', 'xp', 'carry', 'tune', 'technologies'])\n('b000ehpzv8', ['emc', 'retrospect', '7', '5', 'disk', 'disk', 'windows', 'emc', 'retrospect', '7', '5', 'disk', 'diskcromwindows', 'dantz'])\n('b00021xhzw', ['adobe', 'effects', 'professional', '6', '5', 'upgrade', 'standard', 'professional', 'upgrade', 'installation', 'effects', 'standard', 'new', 'disk', 'caching', 'tools', 'speed', 'interactive', 'work', 'save', 'combination', 'animation', 'parameters', 'presets', 'create', 'transformations', 'masks', 'expressions', 'effects', 'text', 'tighter', 'integration', 'adobe', 'tools', 'import', 'photoshop', 'cs', 'illustrator', 'cs', 'files', 'preserved', 'layers', 'attributes', 'output', 'firewire', 'easier', 'previewing', 'ntsc', 'pal', 'video', 'monitors', 'adobe'])\n('b000gzwjgc', ['acad', 'upgrade', 'dragon', 'naturallyspeaking', 'pro', 'solution', '9', '0', 'a289a', 'fd7', '9', '0', 'marketing', 'information', 'dragon', 'naturallyspeakingprofessional', '9', 'saveyou', 'organizationmoney', 'itempowers', 'anyone', 'tocreate', 'documents', 'overthree', 'times', 'faster', 'thantyping', 'also', 'protectsagainst', 'repetitive', 'stressinjuries', 'result', 'lostproductivity', 'higher', 'workers', 'compensationpremiums', 'higher', 'temporary', 'labor', 'costs', 'accuracy', 'performance', 'ease', 'use', 'indragon', 'naturallyspeaking', 'professional', '9make', 'ideal', 'solution', 'busy', 'corporateprofessionals', 'employees', 'canuse', 'dragon', 'naturallyspeaking', 'professionalto', 'create', 'documents', 'email', 'messages', 'write', 'reports', 'complete', 'forms', 'voice', 'product', 'information', 'software', 'sub', 'type', 'voice', 'recognition', 'software', 'name', 'dragon', 'naturallyspeaking', 'v', '9', '0', 'professional', 'upgrade', 'features', 'benefits', 'accurate', 'ever', 'faster', 'safer', 'typing', 'section', '508', 'certified', 'easy', 'use', 'special', 'user', 'training', 'required', 'support', 'citrix', 'thin', 'client', 'environments', 'enterprise', 'ready', 'ease', 'administration', 'mobility', 'bluetooth', 'support', 'robust', 'customization', 'natural', 'language', 'capabilities', 'text', 'speech', 'language', 'support', 'english', 'platform', 'support', 'pc', 'miscellaneous', 'compatibility', 'microsoft', 'office', 'applications', 'word', 'excel', 'outlook', 'andpowerpoint', 'corel', 'wordperfect', 'nuance', 'academic'])\n('b0000dbykm', ['mia', 'math', 'adventure', 'time', 'mia', 'math', 'adventure', 'time', 'children', 'help', 'mia', 'save', 'house', 'using', 'math', 'skills', 'kutoka'])\n('b00029bqa2', ['disney', '1st', '2nd', 'grade', 'bundle', 'pixar', '1st', 'grade', 'secret', 'keys', 'aladdin', 'reading', 'quest', 'disney', '1st', '2nd', 'grade', 'bundle', 'help', 'child', 'learn', 'challenging', 'imagination', 'skill', 'building', 'activities', 'develop', 'love', 'education', 'child', 'features', 'disney', 'pixar', 'buzz', 'lightyear', 'learning', '1st', 'grade', 'aladdin', 'reading', 'quest', 'disney', 'search', 'secret', 'keys', 'disney'])\n('b0007prnjo', ['paper', 'art', 'gift', 'wrapping', 'many', 'times', 'heard', 'thought', 'counts', 'especially', 'true', 'comes', 'giftseven', 'simple', 'gift', 'thoughtfully', 'presented', 'bring', 'special', 'joy', 'recipient', 'well', 'giver', 'cd', 'beautiful', 'guide', 'gift', 'wrapping', 'need', 'know', 'paper', 'fabric', 'different', 'tools', 'special', 'effects', 'basic', 'advanced', 'techniques', 'boxes', 'cylinders', 'baskets', 'bags', 'system', 'requirements', 'windows', 'windows', '98', '2000', 'xp', '386', 'faster', '8', 'mb', 'ram', '640x480', 'monitor', '256', 'colors', '16', 'bit', 'color', 'better', 'recommended', 'soundblaster', 'compatible', 'sound', 'card', 'speakers', '2x', 'cd', 'rom', 'drive', 'system', 'requirements', 'macintosh', 'mac', 'os', '7', '09', '2', 'os', 'x', 'classic', 'mode', '8', 'mb', 'ram', '640x480', 'monitor', '256', 'colors', 'thousands', 'colors', 'better', 'recommended', '2x', 'cd', 'rom', 'drive', 'arc', 'media', 'inc'])\n('b000aazr5i', ['nfs', 'maestro', 'solo', '2006', '1u', 'marketing', 'information', 'nfs', 'maestro', 'solo', 'de', 'facto', 'standard', 'network', 'file', 'system', 'protocol', 'pc', 'supports', 'latest', 'nfs', 'technologies', 'including', 'nfsv4', 'nfs', 'tcp', 'webnfs', 'advanced', 'nfs', 'features', 'strong', 'security', 'seamless', 'integration', 'windows', 'operating', 'systems', 'comprehensive', 'support', 'enterprise', 'directory', 'services', 'make', 'nfs', 'maestro', 'solo', 'advanced', 'secured', 'pc', 'nfs', 'client', 'also', 'provides', 'bi', 'directional', 'file', 'printer', 'access', 'windows', 'nfs', 'enabled', 'hosts', 'product', 'information', 'software', 'sub', 'type', 'emulation', 'software', 'name', 'nfs', 'maestro', 'solo', '2006', 'complete', 'product', 'features', 'benefits', 'support', 'operations', 'ipv6', 'networking', 'new', 'unicode', 'support', 'support', 'setuid', 'setgid', 'connection', 'specific', 'rpcsec_gss', 'type', 'service', 'symbolic', 'links', 'creation', 'nfs', 'support', 'supports', 'nfs', 'version', '2', '3', '4', 'rfc', '1094', 'rfc1813', 'rfc3530', 'client', 'server', 'implementations', 'kernel', 'mode', 'implementation', 'native', '32', 'bit', '64', 'bit', 'implementation', 'supports', 'operation', 'ipv6', 'networks', 'supports', 'setuid', 'setgid', 'supports', 'webnfs', 'rfc2054', 'nfs', 'tcp', 'supports', '32', 'bit', 'file', 'locking', 'hard', 'soft', 'mount', 'supports', 'microsoft', 'unc', 'unlimited', 'remote', 'drives', 'printers', 'cache', 'manager', 'device', 'less', 'connection', 'support', 'creates', 'supports', 'symbolic', 'links', 'nfsv4', 'compatible', 'command', 'line', 'applications', 'directory', 'services', 'support', 'supports', 'nis', 'nis', 'ldap', 'microsoft', 'active', 'directory', 'support', 'sc', 'hummingbird', 'communications'])\n('b000bhl1r8', ['microsoft', 'sql', 'server', 'standard', 'edition', '2005', '64', 'bit', 'cd', 'dvd', '5', 'client', 'sql', 'server', 'comprehensive', 'integrated', 'end', 'end', 'data', 'solution', 'empowers', 'users', 'across', 'organization', 'providing', 'secure', 'reliable', 'productive', 'platform', 'enterprise', 'data', 'business', 'intelligence', 'bi', 'applications', 'sql', 'server', '2005', 'delivers', 'powerful', 'familiar', 'tools', 'information', 'technology', 'professionals', 'well', 'information', 'workers', 'reducing', 'complexity', 'creating', 'deploying', 'managing', 'using', 'enterprise', 'data', 'analytical', 'applications', 'platforms', 'ranging', 'mobile', 'devices', 'enterprise', 'data', 'systems', 'comprehensive', 'feature', 'set', 'interoperability', 'existing', 'systems', 'automation', 'routine', 'tasks', 'sql', 'server', '2005', 'provides', 'complete', 'data', 'solution', 'enterprises', 'sizes', 'microsoft'])\n('b000i82j80', ['spy', 'sweeper', 'spanish', 'webroot', 'software'])\n('b00006hmwc', ['domino', 'designer', 'developer', 'v5', '0', 'reference', 'domino', 'designer', 'developer', 'r5', 'doc', 'pack', 'includes', 'following', 'titles', 'application', 'development', 'domino', 'designer', 'intermediate', 'advanced', '536', 'pages', 'explains', 'building', 'applications', 'creating', 'databases', 'using', 'forms', 'fields', 'views', 'folders', 'navi', 'lotus', 'development'])\n('b000in6u62', ['omnioutliner', 'professional', '3', '0', 'csdc'])\n('b000083k56', ['compaq', 'comp', 'secure', 'path', 'v3', '0c', 'netware', 'wrkgrp', '50', 'lic', '231327', 'b22', 'compaq', 'computer'])\n('b00006hvvo', ['upg', 'sgms', '1000', 'incremental', 'node', 'today', 'enterprises', 'service', 'providers', 'face', 'increasing', 'security', 'challenges', 'distributed', 'networks', 'security', 'virus', 'attacks', 'enforcing', 'security', 'policies', 'distributed', 'network', 'grows', 'branches', 'multiple', 'subnetworks', 'linked', 'internet', 'complexity', 'managing', 'security', 'appliances', 'security', 'policies', 'updates', 'single', 'flaw', 'security', 'implementation', 'point', 'network', 'expose', 'entire', 'infrastructure', 'allowing', 'malicious', 'access', 'important', 'data', 'files', 'severe', 'consequences', 'managing', 'security', 'distributed', 'networks', 'site', 'site', 'basis', 'time', 'consuming', 'expensive', 'unreliable', 'putting', 'big', 'strain', 'already', 'limited', 'resources', 'sonicwall', 'global', 'management', 'system', 'sonicwall', 'gms', 'standard', 'edition', 'enables', 'distributed', 'enterprises', 'service', 'providers', 'manage', 'thousands', 'sonicwall', 'internet', 'security', 'appliances', 'central', 'location', 'powerful', 'flexible', 'intuitive', 'application', 'sonicwall', 'gms', 'delivers', 'cost', 'effective', 'global', 'security', 'management', 'solution', 'reduces', 'staffing', 'requirements', 'speeds', 'deployment', 'lowers', 'cost', 'managing', 'security', 'services', 'sonicwall', 'gms', 'gives', 'administrators', 'integrated', 'tools', 'manage', 'security', 'policies', 'services', 'throughout', 'large', 'scale', 'multiple', 'policy', 'enterprise', 'service', 'provider', 'environment', 'administrators', 'easily', 'configure', 'sonicwall', 'firewall', 'settings', 'deploy', 'vpn', 'user', 'add', 'sonicwall', 'upgrade', 'subscription', 'services', 'gateway', 'anti', 'virus', 'anti', 'spyware', 'intrusion', 'prevention', 'service', 'complete', 'anti', 'virus', 'content', 'filtering', 'service', 'click', 'button', 'sonic', 'systems', 'inc'])\n('b0000ycfcw', ['human', 'body', 'topics', 'presents', 'human', 'body', 'll', 'uncover', 'deepest', 'mysteries', 'complexities', 'human', 'form', 'complete', 'introduction', 'anatomy', 'physiology', 'topics', 'entertainment'])\n('b00066dd5m', ['school', 'zone', 'pencil', 'pal', 'software', 'big', 'phonics', 'cd', 'rom', 'book', 'school', 'zone', 'interactive'])\n('b00002sac9', ['millie', 'math', 'house', 'ages', '3', '7', 'win', 'mac', 'featuring', 'addition', 'subtraction', 'counting', '30', 'award', 'winning', 'millie', 'math', 'house', 'enhanced', 'offer', 'even', 'learning', 'seven', 'activities', 'children', 'explore', 'numbers', 'shapes', 'sizes', 'patterns', 'addition', 'subtraction', 'build', 'mouse', 'houses', 'create', 'wacky', 'bugs', 'count', 'animated', 'critters', 'make', 'jellybean', 'cookies', 'answer', 'math', 'challenges', 'posed', 'dorothy', 'duck', 'use', 'spanish', 'language', 'version', 'esl', 'bilingual', 'spanish', 'language', 'instruction', 'ibm', 'aap', 'misc', 'parts'])\n('b000bcz8ng', ['world', 'book', 'encyclopedia', '2006', 'world', 'book', 'encyclopedia', '2006', 'truly', 'student', 'friendly', 'cd', 'reference', 'resource', 'thoroughly', 'updated', 'thousands', 'revised', 'articles', 'hundreds', 'new', 'entries', 'maps', 'tables', 'illustrations', 'superior', 'navigation', 'clear', 'labeling', 'easily', 'accessible', 'entries', 'helps', 'young', 'scholars', 'retrieve', 'crucial', 'information', 'includes', '56', 'animations', 'simulations', '2', '241', 'tables', 'timelines', '10', '643', 'photo', 'illustrations', '640', 'new', 'illustrations', 'maps', '267', 'new', 'articles', '42', 'new', 'table', '4', '000', 'newly', 'revised', 'entries', 'topics', 'entertainment'])\n('b000fm18vi', ['musicalis', 'guitar', 'workshop', 'chord', 'display', 'create', 'chords', 'digital', 'tuner', 'charts', 'scales', 'complete', 'reference', 'beginner', 'advanced', 'global', 'software', 'publishing'])\n('b00009apna', ['printshop', '20', 'professional', 'publisher', 'complete', 'easy', 'publishing', 'solution', 'home', 'orbusinessproduct', 'informationentrust', 'business', 'personal', 'publications', 'renowned', 'quality', 'theprint', 'shop', 'backed', 'two', 'decades', 'industry', 'leadership', 'versatile', 'programis', 'essenti', 'broderbund'])\n('b0009rgzgm', ['data', 'protection', 'suite', 'use', 'computer', 're', 'risk', 'system', 'crashes', 'file', 'corruption', 'host', 'headaches', 'backup', 'pc', 'trusted', 'preserve', 'protect', 'backup', 'archive', 'digital', 'media', 'critical', 'data', 'quickly', 'easily', 'eliminating', 'guesswork', 'file', 'backup', 'software', 'featuring', 'award', 'winning', 'state', 'art', 'technology', 'straightforward', 'intuitive', 'interface', 'powerful', 'file', 'backup', 'software', 'makes', 'easy', 'prevent', 'data', 'disasters', 'restore', 'files', 'event', 'system', 'crash', 'plus', 'full', 'password', 'protection', 'means', 're', 'always', 'control', 'stomp', 'inc'])\n('b000ap2wyw', ['kids', 'power', 'fun', 'girls', 'topics', 'entertainment'])\n('b000o24l3q', ['adobe', 'premiere', 'pro', 'cs3', 'upgrade', 'note', 'upgrade', 'version', 'adobe', 'premiere', 'pro', 'cs3', 'tell', 'story', 'maximum', 'impact', 'using', 'adobe', 'premiere', 'pro', 'cs3', 'upgrade', 'software', 'start', 'finish', 'solution', 'efficient', 'video', 'production', 'includes', 'adobe', 'encore', 'cs3', 'adobe', 'onlocation', 'cs3', 'windows', 'formerly', 'award', 'winning', 'dv', 'rack', 'hd', 'save', 'time', 'set', 'capture', 'using', 'adobe', 'onlocation', 'output', 'expand', 'creative', 'options', 'via', 'integration', 'adobe', 'effects', 'cs3', 'professional', 'photoshop', 'deliver', 'content', 'dvd', 'blu', 'ray', 'disc', 'web', 'mobile', 'devices', 'powerful', 'editing', 'finishing', 'delivery', 'tools', 'adobe', 'premiere', 'pro', 'available', 'mac', 'windows', 'operating', 'systems', 'maintain', 'control', 'media', 'multiple', 'project', 'panels', 'customizable', 'panel', 'display', 'settings', 'instant', 'file', 'searches', 'export', 'adobe', 'encore', 'cs3', 'projects', 'dvd', 'blu', 'ray', 'disc', 'flash', 'export', 'flash', 'encore', 'generates', 'html', 'flv', 'swf', 'files', 'provide', 'dvd', 'style', 'chapter', 'selection', 'playback', 'interactivity', 'flash', 'player', 'capture', 'edit', 'deliver', 'video', 'dvd', 'web', 'adobe', 'premiere', 'pro', 'cs3', 'software', 'available', 'mac', 'windows', 'streamlines', 'entire', 'video', 'production', 'process', 'direct', 'disk', 'recording', 'editing', 'final', 'delivery', 'tape', 'disc', 'web', 'mobile', 'devices', 'adobe', 'premiere', 'pro', 'cs3', 'redefines', 'productivity', 'flexibility', 'capturing', 'editing', 'delivering', 'video', 'content', 'video', 'professionals', 'want', 'concentrate', 'storytelling', 'nuts', 'bolts', 'production', 'adobe', 'premiere', 'pro', 'cs3', 'frees', 'focus', 'telling', 'story', 'maximize', 'image', 'quality', 'work', 'faster', 'shoots', 'using', 'adobe', 'onlocation', 'cs3', 'software', 'requires', 'windows', 'boot', 'camp', 'mac', 'included', 'adobe', 'premiere', 'pro', 'calibrate', 'cameras', 'monitor', 'video', 'signals', 'record', 'directly', 'disk', 'shoot', 'edit', 'every', 'major', 'video', 'format', 'dv', 'hd', 'beyond', 'adobe', 'premiere', 'pro', 'cs3', 'improve', 'efficiency', 'creativity', 'new', 'workflow', 'new', 'visual', 'effects', 'features', 'save', 'time', 'expand', 'creative', 'options', 'tight', 'integration', 'adobe', 'software', 'including', 'adobe', 'effects', 'cs3', 'adobe', 'photoshop', 'cs3', 'adobe', 'encore', 'cs3', 'software', 'included', 'adobe', 'premiere', 'pro', 'cs3', 'lets', 'author', 'output', 'blu', 'ray', 'disc', 'dvd', 'flash', 'swf', 'web', 'adobe', 'premiere', 'pro', 'supports', 'additional', 'delivery', 'platforms', 'including', 'flash', 'mobile', 'devices', 'letting', 'reach', 'widest', 'audience', 'possible', 'audience', 'benefit', 'corporate', 'government', 'video', 'producers', 'adobe', 'premiere', 'pro', 'cs3', 'provides', 'tools', 'need', 'ensure', 'excellent', 'production', 'values', 'working', 'quickly', 'stay', 'schedule', 'edit', 'precise', 'control', 'add', 'stunning', 'effects', 'move', 'content', 'smoothly', 'adobe', 'effects', 'cs3', 'professional', 'photoshop', 'even', 'creative', 'control', 'streamline', 'review', 'process', 'adobe', 'clip', 'notes', 'output', 'multiple', 'formats', 'quickly', 'easily', 'reach', 'people', 'everywhere', 'adobe', 'premiere', 'pro', 'cs3', 'lets', 'communicate', 'high', 'quality', 'video', 'imagery', 'even', 'tight', 'budgets', 'looming', 'deadlines', 'event', 'videographers', 'small', 'crews', 'tight', 'deadlines', 'mean', 'need', 'work', 'fast', 'even', 'clients', 'demand', 'higher', 'higher', 'production', 'values', 'adobe', 'premiere', 'pro', 'cs3', 'lets', 'capture', 'events', 'directly', 'disc', 'included', 'adobe', 'onlocation', 'cs3', 'windows', 'work', 'fast', 'precision', 'editing', 'tools', 'including', 'support', 'editing', 'multicam', 'shots', 'create', 'compelling', 'effects', 'via', 'tight', 'integration', 'adobe', 'effects', 'cs3', 'professional', 'photoshop', 'cs3', 'use', 'included', 'copy', 'adobe', 'encore', 'cs3', 'deliver', 'content', 'however', 'clients', 'need', 'whether', 'dvd', 'blu', 'ray', 'disc', 'web', 'mobile', 'devices', 'independent', 'filmmakers', 'passion', 'storytelling', 'challenge', 'finding', 'right', 'software', 'handle', 'every', 'aspect', 'production', 'process', 'deliver', 'hollywood', 'quality', 'imagery', 'adobe', 'premiere', 'pro', 'cs3', 'meets', 'need', 'complete', 'toolset', 'capturing', 'footage', 'direct', 'disc', 'editing', 'imagery', 'creating', 'titles', 'post', 'production', 'producing', 'dvds', 'delivering', 'web', 'ready', 'content', 'promote', 'films', 'internet', 'included', 'video', 'workshop', 'training', 'materials', 'll', 'help', 'every', 'stage', 'production', 'post', 'production', 'boutiques', 'enjoy', 'advanced', 'editing', 'tools', 'well', 'uncompromised', 'image', 'quality', 'real', 'time', 'performance', 'need', 'professional', 'broadcast', 'film', 'post', 'production', 'work', 'major', 'formats', 'enjoy', 'powerful', 'effects', 'media', 'management', 'tools', 'get', 'unparalleled', 'integration', 'adobe', 'effects', 'cs3', 'professional', 'photoshop', 'software', 'increase', 'efficiency', 'workflow', 'enhancements', 'adobe', 'clip', 'notes', 'adobe', 'premiere', 'pro', 'cs3', 'adobe', 'encore', 'cs3', 'deliver', 'work', 'format', 'client', 'needs', 'adobe', 'flash', 'video', 'dvd', 'blu', 'ray', 'disc', 'uncompressed', 'hd', 'educators', 'students', 'adobe', 'premiere', 'pro', 'cs3', 'offers', 'complete', 'set', 'post', 'production', 'tools', 'let', 'handle', 'aspects', 'filmmaking', 'post', 'production', 'cost', 'effectively', 'capturing', 'editing', 'footage', 'creating', 'titles', 'dvds', 'promotional', 'materials', 'websites', 'feature', 'video', 'content', 'use', 'flexible', 'tools', 'express', 'creativity', 'work', 'file', 'format', 'windows', 'macintosh', 'platforms', 'deliver', 'work', 'across', 'multiple', 'media', 'new', 'adobe', 'premiere', 'pro', 'cs3k', 'dvd', 'blu', 'ray', 'disc', 'output', 'included', 'adobe', 'encore', 'cs3', 'create', 'dvd', 'blu', 'ray', 'disc', 'content', 'adobe', 'encore', 'cs3', 'software', 'included', 'adobe', 'premiere', 'pro', 'cs3', 'work', 'encore', 'authoring', 'interface', 'features', 'used', 'create', 'standard', 'definition', 'dvds', 'author', 'deliver', 'twice', 'automatically', 'convert', 'high', 'definition', 'blu', 'ray', 'disc', 'projects', 'standard', 'definition', 'dvds', 'high', 'quality', 'slow', 'motion', 'time', 'remapping', 'create', 'dramatic', 'slow', 'fast', 'motion', 'effects', 'without', 'exporting', 'clips', 'another', 'application', 'precise', 'keyframe', 'control', 'real', 'time', 'feedback', 'excellent', 'quality', 'advanced', 'frame', 'blending', 'slow', 'things', 'without', 'compromising', 'quality', 'generate', 'even', 'better', 'frames', 'pixel', 'motion', 'analysis', 'timewarp', 'effect', 'direct', 'disc', 'recording', 'included', 'adobe', 'onlocation', 'cs3', 'windows', 'save', 'tape', 'time', 'eliminating', 'capture', 'production', 'process', 'record', 'sd', 'hd', 'video', 'directly', 'disc', 'using', 'adobe', 'onlocation', 'cs3', 'software', 'included', 'adobe', 'premiere', 'pro', 'cs3', 'instantly', 'review', 'shot', 'without', 'shuttling', 'tape', 'adobe', 'onlocation', 'automatically', 'detects', 'flags', 'problems', 'provide', 'best', 'results', 'adobe', 'encore', 'cs3', 'projects', 'web', 'one', 'click', 'easily', 'create', 'adobe', 'flash', 'versions', 'dvd', 'blu', 'ray', 'disc', 'projects', 'web', 'use', 'adobe', 'encore', 'cs3', 'create', 'flash', 'content', 'complete', 'dvd', 'interactivity', 'menus', 'without', 'learning', 'flash', 'programming', 'multiple', 'project', 'windows', 'smart', 'file', 'search', 'find', 'files', 'faster', 'search', 'tools', 'instantly', 'update', 'results', 'list', 'type', 'sort', 'organize', 'assets', 'multiple', 'project', 'windows', 'graphical', 'text', 'view', 'setting', 'display', 'handle', 'media', 'files', 'making', 'project', 'management', 'easier', 'efficient', 'professional', 'set', 'monitoring', 'adobe', 'onlocation', 'cs3', 'maximize', 'camera', 'image', 'quality', 'shoots', 'using', 'adobe', 'onlocation', 'cs3', 'quickly', 'calibrate', 'camera', 'check', 'levels', 'monitor', 'signal', 'use', 'simple', 'tools', 'function', 'like', 'hardware', 'equivalents', 'get', 'results', 'quickly', 'easily', 'virtual', 'reference', 'monitor', 'waveform', 'monitor', 'vectorscope', 'audio', 'spectrum', 'analyzer', 'help', 'avoid', 'problems', 'improve', 'quality', 'location', 'create', 'stunning', 'slow', 'motion', 'retiming', 'effects', 'directly', 'timeline', 'setting', 'moving', 'time', 'remapping', 'keyframe', 'markers', 'improve', 'look', 'video', 'three', 'way', 'color', 'corrector', 'precision', 'color', 'correction', 'tools', 'adobe', 'premiere', 'pro', 'improved', 'editing', 'efficiency', 'work', 'faster', 'powerful', 'flexible', 'editing', 'tools', 'play', 'video', 'nested', 'audio', 'sequences', 'real', 'time', 'without', 'rendering', 'replace', 'clip', 'timeline', 'new', 'clip', 'preserving', 'replaced', 'clip', 'editing', 'attributes', 'settings', 'use', 'shortcuts', 'switch', 'workspace', 'panels', 'save', 'time', 'output', 'mobile', 'devices', 'make', 'video', 'viewable', 'latest', 'delivery', 'platforms', 'encode', 'video', 'delivery', 'cell', 'phones', 'mobile', 'devices', 'simulate', 'playback', 'devices', 'check', 'video', 'quality', 'download', 'profile', 'updates', 'simulate', 'latest', 'devices', 'flash', 'video', 'export', 'markers', 'converted', 'cue', 'points', 'encode', 'video', 'audio', 'flash', 'projects', 'web', 'playback', 'direct', 'flash', 'video', 'flv', 'export', 'adobe', 'premiere', 'pro', 'cs3', 'timeline', 'markers', 'become', 'flash', 'cue', 'points', 'trigger', 'interactivity', 'navigation', 'create', 'flash', 'video', 'ease', 'improve', 'efficiency', 'incorporate', 'tapeless', 'workflow', 'shoots', 'using', 'adobe', 'onlocation', 'cs3', 'monitor', 'camera', 'video', 'signal', 'record', 'directly', 'computer', 'hard', 'drive', 'multi', 'camera', 'window', 'makes', 'editing', 'action', 'recorded', 'several', 'cameras', 'multiple', 'takes', 'easy', 'pointing', 'clicking', 'additional', 'features', 'efficient', 'tools', 'creative', 'editing', 'create', 'high', 'quality', 'visual', 'editorial', 'effects', 'directly', 'within', 'editing', 'timeline', 'generate', 'slow', 'motion', 'time', 'remapping', 'effects', 'precise', 'keyframe', 'control', 'real', 'time', 'feedback', 'ad\n\n*** WARNING: max output size exceeded, skipping output. ***\n\nw', 'approval', 'adobe', 'clip', 'notes', 'expedite', 'review', 'cycles', 'avoid', 'miscommunication', 'adobe', 'clip', 'notes', 'embed', 'video', 'adobe', 'pdf', 'file', 'e', 'mail', 'file', 'client', 'review', 'add', 'timecode', 'specific', 'comments', 'view', 'comments', 'mapped', 'adobe', 'premiere', 'pro', 'cs3', 'timeline', 'mac', 'os', 'x', 'compatibility', 'use', 'adobe', 'premiere', 'pro', 'cs3', 'latest', 'intel', 'based', 'macintosh', 'computers', 'aaf', 'edl', 'import', 'export', 'exchange', 'project', 'metadata', 'major', 'video', 'film', 'audio', 'applications', 'via', 'industry', 'standard', 'advanced', 'authoring', 'format', 'aaf', 'aaf', 'edit', 'protocol', 'edit', 'decision', 'list', 'edl', 'files', 'aaf', 'import', 'export', 'windows', 'comprehensive', 'vtr', 'support', 'control', 'video', 'decks', 'rs', '422', 'rs', '232', 'serial', 'protocols', 'firewire', 'precise', 'batch', 'capturing', 'recapturing', 'insert', 'editing', 'file', 'management', 'adobe', 'bridge', 'work', 'efficiently', 'using', 'adobe', 'bridge', 'cs3', 'search', 'access', 'project', 'files', 'preview', 'apply', 'settings', 'run', 'batch', 'processes', 'tag', 'assets', 'xmp', 'metadata', 'macintosh', 'users', 'adobe', 'onlocation', 'requires', 'boot', 'camp', 'windows', 'purchased', 'separately', 'separate', 'windows', 'based', 'computer', 'adobe'])\n('b0009jlux8', ['copy', 'dvds', '2', 'professional', 'edition', 'icopydvds2', 'pro', 'edition', 'contains', 'need', 'copy', 'dvd', 'movie', 'quickly', 'easily', 'interface', 'simple', 'direct', 'put', 'movie', 'press', 'copy', 'icopydvds2', 'rest', 'unique', 'auto', 'fit', 'auto', 'burn', 'technology', 'creates', 'highest', 'quality', 'movie', 'possible', 'single', 'disc', 'every', 'time', 'software'])\n('b000cszg2m', ['gen', 'x', 'media', 'made', 'easy', 'vol', '3', 'media', 'made', 'easy', 'vol', '3', 'front', 'row', 'ticket', 'enjoying', 'best', 'today', 'entertainment', 'powerful', 'easy', 'use', 'contains', '8', 'full', 'programs', 'biggest', 'names', 'entertainment', 'software', 'roxio', 'pinnacle', 'steinberg', 'create', 'record', 'edit', 'remix', 'capture', 'restore', 'media', 'made', 'easy', 'vol', '3', 'gen', 'x'])\n('b00023azve', ['family', 'tree', 'maker', '11', '2', 'collector', 'edition', 'whether', 're', 'avid', 'family', 'historian', 'complete', 'novice', 'family', 'tree', 'maker', 'collectible', 'edition', 'version', '11', '2', 'help', 'create', 'detailed', 'family', 'trees', 'books', 'web', 'sites', 'reports', 'fill', 'personal', 'photos', 'family', 'memorabilia', 'record', 'information', 'pass', 'treasured', 'legacy', 'future', 'encore'])\n('b000ndicuy', ['adobe', 'fireworks', 'cs3', 'mac', 'accelerate', 'web', 'design', 'development', 'adobe', 'fireworks', 'cs3', 'software', 'ideal', 'tool', 'creating', 'optimizing', 'images', 'web', 'rapidly', 'prototyping', 'websites', 'web', 'applications', 'fireworks', 'cs3', 'offers', 'flexibility', 'edit', 'vector', 'bitmap', 'images', 'common', 'library', 'prebuilt', 'assets', 'timesaving', 'integration', 'adobe', 'photoshop', 'cs3', 'adobe', 'illustrator', 'cs3', 'adobe', 'dreamweaver', 'cs3', 'adobe', 'flash', 'cs3', 'professional', 'software', 'new', 'adobe', 'fireworks', 'cs3', 'dramatically', 'accelerates', 'web', 'prototyping', 'web', 'image', 'design', 'rapidly', 'prototype', 'design', 'web', 'new', 'adobe', 'fireworks', 'cs3', 'dramatically', 'accelerates', 'web', 'prototyping', 'web', 'image', 'design', 'enjoy', 'timesaving', 'enhancements', 'new', 'prototyping', 'tools', 'impressive', 'integration', 'adobe', 'photoshop', 'cs3', 'adobe', 'illustrator', 'cs3', 'adobe', 'dreamweaver', 'cs3', 'adobe', 'flash', 'cs3', 'professional', 'adobe', 'flex', 'software', 'new', 'fireworks', 'cs3', 'new', 'macintosh', 'windows', 'os', 'support', 'design', 'develop', 'platform', 'choice', 'adobe', 'fireworks', 'cs3', 'available', 'powerpc', 'intel', 'based', 'macintosh', 'computers', 'well', 'windows', 'xp', 'windows', 'vista', 'systems', 'efficient', 'adobe', 'photoshop', 'adobe', 'illustrator', 'integration', 'import', 'photoshop', 'psd', 'files', 'retaining', 'hierarchical', 'layers', 'layer', 'effects', 'blend', 'modes', 'save', 'fireworks', 'png', 'files', 'back', 'photoshop', 'psd', 'format', 'import', 'illustrator', 'ai', 'files', 'retaining', 'graphic', 'integrity', 'including', 'layer', 'group', 'color', 'information', 'hierarchical', 'layer', 'organization', 'organize', 'manage', 'prototypes', 'new', 'hierarchical', 'layer', 'structure', 'similar', 'one', 'adobe', 'photoshop', 'enables', 'easily', 'organize', 'web', 'layers', 'pages', 'intelligent', 'scaling', 'intelligently', 'scale', 'buttons', 'graphic', 'symbols', 'vector', 'bitmap', '9', 'slice', 'scaling', 'combine', '9', 'slice', 'scaling', 'new', 'auto', 'shape', 'library', 'accelerate', 'website', 'application', 'prototyping', 'multipage', 'support', 'use', 'new', 'pages', 'panel', 'create', 'multiple', 'pages', 'single', 'document', 'png', 'file', 'share', 'layers', 'across', 'multiple', 'pages', 'page', 'contain', 'slices', 'layers', 'frames', 'animations', 'canvas', 'settings', 'making', 'easy', 'simulate', 'website', 'flow', 'prototype', 'ria', 'layout', 'prototyping', 'prototype', 'layouts', 'rich', 'internet', 'applications', 'fireworks', 'export', 'directly', 'adobe', 'flex', 'retaining', 'absolute', 'positioning', 'styling', 'customizable', 'assets', 'jump', 'start', 'prototyping', 'common', 'library', 'frequently', 'used', 'graphic', 'symbols', 'text', 'symbols', 'animations', 'use', 'new', 'symbol', 'properties', 'panel', 'customize', 'symbol', 'attributes', 'adobe', 'photoshop', 'blend', 'modes', 'customize', 'appearance', 'images', 'seven', 'popular', 'blend', 'modes', 'adobe', 'photoshop', 'dissolve', 'linear', 'burn', 'linear', 'dodge', 'vivid', 'light', 'linear', 'light', 'pin', 'light', 'hard', 'mix', 'adobe', 'bridge', 'integration', 'enjoy', 'efficient', 'workflow', 'adobe', 'bridge', 'offers', 'central', 'access', 'project', 'files', 'batch', 'processing', 'include', 'multiple', 'adobe', 'applications', 'streamlined', 'adobe', 'dreamweaver', 'adobe', 'flash', 'integration', 'copy', 'object', 'fireworks', 'cs3', 'paste', 'directly', 'dreamweaver', 'cs3', 'create', 'pop', 'menus', 'saved', 'css', 'html', 'export', 'fireworks', 'png', 'files', 'directly', 'flash', 'cs3', 'maintaining', 'vectors', 'bitmaps', 'animations', 'multistates', 'edit', 'flash', 'cs3', 'additional', 'features', 'vector', 'bitmap', 'editing', 'create', 'edit', 'vector', 'bitmap', 'images', 'import', 'edit', 'native', 'adobe', 'photoshop', 'adobe', 'illustrator', 'files', 'image', 'optimization', 'optimize', 'graphics', 'virtually', 'delivery', 'scenario', 'preview', 'cross', 'platform', 'gamma', 'preview', 'selective', 'jpeg', 'compression', 'wide', 'range', 'export', 'controls', 'filter', 'effects', 'apply', 'lighting', 'effects', 'shadow', 'effects', 'styles', 'blend', 'modes', 'including', 'seven', 'new', 'blend', 'modes', 'photoshop', 'add', 'depth', 'character', 'text', 'symbols', 'common', 'library', 'jump', 'start', 'prototyping', 'common', 'library', 'graphic', 'symbols', 'text', 'symbols', 'animations', 'frequently', 'used', 'web', 'applications', 'forms', 'interfaces', 'websites', 'adobe'])\n('b0000ycfdq', ['dinosaurs', 'topics', 'entertainment'])\n('b0007yepy6', ['instant', 'home', 'design', '3', '0', 'lb', 'software', 'suite', 'helps', 'create', 'customized', 'visuals', 'home', 'renovation', 'photographic', 'cad', 'computer', 'aided', 'design', 'topics', 'entertainment'])\n('b000cpmtwk', ['x', 'oom', 'internet', 'movies', '2', 'internet', 'movies', '2', 'lets', 'take', 'advantage', 'internet', 'gift', 'film', 'fans', 'using', 'create', 'regular', 'dvds', 'video', 'cds', 'growing', 'collection', 'divx', 'xvid', 'real', 'movie', 'files', 'watch', 'big', 'screen', 'tv', 'using', 'standard', 'dvd', 'player', 'x', 'oom'])\n('b0002qnd2y', ['form', 'workshop', '1200', 'customize', 'forms', 'specific', 'needs', 'product', 'information', 'complete', 'solution', 'business', 'personal', 'form', 'needs', 'selectfrom', '1200', 'essential', 'forms', 'letters', 'customize', 'layout', 'text', 'graphics', 'use', 'full', 'suite', 'tools', 'create', 'documents', 'scratch', 'new', 'simplified', 'user', 'interface', 'quickly', 'guides', 'though', 'highly', 'advancedfeatures', 'nbs', 'valusoft'])\n('b000h22pg8', ['print', 'shop', 'pro', 'publisher', '22', 'deluxe', 'dvd', 'print', 'shop', 'pro', 'publisher', 'deluxe', 'edition', '22', 'gives', 'tools', 'need', 'design', 'publish', 'professional', 'business', 'materials', 'creative', 'projects', 'web', 'pages', 'wealth', 'photo', 'manipulation', 'tools', 'fingertips', 'helps', 'get', 'closer', 'final', 'product', 'see', 'pro', 'publisher', 'deluxe', 'pro', 'publisher', 'deluxe', 'express', 'creativity', 'promote', 'business', 'design', 'web', 'site', 'much', 'one', 'place', 'complete', 'source', 'designing', 'powerful', 'publications', 'home', 'business', 'needs', 'pro', 'publisher', 'deluxe', 'lets', 'create', 'banners', 'letterhead', 'business', 'cards', 'postcards', 'find', 'version', 'print', 'shop', 'right', '22', '000', 'templates', '400', '000', 'images', 'fingertips', '22', '000', 'pre', 'designed', 'project', 'templates', 'choose', 'easy', 'start', 'next', 'project', 'scratch', 'pro', 'publisher', 'deluxe', 'features', 'flexible', 'design', 'layout', 'tools', '850', 'fonts', 'complete', 'logo', 'creator', 'several', 'professional', 'quality', 'printing', 'options', 'help', 'tailor', 'projects', 'precise', 'needs', 'design', 'layouts', 'multimedia', 'presentations', 'letterhead', 'business', 'cards', 'greeting', 'cards', 'forms', 'multi', 'page', 'brochures', 'stationery', 'sets', 'cd', 'dvd', 'labels', 'newsletters', 'much', 'multi', 'page', 'booklet', 'template', 'helps', 'create', 'exciting', 'projects', 'including', 'programs', 'menus', 'informational', 'pamphlets', 'brochures', 'even', 'turn', 'family', 'history', 'work', 'art', 'unique', 'fun', 'use', 'family', 'tree', 'templates', 'pro', 'publisher', 'deluxe', 'offers', 'wider', 'variety', 'paper', 'sizes', 'several', 'new', 'templates', 'including', '4x6', 'inches', 'notecards', 'postcard', '11x17', 'inch', 'pages', 'square', '6x6', '8x8', '12x12', 'page', 'sizes', 'time', 'add', 'perfect', 'image', 'project', 'pro', 'publisher', 'deluxe', 'features', 'gallery', '400', '000', 'premium', 'images', 'including', '5', '000', 'getty', 'images', 'include', 'photos', 'graphics', 'illustrations', 'web', 'art', 'backgrounds', 'textures', 'seasonal', 'images', 'll', 'always', 'ideal', 'template', 'perfect', 'image', 'complete', 'project', 'program', 'also', 'includes', '3', '100', 'sentiments', 'll', 'precise', 'tools', 'add', 'perfect', 'phrase', 'quote', 'design', 'advanced', 'search', 'function', 'lets', 'conveniently', 'search', 'project', 'template', 'image', 'type', 'tone', 'category', 'keyword', 'purchase', 'pro', 'publisher', 'deluxe', 'also', 'receive', 'full', 'year', 'free', 'access', 'million', 'image', 'club', 'find', 'even', 'images', 'complement', 'designs', 'advanced', 'design', 'print', 'tools', 'convenient', 'pdf', 'tool', 'lets', 'easily', 'convert', 'projects', 'images', 'pdf', 'files', 'easy', 'sharing', 'maintaining', 'high', 'resolution', 'color', 'accuracy', 'also', 'access', 'tools', 'let', 'create', 'sophisticated', 'web', 'pages', 'html', 'coding', 'skills', 'required', 'simple', 'drag', 'drop', 'capabilities', 'allow', 'move', 'images', 'text', 'want', 'advanced', 'html', 'features', 'include', 'dynamic', 'web', 'templates', 'rollover', 'effects', 'hotspots', 'online', 'form', 'creation', 'spell', 'check', 'professional', 'graphic', 'tools', 'give', 'power', 'manipulate', 'images', 'take', 'business', 'communications', 'next', 'level', 'pro', 'publisher', 'deluxe', 'll', 'master', 'tools', 'let', 'create', 'edit', 'vector', 'art', 'create', '3', 'd', 'shapes', 'add', '3', 'd', 'texture', 'effects', 'even', 'draw', 'using', 'pastel', 'charcoal', 'watercolor', 'time', 'print', 'pro', 'publisher', 'deluxe', 'offers', 'advantages', 'several', 'professional', 'print', 'options', 'borderless', 'printing', 'printing', 'directly', 'printable', 'cds', 'dvds', 'print', 'multiple', 'labels', 'variety', 'images', 'text', 'simultaneously', 'one', 'sheet', 'feature', 'perfect', 'mass', 'mailings', 'customizing', 'variety', 'labels', 'ease', 'even', 'personalize', 'ipod', 'skin', 'favorite', 'photo', 'pictures', 'friends', 'cool', 'design', 'many', 'ways', 'pro', 'publisher', 'deluxe', 'help', 'business', 'grow', 'personal', 'projects', 'thrive', 'possibilities', 'endless', 'limit', 'pro', 'publisher', 'deluxe', 'imagination', 'encore'])\n('b0009h9q1i', ['stomp', 'inc', 'recover', 'lost', 'data', '2005', 'finger', 'ever', 'slip', 'keyboard', 'accidentally', 'erasing', 'important', 'file', 'handy', 'software', 'application', 'helps', 'get', 'file', 'back', 'recover', 'lost', 'data', 'gives', 'power', 'restore', 'lost', 'files', 'easy', 'use', 'intuitive', 'graphical', 'recovery', 'wizard', 'recover', 'lost', 'data', 'runs', 'directly', 'cd', 'install', 'hard', 'drive', 'recover', 'lost', 'data', 'powerful', 'recovery', 'tools', 'find', 'restore', 'deleted', 'lost', 'damaged', 'files', 'folders', 'caused', 'accidental', 'deletion', 'system', 'crashes', 'power', 'failures', 'viruses', 'corrupted', 'operating', 'systems', 'damaged', 'deleted', 'partitions', 'hacker', 'attacks', 'formatted', 'hard', 'drives', 'program', 'pre', 'installed', 'hard', 'drive', 'helps', 'retrieve', 'lost', 'data', 'files', 'might', 'accidentally', 'deleted', 'often', 'recover', 'data', 'drive', 'longer', 'recognized', 'windows', 'recovers', 'individual', 'email', 'messages', 'microsoft', 'outlook', 'outlook', 'express', 'netscape', 'eudora', 'email', 'clients', 'sophisticated', 'advanced', 'recovery', 'mode', 'recover', 'data', 'damaged', 'drives', 'media', 'works', 'fat16', 'fat32', 'ntfs', 'file', 'systems', 'supports', 'ide', 'serial', 'ata', 'scsi', 'raid', 'usb', 'firewire', 'drives', 'run', 'recoverlost', 'data', 'directly', 'cd', 'installation', 'necessary', 'flexible', 'search', 'enables', 'find', 'individual', 'files', 'lost', 'accidentally', 'erased', 'analyzes', 'searches', 'disk', 'clusters', 'detect', 'file', 'systems', 'lost', 'drives', 'partitions', 'stomp', 'inc'])\n('b000cqyclu', ['first', 'bible', 'stories', 'combines', 'exciting', 'multimedia', 'technology', 'great', 'story', 'telling', 'traditions', 'brought', 'bible', 'stories', 'life', 'thousands', 'years', 'teaches', 'kids', 'reinforces', 'tests', 'general', 'knowledge', 'bible', 'dorling', 'kindersley', 'multimedia', 'dk'])\n('b0001db6i6', ['big', 'mix', 'mac', 'big', 'mix', 'one', 'tool', 'home', 'musicians', 'skill', 'level', 'turn', 'home', 'recording', 'studio', 'quality', 'sound', 'make', 'music', 'like', 'never', 'whether', 're', 'created', 'orchestral', 'pieces', 'hypnotic', 'dance', 'tracks', 'll', 'find', 'everything', 'need', 'spark', 'le', 'real', 'processing', 'people', 'want', 'pristine', 'sounds', 'home', 'audio', 'features', 'tools', 'like', 'tempo', 'delay', 'one', 'band', 'eq', 'selectable', 'notch', 'low', 'pass', 'high', 'pass', 'parametric', 'types', 'equalization', 'aladdin'])\n('b000bl40dg', ['x', 'oom', 'movie', 'clone', '3', 'gold', 'copy', 'complete', 'original', 'dvds', 'favorite', 'scenes', 'remove', 'extras', 'want', 'featuring', 'user', 'friendly', 'interface', 'unique', 'compression', 'technology', 'x', 'oom', 'movie', 'clone', '3', 'gold', 'rapidly', 'burns', 'flawless', 'copies', 'dvds', 'cds', 'turn', 'divx', 'collection', 'avi', 'movie', 'files', 'dvds', 'watch', 'dvd', 'player', 'course', 'take', 'favorite', 'movie', 'pda', 'thanks', 'x', 'oom', 'movie', 'clone', '3', 'gold', 'versatile', 'conversion', 'features', 'turn', 'dvd', 'format', 'like', 'f', 'e', 'divx', 'avi', 'wmv', 'real', 'even', 'vcds', 'svcds', 'whatever', 'copy', 'll', 'thrilled', 'backup', 'speed', 'quality', 'tristep', 'technology', 'delivers', 'extremely', 'fast', 'backups', 'entire', 'dvds', 'copied', 'minutes', 'complete', '1', '1', 'dvd', 'backups', 'movie', 'mode', 'including', 'selected', 'languages', 'simultaneous', 'copy', 'burn', 'operations', 'powerful', 'transcoding', 'technology', 'allows', 'fit', 'larger', 'dvd', 'movies', '9', 'gb', 'onto', 'standard', 'blank', 'dvds', '4', '7', 'gb', 'automatic', 're', 'authoring', 'features', 'allow', 'split', 'backup', 'copies', 'across', 'one', 'disk', 'transfer', 'dvd', 'movie', 'vcd', 'svcd', '1', '1', 'audio', 'copying', 'perfect', 'sound', 'quality', 'including', 'stereo', '5', '1', 'surround', 'dts', 'dolby', 'digital', 'highspeed', 'conversion', 'dvds', 'divx', 'avi', 'wmv', 'even', 'cell', 'phone', 'fileformat', 'new', 'highspeed', 'conversion', 'divx', 'avi', 'wmv', 'real', 'movie', 'file', 'dvd', 'svcd', 'format', 'new', 'intuitive', 'user', 'friendly', 'interface', 'makes', 'operation', 'simple', 'backups', 'play', 'standard', 'dvd', 'player', 'x', 'oom'])\n('b000h22rbg', ['print', 'shop', '22', 'deluxe', 'print', 'shop', 'deluxe', 'edition', '22', 'gives', 'tools', 'need', 'design', 'publish', 'professional', 'business', 'materials', 'creative', 'projects', 'web', 'pages', 'wealth', 'photo', 'manipulation', 'tools', 'fingertips', 'helps', 'get', 'closer', 'final', 'product', 'see', 'print', 'shop', 'design', 'suite', 'deluxe', 'edition', 'express', 'creativity', 'promote', 'business', 'design', 'web', 'site', 'much', 'one', 'place', 'complete', 'source', 'designing', 'powerful', 'publications', 'home', 'business', 'needs', 'pro', 'publisher', 'deluxe', 'edition', 'lets', 'create', 'banners', 'letterhead', 'business', 'cards', 'postcards', 'find', 'version', 'print', 'shop', 'right', '22', '000', 'templates', '350', '000', 'graphics', 'fingertips', '22', '000', 'pre', 'designed', 'project', 'templates', 'choose', 'easy', 'start', 'next', 'project', 'scratch', 'deluxe', 'edition', 'features', 'flexible', 'design', 'layout', 'tools', '700', 'fonts', 'complete', 'logo', 'creator', 'several', 'professional', 'quality', 'printing', 'options', 'help', 'tailor', 'projects', 'precise', 'needs', 'design', 'layouts', 'multimedia', 'presentations', 'letterhead', 'business', 'cards', 'greeting', 'cards', 'forms', 'multi', 'page', 'brochures', 'stationery', 'sets', 'cd', 'dvd', 'labels', 'newsletters', 'much', 'multi', 'page', 'booklet', 'template', 'helps', 'create', 'exciting', 'projects', 'including', 'programs', 'menus', 'informational', 'pamphlets', 'brochures', 'even', 'turn', 'family', 'history', 'work', 'art', 'unique', 'fun', 'use', 'family', 'tree', 'templates', 'deluxe', 'edition', 'offers', 'wider', 'variety', 'paper', 'sizes', 'several', 'new', 'templates', 'including', '4x6', 'inches', 'notecards', 'postcard', '11x17', 'inch', 'pages', 'square', '6x6', '8x8', '12x12', 'page', 'sizes', 'time', 'add', 'perfect', 'image', 'project', 'deluxe', 'edition', 'features', 'gallery', '400', '000', 'premium', 'images', 'including', '2', '500', 'getty', 'images', 'include', 'photos', 'graphics', 'illustrations', 'web', 'art', 'backgrounds', 'textures', 'seasonal', 'images', 'll', 'always', 'ideal', 'template', 'perfect', 'image', 'complete', 'project', 'program', 'also', 'includes', '2', '900', 'sentiments', 'll', 'precise', 'tools', 'add', 'perfect', 'phrase', 'quote', 'design', 'find', 'perfect', 'project', 'image', 'template', 'every', 'time', 'advanced', 'search', 'tools', 'advanced', 'search', 'function', 'lets', 'conveniently', 'search', 'type', 'tone', 'category', 'keyword', 'purchase', 'deluxe', 'edition', 'also', 'receive', 'six', 'months', 'free', 'access', 'million', 'image', 'club', 'find', 'even', 'images', 'complement', 'designs', 'advanced', 'design', 'print', 'tools', 'convenient', 'pdf', 'tool', 'lets', 'easily', 'convert', 'projects', 'images', 'pdf', 'files', 'easy', 'sharing', 'maintaining', 'high', 'resolution', 'color', 'accuracy', 'also', 'access', 'tools', 'let', 'create', 'sophisticated', 'web', 'pages', 'html', 'coding', 'skills', 'required', 'simple', 'drag', 'drop', 'capabilities', 'allow', 'move', 'images', 'text', 'want', 'advanced', 'html', 'features', 'include', 'dynamic', 'web', 'templates', 'rollover', 'effects', 'hotspots', 'online', 'form', 'creation', 'spell', 'check', 'professional', 'graphic', 'tools', 'give', 'power', 'manipulate', 'images', 'take', 'business', 'communications', 'next', 'level', 'deluxe', 'edition', 'll', 'master', 'tools', 'let', 'create', 'edit', 'vector', 'art', 'create', '3', 'd', 'shapes', 'add', '3', 'd', 'texture', 'effects', 'even', 'draw', 'using', 'pastel', 'charcoal', 'watercolor', 'time', 'print', 'deluxe', 'edition', 'offers', 'advantages', 'several', 'professional', 'print', 'options', 'borderless', 'printing', 'printing', 'directly', 'printable', 'cds', 'dvds', 'print', 'multiple', 'labels', 'variety', 'images', 'text', 'simultaneously', 'one', 'sheet', 'feature', 'perfect', 'mass', 'mailings', 'customizing', 'variety', 'labels', 'ease', 'even', 'personalize', 'ipod', 'skin', 'favorite', 'photo', 'pictures', 'friends', 'cool', 'design', 'many', 'ways', 'deluxe', 'edition', 'help', 'business', 'grow', 'personal', 'projects', 'thrive', 'possibilities', 'endless', 'limit', 'deluxe', 'edition', 'imagination', 'encore'])\n('b000bezsyi', ['imsi', 'turbocad', 'designer', 'v', '11', 'fastest', 'easiest', 'way', 'design', 'product', 'informationit', 'easy', 'bring', 'wildest', 'design', 'ideas', 'life', 'turbocad', 'powerfulvisualization', 'tools', 'nbsp', 'create', 'professional', '2d', 'sketches', 'precisiondrawings', 'sure', 'impress', 'nbsp', 'best', 'par', 'imsi'])\n('b0007g9760', ['lavasoft', 'ad', 'aware', 'plus', 'edition', 'award', 'winning', 'technology', 'ad', 'aware', 'plus', 'edition', 'puts', 'complete', 'control', 'offers', 'highest', 'level', 'protection', 'known', 'unknown', 'threats', 'data', 'mining', 'aggressive', 'advertising', 'parasites', 'scumware', 'selected', 'traditional', 'trolans', 'dialers', 'malware', 'browser', 'hijackers', 'tracking', 'components', 'ad', 'aware', 'plusedition', 'offers', 'power', 'personal', 'edition', 'enhanced', 'additional', 'powerful', 'features', 'protect', 'privacy', 'ad', 'watch', 'real', 'time', 'monitor', 'goes', 'beyond', 'security', 'suites', 'offer', 'adding', 'another', 'layer', 'protection', 'system', 'ad', 'aware', 'plus', 'ad', 'watch', 'allows', 'detect', 'privacy', 'threats', 'computer', 'also', 'block', 'integrating', 'system', 'first', 'place', 'system', 'requirements', 'windows', '95', '98', 'nt', '2000', 'xp', '2003', 'ms', 'terminal', 'services', 'tri', 'synergy'])\n('b0001bg5gq', ['clip', 'art', '250', '000', 'jewel', 'case', 'imsi', 'design'])\n('b000ivhozk', ['instant', 'immersion', 'language', 'lab', 'deluxe', 'edition', 'easy', 'fast', 'way', 'multi', 'language', 'learning', 'product', 'informationpeerless', 'powerful', 'popularly', 'priced', 'new', 'improved', 'instant', 'immersion', 'language', 'lab', 'award', 'winning', 'instructional', 'software', 'suite', 'talks', 'langua', 'topics', 'entertainment'])\n('b000buqo9a', ['elementary', 'school', 'success', 'deluxe', '2006', 'unparalleled', 'primary', 'school', 'content', 'arithmeticto', 'zoology', 'grades', '1', '6product', 'informationintroducing', 'elementary', 'school', 'success', 'deluxe', 'leading', 'edge', 'suite', 'softwaretools', 'personal', 'computer', 'providing', 'elementary', 'students', 'nbsp', 'topics', 'entertainment'])\n('b00032heya', ['national', 'geographic', 'presents', 'redshift', 'planetarium', 'national', 'geographic', 'redshift', 'planetarium', '5', 'takes', 'interactive', 'journey', 'trhough', 'star', 'planets', 'galaxies', 'using', 'deep', 'space', 'technology', 'text', 'illustrations', 'launch', 'stars', 'teach', 'worlds', 'beyond', 'topics', 'entertainment'])\n('b000butd6q', ['math', 'success', 'deluxe', '2006', 'topics', 'entertainment'])\n('b00032hexq', ['national', 'geographic', 'presents', 'forces', 'nature', 'national', 'geographic', 'forces', 'nature', 'll', 'understand', 'nature', 'world', 'forces', 'affect', 'world', 'around', 'us', 'packed', 'hundreds', 'high', 'resolution', 'full', 'screen', 'videos', 'photos', 'educate', 'every', 'aspect', 'earth', 'natural', 'forces', 'topics', 'entertainment'])\n('b000b6vlh4', ['reference', 'success', 'deluxe', '2006', 'reference', 'success', 'deluxe', 'leading', 'edge', 'suite', 'software', 'tools', 'personal', 'computer', 'ideal', 'individual', 'students', 'entire', 'families', 'provides', 'award', 'winning', 'educator', 'endorsed', 'content', 'unrivaled', 'breadth', 'scope', 'data', 'absorbing', 'activities', 'presentation', 'captivate', 'users', 'includes', 'depth', 'national', 'portraits', 'featuring', 'flags', 'histories', 'almanac', 'vital', 'facts', 'figures', 'nobel', 'prize', 'oscar', 'pulitzer', 'prize', 'winners', 'world', 'leaders', 'inventions', 'athletes', 'writers', 'scientists', 'topics', 'entertainment'])\n"
     ]
    }
   ],
   "source": [
    "for i in corpusRDD.take(50):\n",
    "    print(i)"
   ]
  },
  {
   "cell_type": "code",
   "execution_count": 0,
   "metadata": {
    "application/vnd.databricks.v1+cell": {
     "cellMetadata": {
      "byteLimit": 2048000,
      "rowLimit": 10000
     },
     "inputWidgets": {},
     "nuid": "0a43b9ab-396c-4bf5-a63a-46ad6b83dd8f",
     "showTitle": false,
     "title": ""
    },
    "deletable": false,
    "editable": false,
    "id": "JPfVlGGw_sa2",
    "nbgrader": {
     "cell_type": "code",
     "checksum": "104a123b4c360319c5c14792926a02bb",
     "grade": true,
     "grade_id": "create_corpus_test",
     "locked": true,
     "points": 1,
     "schema_version": 3,
     "solution": false,
     "task": false
    }
   },
   "outputs": [],
   "source": [
    "\"\"\"Check that there are 400 records in the two small datasets in total\"\"\"\n",
    "assert_equal(corpusRDD.count(), 400)\n",
    "\"\"\"Check that the third smallest token from the token list associated with Record b000jz4hqo is clickart\"\"\"\n",
    "_data = corpusRDD.filter(lambda t: t[0] == 'b000jz4hqo').collect()\n",
    "_words = sorted(_data[0][1])\n",
    "assert_equal(_words[3], 'clickart')"
   ]
  },
  {
   "cell_type": "markdown",
   "metadata": {
    "application/vnd.databricks.v1+cell": {
     "cellMetadata": {
      "byteLimit": 2048000,
      "rowLimit": 10000
     },
     "inputWidgets": {},
     "nuid": "c0872121-e3dd-4b7d-a233-23271089045e",
     "showTitle": false,
     "title": ""
    },
    "id": "_XWtOdJ2_sa2"
   },
   "source": [
    "### (2c) Implement an IDFs function\n",
    "Implement `idfs` that assigns an IDF weight to every unique token in an RDD called `corpus`. The function should return a pair RDD where the `key` is the unique token and value is the IDF weight for the token.\n",
    "\n",
    "Recall that the IDF weight for a token, *t*, in a set of documents, *U*, is computed as follows:\n",
    "* Let *N* be the total number of documents in *U*.\n",
    "* Find *n(t)*, the number of documents in *U* that contain *t*.\n",
    "* Then *IDF(t) = N/n(t)*.\n",
    "\n",
    "Use your `idfs` to compute the IDF weights for all tokens in `corpusRDD` (the combined small datasets).\n",
    "How many unique tokens are there?\n",
    "\n",
    "Specifically, in your `idfs`:\n",
    "* `uniqueTokens` is an RDD (not a pair RDD) with a list of unique tokens from each document. For each document, you should only include a token once, even if it appears multiple times in that document.\n",
    "* `tokenCountPairTuple` is a pair RDD with (.,1) in all the values. For example, a pair might be ('data', 1).\n",
    "* `tokenSumPairTuple` is a pair RDD with (.,sum). For example, a pair might be ('data', 10), since for the unique token 'data', it appears in a total of 10 documents."
   ]
  },
  {
   "cell_type": "code",
   "execution_count": 0,
   "metadata": {
    "application/vnd.databricks.v1+cell": {
     "cellMetadata": {
      "byteLimit": 2048000,
      "rowLimit": 10000
     },
     "inputWidgets": {},
     "nuid": "7c44e24d-aef2-4fd3-ba4f-67f61e594481",
     "showTitle": false,
     "title": ""
    },
    "deletable": false,
    "id": "Re4xqgWD_sa2",
    "nbgrader": {
     "cell_type": "code",
     "checksum": "419a57db7b1b94195b34a33acfaa8a06",
     "grade": false,
     "grade_id": "idfs",
     "locked": false,
     "schema_version": 3,
     "solution": true,
     "task": false
    }
   },
   "outputs": [
    {
     "output_type": "stream",
     "name": "stdout",
     "output_type": "stream",
     "text": [
      "There are 4772 unique tokens in the small datasets.\n"
     ]
    }
   ],
   "source": [
    "def idfs(corpus):\n",
    "    \"\"\" Compute IDF\n",
    "    Args:\n",
    "        corpus (RDD): input corpus\n",
    "    Returns:\n",
    "        RDD: a RDD of (token, IDF value)\n",
    "    \"\"\"\n",
    "    # TODO: Uncomment the template below and replace <FILL IN> with appropriate code\n",
    "    uniqueTokens = corpus.map(lambda x: list(set(x[1])))\n",
    "    # print(uniqueTokens.take(3))\n",
    "    tokenCountPairTuple = uniqueTokens.flatMap(lambda list: list).map(lambda x: (x, 1))\n",
    "    # print(tokenCountPairTuple.take(10))\n",
    "    tokenSumPairTuple = tokenCountPairTuple.groupByKey().mapValues(len)\n",
    "    N = corpus.count()\n",
    "    return (tokenSumPairTuple.map(lambda x: (x[0], N / x[1])))\n",
    "    \n",
    "    # YOUR CODE HERE\n",
    "    # raise NotImplementedError()\n",
    "\n",
    "idfsSmall = idfs(corpusRDD)\n",
    "uniqueTokenCount = idfsSmall.count()\n",
    "\n",
    "print('There are %s unique tokens in the small datasets.' % uniqueTokenCount)"
   ]
  },
  {
   "cell_type": "code",
   "execution_count": 0,
   "metadata": {
    "application/vnd.databricks.v1+cell": {
     "cellMetadata": {
      "byteLimit": 2048000,
      "rowLimit": 10000
     },
     "inputWidgets": {},
     "nuid": "7d36ca6b-d617-46b5-a683-a8cf47e9f985",
     "showTitle": false,
     "title": ""
    },
    "deletable": false,
    "editable": false,
    "id": "qG_ccFF-_sa2",
    "nbgrader": {
     "cell_type": "code",
     "checksum": "2473749a4e2869044e332fd596a6a30c",
     "grade": true,
     "grade_id": "idfs_test",
     "locked": true,
     "points": 1,
     "schema_version": 3,
     "solution": false,
     "task": false
    }
   },
   "outputs": [],
   "source": [
    "\"\"\"Check that the number of unique tokens in the combined small datasets is 4772\"\"\"\n",
    "assert_equal(uniqueTokenCount, 4772)\n"
   ]
  },
  {
   "cell_type": "markdown",
   "metadata": {
    "application/vnd.databricks.v1+cell": {
     "cellMetadata": {
      "byteLimit": 2048000,
      "rowLimit": 10000
     },
     "inputWidgets": {},
     "nuid": "a0172a0f-13ed-447a-bd20-6490c0a00395",
     "showTitle": false,
     "title": ""
    },
    "id": "VkohnG98_sa3"
   },
   "source": [
    "### (2d) Tokens with the smallest IDF\n",
    "Print out the 11 tokens with the smallest IDF in the combined small dataset."
   ]
  },
  {
   "cell_type": "code",
   "execution_count": 0,
   "metadata": {
    "application/vnd.databricks.v1+cell": {
     "cellMetadata": {
      "byteLimit": 2048000,
      "rowLimit": 10000
     },
     "inputWidgets": {},
     "nuid": "abad4da0-9d05-44d4-95ba-c5ce27f91f9b",
     "showTitle": false,
     "title": ""
    },
    "deletable": false,
    "id": "CMca_CW__sa3",
    "nbgrader": {
     "cell_type": "code",
     "checksum": "1e20e70a44e4964c5408b34a3a51b0c7",
     "grade": false,
     "grade_id": "smallest_idf",
     "locked": false,
     "schema_version": 3,
     "solution": true,
     "task": false
    }
   },
   "outputs": [
    {
     "output_type": "stream",
     "name": "stdout",
     "output_type": "stream",
     "text": [
      "[('software', 4.25531914893617), ('features', 6.896551724137931), ('new', 6.896551724137931), ('use', 7.017543859649122), ('complete', 7.2727272727272725), ('easy', 7.6923076923076925), ('cd', 8.333333333333334), ('create', 8.333333333333334), ('system', 8.333333333333334), ('windows', 8.51063829787234), ('1', 8.51063829787234)]\n"
     ]
    }
   ],
   "source": [
    "# *answer*: The 10 smallest IDFs are for: (1) software, (2 tie) new, (2 tie) features, (4) use, (5) complete, (6) easy, (7 tie) cd, (7 tie) system, (7 tie) create, (10 tie) windows, (10 tie) 1\n",
    "\n",
    "# These terms not useful for entity resolution because they are generic terms for marketing, prices, and product categories.\n",
    "\n",
    "# TODO: Uncomment the template below and replace <FILL IN> with appropriate code\n",
    "smallIDFTokens = idfsSmall.sortBy(lambda x: x[1]).take(11)\n",
    "\n",
    "# YOUR CODE HERE\n",
    "# raise NotImplementedError()\n",
    "\n",
    "print(smallIDFTokens)"
   ]
  },
  {
   "cell_type": "code",
   "execution_count": 0,
   "metadata": {
    "application/vnd.databricks.v1+cell": {
     "cellMetadata": {
      "byteLimit": 2048000,
      "rowLimit": 10000
     },
     "inputWidgets": {},
     "nuid": "9323a31b-ecb9-4f4a-a153-639322dc7906",
     "showTitle": false,
     "title": ""
    },
    "deletable": false,
    "editable": false,
    "id": "9MvvT0yn_sa3",
    "nbgrader": {
     "cell_type": "code",
     "checksum": "a9a2ddf5147d6b85512758ce387d1de7",
     "grade": true,
     "grade_id": "smallest_idf_test",
     "locked": true,
     "points": 1,
     "schema_version": 3,
     "solution": false,
     "task": false
    }
   },
   "outputs": [],
   "source": [
    "_data = sorted(smallIDFTokens)\n",
    "\"\"\"Check that the first token (among the 11 tokens with the smallest idf) is '1' (in string order)\"\"\"\n",
    "assert_equal(_data[0][0], '1')\n",
    "\"\"\"Check that the third token (among the 11 tokens with the smallest idf) is 'complete' (in string order)\"\"\"\n",
    "assert_equal(_data[2][0], 'complete')\n",
    "_expected = ['1', 'cd', 'complete', 'create', 'easy', 'features', 'new', 'software', 'system', 'use', 'windows']\n",
    "_got = [t[0] for t in _data]\n",
    "\"\"\"Check that the 11 tokens with the smallest idf are sorted by the string order\"\"\"\n",
    "assert_equal(_got, _expected)"
   ]
  },
  {
   "cell_type": "markdown",
   "metadata": {
    "application/vnd.databricks.v1+cell": {
     "cellMetadata": {
      "byteLimit": 2048000,
      "rowLimit": 10000
     },
     "inputWidgets": {},
     "nuid": "19b9894c-99d3-4692-b813-02f2721e23be",
     "showTitle": false,
     "title": ""
    },
    "id": "AVnDra2y_sa3"
   },
   "source": [
    "### (2e) IDF Histogram\n",
    "Plot a histogram of IDF values.  Be sure to use appropriate scaling and bucketing for the data. Use the values across the entire RDD.\n",
    "\n",
    "First plot the histogram using [matplotlib](https://matplotlib.org/3.1.1/gallery/statistics/hist.html)"
   ]
  },
  {
   "cell_type": "code",
   "execution_count": 0,
   "metadata": {
    "application/vnd.databricks.v1+cell": {
     "cellMetadata": {
      "byteLimit": 2048000,
      "rowLimit": 10000
     },
     "inputWidgets": {},
     "nuid": "1232e080-945b-4ebf-8976-d5268faa31cb",
     "showTitle": false,
     "title": ""
    },
    "deletable": false,
    "id": "zqW-ffGI_sa3",
    "nbgrader": {
     "cell_type": "code",
     "checksum": "986b2353ee0fb4a6a002986b35169287",
     "grade": false,
     "grade_id": "idf_historgram",
     "locked": false,
     "schema_version": 3,
     "solution": true,
     "task": false
    }
   },
   "outputs": [
    {
     "output_type": "execute_result",
     "data": {
      "text/plain": [
       "(array([ 136.,  172.,  178.,  250.,  253.,    0.,  405.,    0.,    0.,\n",
       "         902.,    0.,    0.,    0.,    0.,    0.,    0.,    0.,    0.,\n",
       "           0., 2476.]),\n",
       " array([  4.25531915,  24.04255319,  43.82978723,  63.61702128,\n",
       "         83.40425532, 103.19148936, 122.9787234 , 142.76595745,\n",
       "        162.55319149, 182.34042553, 202.12765957, 221.91489362,\n",
       "        241.70212766, 261.4893617 , 281.27659574, 301.06382979,\n",
       "        320.85106383, 340.63829787, 360.42553191, 380.21276596,\n",
       "        400.        ]),\n",
       " <BarContainer object of 20 artists>)"
      ]
     },
     "execution_count": 21,
     "metadata": {},
     "output_type": "execute_result"
    },
    {
     "output_type": "display_data",
     "data": {
      "image/png": "[encoded data removed]",
      "text/plain": [
       "<Figure size 800x300 with 1 Axes>"
      ]
     },
     "metadata": {},
     "output_type": "display_data"
    }
   ],
   "source": [
    "# TODO: Uncomment the template below and replace <FILL IN> with appropriate code\n",
    "small_idf_values = idfsSmall.values().collect()\n",
    "fig = plt.figure(figsize=(8,3))\n",
    "plt.hist(small_idf_values, bins=20, log=True)\n",
    "\n",
    "# YOUR CODE HERE\n",
    "# raise NotImplementedError()\n",
    "\n",
    "# display(fig)"
   ]
  },
  {
   "cell_type": "markdown",
   "metadata": {
    "application/vnd.databricks.v1+cell": {
     "cellMetadata": {
      "byteLimit": 2048000,
      "rowLimit": 10000
     },
     "inputWidgets": {},
     "nuid": "f371497d-d89e-4507-bd06-c1b51bdc0e54",
     "showTitle": false,
     "title": ""
    },
    "id": "8HOLUQcs_sa3"
   },
   "source": [
    "Next, plot the histogram using the Databricks `display()` function. After the cell runs, click on Plot Options and select Histogram."
   ]
  },
  {
   "cell_type": "code",
   "execution_count": 0,
   "metadata": {
    "application/vnd.databricks.v1+cell": {
     "cellMetadata": {
      "byteLimit": 2048000,
      "rowLimit": 10000
     },
     "inputWidgets": {},
     "nuid": "e72d3d54-b905-4fbc-bfb1-76699586ec4c",
     "showTitle": false,
     "title": ""
    },
    "deletable": false,
    "id": "qo33KHKb_sa3",
    "nbgrader": {
     "cell_type": "code",
     "checksum": "e50f9428c736d4f8068dba4b33076463",
     "grade": false,
     "grade_id": "idf_display",
     "locked": false,
     "schema_version": 3,
     "solution": true,
     "task": false
    }
   },
   "outputs": [
    {
     "output_type": "display_data",
     "data": {
      "text/html": [
       "<style scoped>\n",
       "  .table-result-container {\n",
       "    max-height: 300px;\n",
       "    overflow: auto;\n",
       "  }\n",
       "  table, th, td {\n",
       "    border: 1px solid black;\n",
       "    border-collapse: collapse;\n",
       "  }\n",
       "  th, td {\n",
       "    padding: 5px;\n",
       "  }\n",
       "  th {\n",
       "    text-align: left;\n",
       "  }\n",
       "</style><div class='table-result-container'><table class='table-result'><thead style='background-color: white'><tr><th>idf</th></tr></thead><tbody><tr><td>400.0</td></tr><tr><td>16.666666666666668</td></tr><tr><td>16.0</td></tr><tr><td>400.0</td></tr><tr><td>57.142857142857146</td></tr><tr><td>200.0</td></tr><tr><td>133.33333333333334</td></tr><tr><td>80.0</td></tr><tr><td>200.0</td></tr><tr><td>14.285714285714286</td></tr><tr><td>23.529411764705884</td></tr><tr><td>23.529411764705884</td></tr><tr><td>200.0</td></tr><tr><td>200.0</td></tr><tr><td>80.0</td></tr><tr><td>21.05263157894737</td></tr><tr><td>100.0</td></tr><tr><td>400.0</td></tr><tr><td>9.75609756097561</td></tr><tr><td>100.0</td></tr><tr><td>44.44444444444444</td></tr><tr><td>26.666666666666668</td></tr><tr><td>57.142857142857146</td></tr><tr><td>400.0</td></tr><tr><td>57.142857142857146</td></tr><tr><td>12.903225806451612</td></tr><tr><td>400.0</td></tr><tr><td>22.22222222222222</td></tr><tr><td>23.529411764705884</td></tr><tr><td>400.0</td></tr><tr><td>22.22222222222222</td></tr><tr><td>400.0</td></tr><tr><td>13.333333333333334</td></tr><tr><td>133.33333333333334</td></tr><tr><td>133.33333333333334</td></tr><tr><td>200.0</td></tr><tr><td>80.0</td></tr><tr><td>200.0</td></tr><tr><td>200.0</td></tr><tr><td>14.285714285714286</td></tr><tr><td>8.333333333333334</td></tr><tr><td>44.44444444444444</td></tr><tr><td>66.66666666666667</td></tr><tr><td>23.529411764705884</td></tr><tr><td>133.33333333333334</td></tr><tr><td>21.05263157894737</td></tr><tr><td>133.33333333333334</td></tr><tr><td>100.0</td></tr><tr><td>400.0</td></tr><tr><td>200.0</td></tr><tr><td>200.0</td></tr><tr><td>400.0</td></tr><tr><td>44.44444444444444</td></tr><tr><td>30.76923076923077</td></tr><tr><td>200.0</td></tr><tr><td>400.0</td></tr><tr><td>400.0</td></tr><tr><td>40.0</td></tr><tr><td>100.0</td></tr><tr><td>400.0</td></tr><tr><td>36.36363636363637</td></tr><tr><td>133.33333333333334</td></tr><tr><td>12.5</td></tr><tr><td>400.0</td></tr><tr><td>19.047619047619047</td></tr><tr><td>400.0</td></tr><tr><td>20.0</td></tr><tr><td>400.0</td></tr><tr><td>200.0</td></tr><tr><td>133.33333333333334</td></tr><tr><td>80.0</td></tr><tr><td>133.33333333333334</td></tr><tr><td>100.0</td></tr><tr><td>80.0</td></tr><tr><td>200.0</td></tr><tr><td>200.0</td></tr><tr><td>50.0</td></tr><tr><td>100.0</td></tr><tr><td>80.0</td></tr><tr><td>100.0</td></tr><tr><td>200.0</td></tr><tr><td>200.0</td></tr><tr><td>400.0</td></tr><tr><td>400.0</td></tr><tr><td>57.142857142857146</td></tr><tr><td>100.0</td></tr><tr><td>26.666666666666668</td></tr><tr><td>50.0</td></tr><tr><td>400.0</td></tr><tr><td>400.0</td></tr><tr><td>133.33333333333334</td></tr><tr><td>50.0</td></tr><tr><td>200.0</td></tr><tr><td>80.0</td></tr><tr><td>15.384615384615385</td></tr><tr><td>400.0</td></tr><tr><td>200.0</td></tr><tr><td>200.0</td></tr><tr><td>400.0</td></tr><tr><td>57.142857142857146</td></tr><tr><td>33.333333333333336</td></tr><tr><td>33.333333333333336</td></tr><tr><td>400.0</td></tr><tr><td>21.05263157894737</td></tr><tr><td>100.0</td></tr><tr><td>50.0</td></tr><tr><td>200.0</td></tr><tr><td>400.0</td></tr><tr><td>30.76923076923077</td></tr><tr><td>200.0</td></tr><tr><td>400.0</td></tr><tr><td>100.0</td></tr><tr><td>80.0</td></tr><tr><td>100.0</td></tr><tr><td>100.0</td></tr><tr><td>400.0</td></tr><tr><td>36.36363636363637</td></tr><tr><td>400.0</td></tr><tr><td>400.0</td></tr><tr><td>200.0</td></tr><tr><td>66.66666666666667</td></tr><tr><td>400.0</td></tr><tr><td>133.33333333333334</td></tr><tr><td>40.0</td></tr><tr><td>50.0</td></tr><tr><td>133.33333333333334</td></tr><tr><td>50.0</td></tr><tr><td>25.0</td></tr><tr><td>133.33333333333334</td></tr><tr><td>40.0</td></tr><tr><td>66.66666666666667</td></tr><tr><td>133.33333333333334</td></tr><tr><td>23.529411764705884</td></tr><tr><td>400.0</td></tr><tr><td>400.0</td></tr><tr><td>400.0</td></tr><tr><td>400.0</td></tr><tr><td>133.33333333333334</td></tr><tr><td>100.0</td></tr><tr><td>33.333333333333336</td></tr><tr><td>36.36363636363637</td></tr><tr><td>133.33333333333334</td></tr><tr><td>200.0</td></tr><tr><td>200.0</td></tr><tr><td>400.0</td></tr><tr><td>200.0</td></tr><tr><td>50.0</td></tr><tr><td>66.66666666666667</td></tr><tr><td>400.0</td></tr><tr><td>400.0</td></tr><tr><td>57.142857142857146</td></tr><tr><td>400.0</td></tr><tr><td>33.333333333333336</td></tr><tr><td>200.0</td></tr><tr><td>133.33333333333334</td></tr><tr><td>133.33333333333334</td></tr><tr><td>133.33333333333334</td></tr><tr><td>400.0</td></tr><tr><td>133.33333333333334</td></tr><tr><td>66.66666666666667</td></tr><tr><td>18.181818181818183</td></tr><tr><td>400.0</td></tr><tr><td>36.36363636363637</td></tr><tr><td>133.33333333333334</td></tr><tr><td>66.66666666666667</td></tr><tr><td>400.0</td></tr><tr><td>133.33333333333334</td></tr><tr><td>200.0</td></tr><tr><td>44.44444444444444</td></tr><tr><td>200.0</td></tr><tr><td>133.33333333333334</td></tr><tr><td>36.36363636363637</td></tr><tr><td>400.0</td></tr><tr><td>133.33333333333334</td></tr><tr><td>133.33333333333334</td></tr><tr><td>400.0</td></tr><tr><td>100.0</td></tr><tr><td>400.0</td></tr><tr><td>200.0</td></tr><tr><td>44.44444444444444</td></tr><tr><td>400.0</td></tr><tr><td>400.0</td></tr><tr><td>400.0</td></tr><tr><td>400.0</td></tr><tr><td>100.0</td></tr><tr><td>400.0</td></tr><tr><td>400.0</td></tr><tr><td>200.0</td></tr><tr><td>200.0</td></tr><tr><td>200.0</td></tr><tr><td>400.0</td></tr><tr><td>50.0</td></tr><tr><td>100.0</td></tr><tr><td>200.0</td></tr><tr><td>28.571428571428573</td></tr><tr><td>200.0</td></tr><tr><td>200.0</td></tr><tr><td>40.0</td></tr><tr><td>19.047619047619047</td></tr><tr><td>80.0</td></tr><tr><td>100.0</td></tr><tr><td>133.33333333333334</td></tr><tr><td>30.76923076923077</td></tr><tr><td>200.0</td></tr><tr><td>400.0</td></tr><tr><td>200.0</td></tr><tr><td>100.0</td></tr><tr><td>200.0</td></tr><tr><td>400.0</td></tr><tr><td>200.0</td></tr><tr><td>133.33333333333334</td></tr><tr><td>28.571428571428573</td></tr><tr><td>400.0</td></tr><tr><td>400.0</td></tr><tr><td>400.0</td></tr><tr><td>400.0</td></tr><tr><td>100.0</td></tr><tr><td>400.0</td></tr><tr><td>400.0</td></tr><tr><td>400.0</td></tr><tr><td>133.33333333333334</td></tr><tr><td>400.0</td></tr><tr><td>200.0</td></tr><tr><td>200.0</td></tr><tr><td>400.0</td></tr><tr><td>200.0</td></tr><tr><td>400.0</td></tr><tr><td>200.0</td></tr><tr><td>200.0</td></tr><tr><td>400.0</td></tr><tr><td>400.0</td></tr><tr><td>33.333333333333336</td></tr><tr><td>400.0</td></tr><tr><td>133.33333333333334</td></tr><tr><td>400.0</td></tr><tr><td>400.0</td></tr><tr><td>133.33333333333334</td></tr><tr><td>400.0</td></tr><tr><td>80.0</td></tr><tr><td>400.0</td></tr><tr><td>80.0</td></tr><tr><td>400.0</td></tr><tr><td>400.0</td></tr><tr><td>133.33333333333334</td></tr><tr><td>200.0</td></tr><tr><td>400.0</td></tr><tr><td>400.0</td></tr><tr><td>36.36363636363637</td></tr><tr><td>400.0</td></tr><tr><td>400.0</td></tr><tr><td>200.0</td></tr><tr><td>133.33333333333334</td></tr><tr><td>400.0</td></tr><tr><td>200.0</td></tr><tr><td>400.0</td></tr><tr><td>200.0</td></tr><tr><td>400.0</td></tr><tr><td>400.0</td></tr><tr><td>133.33333333333334</td></tr><tr><td>400.0</td></tr><tr><td>133.33333333333334</td></tr><tr><td>200.0</td></tr><tr><td>66.66666666666667</td></tr><tr><td>400.0</td></tr><tr><td>80.0</td></tr><tr><td>200.0</td></tr><tr><td>66.66666666666667</td></tr><tr><td>400.0</td></tr><tr><td>200.0</td></tr><tr><td>200.0</td></tr><tr><td>200.0</td></tr><tr><td>400.0</td></tr><tr><td>400.0</td></tr><tr><td>400.0</td></tr><tr><td>400.0</td></tr><tr><td>200.0</td></tr><tr><td>100.0</td></tr><tr><td>200.0</td></tr><tr><td>57.142857142857146</td></tr><tr><td>400.0</td></tr><tr><td>400.0</td></tr><tr><td>400.0</td></tr><tr><td>400.0</td></tr><tr><td>200.0</td></tr><tr><td>200.0</td></tr><tr><td>400.0</td></tr><tr><td>133.33333333333334</td></tr><tr><td>100.0</td></tr><tr><td>133.33333333333334</td></tr><tr><td>66.66666666666667</td></tr><tr><td>200.0</td></tr><tr><td>133.33333333333334</td></tr><tr><td>57.142857142857146</td></tr><tr><td>400.0</td></tr><tr><td>400.0</td></tr><tr><td>200.0</td></tr><tr><td>100.0</td></tr><tr><td>80.0</td></tr><tr><td>200.0</td></tr><tr><td>400.0</td></tr><tr><td>133.33333333333334</td></tr><tr><td>200.0</td></tr><tr><td>400.0</td></tr><tr><td>400.0</td></tr><tr><td>400.0</td></tr><tr><td>400.0</td></tr><tr><td>100.0</td></tr><tr><td>66.66666666666667</td></tr><tr><td>400.0</td></tr><tr><td>200.0</td></tr><tr><td>400.0</td></tr><tr><td>57.142857142857146</td></tr><tr><td>200.0</td></tr><tr><td>400.0</td></tr><tr><td>200.0</td></tr><tr><td>133.33333333333334</td></tr><tr><td>200.0</td></tr><tr><td>400.0</td></tr><tr><td>400.0</td></tr><tr><td>400.0</td></tr><tr><td>400.0</td></tr><tr><td>400.0</td></tr><tr><td>400.0</td></tr><tr><td>80.0</td></tr><tr><td>400.0</td></tr><tr><td>400.0</td></tr><tr><td>200.0</td></tr><tr><td>400.0</td></tr><tr><td>200.0</td></tr><tr><td>400.0</td></tr><tr><td>400.0</td></tr><tr><td>400.0</td></tr><tr><td>400.0</td></tr><tr><td>200.0</td></tr><tr><td>100.0</td></tr><tr><td>80.0</td></tr><tr><td>200.0</td></tr><tr><td>200.0</td></tr><tr><td>400.0</td></tr><tr><td>400.0</td></tr><tr><td>200.0</td></tr><tr><td>400.0</td></tr><tr><td>400.0</td></tr><tr><td>400.0</td></tr><tr><td>200.0</td></tr><tr><td>400.0</td></tr><tr><td>80.0</td></tr><tr><td>133.33333333333334</td></tr><tr><td>133.33333333333334</td></tr><tr><td>400.0</td></tr><tr><td>400.0</td></tr><tr><td>200.0</td></tr><tr><td>200.0</td></tr><tr><td>400.0</td></tr><tr><td>400.0</td></tr><tr><td>400.0</td></tr><tr><td>133.33333333333334</td></tr><tr><td>400.0</td></tr><tr><td>100.0</td></tr><tr><td>133.33333333333334</td></tr><tr><td>133.33333333333334</td></tr><tr><td>200.0</td></tr><tr><td>100.0</td></tr><tr><td>200.0</td></tr><tr><td>200.0</td></tr><tr><td>400.0</td></tr><tr><td>400.0</td></tr><tr><td>400.0</td></tr><tr><td>400.0</td></tr><tr><td>400.0</td></tr><tr><td>200.0</td></tr><tr><td>80.0</td></tr><tr><td>400.0</td></tr><tr><td>200.0</td></tr><tr><td>200.0</td></tr><tr><td>400.0</td></tr><tr><td>57.142857142857146</td></tr><tr><td>400.0</td></tr><tr><td>400.0</td></tr><tr><td>200.0</td></tr><tr><td>400.0</td></tr><tr><td>400.0</td></tr><tr><td>200.0</td></tr><tr><td>400.0</td></tr><tr><td>400.0</td></tr><tr><td>400.0</td></tr><tr><td>200.0</td></tr><tr><td>400.0</td></tr><tr><td>100.0</td></tr><tr><td>400.0</td></tr><tr><td>200.0</td></tr><tr><td>133.33333333333334</td></tr><tr><td>200.0</td></tr><tr><td>400.0</td></tr><tr><td>133.33333333333334</td></tr><tr><td>400.0</td></tr><tr><td>400.0</td></tr><tr><td>400.0</td></tr><tr><td>400.0</td></tr><tr><td>133.33333333333334</td></tr><tr><td>400.0</td></tr><tr><td>400.0</td></tr><tr><td>400.0</td></tr><tr><td>400.0</td></tr><tr><td>133.33333333333334</td></tr><tr><td>400.0</td></tr><tr><td>400.0</td></tr><tr><td>400.0</td></tr><tr><td>400.0</td></tr><tr><td>200.0</td></tr><tr><td>400.0</td></tr><tr><td>400.0</td></tr><tr><td>400.0</td></tr><tr><td>200.0</td></tr><tr><td>400.0</td></tr><tr><td>200.0</td></tr><tr><td>400.0</td></tr><tr><td>400.0</td></tr><tr><td>200.0</td></tr><tr><td>400.0</td></tr><tr><td>100.0</td></tr><tr><td>400.0</td></tr><tr><td>200.0</td></tr><tr><td>200.0</td></tr><tr><td>400.0</td></tr><tr><td>400.0</td></tr><tr><td>400.0</td></tr><tr><td>133.33333333333334</td></tr><tr><td>200.0</td></tr><tr><td>200.0</td></tr><tr><td>400.0</td></tr><tr><td>400.0</td></tr><tr><td>400.0</td></tr><tr><td>200.0</td></tr><tr><td>400.0</td></tr><tr><td>200.0</td></tr><tr><td>200.0</td></tr><tr><td>400.0</td></tr><tr><td>400.0</td></tr><tr><td>400.0</td></tr><tr><td>80.0</td></tr><tr><td>400.0</td></tr><tr><td>100.0</td></tr><tr><td>400.0</td></tr><tr><td>400.0</td></tr><tr><td>200.0</td></tr><tr><td>100.0</td></tr><tr><td>400.0</td></tr><tr><td>200.0</td></tr><tr><td>133.33333333333334</td></tr><tr><td>400.0</td></tr><tr><td>400.0</td></tr><tr><td>400.0</td></tr><tr><td>400.0</td></tr><tr><td>400.0</td></tr><tr><td>400.0</td></tr><tr><td>400.0</td></tr><tr><td>400.0</td></tr><tr><td>400.0</td></tr><tr><td>100.0</td></tr><tr><td>200.0</td></tr><tr><td>400.0</td></tr><tr><td>400.0</td></tr><tr><td>400.0</td></tr><tr><td>133.33333333333334</td></tr><tr><td>200.0</td></tr><tr><td>400.0</td></tr><tr><td>400.0</td></tr><tr><td>200.0</td></tr><tr><td>400.0</td></tr><tr><td>200.0</td></tr><tr><td>400.0</td></tr><tr><td>100.0</td></tr><tr><td>200.0</td></tr><tr><td>400.0</td></tr><tr><td>200.0</td></tr><tr><td>400.0</td></tr><tr><td>400.0</td></tr><tr><td>400.0</td></tr><tr><td>100.0</td></tr><tr><td>400.0</td></tr><tr><td>400.0</td></tr><tr><td>400.0</td></tr><tr><td>400.0</td></tr><tr><td>400.0</td></tr><tr><td>400.0</td></tr><tr><td>400.0</td></tr><tr><td>133.33333333333334</td></tr><tr><td>400.0</td></tr><tr><td>400.0</td></tr><tr><td>400.0</td></tr><tr><td>400.0</td></tr><tr><td>400.0</td></tr><tr><td>57.142857142857146</td></tr><tr><td>400.0</td></tr><tr><td>133.33333333333334</td></tr><tr><td>400.0</td></tr><tr><td>400.0</td></tr><tr><td>400.0</td></tr><tr><td>400.0</td></tr><tr><td>200.0</td></tr><tr><td>200.0</td></tr><tr><td>400.0</td></tr><tr><td>200.0</td></tr><tr><td>400.0</td></tr><tr><td>400.0</td></tr><tr><td>400.0</td></tr><tr><td>400.0</td></tr><tr><td>400.0</td></tr><tr><td>400.0</td></tr><tr><td>400.0</td></tr><tr><td>400.0</td></tr><tr><td>200.0</td></tr><tr><td>200.0</td></tr><tr><td>133.33333333333334</td></tr><tr><td>400.0</td></tr><tr><td>200.0</td></tr><tr><td>400.0</td></tr><tr><td>400.0</td></tr><tr><td>400.0</td></tr><tr><td>400.0</td></tr><tr><td>200.0</td></tr><tr><td>400.0</td></tr><tr><td>400.0</td></tr><tr><td>400.0</td></tr><tr><td>400.0</td></tr><tr><td>400.0</td></tr><tr><td>400.0</td></tr><tr><td>400.0</td></tr><tr><td>133.33333333333334</td></tr><tr><td>400.0</td></tr><tr><td>400.0</td></tr><tr><td>400.0</td></tr><tr><td>400.0</td></tr><tr><td>400.0</td></tr><tr><td>400.0</td></tr><tr><td>400.0</td></tr><tr><td>400.0</td></tr><tr><td>400.0</td></tr><tr><td>400.0</td></tr><tr><td>400.0</td></tr><tr><td>200.0</td></tr><tr><td>400.0</td></tr><tr><td>200.0</td></tr><tr><td>400.0</td></tr><tr><td>400.0</td></tr><tr><td>400.0</td></tr><tr><td>200.0</td></tr><tr><td>400.0</td></tr><tr><td>400.0</td></tr><tr><td>400.0</td></tr><tr><td>400.0</td></tr><tr><td>400.0</td></tr><tr><td>400.0</td></tr><tr><td>400.0</td></tr><tr><td>400.0</td></tr><tr><td>400.0</td></tr><tr><td>400.0</td></tr><tr><td>400.0</td></tr><tr><td>400.0</td></tr><tr><td>400.0</td></tr><tr><td>400.0</td></tr><tr><td>400.0</td></tr><tr><td>400.0</td></tr><tr><td>400.0</td></tr><tr><td>400.0</td></tr><tr><td>133.33333333333334</td></tr><tr><td>200.0</td></tr><tr><td>400.0</td></tr><tr><td>400.0</td></tr><tr><td>400.0</td></tr><tr><td>100.0</td></tr><tr><td>400.0</td></tr><tr><td>400.0</td></tr><tr><td>200.0</td></tr><tr><td>400.0</td></tr><tr><td>400.0</td></tr><tr><td>400.0</td></tr><tr><td>400.0</td></tr><tr><td>400.0</td></tr><tr><td>200.0</td></tr><tr><td>400.0</td></tr><tr><td>400.0</td></tr><tr><td>400.0</td></tr><tr><td>400.0</td></tr><tr><td>400.0</td></tr><tr><td>400.0</td></tr><tr><td>400.0</td></tr><tr><td>400.0</td></tr><tr><td>200.0</td></tr><tr><td>400.0</td></tr><tr><td>400.0</td></tr><tr><td>200.0</td></tr><tr><td>400.0</td></tr><tr><td>400.0</td></tr><tr><td>400.0</td></tr><tr><td>400.0</td></tr><tr><td>400.0</td></tr><tr><td>400.0</td></tr><tr><td>400.0</td></tr><tr><td>400.0</td></tr><tr><td>400.0</td></tr><tr><td>400.0</td></tr><tr><td>400.0</td></tr><tr><td>400.0</td></tr><tr><td>400.0</td></tr><tr><td>400.0</td></tr><tr><td>400.0</td></tr><tr><td>400.0</td></tr><tr><td>400.0</td></tr><tr><td>400.0</td></tr><tr><td>200.0</td></tr><tr><td>400.0</td></tr><tr><td>400.0</td></tr><tr><td>400.0</td></tr><tr><td>400.0</td></tr><tr><td>400.0</td></tr><tr><td>400.0</td></tr><tr><td>400.0</td></tr><tr><td>400.0</td></tr><tr><td>400.0</td></tr><tr><td>400.0</td></tr><tr><td>400.0</td></tr><tr><td>400.0</td></tr><tr><td>400.0</td></tr><tr><td>400.0</td></tr><tr><td>400.0</td></tr><tr><td>400.0</td></tr><tr><td>400.0</td></tr><tr><td>400.0</td></tr><tr><td>400.0</td></tr><tr><td>400.0</td></tr><tr><td>400.0</td></tr><tr><td>400.0</td></tr><tr><td>400.0</td></tr><tr><td>400.0</td></tr><tr><td>400.0</td></tr><tr><td>400.0</td></tr><tr><td>400.0</td></tr><tr><td>400.0</td></tr><tr><td>400.0</td></tr><tr><td>400.0</td></tr><tr><td>400.0</td></tr><tr><td>400.0</td></tr><tr><td>400.0</td></tr><tr><td>400.0</td></tr><tr><td>400.0</td></tr><tr><td>400.0</td></tr><tr><td>400.0</td></tr><tr><td>400.0</td></tr><tr><td>400.0</td></tr><tr><td>133.33333333333334</td></tr><tr><td>80.0</td></tr><tr><td>100.0</td></tr><tr><td>100.0</td></tr><tr><td>6.896551724137931</td></tr><tr><td>25.0</td></tr><tr><td>133.33333333333334</td></tr><tr><td>100.0</td></tr><tr><td>15.384615384615385</td></tr><tr><td>200.0</td></tr><tr><td>133.33333333333334</td></tr><tr><td>400.0</td></tr><tr><td>40.0</td></tr><tr><td>100.0</td></tr><tr><td>200.0</td></tr><tr><td>50.0</td></tr><tr><td>400.0</td></tr><tr><td>133.33333333333334</td></tr><tr><td>200.0</td></tr><tr><td>57.142857142857146</td></tr><tr><td>23.529411764705884</td></tr><tr><td>8.51063829787234</td></tr><tr><td>16.666666666666668</td></tr><tr><td>25.0</td></tr><tr><td>14.814814814814815</td></tr><tr><td>8.333333333333334</td></tr><tr><td>66.66666666666667</td></tr><tr><td>400.0</td></tr><tr><td>11.764705882352942</td></tr><tr><td>400.0</td></tr><tr><td>7.2727272727272725</td></tr><tr><td>400.0</td></tr><tr><td>17.391304347826086</td></tr><tr><td>66.66666666666667</td></tr><tr><td>26.666666666666668</td></tr><tr><td>66.66666666666667</td></tr><tr><td>133.33333333333334</td></tr><tr><td>100.0</td></tr><tr><td>100.0</td></tr><tr><td>25.0</td></tr><tr><td>200.0</td></tr><tr><td>133.33333333333334</td></tr><tr><td>66.66666666666667</td></tr><tr><td>400.0</td></tr><tr><td>400.0</td></tr><tr><td>30.76923076923077</td></tr><tr><td>10.526315789473685</td></tr><tr><td>18.181818181818183</td></tr><tr><td>40.0</td></tr><tr><td>25.0</td></tr><tr><td>50.0</td></tr><tr><td>133.33333333333334</td></tr><tr><td>133.33333333333334</td></tr><tr><td>400.0</td></tr><tr><td>400.0</td></tr><tr><td>133.33333333333334</td></tr><tr><td>30.76923076923077</td></tr><tr><td>400.0</td></tr><tr><td>200.0</td></tr><tr><td>400.0</td></tr><tr><td>80.0</td></tr><tr><td>9.523809523809524</td></tr><tr><td>25.0</td></tr><tr><td>44.44444444444444</td></tr><tr><td>36.36363636363637</td></tr><tr><td>80.0</td></tr><tr><td>200.0</td></tr><tr><td>100.0</td></tr><tr><td>400.0</td></tr><tr><td>133.33333333333334</td></tr><tr><td>133.33333333333334</td></tr><tr><td>200.0</td></tr><tr><td>57.142857142857146</td></tr><tr><td>23.529411764705884</td></tr><tr><td>100.0</td></tr><tr><td>44.44444444444444</td></tr><tr><td>23.529411764705884</td></tr><tr><td>133.33333333333334</td></tr><tr><td>80.0</td></tr><tr><td>44.44444444444444</td></tr><tr><td>133.33333333333334</td></tr><tr><td>17.391304347826086</td></tr><tr><td>400.0</td></tr><tr><td>33.333333333333336</td></tr><tr><td>400.0</td></tr><tr><td>400.0</td></tr><tr><td>57.142857142857146</td></tr><tr><td>80.0</td></tr><tr><td>133.33333333333334</td></tr><tr><td>200.0</td></tr><tr><td>28.571428571428573</td></tr><tr><td>80.0</td></tr><tr><td>22.22222222222222</td></tr><tr><td>66.66666666666667</td></tr><tr><td>33.333333333333336</td></tr><tr><td>33.333333333333336</td></tr><tr><td>21.05263157894737</td></tr><tr><td>23.529411764705884</td></tr><tr><td>80.0</td></tr><tr><td>26.666666666666668</td></tr><tr><td>400.0</td></tr><tr><td>80.0</td></tr><tr><td>21.05263157894737</td></tr><tr><td>100.0</td></tr><tr><td>400.0</td></tr><tr><td>25.0</td></tr><tr><td>400.0</td></tr><tr><td>40.0</td></tr><tr><td>133.33333333333334</td></tr><tr><td>100.0</td></tr><tr><td>200.0</td></tr><tr><td>57.142857142857146</td></tr><tr><td>400.0</td></tr><tr><td>200.0</td></tr><tr><td>400.0</td></tr><tr><td>100.0</td></tr><tr><td>200.0</td></tr><tr><td>400.0</td></tr><tr><td>200.0</td></tr><tr><td>80.0</td></tr><tr><td>200.0</td></tr><tr><td>200.0</td></tr><tr><td>200.0</td></tr><tr><td>100.0</td></tr><tr><td>26.666666666666668</td></tr><tr><td>400.0</td></tr><tr><td>100.0</td></tr><tr><td>400.0</td></tr><tr><td>133.33333333333334</td></tr><tr><td>200.0</td></tr><tr><td>400.0</td></tr><tr><td>400.0</td></tr><tr><td>200.0</td></tr><tr><td>400.0</td></tr><tr><td>200.0</td></tr><tr><td>400.0</td></tr><tr><td>50.0</td></tr><tr><td>400.0</td></tr><tr><td>400.0</td></tr><tr><td>26.666666666666668</td></tr><tr><td>133.33333333333334</td></tr><tr><td>33.333333333333336</td></tr><tr><td>100.0</td></tr><tr><td>400.0</td></tr><tr><td>400.0</td></tr><tr><td>200.0</td></tr><tr><td>22.22222222222222</td></tr><tr><td>44.44444444444444</td></tr><tr><td>100.0</td></tr><tr><td>400.0</td></tr><tr><td>400.0</td></tr><tr><td>200.0</td></tr><tr><td>133.33333333333334</td></tr><tr><td>133.33333333333334</td></tr><tr><td>40.0</td></tr><tr><td>80.0</td></tr><tr><td>200.0</td></tr><tr><td>57.142857142857146</td></tr><tr><td>200.0</td></tr><tr><td>80.0</td></tr><tr><td>100.0</td></tr><tr><td>200.0</td></tr><tr><td>100.0</td></tr><tr><td>400.0</td></tr><tr><td>200.0</td></tr><tr><td>200.0</td></tr><tr><td>400.0</td></tr><tr><td>26.666666666666668</td></tr><tr><td>200.0</td></tr><tr><td>36.36363636363637</td></tr><tr><td>400.0</td></tr><tr><td>400.0</td></tr><tr><td>400.0</td></tr><tr><td>400.0</td></tr><tr><td>36.36363636363637</td></tr><tr><td>400.0</td></tr><tr><td>133.33333333333334</td></tr><tr><td>200.0</td></tr><tr><td>200.0</td></tr><tr><td>200.0</td></tr><tr><td>400.0</td></tr><tr><td>200.0</td></tr><tr><td>200.0</td></tr><tr><td>400.0</td></tr><tr><td>200.0</td></tr><tr><td>400.0</td></tr><tr><td>200.0</td></tr><tr><td>400.0</td></tr><tr><td>200.0</td></tr><tr><td>133.33333333333334</td></tr><tr><td>400.0</td></tr><tr><td>200.0</td></tr><tr><td>400.0</td></tr><tr><td>200.0</td></tr><tr><td>400.0</td></tr><tr><td>80.0</td></tr><tr><td>400.0</td></tr><tr><td>400.0</td></tr><tr><td>133.33333333333334</td></tr><tr><td>36.36363636363637</td></tr><tr><td>400.0</td></tr><tr><td>400.0</td></tr><tr><td>400.0</td></tr><tr><td>200.0</td></tr><tr><td>200.0</td></tr><tr><td>400.0</td></tr><tr><td>200.0</td></tr><tr><td>200.0</td></tr><tr><td>400.0</td></tr><tr><td>400.0</td></tr><tr><td>400.0</td></tr><tr><td>200.0</td></tr><tr><td>200.0</td></tr><tr><td>133.33333333333334</td></tr><tr><td>57.142857142857146</td></tr><tr><td>200.0</td></tr><tr><td>400.0</td></tr><tr><td>400.0</td></tr><tr><td>200.0</td></tr><tr><td>200.0</td></tr><tr><td>133.33333333333334</td></tr><tr><td>133.33333333333334</td></tr><tr><td>400.0</td></tr><tr><td>400.0</td></tr><tr><td>400.0</td></tr><tr><td>133.33333333333334</td></tr><tr><td>200.0</td></tr><tr><td>200.0</td></tr><tr><td>400.0</td></tr><tr><td>400.0</td></tr><tr><td>400.0</td></tr><tr><td>400.0</td></tr><tr><td>200.0</td></tr><tr><td>200.0</td></tr><tr><td>400.0</td></tr><tr><td>100.0</td></tr><tr><td>400.0</td></tr><tr><td>100.0</td></tr><tr><td>44.44444444444444</td></tr><tr><td>400.0</td></tr><tr><td>200.0</td></tr><tr><td>133.33333333333334</td></tr><tr><td>400.0</td></tr><tr><td>50.0</td></tr><tr><td>133.33333333333334</td></tr><tr><td>400.0</td></tr><tr><td>400.0</td></tr><tr><td>400.0</td></tr><tr><td>400.0</td></tr><tr><td>400.0</td></tr><tr><td>80.0</td></tr><tr><td>400.0</td></tr><tr><td>133.33333333333334</td></tr><tr><td>200.0</td></tr><tr><td>133.33333333333334</td></tr><tr><td>200.0</td></tr><tr><td>400.0</td></tr><tr><td>400.0</td></tr><tr><td>400.0</td></tr><tr><td>30.76923076923077</td></tr><tr><td>400.0</td></tr><tr><td>400.0</td></tr><tr><td>200.0</td></tr><tr><td>80.0</td></tr><tr><td>133.33333333333334</td></tr><tr><td>200.0</td></tr><tr><td>200.0</td></tr><tr><td>400.0</td></tr><tr><td>400.0</td></tr><tr><td>200.0</td></tr><tr><td>50.0</td></tr><tr><td>200.0</td></tr><tr><td>400.0</td></tr><tr><td>400.0</td></tr><tr><td>400.0</td></tr><tr><td>400.0</td></tr><tr><td>400.0</td></tr><tr><td>200.0</td></tr><tr><td>200.0</td></tr><tr><td>400.0</td></tr><tr><td>200.0</td></tr><tr><td>400.0</td></tr><tr><td>200.0</td></tr><tr><td>200.0</td></tr><tr><td>400.0</td></tr><tr><td>400.0</td></tr><tr><td>400.0</td></tr><tr><td>133.33333333333334</td></tr><tr><td>400.0</td></tr><tr><td>400.0</td></tr><tr><td>50.0</td></tr><tr><td>200.0</td></tr><tr><td>100.0</td></tr><tr><td>400.0</td></tr><tr><td>400.0</td></tr><tr><td>400.0</td></tr><tr><td>400.0</td></tr><tr><td>133.33333333333334</td></tr><tr><td>400.0</td></tr><tr><td>400.0</td></tr><tr><td>200.0</td></tr><tr><td>400.0</td></tr><tr><td>400.0</td></tr><tr><td>200.0</td></tr><tr><td>400.0</td></tr><tr><td>133.33333333333334</td></tr><tr><td>57.142857142857146</td></tr><tr><td>200.0</td></tr><tr><td>200.0</td></tr><tr><td>133.33333333333334</td></tr><tr><td>200.0</td></tr><tr><td>400.0</td></tr><tr><td>100.0</td></tr><tr><td>200.0</td></tr><tr><td>200.0</td></tr><tr><td>200.0</td></tr><tr><td>400.0</td></tr><tr><td>80.0</td></tr><tr><td>400.0</td></tr><tr><td>200.0</td></tr><tr><td>200.0</td></tr><tr><td>200.0</td></tr><tr><td>400.0</td></tr><tr><td>400.0</td></tr><tr><td>400.0</td></tr><tr><td>133.33333333333334</td></tr><tr><td>400.0</td></tr><tr><td>133.33333333333334</td></tr><tr><td>80.0</td></tr><tr><td>133.33333333333334</td></tr><tr><td>133.33333333333334</td></tr><tr><td>200.0</td></tr><tr><td>100.0</td></tr><tr><td>200.0</td></tr><tr><td>200.0</td></tr><tr><td>400.0</td></tr><tr><td>400.0</td></tr><tr><td>400.0</td></tr><tr><td>57.142857142857146</td></tr><tr><td>133.33333333333334</td></tr><tr><td>200.0</td></tr><tr><td>200.0</td></tr><tr><td>400.0</td></tr><tr><td>80.0</td></tr><tr><td>133.33333333333334</td></tr><tr><td>400.0</td></tr><tr><td>400.0</td></tr><tr><td>400.0</td></tr><tr><td>200.0</td></tr><tr><td>80.0</td></tr><tr><td>200.0</td></tr><tr><td>400.0</td></tr><tr><td>200.0</td></tr><tr><td>400.0</td></tr><tr><td>400.0</td></tr><tr><td>400.0</td></tr><tr><td>400.0</td></tr><tr><td>200.0</td></tr><tr><td>400.0</td></tr><tr><td>200.0</td></tr><tr><td>400.0</td></tr><tr><td>400.0</td></tr><tr><td>400.0</td></tr><tr><td>200.0</td></tr><tr><td>133.33333333333334</td></tr><tr><td>400.0</td></tr><tr><td>133.33333333333334</td></tr><tr><td>400.0</td></tr><tr><td>400.0</td></tr><tr><td>400.0</td></tr><tr><td>200.0</td></tr><tr><td>133.33333333333334</td></tr><tr><td>200.0</td></tr><tr><td>133.33333333333334</td></tr><tr><td>133.33333333333334</td></tr><tr><td>200.0</td></tr><tr><td>400.0</td></tr><tr><td>400.0</td></tr><tr><td>400.0</td></tr><tr><td>400.0</td></tr><tr><td>400.0</td></tr><tr><td>400.0</td></tr><tr><td>200.0</td></tr><tr><td>400.0</td></tr><tr><td>400.0</td></tr><tr><td>400.0</td></tr><tr><td>200.0</td></tr><tr><td>400.0</td></tr><tr><td>400.0</td></tr><tr><td>400.0</td></tr><tr><td>400.0</td></tr><tr><td>400.0</td></tr><tr><td>400.0</td></tr><tr><td>400.0</td></tr><tr><td>400.0</td></tr><tr><td>400.0</td></tr><tr><td>400.0</td></tr><tr><td>400.0</td></tr><tr><td>200.0</td></tr><tr><td>400.0</td></tr><tr><td>200.0</td></tr><tr><td>400.0</td></tr><tr><td>100.0</td></tr><tr><td>400.0</td></tr><tr><td>50.0</td></tr><tr><td>400.0</td></tr><tr><td>400.0</td></tr><tr><td>400.0</td></tr><tr><td>400.0</td></tr><tr><td>400.0</td></tr><tr><td>400.0</td></tr><tr><td>400.0</td></tr><tr><td>200.0</td></tr><tr><td>400.0</td></tr><tr><td>400.0</td></tr><tr><td>133.33333333333334</td></tr><tr><td>400.0</td></tr><tr><td>400.0</td></tr><tr><td>400.0</td></tr><tr><td>400.0</td></tr><tr><td>400.0</td></tr><tr><td>133.33333333333334</td></tr><tr><td>400.0</td></tr><tr><td>200.0</td></tr><tr><td>400.0</td></tr><tr><td>200.0</td></tr><tr><td>400.0</td></tr><tr><td>200.0</td></tr><tr><td>400.0</td></tr><tr><td>200.0</td></tr><tr><td>200.0</td></tr><tr><td>200.0</td></tr><tr><td>400.0</td></tr><tr><td>400.0</td></tr><tr><td>400.0</td></tr><tr><td>200.0</td></tr><tr><td>400.0</td></tr><tr><td>200.0</td></tr><tr><td>400.0</td></tr><tr><td>400.0</td></tr><tr><td>400.0</td></tr><tr><td>400.0</td></tr><tr><td>400.0</td></tr><tr><td>400.0</td></tr><tr><td>200.0</td></tr><tr><td>200.0</td></tr><tr><td>200.0</td></tr><tr><td>400.0</td></tr><tr><td>400.0</td></tr><tr><td>400.0</td></tr><tr><td>400.0</td></tr><tr><td>400.0</td></tr><tr><td>400.0</td></tr><tr><td>133.33333333333334</td></tr><tr><td>400.0</td></tr><tr><td>200.0</td></tr><tr><td>400.0</td></tr><tr><td>200.0</td></tr><tr><td>400.0</td></tr><tr><td>400.0</td></tr><tr><td>400.0</td></tr><tr><td>200.0</td></tr><tr><td>200.0</td></tr><tr><td>133.33333333333334</td></tr><tr><td>400.0</td></tr><tr><td>400.0</td></tr><tr><td>400.0</td></tr><tr><td>400.0</td></tr><tr><td>200.0</td></tr><tr><td>400.0</td></tr><tr><td>400.0</td></tr><tr><td>400.0</td></tr><tr><td>200.0</td></tr><tr><td>400.0</td></tr><tr><td>200.0</td></tr><tr><td>133.33333333333334</td></tr><tr><td>400.0</td></tr><tr><td>200.0</td></tr><tr><td>400.0</td></tr><tr><td>400.0</td></tr><tr><td>400.0</td></tr><tr><td>400.0</td></tr><tr><td>400.0</td></tr><tr><td>133.33333333333334</td></tr><tr><td>400.0</td></tr><tr><td>400.0</td></tr><tr><td>133.33333333333334</td></tr><tr><td>400.0</td></tr><tr><td>400.0</td></tr><tr><td>400.0</td></tr><tr><td>400.0</td></tr><tr><td>400.0</td></tr><tr><td>400.0</td></tr><tr><td>400.0</td></tr><tr><td>400.0</td></tr><tr><td>400.0</td></tr><tr><td>400.0</td></tr><tr><td>400.0</td></tr><tr><td>400.0</td></tr><tr><td>400.0</td></tr><tr><td>400.0</td></tr><tr><td>133.33333333333334</td></tr><tr><td>133.33333333333334</td></tr><tr><td>133.33333333333334</td></tr><tr><td>133.33333333333334</td></tr><tr><td>133.33333333333334</td></tr><tr><td>400.0</td></tr><tr><td>400.0</td></tr><tr><td>400.0</td></tr><tr><td>400.0</td></tr><tr><td>400.0</td></tr><tr><td>400.0</td></tr><tr><td>400.0</td></tr><tr><td>400.0</td></tr><tr><td>200.0</td></tr><tr><td>400.0</td></tr><tr><td>400.0</td></tr><tr><td>400.0</td></tr><tr><td>400.0</td></tr><tr><td>400.0</td></tr><tr><td>400.0</td></tr><tr><td>400.0</td></tr><tr><td>400.0</td></tr><tr><td>400.0</td></tr><tr><td>400.0</td></tr><tr><td>400.0</td></tr><tr><td>400.0</td></tr><tr><td>400.0</td></tr><tr><td>400.0</td></tr><tr><td>400.0</td></tr><tr><td>400.0</td></tr><tr><td>400.0</td></tr><tr><td>400.0</td></tr><tr><td>400.0</td></tr><tr><td>400.0</td></tr><tr><td>400.0</td></tr><tr><td>400.0</td></tr><tr><td>400.0</td></tr><tr><td>400.0</td></tr><tr><td>400.0</td></tr><tr><td>400.0</td></tr><tr><td>400.0</td></tr><tr><td>400.0</td></tr><tr><td>400.0</td></tr><tr><td>400.0</td></tr><tr><td>400.0</td></tr><tr><td>400.0</td></tr><tr><td>400.0</td></tr><tr><td>400.0</td></tr><tr><td>400.0</td></tr><tr><td>400.0</td></tr><tr><td>133.33333333333334</td></tr><tr><td>400.0</td></tr><tr><td>400.0</td></tr><tr><td>400.0</td></tr><tr><td>400.0</td></tr><tr><td>400.0</td></tr><tr><td>400.0</td></tr><tr><td>400.0</td></tr><tr><td>400.0</td></tr><tr><td>400.0</td></tr><tr><td>400.0</td></tr><tr><td>400.0</td></tr><tr><td>400.0</td></tr><tr><td>400.0</td></tr><tr><td>400.0</td></tr><tr><td>400.0</td></tr><tr><td>400.0</td></tr><tr><td>200.0</td></tr><tr><td>400.0</td></tr><tr><td>400.0</td></tr><tr><td>400.0</td></tr><tr><td>400.0</td></tr><tr><td>400.0</td></tr><tr><td>400.0</td></tr><tr><td>400.0</td></tr><tr><td>400.0</td></tr><tr><td>400.0</td></tr><tr><td>400.0</td></tr><tr><td>400.0</td></tr><tr><td>400.0</td></tr><tr><td>400.0</td></tr><tr><td>400.0</td></tr><tr><td>400.0</td></tr><tr><td>57.142857142857146</td></tr><tr><td>400.0</td></tr><tr><td>8.51063829787234</td></tr><tr><td>8.88888888888889</td></tr><tr><td>18.181818181818183</td></tr><tr><td>66.66666666666667</td></tr><tr><td>23.529411764705884</td></tr><tr><td>19.047619047619047</td></tr><tr><td>21.05263157894737</td></tr><tr><td>7.017543859649122</td></tr><tr><td>40.0</td></tr><tr><td>200.0</td></tr><tr><td>200.0</td></tr><tr><td>200.0</td></tr><tr><td>66.66666666666667</td></tr><tr><td>66.66666666666667</td></tr><tr><td>200.0</td></tr><tr><td>200.0</td></tr><tr><td>200.0</td></tr><tr><td>200.0</td></tr><tr><td>80.0</td></tr><tr><td>400.0</td></tr><tr><td>100.0</td></tr><tr><td>10.0</td></tr><tr><td>133.33333333333334</td></tr><tr><td>400.0</td></tr><tr><td>400.0</td></tr><tr><td>400.0</td></tr><tr><td>100.0</td></tr><tr><td>23.529411764705884</td></tr><tr><td>400.0</td></tr><tr><td>8.695652173913043</td></tr><tr><td>200.0</td></tr><tr><td>400.0</td></tr><tr><td>44.44444444444444</td></tr><tr><td>66.66666666666667</td></tr><tr><td>40.0</td></tr><tr><td>133.33333333333334</td></tr><tr><td>200.0</td></tr><tr><td>400.0</td></tr><tr><td>57.142857142857146</td></tr><tr><td>40.0</td></tr><tr><td>57.142857142857146</td></tr><tr><td>200.0</td></tr><tr><td>200.0</td></tr><tr><td>40.0</td></tr><tr><td>200.0</td></tr><tr><td>400.0</td></tr><tr><td>66.66666666666667</td></tr><tr><td>9.090909090909092</td></tr><tr><td>36.36363636363637</td></tr><tr><td>400.0</td></tr><tr><td>16.666666666666668</td></tr><tr><td>133.33333333333334</td></tr><tr><td>400.0</td></tr><tr><td>80.0</td></tr><tr><td>66.66666666666667</td></tr><tr><td>100.0</td></tr><tr><td>50.0</td></tr><tr><td>200.0</td></tr><tr><td>12.5</td></tr><tr><td>50.0</td></tr><tr><td>200.0</td></tr><tr><td>33.333333333333336</td></tr><tr><td>57.142857142857146</td></tr><tr><td>30.76923076923077</td></tr><tr><td>400.0</td></tr><tr><td>28.571428571428573</td></tr><tr><td>400.0</td></tr><tr><td>400.0</td></tr><tr><td>400.0</td></tr><tr><td>40.0</td></tr><tr><td>200.0</td></tr><tr><td>50.0</td></tr><tr><td>200.0</td></tr><tr><td>133.33333333333334</td></tr><tr><td>100.0</td></tr><tr><td>133.33333333333334</td></tr><tr><td>21.05263157894737</td></tr><tr><td>57.142857142857146</td></tr><tr><td>400.0</td></tr><tr><td>133.33333333333334</td></tr><tr><td>100.0</td></tr><tr><td>40.0</td></tr><tr><td>133.33333333333334</td></tr><tr><td>133.33333333333334</td></tr><tr><td>400.0</td></tr><tr><td>50.0</td></tr><tr><td>400.0</td></tr><tr><td>100.0</td></tr><tr><td>33.333333333333336</td></tr><tr><td>400.0</td></tr><tr><td>200.0</td></tr><tr><td>57.142857142857146</td></tr><tr><td>200.0</td></tr><tr><td>400.0</td></tr><tr><td>400.0</td></tr><tr><td>133.33333333333334</td></tr><tr><td>200.0</td></tr><tr><td>400.0</td></tr><tr><td>133.33333333333334</td></tr><tr><td>16.666666666666668</td></tr><tr><td>200.0</td></tr><tr><td>200.0</td></tr><tr><td>133.33333333333334</td></tr><tr><td>50.0</td></tr><tr><td>14.285714285714286</td></tr><tr><td>400.0</td></tr><tr><td>14.814814814814815</td></tr><tr><td>133.33333333333334</td></tr><tr><td>200.0</td></tr><tr><td>400.0</td></tr><tr><td>23.529411764705884</td></tr><tr><td>36.36363636363637</td></tr><tr><td>400.0</td></tr><tr><td>30.76923076923077</td></tr><tr><td>400.0</td></tr><tr><td>133.33333333333334</td></tr><tr><td>400.0</td></tr><tr><td>400.0</td></tr><tr><td>28.571428571428573</td></tr><tr><td>50.0</td></tr><tr><td>30.76923076923077</td></tr><tr><td>400.0</td></tr><tr><td>400.0</td></tr><tr><td>100.0</td></tr><tr><td>100.0</td></tr><tr><td>400.0</td></tr><tr><td>400.0</td></tr><tr><td>133.33333333333334</td></tr><tr><td>133.33333333333334</td></tr><tr><td>50.0</td></tr><tr><td>100.0</td></tr><tr><td>400.0</td></tr><tr><td>400.0</td></tr><tr><td>400.0</td></tr><tr><td>200.0</td></tr><tr><td>400.0</td></tr><tr><td>400.0</td></tr><tr><td>133.33333333333334</td></tr><tr><td>200.0</td></tr><tr><td>133.33333333333334</td></tr><tr><td>80.0</td></tr><tr><td>200.0</td></tr><tr><td>100.0</td></tr><tr><td>400.0</td></tr><tr><td>200.0</td></tr><tr><td>80.0</td></tr><tr><td>400.0</td></tr><tr><td>28.571428571428573</td></tr><tr><td>200.0</td></tr><tr><td>400.0</td></tr><tr><td>400.0</td></tr><tr><td>66.66666666666667</td></tr><tr><td>400.0</td></tr><tr><td>200.0</td></tr><tr><td>400.0</td></tr><tr><td>400.0</td></tr><tr><td>133.33333333333334</td></tr><tr><td>40.0</td></tr><tr><td>66.66666666666667</td></tr><tr><td>66.66666666666667</td></tr><tr><td>16.0</td></tr><tr><td>200.0</td></tr><tr><td>400.0</td></tr><tr><td>200.0</td></tr><tr><td>100.0</td></tr><tr><td>200.0</td></tr><tr><td>100.0</td></tr><tr><td>400.0</td></tr><tr><td>66.66666666666667</td></tr><tr><td>66.66666666666667</td></tr><tr><td>400.0</td></tr><tr><td>133.33333333333334</td></tr><tr><td>200.0</td></tr><tr><td>100.0</td></tr><tr><td>133.33333333333334</td></tr><tr><td>80.0</td></tr><tr><td>16.666666666666668</td></tr><tr><td>200.0</td></tr><tr><td>200.0</td></tr><tr><td>200.0</td></tr><tr><td>200.0</td></tr><tr><td>40.0</td></tr><tr><td>200.0</td></tr><tr><td>36.36363636363637</td></tr><tr><td>40.0</td></tr><tr><td>133.33333333333334</td></tr><tr><td>21.05263157894737</td></tr><tr><td>19.047619047619047</td></tr><tr><td>200.0</td></tr><tr><td>200.0</td></tr><tr><td>100.0</td></tr><tr><td>133.33333333333334</td></tr><tr><td>36.36363636363637</td></tr><tr><td>200.0</td></tr><tr><td>200.0</td></tr><tr><td>200.0</td></tr><tr><td>200.0</td></tr><tr><td>400.0</td></tr><tr><td>133.33333333333334</td></tr><tr><td>44.44444444444444</td></tr><tr><td>133.33333333333334</td></tr><tr><td>200.0</td></tr><tr><td>57.142857142857146</td></tr><tr><td>133.33333333333334</td></tr><tr><td>133.33333333333334</td></tr><tr><td>133.33333333333334</td></tr><tr><td>57.142857142857146</td></tr><tr><td>200.0</td></tr><tr><td>400.0</td></tr><tr><td>133.33333333333334</td></tr><tr><td>100.0</td></tr><tr><td>40.0</td></tr><tr><td>66.66666666666667</td></tr><tr><td>400.0</td></tr><tr><td>100.0</td></tr><tr><td>200.0</td></tr><tr><td>100.0</td></tr><tr><td>133.33333333333334</td></tr><tr><td>133.33333333333334</td></tr><tr><td>400.0</td></tr><tr><td>400.0</td></tr><tr><td>400.0</td></tr><tr><td>400.0</td></tr><tr><td>133.33333333333334</td></tr><tr><td>200.0</td></tr><tr><td>400.0</td></tr><tr><td>400.0</td></tr><tr><td>400.0</td></tr><tr><td>400.0</td></tr><tr><td>100.0</td></tr><tr><td>133.33333333333334</td></tr><tr><td>200.0</td></tr><tr><td>100.0</td></tr><tr><td>26.666666666666668</td></tr><tr><td>400.0</td></tr><tr><td>57.142857142857146</td></tr><tr><td>400.0</td></tr><tr><td>133.33333333333334</td></tr><tr><td>100.0</td></tr><tr><td>200.0</td></tr><tr><td>400.0</td></tr><tr><td>400.0</td></tr><tr><td>133.33333333333334</td></tr><tr><td>400.0</td></tr><tr><td>400.0</td></tr><tr><td>400.0</td></tr><tr><td>133.33333333333334</td></tr><tr><td>200.0</td></tr><tr><td>100.0</td></tr><tr><td>66.66666666666667</td></tr><tr><td>133.33333333333334</td></tr><tr><td>133.33333333333334</td></tr><tr><td>400.0</td></tr><tr><td>400.0</td></tr><tr><td>200.0</td></tr><tr><td>133.33333333333334</td></tr><tr><td>66.66666666666667</td></tr><tr><td>57.142857142857146</td></tr><tr><td>200.0</td></tr><tr><td>133.33333333333334</td></tr><tr><td>400.0</td></tr><tr><td>400.0</td></tr><tr><td>400.0</td></tr><tr><td>400.0</td></tr><tr><td>400.0</td></tr><tr><td>133.33333333333334</td></tr><tr><td>400.0</td></tr><tr><td>400.0</td></tr><tr><td>400.0</td></tr><tr><td>200.0</td></tr><tr><td>400.0</td></tr><tr><td>400.0</td></tr><tr><td>400.0</td></tr><tr><td>400.0</td></tr><tr><td>200.0</td></tr><tr><td>400.0</td></tr><tr><td>200.0</td></tr><tr><td>400.0</td></tr><tr><td>400.0</td></tr><tr><td>200.0</td></tr><tr><td>400.0</td></tr><tr><td>400.0</td></tr><tr><td>80.0</td></tr><tr><td>400.0</td></tr><tr><td>80.0</td></tr><tr><td>200.0</td></tr><tr><td>400.0</td></tr><tr><td>400.0</td></tr><tr><td>66.66666666666667</td></tr><tr><td>400.0</td></tr><tr><td>400.0</td></tr><tr><td>400.0</td></tr><tr><td>200.0</td></tr><tr><td>400.0</td></tr><tr><td>80.0</td></tr><tr><td>200.0</td></tr><tr><td>400.0</td></tr><tr><td>400.0</td></tr><tr><td>100.0</td></tr><tr><td>200.0</td></tr><tr><td>400.0</td></tr><tr><td>400.0</td></tr><tr><td>133.33333333333334</td></tr><tr><td>133.33333333333334</td></tr><tr><td>200.0</td></tr><tr><td>133.33333333333334</td></tr><tr><td>133.33333333333334</td></tr><tr><td>400.0</td></tr><tr><td>400.0</td></tr><tr><td>400.0</td></tr><tr><td>400.0</td></tr><tr><td>100.0</td></tr><tr><td>100.0</td></tr><tr><td>400.0</td></tr><tr><td>200.0</td></tr><tr><td>200.0</td></tr><tr><td>400.0</td></tr><tr><td>400.0</td></tr><tr><td>200.0</td></tr><tr><td>400.0</td></tr><tr><td>400.0</td></tr><tr><td>400.0</td></tr><tr><td>400.0</td></tr><tr><td>200.0</td></tr><tr><td>200.0</td></tr><tr><td>400.0</td></tr><tr><td>400.0</td></tr><tr><td>400.0</td></tr><tr><td>80.0</td></tr><tr><td>200.0</td></tr><tr><td>400.0</td></tr><tr><td>400.0</td></tr><tr><td>100.0</td></tr><tr><td>400.0</td></tr><tr><td>400.0</td></tr><tr><td>400.0</td></tr><tr><td>200.0</td></tr><tr><td>400.0</td></tr><tr><td>100.0</td></tr><tr><td>200.0</td></tr><tr><td>400.0</td></tr><tr><td>400.0</td></tr><tr><td>200.0</td></tr><tr><td>400.0</td></tr><tr><td>133.33333333333334</td></tr><tr><td>200.0</td></tr><tr><td>400.0</td></tr><tr><td>400.0</td></tr><tr><td>400.0</td></tr><tr><td>200.0</td></tr><tr><td>400.0</td></tr><tr><td>133.33333333333334</td></tr><tr><td>133.33333333333334</td></tr><tr><td>400.0</td></tr><tr><td>400.0</td></tr><tr><td>200.0</td></tr><tr><td>200.0</td></tr><tr><td>100.0</td></tr><tr><td>200.0</td></tr><tr><td>200.0</td></tr><tr><td>200.0</td></tr><tr><td>400.0</td></tr><tr><td>400.0</td></tr><tr><td>400.0</td></tr><tr><td>400.0</td></tr><tr><td>400.0</td></tr><tr><td>400.0</td></tr><tr><td>400.0</td></tr><tr><td>400.0</td></tr><tr><td>200.0</td></tr><tr><td>400.0</td></tr><tr><td>400.0</td></tr><tr><td>200.0</td></tr><tr><td>400.0</td></tr><tr><td>200.0</td></tr><tr><td>400.0</td></tr><tr><td>400.0</td></tr><tr><td>400.0</td></tr><tr><td>400.0</td></tr><tr><td>400.0</td></tr><tr><td>400.0</td></tr><tr><td>400.0</td></tr><tr><td>400.0</td></tr><tr><td>200.0</td></tr><tr><td>200.0</td></tr><tr><td>200.0</td></tr><tr><td>400.0</td></tr><tr><td>200.0</td></tr><tr><td>200.0</td></tr><tr><td>133.33333333333334</td></tr><tr><td>100.0</td></tr><tr><td>200.0</td></tr><tr><td>400.0</td></tr><tr><td>200.0</td></tr><tr><td>400.0</td></tr><tr><td>400.0</td></tr><tr><td>200.0</td></tr><tr><td>133.33333333333334</td></tr><tr><td>400.0</td></tr><tr><td>100.0</td></tr><tr><td>400.0</td></tr><tr><td>400.0</td></tr><tr><td>200.0</td></tr><tr><td>80.0</td></tr><tr><td>400.0</td></tr><tr><td>200.0</td></tr><tr><td>200.0</td></tr><tr><td>200.0</td></tr><tr><td>100.0</td></tr><tr><td>400.0</td></tr><tr><td>100.0</td></tr><tr><td>100.0</td></tr><tr><td>400.0</td></tr><tr><td>400.0</td></tr><tr><td>133.33333333333334</td></tr><tr><td>400.0</td></tr><tr><td>80.0</td></tr><tr><td>200.0</td></tr><tr><td>400.0</td></tr><tr><td>133.33333333333334</td></tr><tr><td>400.0</td></tr><tr><td>200.0</td></tr><tr><td>200.0</td></tr><tr><td>100.0</td></tr><tr><td>133.33333333333334</td></tr><tr><td>200.0</td></tr><tr><td>400.0</td></tr><tr><td>400.0</td></tr><tr><td>133.33333333333334</td></tr><tr><td>200.0</td></tr><tr><td>400.0</td></tr><tr><td>400.0</td></tr><tr><td>400.0</td></tr><tr><td>400.0</td></tr><tr><td>400.0</td></tr><tr><td>400.0</td></tr><tr><td>400.0</td></tr><tr><td>200.0</td></tr><tr><td>200.0</td></tr><tr><td>200.0</td></tr><tr><td>400.0</td></tr><tr><td>400.0</td></tr><tr><td>66.66666666666667</td></tr><tr><td>400.0</td></tr><tr><td>400.0</td></tr><tr><td>400.0</td></tr><tr><td>400.0</td></tr><tr><td>400.0</td></tr><tr><td>400.0</td></tr><tr><td>400.0</td></tr><tr><td>400.0</td></tr><tr><td>400.0</td></tr><tr><td>400.0</td></tr><tr><td>400.0</td></tr><tr><td>400.0</td></tr><tr><td>400.0</td></tr><tr><td>400.0</td></tr><tr><td>400.0</td></tr><tr><td>400.0</td></tr><tr><td>400.0</td></tr><tr><td>400.0</td></tr><tr><td>400.0</td></tr><tr><td>133.33333333333334</td></tr><tr><td>200.0</td></tr><tr><td>200.0</td></tr><tr><td>400.0</td></tr><tr><td>400.0</td></tr><tr><td>200.0</td></tr><tr><td>400.0</td></tr><tr><td>400.0</td></tr><tr><td>400.0</td></tr><tr><td>400.0</td></tr><tr><td>400.0</td></tr><tr><td>133.33333333333334</td></tr><tr><td>400.0</td></tr><tr><td>400.0</td></tr><tr><td>200.0</td></tr><tr><td>200.0</td></tr><tr><td>200.0</td></tr><tr><td>400.0</td></tr><tr><td>133.33333333333334</td></tr><tr><td>400.0</td></tr><tr><td>400.0</td></tr><tr><td>200.0</td></tr><tr><td>200.0</td></tr><tr><td>400.0</td></tr><tr><td>400.0</td></tr><tr><td>200.0</td></tr><tr><td>400.0</td></tr><tr><td>400.0</td></tr><tr><td>200.0</td></tr><tr><td>400.0</td></tr><tr><td>200.0</td></tr><tr><td>200.0</td></tr><tr><td>400.0</td></tr><tr><td>200.0</td></tr><tr><td>400.0</td></tr><tr><td>400.0</td></tr><tr><td>400.0</td></tr><tr><td>400.0</td></tr><tr><td>400.0</td></tr><tr><td>400.0</td></tr><tr><td>200.0</td></tr><tr><td>400.0</td></tr><tr><td>200.0</td></tr><tr><td>400.0</td></tr><tr><td>200.0</td></tr><tr><td>400.0</td></tr><tr><td>400.0</td></tr><tr><td>400.0</td></tr><tr><td>400.0</td></tr><tr><td>400.0</td></tr><tr><td>400.0</td></tr><tr><td>400.0</td></tr><tr><td>400.0</td></tr><tr><td>400.0</td></tr><tr><td>400.0</td></tr><tr><td>400.0</td></tr><tr><td>400.0</td></tr><tr><td>400.0</td></tr><tr><td>400.0</td></tr><tr><td>400.0</td></tr><tr><td>200.0</td></tr><tr><td>200.0</td></tr><tr><td>400.0</td></tr><tr><td>400.0</td></tr><tr><td>400.0</td></tr><tr><td>400.0</td></tr><tr><td>400.0</td></tr><tr><td>400.0</td></tr><tr><td>400.0</td></tr><tr><td>400.0</td></tr><tr><td>400.0</td></tr><tr><td>400.0</td></tr><tr><td>400.0</td></tr><tr><td>400.0</td></tr><tr><td>400.0</td></tr><tr><td>400.0</td></tr><tr><td>400.0</td></tr><tr><td>400.0</td></tr><tr><td>400.0</td></tr><tr><td>400.0</td></tr><tr><td>400.0</td></tr><tr><td>200.0</td></tr><tr><td>400.0</td></tr><tr><td>133.33333333333334</td></tr><tr><td>400.0</td></tr><tr><td>400.0</td></tr><tr><td>200.0</td></tr><tr><td>400.0</td></tr><tr><td>400.0</td></tr><tr><td>400.0</td></tr><tr><td>400.0</td></tr><tr><td>100.0</td></tr><tr><td>133.33333333333334</td></tr><tr><td>400.0</td></tr><tr><td>400.0</td></tr><tr><td>400.0</td></tr><tr><td>400.0</td></tr><tr><td>400.0</td></tr><tr><td>400.0</td></tr><tr><td>400.0</td></tr><tr><td>400.0</td></tr><tr><td>400.0</td></tr><tr><td>400.0</td></tr><tr><td>400.0</td></tr><tr><td>400.0</td></tr><tr><td>400.0</td></tr><tr><td>400.0</td></tr><tr><td>400.0</td></tr><tr><td>400.0</td></tr><tr><td>400.0</td></tr><tr><td>400.0</td></tr><tr><td>400.0</td></tr><tr><td>400.0</td></tr><tr><td>400.0</td></tr><tr><td>200.0</td></tr><tr><td>400.0</td></tr><tr><td>400.0</td></tr><tr><td>400.0</td></tr><tr><td>400.0</td></tr><tr><td>400.0</td></tr><tr><td>400.0</td></tr><tr><td>400.0</td></tr><tr><td>400.0</td></tr><tr><td>400.0</td></tr><tr><td>400.0</td></tr><tr><td>400.0</td></tr><tr><td>400.0</td></tr><tr><td>400.0</td></tr><tr><td>400.0</td></tr><tr><td>400.0</td></tr><tr><td>400.0</td></tr><tr><td>400.0</td></tr><tr><td>400.0</td></tr><tr><td>400.0</td></tr><tr><td>400.0</td></tr><tr><td>400.0</td></tr><tr><td>400.0</td></tr><tr><td>400.0</td></tr><tr><td>400.0</td></tr><tr><td>400.0</td></tr><tr><td>400.0</td></tr><tr><td>400.0</td></tr><tr><td>400.0</td></tr><tr><td>400.0</td></tr><tr><td>400.0</td></tr><tr><td>400.0</td></tr><tr><td>400.0</td></tr><tr><td>400.0</td></tr><tr><td>400.0</td></tr><tr><td>400.0</td></tr><tr><td>400.0</td></tr><tr><td>400.0</td></tr><tr><td>400.0</td></tr><tr><td>400.0</td></tr><tr><td>400.0</td></tr><tr><td>400.0</td></tr><tr><td>400.0</td></tr><tr><td>400.0</td></tr><tr><td>400.0</td></tr><tr><td>400.0</td></tr><tr><td>400.0</td></tr><tr><td>400.0</td></tr><tr><td>400.0</td></tr><tr><td>400.0</td></tr><tr><td>400.0</td></tr><tr><td>400.0</td></tr><tr><td>400.0</td></tr><tr><td>400.0</td></tr><tr><td>400.0</td></tr><tr><td>200.0</td></tr><tr><td>33.333333333333336</td></tr><tr><td>50.0</td></tr><tr><td>50.0</td></tr><tr><td>400.0</td></tr><tr><td>400.0</td></tr><tr><td>66.66666666666667</td></tr><tr><td>44.44444444444444</td></tr><tr><td>10.81081081081081</td></tr><tr><td>80.0</td></tr><tr><td>30.76923076923077</td></tr><tr><td>200.0</td></tr><tr><td>25.0</td></tr><tr><td>200.0</td></tr><tr><td>400.0</td></tr><tr><td>36.36363636363637</td></tr><tr><td>12.5</td></tr><tr><td>200.0</td></tr><tr><td>40.0</td></tr><tr><td>57.142857142857146</td></tr><tr><td>40.0</td></tr><tr><td>100.0</td></tr><tr><td>11.764705882352942</td></tr><tr><td>400.0</td></tr><tr><td>28.571428571428573</td></tr><tr><td>12.903225806451612</td></tr><tr><td>200.0</td></tr><tr><td>400.0</td></tr><tr><td>11.764705882352942</td></tr><tr><td>50.0</td></tr><tr><td>22.22222222222222</td></tr><tr><td>400.0</td></tr><tr><td>400.0</td></tr><tr><td>400.0</td></tr><tr><td>400.0</td></tr><tr><td>80.0</td></tr><tr><td>50.0</td></tr><tr><td>15.384615384615385</td></tr><tr><td>133.33333333333334</td></tr><tr><td>36.36363636363637</td></tr><tr><td>57.142857142857146</td></tr><tr><td>400.0</td></tr><tr><td>50.0</td></tr><tr><td>30.76923076923077</td></tr><tr><td>400.0</td></tr><tr><td>23.529411764705884</td></tr><tr><td>200.0</td></tr><tr><td>25.0</td></tr><tr><td>200.0</td></tr><tr><td>200.0</td></tr><tr><td>400.0</td></tr><tr><td>400.0</td></tr><tr><td>400.0</td></tr><tr><td>400.0</td></tr><tr><td>400.0</td></tr><tr><td>400.0</td></tr><tr><td>16.0</td></tr><tr><td>200.0</td></tr><tr><td>400.0</td></tr><tr><td>80.0</td></tr><tr><td>40.0</td></tr><tr><td>100.0</td></tr><tr><td>26.666666666666668</td></tr><tr><td>200.0</td></tr><tr><td>200.0</td></tr><tr><td>133.33333333333334</td></tr><tr><td>200.0</td></tr><tr><td>400.0</td></tr><tr><td>200.0</td></tr><tr><td>23.529411764705884</td></tr><tr><td>25.0</td></tr><tr><td>57.142857142857146</td></tr><tr><td>200.0</td></tr><tr><td>200.0</td></tr><tr><td>200.0</td></tr><tr><td>133.33333333333334</td></tr><tr><td>100.0</td></tr><tr><td>80.0</td></tr><tr><td>50.0</td></tr><tr><td>80.0</td></tr><tr><td>80.0</td></tr><tr><td>25.0</td></tr><tr><td>44.44444444444444</td></tr><tr><td>200.0</td></tr><tr><td>100.0</td></tr><tr><td>200.0</td></tr><tr><td>400.0</td></tr><tr><td>80.0</td></tr><tr><td>33.333333333333336</td></tr><tr><td>66.66666666666667</td></tr><tr><td>80.0</td></tr><tr><td>400.0</td></tr><tr><td>100.0</td></tr><tr><td>200.0</td></tr><tr><td>44.44444444444444</td></tr><tr><td>200.0</td></tr><tr><td>400.0</td></tr><tr><td>80.0</td></tr><tr><td>80.0</td></tr><tr><td>400.0</td></tr><tr><td>400.0</td></tr><tr><td>100.0</td></tr><tr><td>400.0</td></tr><tr><td>40.0</td></tr><tr><td>400.0</td></tr><tr><td>400.0</td></tr><tr><td>33.333333333333336</td></tr><tr><td>20.0</td></tr><tr><td>66.66666666666667</td></tr><tr><td>133.33333333333334</td></tr><tr><td>100.0</td></tr><tr><td>33.333333333333336</td></tr><tr><td>400.0</td></tr><tr><td>200.0</td></tr><tr><td>200.0</td></tr><tr><td>400.0</td></tr><tr><td>66.66666666666667</td></tr><tr><td>66.66666666666667</td></tr><tr><td>57.142857142857146</td></tr><tr><td>100.0</td></tr><tr><td>100.0</td></tr><tr><td>400.0</td></tr><tr><td>400.0</td></tr><tr><td>400.0</td></tr><tr><td>33.333333333333336</td></tr><tr><td>80.0</td></tr><tr><td>400.0</td></tr><tr><td>66.66666666666667</td></tr><tr><td>400.0</td></tr><tr><td>100.0</td></tr><tr><td>100.0</td></tr><tr><td>36.36363636363637</td></tr><tr><td>133.33333333333334</td></tr><tr><td>400.0</td></tr><tr><td>200.0</td></tr><tr><td>400.0</td></tr><tr><td>100.0</td></tr><tr><td>13.793103448275861</td></tr><tr><td>400.0</td></tr><tr><td>400.0</td></tr><tr><td>25.0</td></tr><tr><td>400.0</td></tr><tr><td>200.0</td></tr><tr><td>100.0</td></tr><tr><td>80.0</td></tr><tr><td>400.0</td></tr><tr><td>200.0</td></tr><tr><td>400.0</td></tr><tr><td>400.0</td></tr><tr><td>400.0</td></tr><tr><td>400.0</td></tr><tr><td>200.0</td></tr><tr><td>200.0</td></tr><tr><td>200.0</td></tr><tr><td>57.142857142857146</td></tr><tr><td>200.0</td></tr><tr><td>80.0</td></tr><tr><td>200.0</td></tr><tr><td>66.66666666666667</td></tr><tr><td>57.142857142857146</td></tr><tr><td>26.666666666666668</td></tr><tr><td>200.0</td></tr><tr><td>400.0</td></tr><tr><td>133.33333333333334</td></tr><tr><td>26.666666666666668</td></tr><tr><td>40.0</td></tr><tr><td>400.0</td></tr><tr><td>400.0</td></tr><tr><td>400.0</td></tr><tr><td>40.0</td></tr><tr><td>400.0</td></tr><tr><td>400.0</td></tr><tr><td>400.0</td></tr><tr><td>33.333333333333336</td></tr><tr><td>400.0</td></tr><tr><td>200.0</td></tr><tr><td>133.33333333333334</td></tr><tr><td>400.0</td></tr><tr><td>133.33333333333334</td></tr><tr><td>200.0</td></tr><tr><td>100.0</td></tr><tr><td>57.142857142857146</td></tr><tr><td>400.0</td></tr><tr><td>200.0</td></tr><tr><td>200.0</td></tr><tr><td>133.33333333333334</td></tr><tr><td>200.0</td></tr><tr><td>30.76923076923077</td></tr><tr><td>200.0</td></tr><tr><td>50.0</td></tr><tr><td>100.0</td></tr><tr><td>100.0</td></tr><tr><td>200.0</td></tr><tr><td>400.0</td></tr><tr><td>57.142857142857146</td></tr><tr><td>66.66666666666667</td></tr><tr><td>200.0</td></tr><tr><td>50.0</td></tr><tr><td>200.0</td></tr><tr><td>80.0</td></tr><tr><td>200.0</td></tr><tr><td>400.0</td></tr><tr><td>133.33333333333334</td></tr><tr><td>400.0</td></tr><tr><td>80.0</td></tr><tr><td>80.0</td></tr><tr><td>400.0</td></tr><tr><td>200.0</td></tr><tr><td>133.33333333333334</td></tr><tr><td>400.0</td></tr><tr><td>400.0</td></tr><tr><td>200.0</td></tr><tr><td>200.0</td></tr><tr><td>133.33333333333334</td></tr><tr><td>200.0</td></tr><tr><td>400.0</td></tr><tr><td>400.0</td></tr><tr><td>400.0</td></tr><tr><td>200.0</td></tr><tr><td>400.0</td></tr><tr><td>133.33333333333334</td></tr><tr><td>50.0</td></tr><tr><td>200.0</td></tr><tr><td>66.66666666666667</td></tr><tr><td>200.0</td></tr><tr><td>400.0</td></tr><tr><td>200.0</td></tr><tr><td>400.0</td></tr><tr><td>133.33333333333334</td></tr><tr><td>400.0</td></tr><tr><td>400.0</td></tr><tr><td>200.0</td></tr><tr><td>100.0</td></tr><tr><td>133.33333333333334</td></tr><tr><td>200.0</td></tr><tr><td>200.0</td></tr><tr><td>200.0</td></tr><tr><td>400.0</td></tr><tr><td>200.0</td></tr><tr><td>200.0</td></tr><tr><td>400.0</td></tr><tr><td>100.0</td></tr><tr><td>100.0</td></tr><tr><td>400.0</td></tr><tr><td>400.0</td></tr><tr><td>133.33333333333334</td></tr><tr><td>66.66666666666667</td></tr><tr><td>400.0</td></tr><tr><td>100.0</td></tr><tr><td>200.0</td></tr><tr><td>400.0</td></tr><tr><td>400.0</td></tr><tr><td>66.66666666666667</td></tr><tr><td>200.0</td></tr><tr><td>400.0</td></tr><tr><td>200.0</td></tr><tr><td>200.0</td></tr><tr><td>133.33333333333334</td></tr><tr><td>400.0</td></tr><tr><td>50.0</td></tr><tr><td>133.33333333333334</td></tr><tr><td>200.0</td></tr><tr><td>200.0</td></tr><tr><td>400.0</td></tr><tr><td>200.0</td></tr><tr><td>200.0</td></tr><tr><td>400.0</td></tr><tr><td>400.0</td></tr><tr><td>400.0</td></tr><tr><td>100.0</td></tr><tr><td>400.0</td></tr><tr><td>400.0</td></tr><tr><td>400.0</td></tr><tr><td>200.0</td></tr><tr><td>400.0</td></tr><tr><td>400.0</td></tr><tr><td>400.0</td></tr><tr><td>133.33333333333334</td></tr><tr><td>100.0</td></tr><tr><td>400.0</td></tr><tr><td>44.44444444444444</td></tr><tr><td>400.0</td></tr><tr><td>80.0</td></tr><tr><td>400.0</td></tr><tr><td>400.0</td></tr><tr><td>200.0</td></tr><tr><td>400.0</td></tr><tr><td>200.0</td></tr><tr><td>400.0</td></tr><tr><td>400.0</td></tr><tr><td>133.33333333333334</td></tr><tr><td>400.0</td></tr><tr><td>400.0</td></tr><tr><td>200.0</td></tr><tr><td>400.0</td></tr><tr><td>400.0</td></tr><tr><td>400.0</td></tr><tr><td>400.0</td></tr><tr><td>400.0</td></tr><tr><td>100.0</td></tr><tr><td>400.0</td></tr><tr><td>400.0</td></tr><tr><td>133.33333333333334</td></tr><tr><td>100.0</td></tr><tr><td>100.0</td></tr><tr><td>400.0</td></tr><tr><td>100.0</td></tr><tr><td>100.0</td></tr><tr><td>66.66666666666667</td></tr><tr><td>200.0</td></tr><tr><td>200.0</td></tr><tr><td>200.0</td></tr><tr><td>400.0</td></tr><tr><td>400.0</td></tr><tr><td>400.0</td></tr><tr><td>200.0</td></tr><tr><td>400.0</td></tr><tr><td>400.0</td></tr><tr><td>200.0</td></tr><tr><td>100.0</td></tr><tr><td>200.0</td></tr><tr><td>400.0</td></tr><tr><td>200.0</td></tr><tr><td>200.0</td></tr><tr><td>200.0</td></tr><tr><td>200.0</td></tr><tr><td>400.0</td></tr><tr><td>200.0</td></tr><tr><td>400.0</td></tr><tr><td>400.0</td></tr><tr><td>200.0</td></tr><tr><td>200.0</td></tr><tr><td>200.0</td></tr><tr><td>200.0</td></tr><tr><td>200.0</td></tr><tr><td>400.0</td></tr><tr><td>400.0</td></tr><tr><td>400.0</td></tr><tr><td>200.0</td></tr><tr><td>80.0</td></tr><tr><td>200.0</td></tr><tr><td>400.0</td></tr><tr><td>400.0</td></tr><tr><td>200.0</td></tr><tr><td>400.0</td></tr><tr><td>400.0</td></tr><tr><td>400.0</td></tr><tr><td>400.0</td></tr><tr><td>400.0</td></tr><tr><td>80.0</td></tr><tr><td>400.0</td></tr><tr><td>400.0</td></tr><tr><td>400.0</td></tr><tr><td>400.0</td></tr><tr><td>400.0</td></tr><tr><td>133.33333333333334</td></tr><tr><td>400.0</td></tr><tr><td>200.0</td></tr><tr><td>400.0</td></tr><tr><td>400.0</td></tr><tr><td>400.0</td></tr><tr><td>400.0</td></tr><tr><td>400.0</td></tr><tr><td>133.33333333333334</td></tr><tr><td>100.0</td></tr><tr><td>100.0</td></tr><tr><td>200.0</td></tr><tr><td>200.0</td></tr><tr><td>400.0</td></tr><tr><td>400.0</td></tr><tr><td>400.0</td></tr><tr><td>400.0</td></tr><tr><td>400.0</td></tr><tr><td>200.0</td></tr><tr><td>400.0</td></tr><tr><td>400.0</td></tr><tr><td>57.142857142857146</td></tr><tr><td>400.0</td></tr><tr><td>400.0</td></tr><tr><td>400.0</td></tr><tr><td>400.0</td></tr><tr><td>400.0</td></tr><tr><td>200.0</td></tr><tr><td>400.0</td></tr><tr><td>400.0</td></tr><tr><td>400.0</td></tr><tr><td>400.0</td></tr><tr><td>400.0</td></tr><tr><td>400.0</td></tr><tr><td>400.0</td></tr><tr><td>200.0</td></tr><tr><td>400.0</td></tr><tr><td>400.0</td></tr><tr><td>400.0</td></tr><tr><td>200.0</td></tr><tr><td>133.33333333333334</td></tr><tr><td>400.0</td></tr><tr><td>400.0</td></tr><tr><td>400.0</td></tr><tr><td>200.0</td></tr><tr><td>400.0</td></tr><tr><td>133.33333333333334</td></tr><tr><td>400.0</td></tr><tr><td>400.0</td></tr><tr><td>80.0</td></tr><tr><td>400.0</td></tr><tr><td>200.0</td></tr><tr><td>100.0</td></tr><tr><td>200.0</td></tr><tr><td>80.0</td></tr><tr><td>200.0</td></tr><tr><td>400.0</td></tr><tr><td>400.0</td></tr><tr><td>400.0</td></tr><tr><td>400.0</td></tr><tr><td>400.0</td></tr><tr><td>200.0</td></tr><tr><td>400.0</td></tr><tr><td>400.0</td></tr><tr><td>400.0</td></tr><tr><td>200.0</td></tr><tr><td>400.0</td></tr><tr><td>400.0</td></tr><tr><td>400.0</td></tr><tr><td>80.0</td></tr><tr><td>400.0</td></tr><tr><td>400.0</td></tr><tr><td>400.0</td></tr><tr><td>400.0</td></tr><tr><td>400.0</td></tr><tr><td>200.0</td></tr><tr><td>400.0</td></tr><tr><td>400.0</td></tr><tr><td>400.0</td></tr><tr><td>400.0</td></tr><tr><td>400.0</td></tr><tr><td>400.0</td></tr><tr><td>133.33333333333334</td></tr><tr><td>400.0</td></tr><tr><td>133.33333333333334</td></tr><tr><td>400.0</td></tr><tr><td>133.33333333333334</td></tr><tr><td>200.0</td></tr><tr><td>400.0</td></tr><tr><td>133.33333333333334</td></tr><tr><td>200.0</td></tr><tr><td>400.0</td></tr><tr><td>133.33333333333334</td></tr><tr><td>200.0</td></tr><tr><td>400.0</td></tr><tr><td>200.0</td></tr><tr><td>400.0</td></tr><tr><td>400.0</td></tr><tr><td>400.0</td></tr><tr><td>200.0</td></tr><tr><td>400.0</td></tr><tr><td>400.0</td></tr><tr><td>400.0</td></tr><tr><td>200.0</td></tr><tr><td>400.0</td></tr><tr><td>400.0</td></tr><tr><td>400.0</td></tr><tr><td>400.0</td></tr><tr><td>400.0</td></tr><tr><td>400.0</td></tr><tr><td>400.0</td></tr><tr><td>400.0</td></tr><tr><td>200.0</td></tr><tr><td>400.0</td></tr><tr><td>200.0</td></tr><tr><td>200.0</td></tr><tr><td>400.0</td></tr><tr><td>400.0</td></tr><tr><td>400.0</td></tr><tr><td>200.0</td></tr><tr><td>400.0</td></tr><tr><td>400.0</td></tr><tr><td>400.0</td></tr><tr><td>200.0</td></tr><tr><td>400.0</td></tr><tr><td>400.0</td></tr><tr><td>400.0</td></tr><tr><td>400.0</td></tr><tr><td>400.0</td></tr><tr><td>400.0</td></tr><tr><td>400.0</td></tr><tr><td>200.0</td></tr><tr><td>400.0</td></tr><tr><td>133.33333333333334</td></tr><tr><td>400.0</td></tr><tr><td>400.0</td></tr><tr><td>400.0</td></tr><tr><td>80.0</td></tr><tr><td>400.0</td></tr><tr><td>400.0</td></tr><tr><td>400.0</td></tr><tr><td>400.0</td></tr><tr><td>200.0</td></tr><tr><td>400.0</td></tr><tr><td>400.0</td></tr><tr><td>400.0</td></tr><tr><td>200.0</td></tr><tr><td>400.0</td></tr><tr><td>400.0</td></tr><tr><td>400.0</td></tr><tr><td>400.0</td></tr><tr><td>200.0</td></tr><tr><td>400.0</td></tr><tr><td>400.0</td></tr><tr><td>133.33333333333334</td></tr><tr><td>400.0</td></tr><tr><td>400.0</td></tr><tr><td>400.0</td></tr><tr><td>400.0</td></tr><tr><td>400.0</td></tr><tr><td>133.33333333333334</td></tr><tr><td>400.0</td></tr><tr><td>400.0</td></tr><tr><td>400.0</td></tr><tr><td>400.0</td></tr><tr><td>400.0</td></tr><tr><td>400.0</td></tr><tr><td>400.0</td></tr><tr><td>200.0</td></tr><tr><td>400.0</td></tr><tr><td>400.0</td></tr><tr><td>400.0</td></tr><tr><td>400.0</td></tr><tr><td>400.0</td></tr><tr><td>400.0</td></tr><tr><td>400.0</td></tr><tr><td>400.0</td></tr><tr><td>400.0</td></tr><tr><td>400.0</td></tr><tr><td>400.0</td></tr><tr><td>400.0</td></tr><tr><td>400.0</td></tr><tr><td>400.0</td></tr><tr><td>400.0</td></tr><tr><td>400.0</td></tr><tr><td>400.0</td></tr><tr><td>400.0</td></tr><tr><td>400.0</td></tr><tr><td>400.0</td></tr><tr><td>400.0</td></tr><tr><td>400.0</td></tr><tr><td>400.0</td></tr><tr><td>200.0</td></tr><tr><td>400.0</td></tr><tr><td>400.0</td></tr><tr><td>400.0</td></tr><tr><td>400.0</td></tr><tr><td>400.0</td></tr><tr><td>400.0</td></tr><tr><td>400.0</td></tr><tr><td>400.0</td></tr><tr><td>400.0</td></tr><tr><td>400.0</td></tr><tr><td>400.0</td></tr><tr><td>400.0</td></tr><tr><td>400.0</td></tr><tr><td>400.0</td></tr><tr><td>400.0</td></tr><tr><td>400.0</td></tr><tr><td>400.0</td></tr><tr><td>400.0</td></tr><tr><td>400.0</td></tr><tr><td>400.0</td></tr><tr><td>400.0</td></tr><tr><td>400.0</td></tr><tr><td>400.0</td></tr><tr><td>400.0</td></tr><tr><td>400.0</td></tr><tr><td>400.0</td></tr><tr><td>400.0</td></tr><tr><td>400.0</td></tr><tr><td>400.0</td></tr><tr><td>400.0</td></tr><tr><td>400.0</td></tr><tr><td>100.0</td></tr><tr><td>133.33333333333334</td></tr><tr><td>200.0</td></tr><tr><td>200.0</td></tr><tr><td>80.0</td></tr><tr><td>66.66666666666667</td></tr><tr><td>80.0</td></tr><tr><td>100.0</td></tr><tr><td>57.142857142857146</td></tr><tr><td>22.22222222222222</td></tr><tr><td>100.0</td></tr><tr><td>44.44444444444444</td></tr><tr><td>100.0</td></tr><tr><td>400.0</td></tr><tr><td>50.0</td></tr><tr><td>200.0</td></tr><tr><td>12.5</td></tr><tr><td>33.333333333333336</td></tr><tr><td>400.0</td></tr><tr><td>400.0</td></tr><tr><td>133.33333333333334</td></tr><tr><td>25.0</td></tr><tr><td>33.333333333333336</td></tr><tr><td>200.0</td></tr><tr><td>400.0</td></tr><tr><td>28.571428571428573</td></tr><tr><td>400.0</td></tr><tr><td>400.0</td></tr><tr><td>400.0</td></tr><tr><td>400.0</td></tr><tr><td>400.0</td></tr><tr><td>57.142857142857146</td></tr><tr><td>100.0</td></tr><tr><td>17.391304347826086</td></tr><tr><td>44.44444444444444</td></tr><tr><td>133.33333333333334</td></tr><tr><td>200.0</td></tr><tr><td>200.0</td></tr><tr><td>100.0</td></tr><tr><td>133.33333333333334</td></tr><tr><td>50.0</td></tr><tr><td>400.0</td></tr><tr><td>33.333333333333336</td></tr><tr><td>400.0</td></tr><tr><td>80.0</td></tr><tr><td>15.384615384615385</td></tr><tr><td>22.22222222222222</td></tr><tr><td>200.0</td></tr><tr><td>17.391304347826086</td></tr><tr><td>400.0</td></tr><tr><td>50.0</td></tr><tr><td>100.0</td></tr><tr><td>80.0</td></tr><tr><td>400.0</td></tr><tr><td>66.66666666666667</td></tr><tr><td>80.0</td></tr><tr><td>200.0</td></tr><tr><td>200.0</td></tr><tr><td>66.66666666666667</td></tr><tr><td>14.285714285714286</td></tr><tr><td>100.0</td></tr><tr><td>400.0</td></tr><tr><td>100.0</td></tr><tr><td>100.0</td></tr><tr><td>57.142857142857146</td></tr><tr><td>133.33333333333334</td></tr><tr><td>36.36363636363637</td></tr><tr><td>200.0</td></tr><tr><td>200.0</td></tr><tr><td>80.0</td></tr><tr><td>57.142857142857146</td></tr><tr><td>36.36363636363637</td></tr><tr><td>200.0</td></tr><tr><td>30.76923076923077</td></tr><tr><td>133.33333333333334</td></tr><tr><td>200.0</td></tr><tr><td>200.0</td></tr><tr><td>400.0</td></tr><tr><td>400.0</td></tr><tr><td>100.0</td></tr><tr><td>400.0</td></tr><tr><td>14.285714285714286</td></tr><tr><td>400.0</td></tr><tr><td>400.0</td></tr><tr><td>80.0</td></tr><tr><td>200.0</td></tr><tr><td>26.666666666666668</td></tr><tr><td>14.814814814814815</td></tr><tr><td>133.33333333333334</td></tr><tr><td>133.33333333333334</td></tr><tr><td>100.0</td></tr><tr><td>50.0</td></tr><tr><td>57.142857142857146</td></tr><tr><td>400.0</td></tr><tr><td>400.0</td></tr><tr><td>20.0</td></tr><tr><td>200.0</td></tr><tr><td>400.0</td></tr><tr><td>80.0</td></tr><tr><td>400.0</td></tr><tr><td>400.0</td></tr><tr><td>400.0</td></tr><tr><td>80.0</td></tr><tr><td>400.0</td></tr><tr><td>80.0</td></tr><tr><td>80.0</td></tr><tr><td>80.0</td></tr><tr><td>66.66666666666667</td></tr><tr><td>66.66666666666667</td></tr><tr><td>400.0</td></tr><tr><td>100.0</td></tr><tr><td>400.0</td></tr><tr><td>400.0</td></tr><tr><td>80.0</td></tr><tr><td>200.0</td></tr><tr><td>200.0</td></tr><tr><td>80.0</td></tr><tr><td>50.0</td></tr><tr><td>200.0</td></tr><tr><td>30.76923076923077</td></tr><tr><td>57.142857142857146</td></tr><tr><td>44.44444444444444</td></tr><tr><td>80.0</td></tr><tr><td>28.571428571428573</td></tr><tr><td>200.0</td></tr><tr><td>400.0</td></tr><tr><td>22.22222222222222</td></tr><tr><td>66.66666666666667</td></tr><tr><td>400.0</td></tr><tr><td>400.0</td></tr><tr><td>66.66666666666667</td></tr><tr><td>200.0</td></tr><tr><td>400.0</td></tr><tr><td>133.33333333333334</td></tr><tr><td>133.33333333333334</td></tr><tr><td>133.33333333333334</td></tr><tr><td>133.33333333333334</td></tr><tr><td>200.0</td></tr><tr><td>400.0</td></tr><tr><td>100.0</td></tr><tr><td>200.0</td></tr><tr><td>100.0</td></tr><tr><td>400.0</td></tr><tr><td>400.0</td></tr><tr><td>133.33333333333334</td></tr><tr><td>100.0</td></tr><tr><td>33.333333333333336</td></tr><tr><td>14.285714285714286</td></tr><tr><td>100.0</td></tr><tr><td>400.0</td></tr><tr><td>400.0</td></tr><tr><td>400.0</td></tr><tr><td>400.0</td></tr><tr><td>133.33333333333334</td></tr><tr><td>200.0</td></tr><tr><td>400.0</td></tr><tr><td>80.0</td></tr><tr><td>50.0</td></tr><tr><td>33.333333333333336</td></tr><tr><td>400.0</td></tr><tr><td>400.0</td></tr><tr><td>200.0</td></tr><tr><td>80.0</td></tr><tr><td>66.66666666666667</td></tr><tr><td>57.142857142857146</td></tr><tr><td>100.0</td></tr><tr><td>400.0</td></tr><tr><td>50.0</td></tr><tr><td>200.0</td></tr><tr><td>200.0</td></tr><tr><td>28.571428571428573</td></tr><tr><td>133.33333333333334</td></tr><tr><td>200.0</td></tr><tr><td>133.33333333333334</td></tr><tr><td>66.66666666666667</td></tr><tr><td>80.0</td></tr><tr><td>100.0</td></tr><tr><td>200.0</td></tr><tr><td>66.66666666666667</td></tr><tr><td>100.0</td></tr><tr><td>133.33333333333334</td></tr><tr><td>100.0</td></tr><tr><td>133.33333333333334</td></tr><tr><td>133.33333333333334</td></tr><tr><td>57.142857142857146</td></tr><tr><td>400.0</td></tr><tr><td>400.0</td></tr><tr><td>400.0</td></tr><tr><td>200.0</td></tr><tr><td>400.0</td></tr><tr><td>400.0</td></tr><tr><td>400.0</td></tr><tr><td>400.0</td></tr><tr><td>200.0</td></tr><tr><td>133.33333333333334</td></tr><tr><td>400.0</td></tr><tr><td>66.66666666666667</td></tr><tr><td>400.0</td></tr><tr><td>400.0</td></tr><tr><td>200.0</td></tr><tr><td>400.0</td></tr><tr><td>200.0</td></tr><tr><td>400.0</td></tr><tr><td>200.0</td></tr><tr><td>100.0</td></tr><tr><td>133.33333333333334</td></tr><tr><td>400.0</td></tr><tr><td>400.0</td></tr><tr><td>400.0</td></tr><tr><td>100.0</td></tr><tr><td>200.0</td></tr><tr><td>400.0</td></tr><tr><td>66.66666666666667</td></tr><tr><td>400.0</td></tr><tr><td>100.0</td></tr><tr><td>200.0</td></tr><tr><td>400.0</td></tr><tr><td>200.0</td></tr><tr><td>133.33333333333334</td></tr><tr><td>133.33333333333334</td></tr><tr><td>400.0</td></tr><tr><td>133.33333333333334</td></tr><tr><td>400.0</td></tr><tr><td>133.33333333333334</td></tr><tr><td>400.0</td></tr><tr><td>400.0</td></tr><tr><td>200.0</td></tr><tr><td>100.0</td></tr><tr><td>200.0</td></tr><tr><td>200.0</td></tr><tr><td>100.0</td></tr><tr><td>200.0</td></tr><tr><td>133.33333333333334</td></tr><tr><td>400.0</td></tr><tr><td>133.33333333333334</td></tr><tr><td>80.0</td></tr><tr><td>66.66666666666667</td></tr><tr><td>400.0</td></tr><tr><td>400.0</td></tr><tr><td>400.0</td></tr><tr><td>200.0</td></tr><tr><td>133.33333333333334</td></tr><tr><td>400.0</td></tr><tr><td>200.0</td></tr><tr><td>400.0</td></tr><tr><td>400.0</td></tr><tr><td>400.0</td></tr><tr><td>400.0</td></tr><tr><td>200.0</td></tr><tr><td>133.33333333333334</td></tr><tr><td>200.0</td></tr><tr><td>200.0</td></tr><tr><td>200.0</td></tr><tr><td>200.0</td></tr><tr><td>400.0</td></tr><tr><td>400.0</td></tr><tr><td>400.0</td></tr><tr><td>200.0</td></tr><tr><td>400.0</td></tr><tr><td>400.0</td></tr><tr><td>133.33333333333334</td></tr><tr><td>40.0</td></tr><tr><td>100.0</td></tr><tr><td>400.0</td></tr><tr><td>400.0</td></tr><tr><td>133.33333333333334</td></tr><tr><td>200.0</td></tr><tr><td>100.0</td></tr><tr><td>400.0</td></tr><tr><td>66.66666666666667</td></tr><tr><td>400.0</td></tr><tr><td>200.0</td></tr><tr><td>100.0</td></tr><tr><td>133.33333333333334</td></tr><tr><td>400.0</td></tr><tr><td>133.33333333333334</td></tr><tr><td>133.33333333333334</td></tr><tr><td>400.0</td></tr><tr><td>400.0</td></tr><tr><td>400.0</td></tr><tr><td>400.0</td></tr><tr><td>133.33333333333334</td></tr><tr><td>400.0</td></tr><tr><td>100.0</td></tr><tr><td>80.0</td></tr><tr><td>133.33333333333334</td></tr><tr><td>200.0</td></tr><tr><td>200.0</td></tr><tr><td>200.0</td></tr><tr><td>400.0</td></tr><tr><td>200.0</td></tr><tr><td>400.0</td></tr><tr><td>400.0</td></tr><tr><td>100.0</td></tr><tr><td>200.0</td></tr><tr><td>400.0</td></tr><tr><td>66.66666666666667</td></tr><tr><td>33.333333333333336</td></tr><tr><td>400.0</td></tr><tr><td>400.0</td></tr><tr><td>400.0</td></tr><tr><td>400.0</td></tr><tr><td>400.0</td></tr><tr><td>400.0</td></tr><tr><td>133.33333333333334</td></tr><tr><td>200.0</td></tr><tr><td>400.0</td></tr><tr><td>200.0</td></tr><tr><td>133.33333333333334</td></tr><tr><td>400.0</td></tr><tr><td>400.0</td></tr><tr><td>400.0</td></tr><tr><td>200.0</td></tr><tr><td>400.0</td></tr><tr><td>400.0</td></tr><tr><td>400.0</td></tr><tr><td>400.0</td></tr><tr><td>400.0</td></tr><tr><td>400.0</td></tr><tr><td>400.0</td></tr><tr><td>100.0</td></tr><tr><td>200.0</td></tr><tr><td>400.0</td></tr><tr><td>400.0</td></tr><tr><td>100.0</td></tr><tr><td>200.0</td></tr><tr><td>200.0</td></tr><tr><td>200.0</td></tr><tr><td>200.0</td></tr><tr><td>400.0</td></tr><tr><td>100.0</td></tr><tr><td>80.0</td></tr><tr><td>400.0</td></tr><tr><td>400.0</td></tr><tr><td>200.0</td></tr><tr><td>400.0</td></tr><tr><td>400.0</td></tr><tr><td>200.0</td></tr><tr><td>400.0</td></tr><tr><td>133.33333333333334</td></tr><tr><td>133.33333333333334</td></tr><tr><td>100.0</td></tr><tr><td>400.0</td></tr><tr><td>400.0</td></tr><tr><td>200.0</td></tr><tr><td>200.0</td></tr><tr><td>100.0</td></tr><tr><td>400.0</td></tr><tr><td>100.0</td></tr><tr><td>200.0</td></tr><tr><td>400.0</td></tr><tr><td>400.0</td></tr><tr><td>133.33333333333334</td></tr><tr><td>200.0</td></tr><tr><td>400.0</td></tr><tr><td>200.0</td></tr><tr><td>57.142857142857146</td></tr><tr><td>200.0</td></tr><tr><td>200.0</td></tr><tr><td>400.0</td></tr><tr><td>80.0</td></tr><tr><td>100.0</td></tr><tr><td>200.0</td></tr><tr><td>400.0</td></tr><tr><td>57.142857142857146</td></tr><tr><td>133.33333333333334</td></tr><tr><td>133.33333333333334</td></tr><tr><td>400.0</td></tr><tr><td>100.0</td></tr><tr><td>400.0</td></tr><tr><td>400.0</td></tr><tr><td>200.0</td></tr><tr><td>200.0</td></tr><tr><td>400.0</td></tr><tr><td>400.0</td></tr><tr><td>133.33333333333334</td></tr><tr><td>200.0</td></tr><tr><td>400.0</td></tr><tr><td>400.0</td></tr><tr><td>400.0</td></tr><tr><td>400.0</td></tr><tr><td>400.0</td></tr><tr><td>400.0</td></tr><tr><td>100.0</td></tr><tr><td>400.0</td></tr><tr><td>200.0</td></tr><tr><td>200.0</td></tr><tr><td>400.0</td></tr><tr><td>133.33333333333334</td></tr><tr><td>200.0</td></tr><tr><td>200.0</td></tr><tr><td>400.0</td></tr><tr><td>400.0</td></tr><tr><td>133.33333333333334</td></tr><tr><td>400.0</td></tr><tr><td>133.33333333333334</td></tr><tr><td>400.0</td></tr><tr><td>200.0</td></tr><tr><td>400.0</td></tr><tr><td>200.0</td></tr><tr><td>400.0</td></tr><tr><td>400.0</td></tr><tr><td>200.0</td></tr><tr><td>400.0</td></tr><tr><td>133.33333333333334</td></tr><tr><td>400.0</td></tr><tr><td>400.0</td></tr><tr><td>400.0</td></tr><tr><td>400.0</td></tr><tr><td>400.0</td></tr><tr><td>400.0</td></tr><tr><td>80.0</td></tr><tr><td>200.0</td></tr><tr><td>400.0</td></tr><tr><td>400.0</td></tr><tr><td>400.0</td></tr><tr><td>400.0</td></tr><tr><td>200.0</td></tr><tr><td>400.0</td></tr><tr><td>400.0</td></tr><tr><td>400.0</td></tr><tr><td>400.0</td></tr><tr><td>400.0</td></tr><tr><td>133.33333333333334</td></tr><tr><td>400.0</td></tr><tr><td>400.0</td></tr><tr><td>200.0</td></tr><tr><td>400.0</td></tr><tr><td>400.0</td></tr><tr><td>400.0</td></tr><tr><td>400.0</td></tr><tr><td>200.0</td></tr><tr><td>400.0</td></tr><tr><td>400.0</td></tr><tr><td>200.0</td></tr><tr><td>400.0</td></tr><tr><td>400.0</td></tr><tr><td>100.0</td></tr><tr><td>66.66666666666667</td></tr><tr><td>200.0</td></tr><tr><td>200.0</td></tr><tr><td>400.0</td></tr><tr><td>400.0</td></tr><tr><td>400.0</td></tr><tr><td>133.33333333333334</td></tr><tr><td>400.0</td></tr><tr><td>400.0</td></tr><tr><td>200.0</td></tr><tr><td>200.0</td></tr><tr><td>400.0</td></tr><tr><td>400.0</td></tr><tr><td>400.0</td></tr><tr><td>200.0</td></tr><tr><td>400.0</td></tr><tr><td>400.0</td></tr><tr><td>400.0</td></tr><tr><td>400.0</td></tr><tr><td>400.0</td></tr><tr><td>400.0</td></tr><tr><td>400.0</td></tr><tr><td>133.33333333333334</td></tr><tr><td>400.0</td></tr><tr><td>400.0</td></tr><tr><td>400.0</td></tr><tr><td>400.0</td></tr><tr><td>400.0</td></tr><tr><td>400.0</td></tr><tr><td>400.0</td></tr><tr><td>400.0</td></tr><tr><td>200.0</td></tr><tr><td>400.0</td></tr><tr><td>200.0</td></tr><tr><td>200.0</td></tr><tr><td>200.0</td></tr><tr><td>200.0</td></tr><tr><td>400.0</td></tr><tr><td>100.0</td></tr><tr><td>200.0</td></tr><tr><td>400.0</td></tr><tr><td>400.0</td></tr><tr><td>200.0</td></tr><tr><td>400.0</td></tr><tr><td>400.0</td></tr><tr><td>400.0</td></tr><tr><td>200.0</td></tr><tr><td>133.33333333333334</td></tr><tr><td>200.0</td></tr><tr><td>400.0</td></tr><tr><td>400.0</td></tr><tr><td>400.0</td></tr><tr><td>100.0</td></tr><tr><td>400.0</td></tr><tr><td>200.0</td></tr><tr><td>400.0</td></tr><tr><td>400.0</td></tr><tr><td>400.0</td></tr><tr><td>400.0</td></tr><tr><td>400.0</td></tr><tr><td>400.0</td></tr><tr><td>200.0</td></tr><tr><td>400.0</td></tr><tr><td>200.0</td></tr><tr><td>400.0</td></tr><tr><td>400.0</td></tr><tr><td>200.0</td></tr><tr><td>400.0</td></tr><tr><td>100.0</td></tr><tr><td>200.0</td></tr><tr><td>400.0</td></tr><tr><td>400.0</td></tr><tr><td>80.0</td></tr><tr><td>400.0</td></tr><tr><td>400.0</td></tr><tr><td>22.22222222222222</td></tr><tr><td>400.0</td></tr><tr><td>200.0</td></tr><tr><td>400.0</td></tr><tr><td>400.0</td></tr><tr><td>400.0</td></tr><tr><td>400.0</td></tr><tr><td>400.0</td></tr><tr><td>400.0</td></tr><tr><td>400.0</td></tr><tr><td>200.0</td></tr><tr><td>400.0</td></tr><tr><td>400.0</td></tr><tr><td>400.0</td></tr><tr><td>400.0</td></tr><tr><td>133.33333333333334</td></tr><tr><td>400.0</td></tr><tr><td>400.0</td></tr><tr><td>400.0</td></tr><tr><td>400.0</td></tr><tr><td>400.0</td></tr><tr><td>400.0</td></tr><tr><td>400.0</td></tr><tr><td>400.0</td></tr><tr><td>400.0</td></tr><tr><td>400.0</td></tr><tr><td>400.0</td></tr><tr><td>400.0</td></tr><tr><td>400.0</td></tr><tr><td>400.0</td></tr><tr><td>400.0</td></tr><tr><td>400.0</td></tr><tr><td>400.0</td></tr><tr><td>400.0</td></tr><tr><td>200.0</td></tr><tr><td>400.0</td></tr><tr><td>400.0</td></tr><tr><td>400.0</td></tr><tr><td>400.0</td></tr><tr><td>400.0</td></tr><tr><td>400.0</td></tr><tr><td>400.0</td></tr><tr><td>200.0</td></tr><tr><td>400.0</td></tr><tr><td>400.0</td></tr><tr><td>400.0</td></tr><tr><td>400.0</td></tr><tr><td>400.0</td></tr><tr><td>400.0</td></tr><tr><td>400.0</td></tr><tr><td>400.0</td></tr><tr><td>400.0</td></tr><tr><td>400.0</td></tr><tr><td>400.0</td></tr><tr><td>400.0</td></tr><tr><td>400.0</td></tr><tr><td>400.0</td></tr><tr><td>400.0</td></tr><tr><td>400.0</td></tr><tr><td>400.0</td></tr><tr><td>400.0</td></tr><tr><td>400.0</td></tr><tr><td>400.0</td></tr><tr><td>400.0</td></tr><tr><td>400.0</td></tr><tr><td>400.0</td></tr><tr><td>400.0</td></tr><tr><td>400.0</td></tr><tr><td>400.0</td></tr><tr><td>400.0</td></tr><tr><td>400.0</td></tr><tr><td>400.0</td></tr><tr><td>400.0</td></tr><tr><td>400.0</td></tr><tr><td>400.0</td></tr><tr><td>400.0</td></tr><tr><td>200.0</td></tr><tr><td>36.36363636363637</td></tr><tr><td>9.30232558139535</td></tr><tr><td>200.0</td></tr><tr><td>21.05263157894737</td></tr><tr><td>400.0</td></tr><tr><td>16.666666666666668</td></tr><tr><td>133.33333333333334</td></tr><tr><td>133.33333333333334</td></tr><tr><td>9.523809523809524</td></tr><tr><td>10.0</td></tr><tr><td>400.0</td></tr><tr><td>133.33333333333334</td></tr><tr><td>4.25531914893617</td></tr><tr><td>400.0</td></tr><tr><td>80.0</td></tr><tr><td>100.0</td></tr><tr><td>100.0</td></tr><tr><td>400.0</td></tr><tr><td>200.0</td></tr><tr><td>26.666666666666668</td></tr><tr><td>20.0</td></tr><tr><td>400.0</td></tr><tr><td>400.0</td></tr><tr><td>66.66666666666667</td></tr><tr><td>12.5</td></tr><tr><td>30.76923076923077</td></tr><tr><td>40.0</td></tr><tr><td>400.0</td></tr><tr><td>100.0</td></tr><tr><td>44.44444444444444</td></tr><tr><td>400.0</td></tr><tr><td>25.0</td></tr><tr><td>50.0</td></tr><tr><td>400.0</td></tr><tr><td>44.44444444444444</td></tr><tr><td>400.0</td></tr><tr><td>400.0</td></tr><tr><td>400.0</td></tr><tr><td>80.0</td></tr><tr><td>200.0</td></tr><tr><td>26.666666666666668</td></tr><tr><td>18.181818181818183</td></tr><tr><td>133.33333333333334</td></tr><tr><td>22.22222222222222</td></tr><tr><td>12.903225806451612</td></tr><tr><td>200.0</td></tr><tr><td>200.0</td></tr><tr><td>36.36363636363637</td></tr><tr><td>400.0</td></tr><tr><td>133.33333333333334</td></tr><tr><td>20.0</td></tr><tr><td>19.047619047619047</td></tr><tr><td>133.33333333333334</td></tr><tr><td>400.0</td></tr><tr><td>100.0</td></tr><tr><td>21.05263157894737</td></tr><tr><td>133.33333333333334</td></tr><tr><td>100.0</td></tr><tr><td>400.0</td></tr><tr><td>36.36363636363637</td></tr><tr><td>400.0</td></tr><tr><td>133.33333333333334</td></tr><tr><td>133.33333333333334</td></tr><tr><td>100.0</td></tr><tr><td>66.66666666666667</td></tr><tr><td>28.571428571428573</td></tr><tr><td>200.0</td></tr><tr><td>33.333333333333336</td></tr><tr><td>200.0</td></tr><tr><td>21.05263157894737</td></tr><tr><td>100.0</td></tr><tr><td>200.0</td></tr><tr><td>100.0</td></tr><tr><td>13.333333333333334</td></tr><tr><td>200.0</td></tr><tr><td>80.0</td></tr><tr><td>33.333333333333336</td></tr><tr><td>133.33333333333334</td></tr><tr><td>400.0</td></tr><tr><td>66.66666666666667</td></tr><tr><td>400.0</td></tr><tr><td>133.33333333333334</td></tr><tr><td>200.0</td></tr><tr><td>400.0</td></tr><tr><td>400.0</td></tr><tr><td>200.0</td></tr><tr><td>200.0</td></tr><tr><td>200.0</td></tr><tr><td>200.0</td></tr><tr><td>133.33333333333334</td></tr><tr><td>400.0</td></tr><tr><td>133.33333333333334</td></tr><tr><td>200.0</td></tr><tr><td>400.0</td></tr><tr><td>200.0</td></tr><tr><td>200.0</td></tr><tr><td>50.0</td></tr><tr><td>400.0</td></tr><tr><td>400.0</td></tr><tr><td>57.142857142857146</td></tr><tr><td>200.0</td></tr><tr><td>133.33333333333334</td></tr><tr><td>44.44444444444444</td></tr><tr><td>66.66666666666667</td></tr><tr><td>66.66666666666667</td></tr><tr><td>44.44444444444444</td></tr><tr><td>400.0</td></tr><tr><td>66.66666666666667</td></tr><tr><td>200.0</td></tr><tr><td>400.0</td></tr><tr><td>400.0</td></tr><tr><td>133.33333333333334</td></tr><tr><td>133.33333333333334</td></tr><tr><td>400.0</td></tr><tr><td>400.0</td></tr><tr><td>133.33333333333334</td></tr><tr><td>133.33333333333334</td></tr><tr><td>133.33333333333334</td></tr><tr><td>200.0</td></tr><tr><td>400.0</td></tr><tr><td>100.0</td></tr><tr><td>133.33333333333334</td></tr><tr><td>400.0</td></tr><tr><td>200.0</td></tr><tr><td>400.0</td></tr><tr><td>133.33333333333334</td></tr><tr><td>50.0</td></tr><tr><td>44.44444444444444</td></tr><tr><td>400.0</td></tr><tr><td>80.0</td></tr><tr><td>400.0</td></tr><tr><td>400.0</td></tr><tr><td>400.0</td></tr><tr><td>133.33333333333334</td></tr><tr><td>400.0</td></tr><tr><td>400.0</td></tr><tr><td>200.0</td></tr><tr><td>200.0</td></tr><tr><td>133.33333333333334</td></tr><tr><td>200.0</td></tr><tr><td>80.0</td></tr><tr><td>100.0</td></tr><tr><td>66.66666666666667</td></tr><tr><td>200.0</td></tr><tr><td>28.571428571428573</td></tr><tr><td>66.66666666666667</td></tr><tr><td>200.0</td></tr><tr><td>200.0</td></tr><tr><td>66.66666666666667</td></tr><tr><td>133.33333333333334</td></tr><tr><td>400.0</td></tr><tr><td>400.0</td></tr><tr><td>200.0</td></tr><tr><td>100.0</td></tr><tr><td>400.0</td></tr><tr><td>400.0</td></tr><tr><td>33.333333333333336</td></tr><tr><td>400.0</td></tr><tr><td>200.0</td></tr><tr><td>57.142857142857146</td></tr><tr><td>400.0</td></tr><tr><td>133.33333333333334</td></tr><tr><td>200.0</td></tr><tr><td>133.33333333333334</td></tr><tr><td>400.0</td></tr><tr><td>133.33333333333334</td></tr><tr><td>100.0</td></tr><tr><td>400.0</td></tr><tr><td>80.0</td></tr><tr><td>400.0</td></tr><tr><td>400.0</td></tr><tr><td>400.0</td></tr><tr><td>200.0</td></tr><tr><td>33.333333333333336</td></tr><tr><td>200.0</td></tr><tr><td>400.0</td></tr><tr><td>200.0</td></tr><tr><td>400.0</td></tr><tr><td>80.0</td></tr><tr><td>80.0</td></tr><tr><td>200.0</td></tr><tr><td>400.0</td></tr><tr><td>200.0</td></tr><tr><td>400.0</td></tr><tr><td>80.0</td></tr><tr><td>400.0</td></tr><tr><td>133.33333333333334</td></tr><tr><td>80.0</td></tr><tr><td>66.66666666666667</td></tr><tr><td>400.0</td></tr><tr><td>200.0</td></tr><tr><td>200.0</td></tr><tr><td>400.0</td></tr><tr><td>133.33333333333334</td></tr><tr><td>400.0</td></tr><tr><td>200.0</td></tr><tr><td>200.0</td></tr><tr><td>200.0</td></tr><tr><td>400.0</td></tr><tr><td>400.0</td></tr><tr><td>400.0</td></tr><tr><td>400.0</td></tr><tr><td>400.0</td></tr><tr><td>80.0</td></tr><tr><td>200.0</td></tr><tr><td>100.0</td></tr><tr><td>400.0</td></tr><tr><td>200.0</td></tr><tr><td>400.0</td></tr><tr><td>100.0</td></tr><tr><td>133.33333333333334</td></tr><tr><td>66.66666666666667</td></tr><tr><td>133.33333333333334</td></tr><tr><td>133.33333333333334</td></tr><tr><td>400.0</td></tr><tr><td>66.66666666666667</td></tr><tr><td>133.33333333333334</td></tr><tr><td>200.0</td></tr><tr><td>50.0</td></tr><tr><td>80.0</td></tr><tr><td>80.0</td></tr><tr><td>200.0</td></tr><tr><td>133.33333333333334</td></tr><tr><td>400.0</td></tr><tr><td>133.33333333333334</td></tr><tr><td>400.0</td></tr><tr><td>400.0</td></tr><tr><td>400.0</td></tr><tr><td>66.66666666666667</td></tr><tr><td>400.0</td></tr><tr><td>200.0</td></tr><tr><td>100.0</td></tr><tr><td>100.0</td></tr><tr><td>100.0</td></tr><tr><td>400.0</td></tr><tr><td>25.0</td></tr><tr><td>400.0</td></tr><tr><td>400.0</td></tr><tr><td>50.0</td></tr><tr><td>200.0</td></tr><tr><td>400.0</td></tr><tr><td>200.0</td></tr><tr><td>200.0</td></tr><tr><td>80.0</td></tr><tr><td>100.0</td></tr><tr><td>200.0</td></tr><tr><td>200.0</td></tr><tr><td>400.0</td></tr><tr><td>200.0</td></tr><tr><td>50.0</td></tr><tr><td>200.0</td></tr><tr><td>200.0</td></tr><tr><td>400.0</td></tr><tr><td>44.44444444444444</td></tr><tr><td>57.142857142857146</td></tr><tr><td>400.0</td></tr><tr><td>14.814814814814815</td></tr><tr><td>400.0</td></tr><tr><td>200.0</td></tr><tr><td>400.0</td></tr><tr><td>66.66666666666667</td></tr><tr><td>400.0</td></tr><tr><td>133.33333333333334</td></tr><tr><td>133.33333333333334</td></tr><tr><td>200.0</td></tr><tr><td>200.0</td></tr><tr><td>400.0</td></tr><tr><td>200.0</td></tr><tr><td>133.33333333333334</td></tr><tr><td>400.0</td></tr><tr><td>200.0</td></tr><tr><td>44.44444444444444</td></tr><tr><td>400.0</td></tr><tr><td>400.0</td></tr><tr><td>400.0</td></tr><tr><td>400.0</td></tr><tr><td>400.0</td></tr><tr><td>400.0</td></tr><tr><td>50.0</td></tr><tr><td>57.142857142857146</td></tr><tr><td>400.0</td></tr><tr><td>400.0</td></tr><tr><td>400.0</td></tr><tr><td>400.0</td></tr><tr><td>400.0</td></tr><tr><td>400.0</td></tr><tr><td>400.0</td></tr><tr><td>200.0</td></tr><tr><td>400.0</td></tr><tr><td>400.0</td></tr><tr><td>200.0</td></tr><tr><td>80.0</td></tr><tr><td>400.0</td></tr><tr><td>400.0</td></tr><tr><td>133.33333333333334</td></tr><tr><td>400.0</td></tr><tr><td>200.0</td></tr><tr><td>400.0</td></tr><tr><td>133.33333333333334</td></tr><tr><td>133.33333333333334</td></tr><tr><td>400.0</td></tr><tr><td>400.0</td></tr><tr><td>200.0</td></tr><tr><td>133.33333333333334</td></tr><tr><td>133.33333333333334</td></tr><tr><td>66.66666666666667</td></tr><tr><td>200.0</td></tr><tr><td>400.0</td></tr><tr><td>200.0</td></tr><tr><td>400.0</td></tr><tr><td>400.0</td></tr><tr><td>400.0</td></tr><tr><td>66.66666666666667</td></tr><tr><td>400.0</td></tr><tr><td>400.0</td></tr><tr><td>400.0</td></tr><tr><td>200.0</td></tr><tr><td>200.0</td></tr><tr><td>400.0</td></tr><tr><td>200.0</td></tr><tr><td>200.0</td></tr><tr><td>200.0</td></tr><tr><td>100.0</td></tr><tr><td>400.0</td></tr><tr><td>57.142857142857146</td></tr><tr><td>133.33333333333334</td></tr><tr><td>400.0</td></tr><tr><td>400.0</td></tr><tr><td>66.66666666666667</td></tr><tr><td>200.0</td></tr><tr><td>400.0</td></tr><tr><td>400.0</td></tr><tr><td>200.0</td></tr><tr><td>200.0</td></tr><tr><td>133.33333333333334</td></tr><tr><td>400.0</td></tr><tr><td>400.0</td></tr><tr><td>200.0</td></tr><tr><td>100.0</td></tr><tr><td>400.0</td></tr><tr><td>200.0</td></tr><tr><td>400.0</td></tr><tr><td>400.0</td></tr><tr><td>200.0</td></tr><tr><td>200.0</td></tr><tr><td>133.33333333333334</td></tr><tr><td>400.0</td></tr><tr><td>400.0</td></tr><tr><td>400.0</td></tr><tr><td>400.0</td></tr><tr><td>57.142857142857146</td></tr><tr><td>400.0</td></tr><tr><td>400.0</td></tr><tr><td>200.0</td></tr><tr><td>400.0</td></tr><tr><td>200.0</td></tr><tr><td>200.0</td></tr><tr><td>200.0</td></tr><tr><td>400.0</td></tr><tr><td>200.0</td></tr><tr><td>100.0</td></tr><tr><td>400.0</td></tr><tr><td>200.0</td></tr><tr><td>400.0</td></tr><tr><td>400.0</td></tr><tr><td>400.0</td></tr><tr><td>133.33333333333334</td></tr><tr><td>400.0</td></tr><tr><td>400.0</td></tr><tr><td>400.0</td></tr><tr><td>400.0</td></tr><tr><td>80.0</td></tr><tr><td>400.0</td></tr><tr><td>80.0</td></tr><tr><td>400.0</td></tr><tr><td>400.0</td></tr><tr><td>400.0</td></tr><tr><td>400.0</td></tr><tr><td>400.0</td></tr><tr><td>400.0</td></tr><tr><td>200.0</td></tr><tr><td>400.0</td></tr><tr><td>66.66666666666667</td></tr><tr><td>400.0</td></tr><tr><td>400.0</td></tr><tr><td>400.0</td></tr><tr><td>400.0</td></tr><tr><td>400.0</td></tr><tr><td>133.33333333333334</td></tr><tr><td>400.0</td></tr><tr><td>400.0</td></tr><tr><td>400.0</td></tr><tr><td>400.0</td></tr><tr><td>400.0</td></tr><tr><td>400.0</td></tr><tr><td>400.0</td></tr><tr><td>400.0</td></tr><tr><td>400.0</td></tr><tr><td>80.0</td></tr><tr><td>200.0</td></tr><tr><td>400.0</td></tr><tr><td>57.142857142857146</td></tr><tr><td>400.0</td></tr><tr><td>200.0</td></tr><tr><td>100.0</td></tr><tr><td>400.0</td></tr><tr><td>400.0</td></tr><tr><td>400.0</td></tr><tr><td>400.0</td></tr><tr><td>400.0</td></tr><tr><td>200.0</td></tr><tr><td>400.0</td></tr><tr><td>400.0</td></tr><tr><td>400.0</td></tr><tr><td>200.0</td></tr><tr><td>400.0</td></tr><tr><td>400.0</td></tr><tr><td>400.0</td></tr><tr><td>200.0</td></tr><tr><td>200.0</td></tr><tr><td>100.0</td></tr><tr><td>400.0</td></tr><tr><td>400.0</td></tr><tr><td>400.0</td></tr><tr><td>200.0</td></tr><tr><td>200.0</td></tr><tr><td>400.0</td></tr><tr><td>400.0</td></tr><tr><td>400.0</td></tr><tr><td>200.0</td></tr><tr><td>400.0</td></tr><tr><td>400.0</td></tr><tr><td>200.0</td></tr><tr><td>400.0</td></tr><tr><td>200.0</td></tr><tr><td>400.0</td></tr><tr><td>200.0</td></tr><tr><td>400.0</td></tr><tr><td>200.0</td></tr><tr><td>133.33333333333334</td></tr><tr><td>400.0</td></tr><tr><td>400.0</td></tr><tr><td>200.0</td></tr><tr><td>200.0</td></tr><tr><td>400.0</td></tr><tr><td>200.0</td></tr><tr><td>400.0</td></tr><tr><td>400.0</td></tr><tr><td>200.0</td></tr><tr><td>400.0</td></tr><tr><td>400.0</td></tr><tr><td>400.0</td></tr><tr><td>200.0</td></tr><tr><td>400.0</td></tr><tr><td>400.0</td></tr><tr><td>200.0</td></tr><tr><td>400.0</td></tr><tr><td>400.0</td></tr><tr><td>400.0</td></tr><tr><td>400.0</td></tr><tr><td>400.0</td></tr><tr><td>400.0</td></tr><tr><td>400.0</td></tr><tr><td>400.0</td></tr><tr><td>200.0</td></tr><tr><td>400.0</td></tr><tr><td>400.0</td></tr><tr><td>400.0</td></tr><tr><td>200.0</td></tr><tr><td>400.0</td></tr><tr><td>400.0</td></tr><tr><td>400.0</td></tr><tr><td>400.0</td></tr><tr><td>400.0</td></tr><tr><td>400.0</td></tr><tr><td>400.0</td></tr><tr><td>400.0</td></tr><tr><td>400.0</td></tr><tr><td>200.0</td></tr><tr><td>400.0</td></tr><tr><td>400.0</td></tr><tr><td>400.0</td></tr><tr><td>133.33333333333334</td></tr><tr><td>400.0</td></tr><tr><td>400.0</td></tr><tr><td>133.33333333333334</td></tr><tr><td>400.0</td></tr><tr><td>133.33333333333334</td></tr><tr><td>400.0</td></tr><tr><td>400.0</td></tr><tr><td>400.0</td></tr><tr><td>400.0</td></tr><tr><td>200.0</td></tr><tr><td>400.0</td></tr><tr><td>400.0</td></tr><tr><td>400.0</td></tr><tr><td>100.0</td></tr><tr><td>400.0</td></tr><tr><td>400.0</td></tr><tr><td>400.0</td></tr><tr><td>400.0</td></tr><tr><td>400.0</td></tr><tr><td>400.0</td></tr><tr><td>133.33333333333334</td></tr><tr><td>400.0</td></tr><tr><td>400.0</td></tr><tr><td>400.0</td></tr><tr><td>400.0</td></tr><tr><td>400.0</td></tr><tr><td>400.0</td></tr><tr><td>400.0</td></tr><tr><td>400.0</td></tr><tr><td>400.0</td></tr><tr><td>400.0</td></tr><tr><td>400.0</td></tr><tr><td>400.0</td></tr><tr><td>400.0</td></tr><tr><td>400.0</td></tr><tr><td>400.0</td></tr><tr><td>400.0</td></tr><tr><td>400.0</td></tr><tr><td>400.0</td></tr><tr><td>400.0</td></tr><tr><td>400.0</td></tr><tr><td>400.0</td></tr><tr><td>400.0</td></tr><tr><td>400.0</td></tr><tr><td>400.0</td></tr><tr><td>400.0</td></tr><tr><td>400.0</td></tr><tr><td>400.0</td></tr><tr><td>400.0</td></tr><tr><td>400.0</td></tr><tr><td>400.0</td></tr><tr><td>400.0</td></tr><tr><td>400.0</td></tr><tr><td>400.0</td></tr><tr><td>400.0</td></tr><tr><td>400.0</td></tr><tr><td>400.0</td></tr><tr><td>400.0</td></tr><tr><td>400.0</td></tr><tr><td>400.0</td></tr><tr><td>400.0</td></tr><tr><td>400.0</td></tr><tr><td>400.0</td></tr><tr><td>400.0</td></tr><tr><td>400.0</td></tr><tr><td>400.0</td></tr><tr><td>400.0</td></tr><tr><td>400.0</td></tr><tr><td>400.0</td></tr><tr><td>400.0</td></tr><tr><td>400.0</td></tr><tr><td>400.0</td></tr><tr><td>400.0</td></tr><tr><td>400.0</td></tr><tr><td>400.0</td></tr><tr><td>400.0</td></tr><tr><td>400.0</td></tr><tr><td>400.0</td></tr><tr><td>400.0</td></tr><tr><td>400.0</td></tr><tr><td>400.0</td></tr><tr><td>400.0</td></tr><tr><td>400.0</td></tr><tr><td>400.0</td></tr><tr><td>400.0</td></tr><tr><td>400.0</td></tr><tr><td>400.0</td></tr><tr><td>400.0</td></tr><tr><td>400.0</td></tr><tr><td>30.76923076923077</td></tr><tr><td>40.0</td></tr><tr><td>36.36363636363637</td></tr><tr><td>50.0</td></tr><tr><td>50.0</td></tr><tr><td>15.384615384615385</td></tr><tr><td>133.33333333333334</td></tr><tr><td>80.0</td></tr><tr><td>14.814814814814815</td></tr><tr><td>400.0</td></tr><tr><td>133.33333333333334</td></tr><tr><td>26.666666666666668</td></tr><tr><td>200.0</td></tr><tr><td>28.571428571428573</td></tr><tr><td>6.896551724137931</td></tr><tr><td>400.0</td></tr><tr><td>16.666666666666668</td></tr><tr><td>36.36363636363637</td></tr><tr><td>400.0</td></tr><tr><td>133.33333333333334</td></tr><tr><td>33.333333333333336</td></tr><tr><td>44.44444444444444</td></tr><tr><td>100.0</td></tr><tr><td>13.793103448275861</td></tr><tr><td>33.333333333333336</td></tr><tr><td>16.666666666666668</td></tr><tr><td>50.0</td></tr><tr><td>57.142857142857146</td></tr><tr><td>26.666666666666668</td></tr><tr><td>50.0</td></tr><tr><td>57.142857142857146</td></tr><tr><td>400.0</td></tr><tr><td>17.391304347826086</td></tr><tr><td>66.66666666666667</td></tr><tr><td>80.0</td></tr><tr><td>100.0</td></tr><tr><td>28.571428571428573</td></tr><tr><td>25.0</td></tr><tr><td>57.142857142857146</td></tr><tr><td>57.142857142857146</td></tr><tr><td>26.666666666666668</td></tr><tr><td>200.0</td></tr><tr><td>22.22222222222222</td></tr><tr><td>33.333333333333336</td></tr><tr><td>80.0</td></tr><tr><td>22.22222222222222</td></tr><tr><td>50.0</td></tr><tr><td>57.142857142857146</td></tr><tr><td>400.0</td></tr><tr><td>16.666666666666668</td></tr><tr><td>200.0</td></tr><tr><td>200.0</td></tr><tr><td>400.0</td></tr><tr><td>400.0</td></tr><tr><td>133.33333333333334</td></tr><tr><td>400.0</td></tr><tr><td>400.0</td></tr><tr><td>400.0</td></tr><tr><td>100.0</td></tr><tr><td>50.0</td></tr><tr><td>30.76923076923077</td></tr><tr><td>400.0</td></tr><tr><td>100.0</td></tr><tr><td>400.0</td></tr><tr><td>100.0</td></tr><tr><td>400.0</td></tr><tr><td>66.66666666666667</td></tr><tr><td>20.0</td></tr><tr><td>200.0</td></tr><tr><td>133.33333333333334</td></tr><tr><td>200.0</td></tr><tr><td>66.66666666666667</td></tr><tr><td>200.0</td></tr><tr><td>66.66666666666667</td></tr><tr><td>44.44444444444444</td></tr><tr><td>133.33333333333334</td></tr><tr><td>44.44444444444444</td></tr><tr><td>133.33333333333334</td></tr><tr><td>400.0</td></tr><tr><td>133.33333333333334</td></tr><tr><td>400.0</td></tr><tr><td>400.0</td></tr><tr><td>133.33333333333334</td></tr><tr><td>12.121212121212121</td></tr><tr><td>200.0</td></tr><tr><td>80.0</td></tr><tr><td>400.0</td></tr><tr><td>400.0</td></tr><tr><td>133.33333333333334</td></tr><tr><td>80.0</td></tr><tr><td>133.33333333333334</td></tr><tr><td>200.0</td></tr><tr><td>133.33333333333334</td></tr><tr><td>100.0</td></tr><tr><td>400.0</td></tr><tr><td>66.66666666666667</td></tr><tr><td>40.0</td></tr><tr><td>400.0</td></tr><tr><td>200.0</td></tr><tr><td>400.0</td></tr><tr><td>36.36363636363637</td></tr><tr><td>400.0</td></tr><tr><td>400.0</td></tr><tr><td>133.33333333333334</td></tr><tr><td>14.814814814814815</td></tr><tr><td>400.0</td></tr><tr><td>36.36363636363637</td></tr><tr><td>200.0</td></tr><tr><td>57.142857142857146</td></tr><tr><td>200.0</td></tr><tr><td>80.0</td></tr><tr><td>400.0</td></tr><tr><td>200.0</td></tr><tr><td>133.33333333333334</td></tr><tr><td>19.047619047619047</td></tr><tr><td>57.142857142857146</td></tr><tr><td>80.0</td></tr><tr><td>30.76923076923077</td></tr><tr><td>400.0</td></tr><tr><td>200.0</td></tr><tr><td>400.0</td></tr><tr><td>100.0</td></tr><tr><td>400.0</td></tr><tr><td>400.0</td></tr><tr><td>400.0</td></tr><tr><td>400.0</td></tr><tr><td>66.66666666666667</td></tr><tr><td>200.0</td></tr><tr><td>400.0</td></tr><tr><td>100.0</td></tr><tr><td>200.0</td></tr><tr><td>57.142857142857146</td></tr><tr><td>100.0</td></tr><tr><td>400.0</td></tr><tr><td>57.142857142857146</td></tr><tr><td>80.0</td></tr><tr><td>400.0</td></tr><tr><td>80.0</td></tr><tr><td>200.0</td></tr><tr><td>133.33333333333334</td></tr><tr><td>133.33333333333334</td></tr><tr><td>200.0</td></tr><tr><td>133.33333333333334</td></tr><tr><td>100.0</td></tr><tr><td>400.0</td></tr><tr><td>200.0</td></tr><tr><td>200.0</td></tr><tr><td>200.0</td></tr><tr><td>400.0</td></tr><tr><td>400.0</td></tr><tr><td>44.44444444444444</td></tr><tr><td>133.33333333333334</td></tr><tr><td>26.666666666666668</td></tr><tr><td>100.0</td></tr><tr><td>200.0</td></tr><tr><td>400.0</td></tr><tr><td>133.33333333333334</td></tr><tr><td>200.0</td></tr><tr><td>80.0</td></tr><tr><td>50.0</td></tr><tr><td>133.33333333333334</td></tr><tr><td>100.0</td></tr><tr><td>100.0</td></tr><tr><td>133.33333333333334</td></tr><tr><td>100.0</td></tr><tr><td>200.0</td></tr><tr><td>200.0</td></tr><tr><td>200.0</td></tr><tr><td>133.33333333333334</td></tr><tr><td>200.0</td></tr><tr><td>200.0</td></tr><tr><td>200.0</td></tr><tr><td>200.0</td></tr><tr><td>400.0</td></tr><tr><td>400.0</td></tr><tr><td>400.0</td></tr><tr><td>400.0</td></tr><tr><td>80.0</td></tr><tr><td>133.33333333333334</td></tr><tr><td>200.0</td></tr><tr><td>400.0</td></tr><tr><td>400.0</td></tr><tr><td>57.142857142857146</td></tr><tr><td>100.0</td></tr><tr><td>100.0</td></tr><tr><td>133.33333333333334</td></tr><tr><td>133.33333333333334</td></tr><tr><td>200.0</td></tr><tr><td>400.0</td></tr><tr><td>133.33333333333334</td></tr><tr><td>400.0</td></tr><tr><td>57.142857142857146</td></tr><tr><td>400.0</td></tr><tr><td>400.0</td></tr><tr><td>133.33333333333334</td></tr><tr><td>400.0</td></tr><tr><td>100.0</td></tr><tr><td>400.0</td></tr><tr><td>200.0</td></tr><tr><td>400.0</td></tr><tr><td>400.0</td></tr><tr><td>133.33333333333334</td></tr><tr><td>400.0</td></tr><tr><td>200.0</td></tr><tr><td>400.0</td></tr><tr><td>100.0</td></tr><tr><td>400.0</td></tr><tr><td>200.0</td></tr><tr><td>100.0</td></tr><tr><td>200.0</td></tr><tr><td>57.142857142857146</td></tr><tr><td>400.0</td></tr><tr><td>400.0</td></tr><tr><td>200.0</td></tr><tr><td>133.33333333333334</td></tr><tr><td>80.0</td></tr><tr><td>200.0</td></tr><tr><td>400.0</td></tr><tr><td>100.0</td></tr><tr><td>400.0</td></tr><tr><td>400.0</td></tr><tr><td>100.0</td></tr><tr><td>400.0</td></tr><tr><td>80.0</td></tr><tr><td>133.33333333333334</td></tr><tr><td>100.0</td></tr><tr><td>200.0</td></tr><tr><td>100.0</td></tr><tr><td>80.0</td></tr><tr><td>200.0</td></tr><tr><td>400.0</td></tr><tr><td>66.66666666666667</td></tr><tr><td>100.0</td></tr><tr><td>400.0</td></tr><tr><td>400.0</td></tr><tr><td>200.0</td></tr><tr><td>200.0</td></tr><tr><td>400.0</td></tr><tr><td>400.0</td></tr><tr><td>200.0</td></tr><tr><td>400.0</td></tr><tr><td>200.0</td></tr><tr><td>100.0</td></tr><tr><td>200.0</td></tr><tr><td>400.0</td></tr><tr><td>400.0</td></tr><tr><td>400.0</td></tr><tr><td>400.0</td></tr><tr><td>100.0</td></tr><tr><td>400.0</td></tr><tr><td>400.0</td></tr><tr><td>200.0</td></tr><tr><td>44.44444444444444</td></tr><tr><td>133.33333333333334</td></tr><tr><td>400.0</td></tr><tr><td>133.33333333333334</td></tr><tr><td>133.33333333333334</td></tr><tr><td>400.0</td></tr><tr><td>100.0</td></tr><tr><td>400.0</td></tr><tr><td>400.0</td></tr><tr><td>400.0</td></tr><tr><td>400.0</td></tr><tr><td>200.0</td></tr><tr><td>400.0</td></tr><tr><td>200.0</td></tr><tr><td>200.0</td></tr><tr><td>400.0</td></tr><tr><td>100.0</td></tr><tr><td>400.0</td></tr><tr><td>200.0</td></tr><tr><td>400.0</td></tr><tr><td>200.0</td></tr><tr><td>400.0</td></tr><tr><td>400.0</td></tr><tr><td>200.0</td></tr><tr><td>133.33333333333334</td></tr><tr><td>400.0</td></tr><tr><td>400.0</td></tr><tr><td>200.0</td></tr><tr><td>400.0</td></tr><tr><td>100.0</td></tr><tr><td>400.0</td></tr><tr><td>100.0</td></tr><tr><td>200.0</td></tr><tr><td>400.0</td></tr><tr><td>400.0</td></tr><tr><td>200.0</td></tr><tr><td>400.0</td></tr><tr><td>133.33333333333334</td></tr><tr><td>400.0</td></tr><tr><td>400.0</td></tr><tr><td>133.33333333333334</td></tr><tr><td>400.0</td></tr><tr><td>80.0</td></tr><tr><td>400.0</td></tr><tr><td>100.0</td></tr><tr><td>400.0</td></tr><tr><td>200.0</td></tr><tr><td>200.0</td></tr><tr><td>400.0</td></tr><tr><td>400.0</td></tr><tr><td>400.0</td></tr><tr><td>400.0</td></tr><tr><td>400.0</td></tr><tr><td>200.0</td></tr><tr><td>400.0</td></tr><tr><td>400.0</td></tr><tr><td>133.33333333333334</td></tr><tr><td>400.0</td></tr><tr><td>133.33333333333334</td></tr><tr><td>400.0</td></tr><tr><td>400.0</td></tr><tr><td>200.0</td></tr><tr><td>200.0</td></tr><tr><td>200.0</td></tr><tr><td>200.0</td></tr><tr><td>200.0</td></tr><tr><td>133.33333333333334</td></tr><tr><td>200.0</td></tr><tr><td>50.0</td></tr><tr><td>100.0</td></tr><tr><td>200.0</td></tr><tr><td>400.0</td></tr><tr><td>200.0</td></tr><tr><td>200.0</td></tr><tr><td>200.0</td></tr><tr><td>200.0</td></tr><tr><td>400.0</td></tr><tr><td>133.33333333333334</td></tr><tr><td>400.0</td></tr><tr><td>400.0</td></tr><tr><td>400.0</td></tr><tr><td>400.0</td></tr><tr><td>400.0</td></tr><tr><td>80.0</td></tr><tr><td>400.0</td></tr><tr><td>100.0</td></tr><tr><td>200.0</td></tr><tr><td>200.0</td></tr><tr><td>400.0</td></tr><tr><td>400.0</td></tr><tr><td>100.0</td></tr><tr><td>400.0</td></tr><tr><td>200.0</td></tr><tr><td>200.0</td></tr><tr><td>133.33333333333334</td></tr><tr><td>400.0</td></tr><tr><td>400.0</td></tr><tr><td>133.33333333333334</td></tr><tr><td>400.0</td></tr><tr><td>400.0</td></tr><tr><td>200.0</td></tr><tr><td>133.33333333333334</td></tr><tr><td>400.0</td></tr><tr><td>400.0</td></tr><tr><td>400.0</td></tr><tr><td>200.0</td></tr><tr><td>400.0</td></tr><tr><td>200.0</td></tr><tr><td>400.0</td></tr><tr><td>400.0</td></tr><tr><td>133.33333333333334</td></tr><tr><td>400.0</td></tr><tr><td>400.0</td></tr><tr><td>133.33333333333334</td></tr><tr><td>400.0</td></tr><tr><td>400.0</td></tr><tr><td>200.0</td></tr><tr><td>400.0</td></tr><tr><td>400.0</td></tr><tr><td>200.0</td></tr><tr><td>400.0</td></tr><tr><td>133.33333333333334</td></tr><tr><td>200.0</td></tr><tr><td>133.33333333333334</td></tr><tr><td>400.0</td></tr><tr><td>400.0</td></tr><tr><td>400.0</td></tr><tr><td>400.0</td></tr><tr><td>400.0</td></tr><tr><td>200.0</td></tr><tr><td>400.0</td></tr><tr><td>200.0</td></tr><tr><td>400.0</td></tr><tr><td>400.0</td></tr><tr><td>100.0</td></tr><tr><td>400.0</td></tr><tr><td>400.0</td></tr><tr><td>400.0</td></tr><tr><td>400.0</td></tr><tr><td>400.0</td></tr><tr><td>200.0</td></tr><tr><td>200.0</td></tr><tr><td>400.0</td></tr><tr><td>400.0</td></tr><tr><td>400.0</td></tr><tr><td>400.0</td></tr><tr><td>400.0</td></tr><tr><td>400.0</td></tr><tr><td>400.0</td></tr><tr><td>400.0</td></tr><tr><td>400.0</td></tr><tr><td>133.33333333333334</td></tr><tr><td>200.0</td></tr><tr><td>200.0</td></tr><tr><td>400.0</td></tr><tr><td>400.0</td></tr><tr><td>100.0</td></tr><tr><td>133.33333333333334</td></tr><tr><td>400.0</td></tr><tr><td>400.0</td></tr><tr><td>400.0</td></tr><tr><td>400.0</td></tr><tr><td>400.0</td></tr><tr><td>400.0</td></tr><tr><td>200.0</td></tr><tr><td>200.0</td></tr><tr><td>80.0</td></tr><tr><td>400.0</td></tr><tr><td>400.0</td></tr><tr><td>133.33333333333334</td></tr><tr><td>400.0</td></tr><tr><td>400.0</td></tr><tr><td>400.0</td></tr><tr><td>400.0</td></tr><tr><td>400.0</td></tr><tr><td>400.0</td></tr><tr><td>400.0</td></tr><tr><td>400.0</td></tr><tr><td>200.0</td></tr><tr><td>400.0</td></tr><tr><td>400.0</td></tr><tr><td>400.0</td></tr><tr><td>400.0</td></tr><tr><td>400.0</td></tr><tr><td>400.0</td></tr><tr><td>400.0</td></tr><tr><td>400.0</td></tr><tr><td>400.0</td></tr><tr><td>200.0</td></tr><tr><td>400.0</td></tr><tr><td>400.0</td></tr><tr><td>400.0</td></tr><tr><td>400.0</td></tr><tr><td>200.0</td></tr><tr><td>200.0</td></tr><tr><td>400.0</td></tr><tr><td>200.0</td></tr><tr><td>200.0</td></tr><tr><td>200.0</td></tr><tr><td>400.0</td></tr><tr><td>400.0</td></tr><tr><td>400.0</td></tr><tr><td>400.0</td></tr><tr><td>400.0</td></tr><tr><td>200.0</td></tr><tr><td>200.0</td></tr><tr><td>400.0</td></tr><tr><td>400.0</td></tr><tr><td>400.0</td></tr><tr><td>400.0</td></tr><tr><td>400.0</td></tr><tr><td>400.0</td></tr><tr><td>400.0</td></tr><tr><td>100.0</td></tr><tr><td>400.0</td></tr><tr><td>400.0</td></tr><tr><td>200.0</td></tr><tr><td>400.0</td></tr><tr><td>200.0</td></tr><tr><td>400.0</td></tr><tr><td>400.0</td></tr><tr><td>400.0</td></tr><tr><td>400.0</td></tr><tr><td>400.0</td></tr><tr><td>400.0</td></tr><tr><td>400.0</td></tr><tr><td>400.0</td></tr><tr><td>400.0</td></tr><tr><td>200.0</td></tr><tr><td>200.0</td></tr><tr><td>400.0</td></tr><tr><td>400.0</td></tr><tr><td>400.0</td></tr><tr><td>66.66666666666667</td></tr><tr><td>400.0</td></tr><tr><td>400.0</td></tr><tr><td>400.0</td></tr><tr><td>400.0</td></tr><tr><td>400.0</td></tr><tr><td>400.0</td></tr><tr><td>400.0</td></tr><tr><td>400.0</td></tr><tr><td>400.0</td></tr><tr><td>400.0</td></tr><tr><td>400.0</td></tr><tr><td>400.0</td></tr><tr><td>400.0</td></tr><tr><td>400.0</td></tr><tr><td>400.0</td></tr><tr><td>400.0</td></tr><tr><td>400.0</td></tr><tr><td>400.0</td></tr><tr><td>400.0</td></tr><tr><td>400.0</td></tr><tr><td>400.0</td></tr><tr><td>133.33333333333334</td></tr><tr><td>400.0</td></tr><tr><td>400.0</td></tr><tr><td>400.0</td></tr><tr><td>400.0</td></tr><tr><td>400.0</td></tr><tr><td>400.0</td></tr><tr><td>400.0</td></tr><tr><td>400.0</td></tr><tr><td>400.0</td></tr><tr><td>400.0</td></tr><tr><td>400.0</td></tr><tr><td>200.0</td></tr><tr><td>400.0</td></tr><tr><td>400.0</td></tr><tr><td>200.0</td></tr><tr><td>400.0</td></tr><tr><td>400.0</td></tr><tr><td>400.0</td></tr><tr><td>400.0</td></tr><tr><td>400.0</td></tr><tr><td>400.0</td></tr><tr><td>400.0</td></tr><tr><td>400.0</td></tr><tr><td>400.0</td></tr><tr><td>400.0</td></tr><tr><td>400.0</td></tr><tr><td>200.0</td></tr><tr><td>400.0</td></tr><tr><td>400.0</td></tr><tr><td>400.0</td></tr><tr><td>400.0</td></tr><tr><td>400.0</td></tr><tr><td>400.0</td></tr><tr><td>400.0</td></tr><tr><td>400.0</td></tr><tr><td>400.0</td></tr><tr><td>400.0</td></tr><tr><td>400.0</td></tr><tr><td>400.0</td></tr><tr><td>400.0</td></tr><tr><td>400.0</td></tr><tr><td>200.0</td></tr><tr><td>400.0</td></tr><tr><td>400.0</td></tr><tr><td>400.0</td></tr><tr><td>400.0</td></tr><tr><td>400.0</td></tr><tr><td>400.0</td></tr><tr><td>400.0</td></tr><tr><td>400.0</td></tr><tr><td>400.0</td></tr><tr><td>400.0</td></tr><tr><td>400.0</td></tr><tr><td>400.0</td></tr><tr><td>400.0</td></tr><tr><td>400.0</td></tr><tr><td>400.0</td></tr><tr><td>400.0</td></tr><tr><td>400.0</td></tr><tr><td>400.0</td></tr><tr><td>400.0</td></tr><tr><td>400.0</td></tr><tr><td>400.0</td></tr><tr><td>400.0</td></tr><tr><td>400.0</td></tr><tr><td>400.0</td></tr><tr><td>400.0</td></tr><tr><td>400.0</td></tr><tr><td>400.0</td></tr><tr><td>400.0</td></tr><tr><td>400.0</td></tr><tr><td>400.0</td></tr><tr><td>400.0</td></tr><tr><td>400.0</td></tr><tr><td>400.0</td></tr><tr><td>400.0</td></tr><tr><td>400.0</td></tr><tr><td>400.0</td></tr><tr><td>400.0</td></tr><tr><td>400.0</td></tr><tr><td>400.0</td></tr><tr><td>400.0</td></tr><tr><td>400.0</td></tr><tr><td>400.0</td></tr><tr><td>200.0</td></tr><tr><td>133.33333333333334</td></tr><tr><td>10.81081081081081</td></tr><tr><td>44.44444444444444</td></tr><tr><td>200.0</td></tr><tr><td>80.0</td></tr><tr><td>133.33333333333334</td></tr><tr><td>400.0</td></tr><tr><td>200.0</td></tr><tr><td>100.0</td></tr><tr><td>200.0</td></tr><tr><td>36.36363636363637</td></tr><tr><td>57.142857142857146</td></tr><tr><td>50.0</td></tr><tr><td>7.6923076923076925</td></tr><tr><td>200.0</td></tr><tr><td>400.0</td></tr><tr><td>14.285714285714286</td></tr><tr><td>57.142857142857146</td></tr><tr><td>20.0</td></tr><tr><td>14.814814814814815</td></tr><tr><td>36.36363636363637</td></tr><tr><td>400.0</td></tr><tr><td>133.33333333333334</td></tr><tr><td>57.142857142857146</td></tr><tr><td>400.0</td></tr><tr><td>400.0</td></tr><tr><td>100.0</td></tr><tr><td>30.76923076923077</td></tr><tr><td>44.44444444444444</td></tr><tr><td>400.0</td></tr><tr><td>80.0</td></tr><tr><td>28.571428571428573</td></tr><tr><td>50.0</td></tr><tr><td>200.0</td></tr><tr><td>100.0</td></tr><tr><td>133.33333333333334</td></tr><tr><td>200.0</td></tr><tr><td>50.0</td></tr><tr><td>33.333333333333336</td></tr><tr><td>8.333333333333334</td></tr><tr><td>200.0</td></tr><tr><td>10.81081081081081</td></tr><tr><td>100.0</td></tr><tr><td>400.0</td></tr><tr><td>25.0</td></tr><tr><td>26.666666666666668</td></tr><tr><td>66.66666666666667</td></tr><tr><td>100.0</td></tr><tr><td>100.0</td></tr><tr><td>400.0</td></tr><tr><td>400.0</td></tr><tr><td>400.0</td></tr><tr><td>100.0</td></tr><tr><td>26.666666666666668</td></tr><tr><td>200.0</td></tr><tr><td>133.33333333333334</td></tr><tr><td>100.0</td></tr><tr><td>80.0</td></tr><tr><td>133.33333333333334</td></tr><tr><td>57.142857142857146</td></tr><tr><td>21.05263157894737</td></tr><tr><td>40.0</td></tr><tr><td>100.0</td></tr><tr><td>25.0</td></tr><tr><td>400.0</td></tr><tr><td>200.0</td></tr><tr><td>200.0</td></tr><tr><td>40.0</td></tr><tr><td>80.0</td></tr><tr><td>100.0</td></tr><tr><td>66.66666666666667</td></tr><tr><td>33.333333333333336</td></tr><tr><td>11.764705882352942</td></tr><tr><td>133.33333333333334</td></tr><tr><td>200.0</td></tr><tr><td>400.0</td></tr><tr><td>400.0</td></tr><tr><td>200.0</td></tr><tr><td>100.0</td></tr><tr><td>200.0</td></tr><tr><td>200.0</td></tr><tr><td>28.571428571428573</td></tr><tr><td>133.33333333333334</td></tr><tr><td>400.0</td></tr><tr><td>400.0</td></tr><tr><td>40.0</td></tr><tr><td>44.44444444444444</td></tr><tr><td>400.0</td></tr><tr><td>133.33333333333334</td></tr><tr><td>20.0</td></tr><tr><td>18.181818181818183</td></tr><tr><td>400.0</td></tr><tr><td>400.0</td></tr><tr><td>200.0</td></tr><tr><td>80.0</td></tr><tr><td>400.0</td></tr><tr><td>133.33333333333334</td></tr><tr><td>200.0</td></tr><tr><td>400.0</td></tr><tr><td>26.666666666666668</td></tr><tr><td>400.0</td></tr><tr><td>33.333333333333336</td></tr><tr><td>400.0</td></tr><tr><td>80.0</td></tr><tr><td>100.0</td></tr><tr><td>12.121212121212121</td></tr><tr><td>33.333333333333336</td></tr><tr><td>200.0</td></tr><tr><td>40.0</td></tr><tr><td>400.0</td></tr><tr><td>400.0</td></tr><tr><td>100.0</td></tr><tr><td>200.0</td></tr><tr><td>50.0</td></tr><tr><td>66.66666666666667</td></tr><tr><td>400.0</td></tr><tr><td>100.0</td></tr><tr><td>80.0</td></tr><tr><td>133.33333333333334</td></tr><tr><td>100.0</td></tr><tr><td>57.142857142857146</td></tr><tr><td>33.333333333333336</td></tr><tr><td>36.36363636363637</td></tr><tr><td>44.44444444444444</td></tr><tr><td>400.0</td></tr><tr><td>400.0</td></tr><tr><td>400.0</td></tr><tr><td>57.142857142857146</td></tr><tr><td>50.0</td></tr><tr><td>57.142857142857146</td></tr><tr><td>100.0</td></tr><tr><td>400.0</td></tr><tr><td>57.142857142857146</td></tr><tr><td>100.0</td></tr><tr><td>400.0</td></tr><tr><td>133.33333333333334</td></tr><tr><td>100.0</td></tr><tr><td>80.0</td></tr><tr><td>400.0</td></tr><tr><td>40.0</td></tr><tr><td>400.0</td></tr><tr><td>66.66666666666667</td></tr><tr><td>100.0</td></tr><tr><td>400.0</td></tr><tr><td>400.0</td></tr><tr><td>400.0</td></tr><tr><td>200.0</td></tr><tr><td>400.0</td></tr><tr><td>133.33333333333334</td></tr><tr><td>66.66666666666667</td></tr><tr><td>200.0</td></tr><tr><td>200.0</td></tr><tr><td>200.0</td></tr><tr><td>28.571428571428573</td></tr><tr><td>133.33333333333334</td></tr><tr><td>200.0</td></tr><tr><td>200.0</td></tr><tr><td>200.0</td></tr><tr><td>133.33333333333334</td></tr><tr><td>200.0</td></tr><tr><td>200.0</td></tr><tr><td>200.0</td></tr><tr><td>133.33333333333334</td></tr><tr><td>50.0</td></tr><tr><td>80.0</td></tr><tr><td>200.0</td></tr><tr><td>200.0</td></tr><tr><td>66.66666666666667</td></tr><tr><td>200.0</td></tr><tr><td>80.0</td></tr><tr><td>200.0</td></tr><tr><td>133.33333333333334</td></tr><tr><td>66.66666666666667</td></tr><tr><td>133.33333333333334</td></tr><tr><td>400.0</td></tr><tr><td>200.0</td></tr><tr><td>80.0</td></tr><tr><td>400.0</td></tr><tr><td>50.0</td></tr><tr><td>133.33333333333334</td></tr><tr><td>400.0</td></tr><tr><td>400.0</td></tr><tr><td>400.0</td></tr><tr><td>133.33333333333334</td></tr><tr><td>200.0</td></tr><tr><td>80.0</td></tr><tr><td>50.0</td></tr><tr><td>400.0</td></tr><tr><td>200.0</td></tr><tr><td>66.66666666666667</td></tr><tr><td>200.0</td></tr><tr><td>66.66666666666667</td></tr><tr><td>400.0</td></tr><tr><td>80.0</td></tr><tr><td>200.0</td></tr><tr><td>200.0</td></tr><tr><td>400.0</td></tr><tr><td>400.0</td></tr><tr><td>133.33333333333334</td></tr><tr><td>133.33333333333334</td></tr><tr><td>400.0</td></tr><tr><td>200.0</td></tr><tr><td>80.0</td></tr><tr><td>133.33333333333334</td></tr><tr><td>200.0</td></tr><tr><td>133.33333333333334</td></tr><tr><td>80.0</td></tr><tr><td>400.0</td></tr><tr><td>80.0</td></tr><tr><td>400.0</td></tr><tr><td>200.0</td></tr><tr><td>44.44444444444444</td></tr><tr><td>133.33333333333334</td></tr><tr><td>200.0</td></tr><tr><td>400.0</td></tr><tr><td>400.0</td></tr><tr><td>133.33333333333334</td></tr><tr><td>400.0</td></tr><tr><td>400.0</td></tr><tr><td>66.66666666666667</td></tr><tr><td>50.0</td></tr><tr><td>400.0</td></tr><tr><td>133.33333333333334</td></tr><tr><td>400.0</td></tr><tr><td>200.0</td></tr><tr><td>133.33333333333334</td></tr><tr><td>133.33333333333334</td></tr><tr><td>100.0</td></tr><tr><td>400.0</td></tr><tr><td>200.0</td></tr><tr><td>14.285714285714286</td></tr><tr><td>400.0</td></tr><tr><td>400.0</td></tr><tr><td>400.0</td></tr><tr><td>200.0</td></tr><tr><td>400.0</td></tr><tr><td>400.0</td></tr><tr><td>400.0</td></tr><tr><td>400.0</td></tr><tr><td>400.0</td></tr><tr><td>400.0</td></tr><tr><td>400.0</td></tr><tr><td>200.0</td></tr><tr><td>57.142857142857146</td></tr><tr><td>400.0</td></tr><tr><td>66.66666666666667</td></tr><tr><td>200.0</td></tr><tr><td>400.0</td></tr><tr><td>400.0</td></tr><tr><td>400.0</td></tr><tr><td>400.0</td></tr><tr><td>80.0</td></tr><tr><td>400.0</td></tr><tr><td>400.0</td></tr><tr><td>400.0</td></tr><tr><td>200.0</td></tr><tr><td>200.0</td></tr><tr><td>200.0</td></tr><tr><td>200.0</td></tr><tr><td>400.0</td></tr><tr><td>400.0</td></tr><tr><td>400.0</td></tr><tr><td>400.0</td></tr><tr><td>400.0</td></tr><tr><td>400.0</td></tr><tr><td>200.0</td></tr><tr><td>200.0</td></tr><tr><td>200.0</td></tr><tr><td>100.0</td></tr><tr><td>44.44444444444444</td></tr><tr><td>400.0</td></tr><tr><td>400.0</td></tr><tr><td>400.0</td></tr><tr><td>80.0</td></tr><tr><td>400.0</td></tr><tr><td>400.0</td></tr><tr><td>200.0</td></tr><tr><td>400.0</td></tr><tr><td>400.0</td></tr><tr><td>200.0</td></tr><tr><td>133.33333333333334</td></tr><tr><td>200.0</td></tr><tr><td>400.0</td></tr><tr><td>100.0</td></tr><tr><td>133.33333333333334</td></tr><tr><td>200.0</td></tr><tr><td>133.33333333333334</td></tr><tr><td>400.0</td></tr><tr><td>400.0</td></tr><tr><td>66.66666666666667</td></tr><tr><td>50.0</td></tr><tr><td>400.0</td></tr><tr><td>200.0</td></tr><tr><td>400.0</td></tr><tr><td>400.0</td></tr><tr><td>400.0</td></tr><tr><td>400.0</td></tr><tr><td>200.0</td></tr><tr><td>400.0</td></tr><tr><td>400.0</td></tr><tr><td>133.33333333333334</td></tr><tr><td>400.0</td></tr><tr><td>400.0</td></tr><tr><td>400.0</td></tr><tr><td>400.0</td></tr><tr><td>200.0</td></tr><tr><td>400.0</td></tr><tr><td>400.0</td></tr><tr><td>100.0</td></tr><tr><td>200.0</td></tr><tr><td>400.0</td></tr><tr><td>200.0</td></tr><tr><td>400.0</td></tr><tr><td>200.0</td></tr><tr><td>200.0</td></tr><tr><td>400.0</td></tr><tr><td>400.0</td></tr><tr><td>400.0</td></tr><tr><td>400.0</td></tr><tr><td>44.44444444444444</td></tr><tr><td>200.0</td></tr><tr><td>400.0</td></tr><tr><td>400.0</td></tr><tr><td>400.0</td></tr><tr><td>400.0</td></tr><tr><td>80.0</td></tr><tr><td>200.0</td></tr><tr><td>200.0</td></tr><tr><td>400.0</td></tr><tr><td>200.0</td></tr><tr><td>400.0</td></tr><tr><td>400.0</td></tr><tr><td>200.0</td></tr><tr><td>133.33333333333334</td></tr><tr><td>80.0</td></tr><tr><td>66.66666666666667</td></tr><tr><td>100.0</td></tr><tr><td>400.0</td></tr><tr><td>400.0</td></tr><tr><td>400.0</td></tr><tr><td>400.0</td></tr><tr><td>400.0</td></tr><tr><td>400.0</td></tr><tr><td>400.0</td></tr><tr><td>200.0</td></tr><tr><td>400.0</td></tr><tr><td>400.0</td></tr><tr><td>66.66666666666667</td></tr><tr><td>400.0</td></tr><tr><td>400.0</td></tr><tr><td>400.0</td></tr><tr><td>400.0</td></tr><tr><td>400.0</td></tr><tr><td>400.0</td></tr><tr><td>200.0</td></tr><tr><td>400.0</td></tr><tr><td>400.0</td></tr><tr><td>400.0</td></tr><tr><td>133.33333333333334</td></tr><tr><td>400.0</td></tr><tr><td>400.0</td></tr><tr><td>400.0</td></tr><tr><td>400.0</td></tr><tr><td>400.0</td></tr><tr><td>400.0</td></tr><tr><td>400.0</td></tr><tr><td>400.0</td></tr><tr><td>400.0</td></tr><tr><td>400.0</td></tr><tr><td>400.0</td></tr><tr><td>200.0</td></tr><tr><td>400.0</td></tr><tr><td>400.0</td></tr><tr><td>200.0</td></tr><tr><td>200.0</td></tr><tr><td>400.0</td></tr><tr><td>200.0</td></tr><tr><td>200.0</td></tr><tr><td>200.0</td></tr><tr><td>400.0</td></tr><tr><td>400.0</td></tr><tr><td>133.33333333333334</td></tr><tr><td>400.0</td></tr><tr><td>400.0</td></tr><tr><td>400.0</td></tr><tr><td>400.0</td></tr><tr><td>200.0</td></tr><tr><td>400.0</td></tr><tr><td>80.0</td></tr><tr><td>400.0</td></tr><tr><td>400.0</td></tr><tr><td>200.0</td></tr><tr><td>200.0</td></tr><tr><td>400.0</td></tr><tr><td>400.0</td></tr><tr><td>400.0</td></tr><tr><td>400.0</td></tr><tr><td>400.0</td></tr><tr><td>400.0</td></tr><tr><td>400.0</td></tr><tr><td>400.0</td></tr><tr><td>200.0</td></tr><tr><td>100.0</td></tr><tr><td>400.0</td></tr><tr><td>133.33333333333334</td></tr><tr><td>400.0</td></tr><tr><td>400.0</td></tr><tr><td>200.0</td></tr><tr><td>400.0</td></tr><tr><td>200.0</td></tr><tr><td>400.0</td></tr><tr><td>400.0</td></tr><tr><td>400.0</td></tr><tr><td>400.0</td></tr><tr><td>400.0</td></tr><tr><td>400.0</td></tr><tr><td>400.0</td></tr><tr><td>200.0</td></tr><tr><td>400.0</td></tr><tr><td>133.33333333333334</td></tr><tr><td>200.0</td></tr><tr><td>133.33333333333334</td></tr><tr><td>400.0</td></tr><tr><td>133.33333333333334</td></tr><tr><td>200.0</td></tr><tr><td>400.0</td></tr><tr><td>400.0</td></tr><tr><td>400.0</td></tr><tr><td>400.0</td></tr><tr><td>400.0</td></tr><tr><td>400.0</td></tr><tr><td>400.0</td></tr><tr><td>200.0</td></tr><tr><td>400.0</td></tr><tr><td>400.0</td></tr><tr><td>200.0</td></tr><tr><td>200.0</td></tr><tr><td>400.0</td></tr><tr><td>400.0</td></tr><tr><td>200.0</td></tr><tr><td>200.0</td></tr><tr><td>66.66666666666667</td></tr><tr><td>133.33333333333334</td></tr><tr><td>400.0</td></tr><tr><td>400.0</td></tr><tr><td>400.0</td></tr><tr><td>400.0</td></tr><tr><td>200.0</td></tr><tr><td>400.0</td></tr><tr><td>400.0</td></tr><tr><td>400.0</td></tr><tr><td>400.0</td></tr><tr><td>400.0</td></tr><tr><td>400.0</td></tr><tr><td>400.0</td></tr><tr><td>200.0</td></tr><tr><td>400.0</td></tr><tr><td>400.0</td></tr><tr><td>400.0</td></tr><tr><td>133.33333333333334</td></tr><tr><td>200.0</td></tr><tr><td>400.0</td></tr><tr><td>200.0</td></tr><tr><td>400.0</td></tr><tr><td>400.0</td></tr><tr><td>400.0</td></tr><tr><td>400.0</td></tr><tr><td>400.0</td></tr><tr><td>400.0</td></tr><tr><td>100.0</td></tr><tr><td>200.0</td></tr><tr><td>200.0</td></tr><tr><td>400.0</td></tr><tr><td>400.0</td></tr><tr><td>400.0</td></tr><tr><td>400.0</td></tr><tr><td>400.0</td></tr><tr><td>200.0</td></tr><tr><td>400.0</td></tr><tr><td>400.0</td></tr><tr><td>200.0</td></tr><tr><td>400.0</td></tr><tr><td>400.0</td></tr><tr><td>200.0</td></tr><tr><td>200.0</td></tr><tr><td>400.0</td></tr><tr><td>400.0</td></tr><tr><td>400.0</td></tr><tr><td>400.0</td></tr><tr><td>400.0</td></tr><tr><td>400.0</td></tr><tr><td>400.0</td></tr><tr><td>400.0</td></tr><tr><td>400.0</td></tr><tr><td>400.0</td></tr><tr><td>400.0</td></tr><tr><td>400.0</td></tr><tr><td>400.0</td></tr><tr><td>400.0</td></tr><tr><td>400.0</td></tr><tr><td>400.0</td></tr><tr><td>400.0</td></tr><tr><td>400.0</td></tr><tr><td>400.0</td></tr><tr><td>400.0</td></tr><tr><td>400.0</td></tr><tr><td>400.0</td></tr><tr><td>400.0</td></tr><tr><td>400.0</td></tr><tr><td>133.33333333333334</td></tr><tr><td>400.0</td></tr><tr><td>400.0</td></tr><tr><td>400.0</td></tr><tr><td>200.0</td></tr><tr><td>400.0</td></tr><tr><td>200.0</td></tr><tr><td>400.0</td></tr><tr><td>400.0</td></tr><tr><td>400.0</td></tr><tr><td>400.0</td></tr><tr><td>400.0</td></tr><tr><td>400.0</td></tr><tr><td>400.0</td></tr><tr><td>400.0</td></tr><tr><td>400.0</td></tr><tr><td>400.0</td></tr><tr><td>400.0</td></tr><tr><td>400.0</td></tr><tr><td>400.0</td></tr><tr><td>400.0</td></tr><tr><td>400.0</td></tr><tr><td>400.0</td></tr><tr><td>400.0</td></tr><tr><td>400.0</td></tr><tr><td>400.0</td></tr><tr><td>400.0</td></tr><tr><td>400.0</td></tr><tr><td>400.0</td></tr><tr><td>400.0</td></tr><tr><td>200.0</td></tr><tr><td>200.0</td></tr><tr><td>400.0</td></tr><tr><td>400.0</td></tr><tr><td>400.0</td></tr><tr><td>400.0</td></tr><tr><td>200.0</td></tr><tr><td>400.0</td></tr><tr><td>400.0</td></tr><tr><td>400.0</td></tr><tr><td>400.0</td></tr><tr><td>400.0</td></tr><tr><td>400.0</td></tr><tr><td>400.0</td></tr><tr><td>400.0</td></tr><tr><td>400.0</td></tr><tr><td>400.0</td></tr><tr><td>400.0</td></tr><tr><td>400.0</td></tr><tr><td>400.0</td></tr><tr><td>400.0</td></tr><tr><td>400.0</td></tr><tr><td>400.0</td></tr><tr><td>400.0</td></tr><tr><td>400.0</td></tr><tr><td>400.0</td></tr><tr><td>400.0</td></tr><tr><td>400.0</td></tr><tr><td>400.0</td></tr><tr><td>400.0</td></tr><tr><td>400.0</td></tr></tbody></table></div>"
      ]
     },
     "metadata": {
      "application/vnd.databricks.v1+output": {
       "addedWidgets": {},
       "aggData": [],
       "aggError": "",
       "aggOverflow": false,
       "aggSchema": [],
       "aggSeriesLimitReached": false,
       "aggType": "",
       "arguments": {},
       "columnCustomDisplayInfos": {},
       "data": [
        [
         400.0
        ],
        [
         16.666666666666668
        ],
        [
         16.0
        ],
        [
         400.0
        ],
        [
         57.142857142857146
        ],
        [
         200.0
        ],
        [
         133.33333333333334
        ],
        [
         80.0
        ],
        [
         200.0
        ],
        [
         14.285714285714286
        ],
        [
         23.529411764705884
        ],
        [
         23.529411764705884
        ],
        [
         200.0
        ],
        [
         200.0
        ],
        [
         80.0
        ],
        [
         21.05263157894737
        ],
        [
         100.0
        ],
        [
         400.0
        ],
        [
         9.75609756097561
        ],
        [
         100.0
        ],
        [
         44.44444444444444
        ],
        [
         26.666666666666668
        ],
        [
         57.142857142857146
        ],
        [
         400.0
        ],
        [
         57.142857142857146
        ],
        [
         12.903225806451612
        ],
        [
         400.0
        ],
        [
         22.22222222222222
        ],
        [
         23.529411764705884
        ],
        [
         400.0
        ],
        [
         22.22222222222222
        ],
        [
         400.0
        ],
        [
         13.333333333333334
        ],
        [
         133.33333333333334
        ],
        [
         133.33333333333334
        ],
        [
         200.0
        ],
        [
         80.0
        ],
        [
         200.0
        ],
        [
         200.0
        ],
        [
         14.285714285714286
        ],
        [
         8.333333333333334
        ],
        [
         44.44444444444444
        ],
        [
         66.66666666666667
        ],
        [
         23.529411764705884
        ],
        [
         133.33333333333334
        ],
        [
         21.05263157894737
        ],
        [
         133.33333333333334
        ],
        [
         100.0
        ],
        [
         400.0
        ],
        [
         200.0
        ],
        [
         200.0
        ],
        [
         400.0
        ],
        [
         44.44444444444444
        ],
        [
         30.76923076923077
        ],
        [
         200.0
        ],
        [
         400.0
        ],
        [
         400.0
        ],
        [
         40.0
        ],
        [
         100.0
        ],
        [
         400.0
        ],
        [
         36.36363636363637
        ],
        [
         133.33333333333334
        ],
        [
         12.5
        ],
        [
         400.0
        ],
        [
         19.047619047619047
        ],
        [
         400.0
        ],
        [
         20.0
        ],
        [
         400.0
        ],
        [
         200.0
        ],
        [
         133.33333333333334
        ],
        [
         80.0
        ],
        [
         133.33333333333334
        ],
        [
         100.0
        ],
        [
         80.0
        ],
        [
         200.0
        ],
        [
         200.0
        ],
        [
         50.0
        ],
        [
         100.0
        ],
        [
         80.0
        ],
        [
         100.0
        ],
        [
         200.0
        ],
        [
         200.0
        ],
        [
         400.0
        ],
        [
         400.0
        ],
        [
         57.142857142857146
        ],
        [
         100.0
        ],
        [
         26.666666666666668
        ],
        [
         50.0
        ],
        [
         400.0
        ],
        [
         400.0
        ],
        [
         133.33333333333334
        ],
        [
         50.0
        ],
        [
         200.0
        ],
        [
         80.0
        ],
        [
         15.384615384615385
        ],
        [
         400.0
        ],
        [
         200.0
        ],
        [
         200.0
        ],
        [
         400.0
        ],
        [
         57.142857142857146
        ],
        [
         33.333333333333336
        ],
        [
         33.333333333333336
        ],
        [
         400.0
        ],
        [
         21.05263157894737
        ],
        [
         100.0
        ],
        [
         50.0
        ],
        [
         200.0
        ],
        [
         400.0
        ],
        [
         30.76923076923077
        ],
        [
         200.0
        ],
        [
         400.0
        ],
        [
         100.0
        ],
        [
         80.0
        ],
        [
         100.0
        ],
        [
         100.0
        ],
        [
         400.0
        ],
        [
         36.36363636363637
        ],
        [
         400.0
        ],
        [
         400.0
        ],
        [
         200.0
        ],
        [
         66.66666666666667
        ],
        [
         400.0
        ],
        [
         133.33333333333334
        ],
        [
         40.0
        ],
        [
         50.0
        ],
        [
         133.33333333333334
        ],
        [
         50.0
        ],
        [
         25.0
        ],
        [
         133.33333333333334
        ],
        [
         40.0
        ],
        [
         66.66666666666667
        ],
        [
         133.33333333333334
        ],
        [
         23.529411764705884
        ],
        [
         400.0
        ],
        [
         400.0
        ],
        [
         400.0
        ],
        [
         400.0
        ],
        [
         133.33333333333334
        ],
        [
         100.0
        ],
        [
         33.333333333333336
        ],
        [
         36.36363636363637
        ],
        [
         133.33333333333334
        ],
        [
         200.0
        ],
        [
         200.0
        ],
        [
         400.0
        ],
        [
         200.0
        ],
        [
         50.0
        ],
        [
         66.66666666666667
        ],
        [
         400.0
        ],
        [
         400.0
        ],
        [
         57.142857142857146
        ],
        [
         400.0
        ],
        [
         33.333333333333336
        ],
        [
         200.0
        ],
        [
         133.33333333333334
        ],
        [
         133.33333333333334
        ],
        [
         133.33333333333334
        ],
        [
         400.0
        ],
        [
         133.33333333333334
        ],
        [
         66.66666666666667
        ],
        [
         18.181818181818183
        ],
        [
         400.0
        ],
        [
         36.36363636363637
        ],
        [
         133.33333333333334
        ],
        [
         66.66666666666667
        ],
        [
         400.0
        ],
        [
         133.33333333333334
        ],
        [
         200.0
        ],
        [
         44.44444444444444
        ],
        [
         200.0
        ],
        [
         133.33333333333334
        ],
        [
         36.36363636363637
        ],
        [
         400.0
        ],
        [
         133.33333333333334
        ],
        [
         133.33333333333334
        ],
        [
         400.0
        ],
        [
         100.0
        ],
        [
         400.0
        ],
        [
         200.0
        ],
        [
         44.44444444444444
        ],
        [
         400.0
        ],
        [
         400.0
        ],
        [
         400.0
        ],
        [
         400.0
        ],
        [
         100.0
        ],
        [
         400.0
        ],
        [
         400.0
        ],
        [
         200.0
        ],
        [
         200.0
        ],
        [
         200.0
        ],
        [
         400.0
        ],
        [
         50.0
        ],
        [
         100.0
        ],
        [
         200.0
        ],
        [
         28.571428571428573
        ],
        [
         200.0
        ],
        [
         200.0
        ],
        [
         40.0
        ],
        [
         19.047619047619047
        ],
        [
         80.0
        ],
        [
         100.0
        ],
        [
         133.33333333333334
        ],
        [
         30.76923076923077
        ],
        [
         200.0
        ],
        [
         400.0
        ],
        [
         200.0
        ],
        [
         100.0
        ],
        [
         200.0
        ],
        [
         400.0
        ],
        [
         200.0
        ],
        [
         133.33333333333334
        ],
        [
         28.571428571428573
        ],
        [
         400.0
        ],
        [
         400.0
        ],
        [
         400.0
        ],
        [
         400.0
        ],
        [
         100.0
        ],
        [
         400.0
        ],
        [
         400.0
        ],
        [
         400.0
        ],
        [
         133.33333333333334
        ],
        [
         400.0
        ],
        [
         200.0
        ],
        [
         200.0
        ],
        [
         400.0
        ],
        [
         200.0
        ],
        [
         400.0
        ],
        [
         200.0
        ],
        [
         200.0
        ],
        [
         400.0
        ],
        [
         400.0
        ],
        [
         33.333333333333336
        ],
        [
         400.0
        ],
        [
         133.33333333333334
        ],
        [
         400.0
        ],
        [
         400.0
        ],
        [
         133.33333333333334
        ],
        [
         400.0
        ],
        [
         80.0
        ],
        [
         400.0
        ],
        [
         80.0
        ],
        [
         400.0
        ],
        [
         400.0
        ],
        [
         133.33333333333334
        ],
        [
         200.0
        ],
        [
         400.0
        ],
        [
         400.0
        ],
        [
         36.36363636363637
        ],
        [
         400.0
        ],
        [
         400.0
        ],
        [
         200.0
        ],
        [
         133.33333333333334
        ],
        [
         400.0
        ],
        [
         200.0
        ],
        [
         400.0
        ],
        [
         200.0
        ],
        [
         400.0
        ],
        [
         400.0
        ],
        [
         133.33333333333334
        ],
        [
         400.0
        ],
        [
         133.33333333333334
        ],
        [
         200.0
        ],
        [
         66.66666666666667
        ],
        [
         400.0
        ],
        [
         80.0
        ],
        [
         200.0
        ],
        [
         66.66666666666667
        ],
        [
         400.0
        ],
        [
         200.0
        ],
        [
         200.0
        ],
        [
         200.0
        ],
        [
         400.0
        ],
        [
         400.0
        ],
        [
         400.0
        ],
        [
         400.0
        ],
        [
         200.0
        ],
        [
         100.0
        ],
        [
         200.0
        ],
        [
         57.142857142857146
        ],
        [
         400.0
        ],
        [
         400.0
        ],
        [
         400.0
        ],
        [
         400.0
        ],
        [
         200.0
        ],
        [
         200.0
        ],
        [
         400.0
        ],
        [
         133.33333333333334
        ],
        [
         100.0
        ],
        [
         133.33333333333334
        ],
        [
         66.66666666666667
        ],
        [
         200.0
        ],
        [
         133.33333333333334
        ],
        [
         57.142857142857146
        ],
        [
         400.0
        ],
        [
         400.0
        ],
        [
         200.0
        ],
        [
         100.0
        ],
        [
         80.0
        ],
        [
         200.0
        ],
        [
         400.0
        ],
        [
         133.33333333333334
        ],
        [
         200.0
        ],
        [
         400.0
        ],
        [
         400.0
        ],
        [
         400.0
        ],
        [
         400.0
        ],
        [
         100.0
        ],
        [
         66.66666666666667
        ],
        [
         400.0
        ],
        [
         200.0
        ],
        [
         400.0
        ],
        [
         57.142857142857146
        ],
        [
         200.0
        ],
        [
         400.0
        ],
        [
         200.0
        ],
        [
         133.33333333333334
        ],
        [
         200.0
        ],
        [
         400.0
        ],
        [
         400.0
        ],
        [
         400.0
        ],
        [
         400.0
        ],
        [
         400.0
        ],
        [
         400.0
        ],
        [
         80.0
        ],
        [
         400.0
        ],
        [
         400.0
        ],
        [
         200.0
        ],
        [
         400.0
        ],
        [
         200.0
        ],
        [
         400.0
        ],
        [
         400.0
        ],
        [
         400.0
        ],
        [
         400.0
        ],
        [
         200.0
        ],
        [
         100.0
        ],
        [
         80.0
        ],
        [
         200.0
        ],
        [
         200.0
        ],
        [
         400.0
        ],
        [
         400.0
        ],
        [
         200.0
        ],
        [
         400.0
        ],
        [
         400.0
        ],
        [
         400.0
        ],
        [
         200.0
        ],
        [
         400.0
        ],
        [
         80.0
        ],
        [
         133.33333333333334
        ],
        [
         133.33333333333334
        ],
        [
         400.0
        ],
        [
         400.0
        ],
        [
         200.0
        ],
        [
         200.0
        ],
        [
         400.0
        ],
        [
         400.0
        ],
        [
         400.0
        ],
        [
         133.33333333333334
        ],
        [
         400.0
        ],
        [
         100.0
        ],
        [
         133.33333333333334
        ],
        [
         133.33333333333334
        ],
        [
         200.0
        ],
        [
         100.0
        ],
        [
         200.0
        ],
        [
         200.0
        ],
        [
         400.0
        ],
        [
         400.0
        ],
        [
         400.0
        ],
        [
         400.0
        ],
        [
         400.0
        ],
        [
         200.0
        ],
        [
         80.0
        ],
        [
         400.0
        ],
        [
         200.0
        ],
        [
         200.0
        ],
        [
         400.0
        ],
        [
         57.142857142857146
        ],
        [
         400.0
        ],
        [
         400.0
        ],
        [
         200.0
        ],
        [
         400.0
        ],
        [
         400.0
        ],
        [
         200.0
        ],
        [
         400.0
        ],
        [
         400.0
        ],
        [
         400.0
        ],
        [
         200.0
        ],
        [
         400.0
        ],
        [
         100.0
        ],
        [
         400.0
        ],
        [
         200.0
        ],
        [
         133.33333333333334
        ],
        [
         200.0
        ],
        [
         400.0
        ],
        [
         133.33333333333334
        ],
        [
         400.0
        ],
        [
         400.0
        ],
        [
         400.0
        ],
        [
         400.0
        ],
        [
         133.33333333333334
        ],
        [
         400.0
        ],
        [
         400.0
        ],
        [
         400.0
        ],
        [
         400.0
        ],
        [
         133.33333333333334
        ],
        [
         400.0
        ],
        [
         400.0
        ],
        [
         400.0
        ],
        [
         400.0
        ],
        [
         200.0
        ],
        [
         400.0
        ],
        [
         400.0
        ],
        [
         400.0
        ],
        [
         200.0
        ],
        [
         400.0
        ],
        [
         200.0
        ],
        [
         400.0
        ],
        [
         400.0
        ],
        [
         200.0
        ],
        [
         400.0
        ],
        [
         100.0
        ],
        [
         400.0
        ],
        [
         200.0
        ],
        [
         200.0
        ],
        [
         400.0
        ],
        [
         400.0
        ],
        [
         400.0
        ],
        [
         133.33333333333334
        ],
        [
         200.0
        ],
        [
         200.0
        ],
        [
         400.0
        ],
        [
         400.0
        ],
        [
         400.0
        ],
        [
         200.0
        ],
        [
         400.0
        ],
        [
         200.0
        ],
        [
         200.0
        ],
        [
         400.0
        ],
        [
         400.0
        ],
        [
         400.0
        ],
        [
         80.0
        ],
        [
         400.0
        ],
        [
         100.0
        ],
        [
         400.0
        ],
        [
         400.0
        ],
        [
         200.0
        ],
        [
         100.0
        ],
        [
         400.0
        ],
        [
         200.0
        ],
        [
         133.33333333333334
        ],
        [
         400.0
        ],
        [
         400.0
        ],
        [
         400.0
        ],
        [
         400.0
        ],
        [
         400.0
        ],
        [
         400.0
        ],
        [
         400.0
        ],
        [
         400.0
        ],
        [
         400.0
        ],
        [
         100.0
        ],
        [
         200.0
        ],
        [
         400.0
        ],
        [
         400.0
        ],
        [
         400.0
        ],
        [
         133.33333333333334
        ],
        [
         200.0
        ],
        [
         400.0
        ],
        [
         400.0
        ],
        [
         200.0
        ],
        [
         400.0
        ],
        [
         200.0
        ],
        [
         400.0
        ],
        [
         100.0
        ],
        [
         200.0
        ],
        [
         400.0
        ],
        [
         200.0
        ],
        [
         400.0
        ],
        [
         400.0
        ],
        [
         400.0
        ],
        [
         100.0
        ],
        [
         400.0
        ],
        [
         400.0
        ],
        [
         400.0
        ],
        [
         400.0
        ],
        [
         400.0
        ],
        [
         400.0
        ],
        [
         400.0
        ],
        [
         133.33333333333334
        ],
        [
         400.0
        ],
        [
         400.0
        ],
        [
         400.0
        ],
        [
         400.0
        ],
        [
         400.0
        ],
        [
         57.142857142857146
        ],
        [
         400.0
        ],
        [
         133.33333333333334
        ],
        [
         400.0
        ],
        [
         400.0
        ],
        [
         400.0
        ],
        [
         400.0
        ],
        [
         200.0
        ],
        [
         200.0
        ],
        [
         400.0
        ],
        [
         200.0
        ],
        [
         400.0
        ],
        [
         400.0
        ],
        [
         400.0
        ],
        [
         400.0
        ],
        [
         400.0
        ],
        [
         400.0
        ],
        [
         400.0
        ],
        [
         400.0
        ],
        [
         200.0
        ],
        [
         200.0
        ],
        [
         133.33333333333334
        ],
        [
         400.0
        ],
        [
         200.0
        ],
        [
         400.0
        ],
        [
         400.0
        ],
        [
         400.0
        ],
        [
         400.0
        ],
        [
         200.0
        ],
        [
         400.0
        ],
        [
         400.0
        ],
        [
         400.0
        ],
        [
         400.0
        ],
        [
         400.0
        ],
        [
         400.0
        ],
        [
         400.0
        ],
        [
         133.33333333333334
        ],
        [
         400.0
        ],
        [
         400.0
        ],
        [
         400.0
        ],
        [
         400.0
        ],
        [
         400.0
        ],
        [
         400.0
        ],
        [
         400.0
        ],
        [
         400.0
        ],
        [
         400.0
        ],
        [
         400.0
        ],
        [
         400.0
        ],
        [
         200.0
        ],
        [
         400.0
        ],
        [
         200.0
        ],
        [
         400.0
        ],
        [
         400.0
        ],
        [
         400.0
        ],
        [
         200.0
        ],
        [
         400.0
        ],
        [
         400.0
        ],
        [
         400.0
        ],
        [
         400.0
        ],
        [
         400.0
        ],
        [
         400.0
        ],
        [
         400.0
        ],
        [
         400.0
        ],
        [
         400.0
        ],
        [
         400.0
        ],
        [
         400.0
        ],
        [
         400.0
        ],
        [
         400.0
        ],
        [
         400.0
        ],
        [
         400.0
        ],
        [
         400.0
        ],
        [
         400.0
        ],
        [
         400.0
        ],
        [
         133.33333333333334
        ],
        [
         200.0
        ],
        [
         400.0
        ],
        [
         400.0
        ],
        [
         400.0
        ],
        [
         100.0
        ],
        [
         400.0
        ],
        [
         400.0
        ],
        [
         200.0
        ],
        [
         400.0
        ],
        [
         400.0
        ],
        [
         400.0
        ],
        [
         400.0
        ],
        [
         400.0
        ],
        [
         200.0
        ],
        [
         400.0
        ],
        [
         400.0
        ],
        [
         400.0
        ],
        [
         400.0
        ],
        [
         400.0
        ],
        [
         400.0
        ],
        [
         400.0
        ],
        [
         400.0
        ],
        [
         200.0
        ],
        [
         400.0
        ],
        [
         400.0
        ],
        [
         200.0
        ],
        [
         400.0
        ],
        [
         400.0
        ],
        [
         400.0
        ],
        [
         400.0
        ],
        [
         400.0
        ],
        [
         400.0
        ],
        [
         400.0
        ],
        [
         400.0
        ],
        [
         400.0
        ],
        [
         400.0
        ],
        [
         400.0
        ],
        [
         400.0
        ],
        [
         400.0
        ],
        [
         400.0
        ],
        [
         400.0
        ],
        [
         400.0
        ],
        [
         400.0
        ],
        [
         400.0
        ],
        [
         200.0
        ],
        [
         400.0
        ],
        [
         400.0
        ],
        [
         400.0
        ],
        [
         400.0
        ],
        [
         400.0
        ],
        [
         400.0
        ],
        [
         400.0
        ],
        [
         400.0
        ],
        [
         400.0
        ],
        [
         400.0
        ],
        [
         400.0
        ],
        [
         400.0
        ],
        [
         400.0
        ],
        [
         400.0
        ],
        [
         400.0
        ],
        [
         400.0
        ],
        [
         400.0
        ],
        [
         400.0
        ],
        [
         400.0
        ],
        [
         400.0
        ],
        [
         400.0
        ],
        [
         400.0
        ],
        [
         400.0
        ],
        [
         400.0
        ],
        [
         400.0
        ],
        [
         400.0
        ],
        [
         400.0
        ],
        [
         400.0
        ],
        [
         400.0
        ],
        [
         400.0
        ],
        [
         400.0
        ],
        [
         400.0
        ],
        [
         400.0
        ],
        [
         400.0
        ],
        [
         400.0
        ],
        [
         400.0
        ],
        [
         400.0
        ],
        [
         400.0
        ],
        [
         400.0
        ],
        [
         133.33333333333334
        ],
        [
         80.0
        ],
        [
         100.0
        ],
        [
         100.0
        ],
        [
         6.896551724137931
        ],
        [
         25.0
        ],
        [
         133.33333333333334
        ],
        [
         100.0
        ],
        [
         15.384615384615385
        ],
        [
         200.0
        ],
        [
         133.33333333333334
        ],
        [
         400.0
        ],
        [
         40.0
        ],
        [
         100.0
        ],
        [
         200.0
        ],
        [
         50.0
        ],
        [
         400.0
        ],
        [
         133.33333333333334
        ],
        [
         200.0
        ],
        [
         57.142857142857146
        ],
        [
         23.529411764705884
        ],
        [
         8.51063829787234
        ],
        [
         16.666666666666668
        ],
        [
         25.0
        ],
        [
         14.814814814814815
        ],
        [
         8.333333333333334
        ],
        [
         66.66666666666667
        ],
        [
         400.0
        ],
        [
         11.764705882352942
        ],
        [
         400.0
        ],
        [
         7.2727272727272725
        ],
        [
         400.0
        ],
        [
         17.391304347826086
        ],
        [
         66.66666666666667
        ],
        [
         26.666666666666668
        ],
        [
         66.66666666666667
        ],
        [
         133.33333333333334
        ],
        [
         100.0
        ],
        [
         100.0
        ],
        [
         25.0
        ],
        [
         200.0
        ],
        [
         133.33333333333334
        ],
        [
         66.66666666666667
        ],
        [
         400.0
        ],
        [
         400.0
        ],
        [
         30.76923076923077
        ],
        [
         10.526315789473685
        ],
        [
         18.181818181818183
        ],
        [
         40.0
        ],
        [
         25.0
        ],
        [
         50.0
        ],
        [
         133.33333333333334
        ],
        [
         133.33333333333334
        ],
        [
         400.0
        ],
        [
         400.0
        ],
        [
         133.33333333333334
        ],
        [
         30.76923076923077
        ],
        [
         400.0
        ],
        [
         200.0
        ],
        [
         400.0
        ],
        [
         80.0
        ],
        [
         9.523809523809524
        ],
        [
         25.0
        ],
        [
         44.44444444444444
        ],
        [
         36.36363636363637
        ],
        [
         80.0
        ],
        [
         200.0
        ],
        [
         100.0
        ],
        [
         400.0
        ],
        [
         133.33333333333334
        ],
        [
         133.33333333333334
        ],
        [
         200.0
        ],
        [
         57.142857142857146
        ],
        [
         23.529411764705884
        ],
        [
         100.0
        ],
        [
         44.44444444444444
        ],
        [
         23.529411764705884
        ],
        [
         133.33333333333334
        ],
        [
         80.0
        ],
        [
         44.44444444444444
        ],
        [
         133.33333333333334
        ],
        [
         17.391304347826086
        ],
        [
         400.0
        ],
        [
         33.333333333333336
        ],
        [
         400.0
        ],
        [
         400.0
        ],
        [
         57.142857142857146
        ],
        [
         80.0
        ],
        [
         133.33333333333334
        ],
        [
         200.0
        ],
        [
         28.571428571428573
        ],
        [
         80.0
        ],
        [
         22.22222222222222
        ],
        [
         66.66666666666667
        ],
        [
         33.333333333333336
        ],
        [
         33.333333333333336
        ],
        [
         21.05263157894737
        ],
        [
         23.529411764705884
        ],
        [
         80.0
        ],
        [
         26.666666666666668
        ],
        [
         400.0
        ],
        [
         80.0
        ],
        [
         21.05263157894737
        ],
        [
         100.0
        ],
        [
         400.0
        ],
        [
         25.0
        ],
        [
         400.0
        ],
        [
         40.0
        ],
        [
         133.33333333333334
        ],
        [
         100.0
        ],
        [
         200.0
        ],
        [
         57.142857142857146
        ],
        [
         400.0
        ],
        [
         200.0
        ],
        [
         400.0
        ],
        [
         100.0
        ],
        [
         200.0
        ],
        [
         400.0
        ],
        [
         200.0
        ],
        [
         80.0
        ],
        [
         200.0
        ],
        [
         200.0
        ],
        [
         200.0
        ],
        [
         100.0
        ],
        [
         26.666666666666668
        ],
        [
         400.0
        ],
        [
         100.0
        ],
        [
         400.0
        ],
        [
         133.33333333333334
        ],
        [
         200.0
        ],
        [
         400.0
        ],
        [
         400.0
        ],
        [
         200.0
        ],
        [
         400.0
        ],
        [
         200.0
        ],
        [
         400.0
        ],
        [
         50.0
        ],
        [
         400.0
        ],
        [
         400.0
        ],
        [
         26.666666666666668
        ],
        [
         133.33333333333334
        ],
        [
         33.333333333333336
        ],
        [
         100.0
        ],
        [
         400.0
        ],
        [
         400.0
        ],
        [
         200.0
        ],
        [
         22.22222222222222
        ],
        [
         44.44444444444444
        ],
        [
         100.0
        ],
        [
         400.0
        ],
        [
         400.0
        ],
        [
         200.0
        ],
        [
         133.33333333333334
        ],
        [
         133.33333333333334
        ],
        [
         40.0
        ],
        [
         80.0
        ],
        [
         200.0
        ],
        [
         57.142857142857146
        ],
        [
         200.0
        ],
        [
         80.0
        ],
        [
         100.0
        ],
        [
         200.0
        ],
        [
         100.0
        ],
        [
         400.0
        ],
        [
         200.0
        ],
        [
         200.0
        ],
        [
         400.0
        ],
        [
         26.666666666666668
        ],
        [
         200.0
        ],
        [
         36.36363636363637
        ],
        [
         400.0
        ],
        [
         400.0
        ],
        [
         400.0
        ],
        [
         400.0
        ],
        [
         36.36363636363637
        ],
        [
         400.0
        ],
        [
         133.33333333333334
        ],
        [
         200.0
        ],
        [
         200.0
        ],
        [
         200.0
        ],
        [
         400.0
        ],
        [
         200.0
        ],
        [
         200.0
        ],
        [
         400.0
        ],
        [
         200.0
        ],
        [
         400.0
        ],
        [
         200.0
        ],
        [
         400.0
        ],
        [
         200.0
        ],
        [
         133.33333333333334
        ],
        [
         400.0
        ],
        [
         200.0
        ],
        [
         400.0
        ],
        [
         200.0
        ],
        [
         400.0
        ],
        [
         80.0
        ],
        [
         400.0
        ],
        [
         400.0
        ],
        [
         133.33333333333334
        ],
        [
         36.36363636363637
        ],
        [
         400.0
        ],
        [
         400.0
        ],
        [
         400.0
        ],
        [
         200.0
        ],
        [
         200.0
        ],
        [
         400.0
        ],
        [
         200.0
        ],
        [
         200.0
        ],
        [
         400.0
        ],
        [
         400.0
        ],
        [
         400.0
        ],
        [
         200.0
        ],
        [
         200.0
        ],
        [
         133.33333333333334
        ],
        [
         57.142857142857146
        ],
        [
         200.0
        ],
        [
         400.0
        ],
        [
         400.0
        ],
        [
         200.0
        ],
        [
         200.0
        ],
        [
         133.33333333333334
        ],
        [
         133.33333333333334
        ],
        [
         400.0
        ],
        [
         400.0
        ],
        [
         400.0
        ],
        [
         133.33333333333334
        ],
        [
         200.0
        ],
        [
         200.0
        ],
        [
         400.0
        ],
        [
         400.0
        ],
        [
         400.0
        ],
        [
         400.0
        ],
        [
         200.0
        ],
        [
         200.0
        ],
        [
         400.0
        ],
        [
         100.0
        ],
        [
         400.0
        ],
        [
         100.0
        ],
        [
         44.44444444444444
        ],
        [
         400.0
        ],
        [
         200.0
        ],
        [
         133.33333333333334
        ],
        [
         400.0
        ],
        [
         50.0
        ],
        [
         133.33333333333334
        ],
        [
         400.0
        ],
        [
         400.0
        ],
        [
         400.0
        ],
        [
         400.0
        ],
        [
         400.0
        ],
        [
         80.0
        ],
        [
         400.0
        ],
        [
         133.33333333333334
        ],
        [
         200.0
        ],
        [
         133.33333333333334
        ],
        [
         200.0
        ],
        [
         400.0
        ],
        [
         400.0
        ],
        [
         400.0
        ],
        [
         30.76923076923077
        ],
        [
         400.0
        ],
        [
         400.0
        ],
        [
         200.0
        ],
        [
         80.0
        ],
        [
         133.33333333333334
        ],
        [
         200.0
        ],
        [
         200.0
        ],
        [
         400.0
        ],
        [
         400.0
        ],
        [
         200.0
        ],
        [
         50.0
        ],
        [
         200.0
        ],
        [
         400.0
        ],
        [
         400.0
        ],
        [
         400.0
        ],
        [
         400.0
        ],
        [
         400.0
        ],
        [
         200.0
        ],
        [
         200.0
        ],
        [
         400.0
        ],
        [
         200.0
        ],
        [
         400.0
        ],
        [
         200.0
        ],
        [
         200.0
        ],
        [
         400.0
        ],
        [
         400.0
        ],
        [
         400.0
        ],
        [
         133.33333333333334
        ],
        [
         400.0
        ],
        [
         400.0
        ],
        [
         50.0
        ],
        [
         200.0
        ],
        [
         100.0
        ],
        [
         400.0
        ],
        [
         400.0
        ],
        [
         400.0
        ],
        [
         400.0
        ],
        [
         133.33333333333334
        ],
        [
         400.0
        ],
        [
         400.0
        ],
        [
         200.0
        ],
        [
         400.0
        ],
        [
         400.0
        ],
        [
         200.0
        ],
        [
         400.0
        ],
        [
         133.33333333333334
        ],
        [
         57.142857142857146
        ],
        [
         200.0
        ],
        [
         200.0
        ],
        [
         133.33333333333334
        ],
        [
         200.0
        ],
        [
         400.0
        ],
        [
         100.0
        ],
        [
         200.0
        ],
        [
         200.0
        ],
        [
         200.0
        ],
        [
         400.0
        ],
        [
         80.0
        ],
        [
         400.0
        ],
        [
         200.0
        ],
        [
         200.0
        ],
        [
         200.0
        ],
        [
         400.0
        ],
        [
         400.0
        ],
        [
         400.0
        ],
        [
         133.33333333333334
        ],
        [
         400.0
        ],
        [
         133.33333333333334
        ],
        [
         80.0
        ],
        [
         133.33333333333334
        ],
        [
         133.33333333333334
        ],
        [
         200.0
        ],
        [
         100.0
        ],
        [
         200.0
        ],
        [
         200.0
        ],
        [
         400.0
        ],
        [
         400.0
        ],
        [
         400.0
        ],
        [
         57.142857142857146
        ],
        [
         133.33333333333334
        ],
        [
         200.0
        ],
        [
         200.0
        ],
        [
         400.0
        ],
        [
         80.0
        ],
        [
         133.33333333333334
        ],
        [
         400.0
        ],
        [
         400.0
        ],
        [
         400.0
        ],
        [
         200.0
        ],
        [
         80.0
        ],
        [
         200.0
        ],
        [
         400.0
        ],
        [
         200.0
        ],
        [
         400.0
        ],
        [
         400.0
        ],
        [
         400.0
        ],
        [
         400.0
        ],
        [
         200.0
        ],
        [
         400.0
        ],
        [
         200.0
        ],
        [
         400.0
        ],
        [
         400.0
        ],
        [
         400.0
        ],
        [
         200.0
        ],
        [
         133.33333333333334
        ],
        [
         400.0
        ],
        [
         133.33333333333334
        ],
        [
         400.0
        ],
        [
         400.0
        ],
        [
         400.0
        ],
        [
         200.0
        ],
        [
         133.33333333333334
        ],
        [
         200.0
        ],
        [
         133.33333333333334
        ],
        [
         133.33333333333334
        ],
        [
         200.0
        ],
        [
         400.0
        ],
        [
         400.0
        ],
        [
         400.0
        ],
        [
         400.0
        ],
        [
         400.0
        ],
        [
         400.0
        ],
        [
         200.0
        ],
        [
         400.0
        ],
        [
         400.0
        ],
        [
         400.0
        ],
        [
         200.0
        ],
        [
         400.0
        ],
        [
         400.0
        ],
        [
         400.0
        ],
        [
         400.0
        ],
        [
         400.0
        ],
        [
         400.0
        ],
        [
         400.0
        ],
        [
         400.0
        ],
        [
         400.0
        ],
        [
         400.0
        ],
        [
         400.0
        ],
        [
         200.0
        ],
        [
         400.0
        ],
        [
         200.0
        ],
        [
         400.0
        ],
        [
         100.0
        ],
        [
         400.0
        ],
        [
         50.0
        ],
        [
         400.0
        ],
        [
         400.0
        ],
        [
         400.0
        ],
        [
         400.0
        ],
        [
         400.0
        ],
        [
         400.0
        ],
        [
         400.0
        ],
        [
         200.0
        ],
        [
         400.0
        ],
        [
         400.0
        ],
        [
         133.33333333333334
        ],
        [
         400.0
        ],
        [
         400.0
        ],
        [
         400.0
        ],
        [
         400.0
        ],
        [
         400.0
        ],
        [
         133.33333333333334
        ],
        [
         400.0
        ],
        [
         200.0
        ],
        [
         400.0
        ],
        [
         200.0
        ],
        [
         400.0
        ],
        [
         200.0
        ],
        [
         400.0
        ],
        [
         200.0
        ],
        [
         200.0
        ],
        [
         200.0
        ],
        [
         400.0
        ],
        [
         400.0
        ],
        [
         400.0
        ],
        [
         200.0
        ],
        [
         400.0
        ],
        [
         200.0
        ],
        [
         400.0
        ],
        [
         400.0
        ],
        [
         400.0
        ],
        [
         400.0
        ],
        [
         400.0
        ],
        [
         400.0
        ],
        [
         200.0
        ],
        [
         200.0
        ],
        [
         200.0
        ],
        [
         400.0
        ],
        [
         400.0
        ],
        [
         400.0
        ],
        [
         400.0
        ],
        [
         400.0
        ],
        [
         400.0
        ],
        [
         133.33333333333334
        ],
        [
         400.0
        ],
        [
         200.0
        ],
        [
         400.0
        ],
        [
         200.0
        ],
        [
         400.0
        ],
        [
         400.0
        ],
        [
         400.0
        ],
        [
         200.0
        ],
        [
         200.0
        ],
        [
         133.33333333333334
        ],
        [
         400.0
        ],
        [
         400.0
        ],
        [
         400.0
        ],
        [
         400.0
        ],
        [
         200.0
        ],
        [
         400.0
        ],
        [
         400.0
        ],
        [
         400.0
        ],
        [
         200.0
        ],
        [
         400.0
        ],
        [
         200.0
        ],
        [
         133.33333333333334
        ],
        [
         400.0
        ],
        [
         200.0
        ],
        [
         400.0
        ],
        [
         400.0
        ],
        [
         400.0
        ],
        [
         400.0
        ],
        [
         400.0
        ],
        [
         133.33333333333334
        ],
        [
         400.0
        ],
        [
         400.0
        ],
        [
         133.33333333333334
        ],
        [
         400.0
        ],
        [
         400.0
        ],
        [
         400.0
        ],
        [
         400.0
        ],
        [
         400.0
        ],
        [
         400.0
        ],
        [
         400.0
        ],
        [
         400.0
        ],
        [
         400.0
        ],
        [
         400.0
        ],
        [
         400.0
        ],
        [
         400.0
        ],
        [
         400.0
        ],
        [
         400.0
        ],
        [
         133.33333333333334
        ],
        [
         133.33333333333334
        ],
        [
         133.33333333333334
        ],
        [
         133.33333333333334
        ],
        [
         133.33333333333334
        ],
        [
         400.0
        ],
        [
         400.0
        ],
        [
         400.0
        ],
        [
         400.0
        ],
        [
         400.0
        ],
        [
         400.0
        ],
        [
         400.0
        ],
        [
         400.0
        ],
        [
         200.0
        ],
        [
         400.0
        ],
        [
         400.0
        ],
        [
         400.0
        ],
        [
         400.0
        ],
        [
         400.0
        ],
        [
         400.0
        ],
        [
         400.0
        ],
        [
         400.0
        ],
        [
         400.0
        ],
        [
         400.0
        ],
        [
         400.0
        ],
        [
         400.0
        ],
        [
         400.0
        ],
        [
         400.0
        ],
        [
         400.0
        ],
        [
         400.0
        ],
        [
         400.0
        ],
        [
         400.0
        ],
        [
         400.0
        ],
        [
         400.0
        ],
        [
         400.0
        ],
        [
         400.0
        ],
        [
         400.0
        ],
        [
         400.0
        ],
        [
         400.0
        ],
        [
         400.0
        ],
        [
         400.0
        ],
        [
         400.0
        ],
        [
         400.0
        ],
        [
         400.0
        ],
        [
         400.0
        ],
        [
         400.0
        ],
        [
         400.0
        ],
        [
         400.0
        ],
        [
         400.0
        ],
        [
         400.0
        ],
        [
         133.33333333333334
        ],
        [
         400.0
        ],
        [
         400.0
        ],
        [
         400.0
        ],
        [
         400.0
        ],
        [
         400.0
        ],
        [
         400.0
        ],
        [
         400.0
        ],
        [
         400.0
        ],
        [
         400.0
        ],
        [
         400.0
        ],
        [
         400.0
        ],
        [
         400.0
        ],
        [
         400.0
        ],
        [
         400.0
        ],
        [
         400.0
        ],
        [
         400.0
        ],
        [
         200.0
        ],
        [
         400.0
        ],
        [
         400.0
        ],
        [
         400.0
        ],
        [
         400.0
        ],
        [
         400.0
        ],
        [
         400.0
        ],
        [
         400.0
        ],
        [
         400.0
        ],
        [
         400.0
        ],
        [
         400.0
        ],
        [
         400.0
        ],
        [
         400.0
        ],
        [
         400.0
        ],
        [
         400.0
        ],
        [
         400.0
        ],
        [
         57.142857142857146
        ],
        [
         400.0
        ],
        [
         8.51063829787234
        ],
        [
         8.88888888888889
        ],
        [
         18.181818181818183
        ],
        [
         66.66666666666667
        ],
        [
         23.529411764705884
        ],
        [
         19.047619047619047
        ],
        [
         21.05263157894737
        ],
        [
         7.017543859649122
        ],
        [
         40.0
        ],
        [
         200.0
        ],
        [
         200.0
        ],
        [
         200.0
        ],
        [
         66.66666666666667
        ],
        [
         66.66666666666667
        ],
        [
         200.0
        ],
        [
         200.0
        ],
        [
         200.0
        ],
        [
         200.0
        ],
        [
         80.0
        ],
        [
         400.0
        ],
        [
         100.0
        ],
        [
         10.0
        ],
        [
         133.33333333333334
        ],
        [
         400.0
        ],
        [
         400.0
        ],
        [
         400.0
        ],
        [
         100.0
        ],
        [
         23.529411764705884
        ],
        [
         400.0
        ],
        [
         8.695652173913043
        ],
        [
         200.0
        ],
        [
         400.0
        ],
        [
         44.44444444444444
        ],
        [
         66.66666666666667
        ],
        [
         40.0
        ],
        [
         133.33333333333334
        ],
        [
         200.0
        ],
        [
         400.0
        ],
        [
         57.142857142857146
        ],
        [
         40.0
        ],
        [
         57.142857142857146
        ],
        [
         200.0
        ],
        [
         200.0
        ],
        [
         40.0
        ],
        [
         200.0
        ],
        [
         400.0
        ],
        [
         66.66666666666667
        ],
        [
         9.090909090909092
        ],
        [
         36.36363636363637
        ],
        [
         400.0
        ],
        [
         16.666666666666668
        ],
        [
         133.33333333333334
        ],
        [
         400.0
        ],
        [
         80.0
        ],
        [
         66.66666666666667
        ],
        [
         100.0
        ],
        [
         50.0
        ],
        [
         200.0
        ],
        [
         12.5
        ],
        [
         50.0
        ],
        [
         200.0
        ],
        [
         33.333333333333336
        ],
        [
         57.142857142857146
        ],
        [
         30.76923076923077
        ],
        [
         400.0
        ],
        [
         28.571428571428573
        ],
        [
         400.0
        ],
        [
         400.0
        ],
        [
         400.0
        ],
        [
         40.0
        ],
        [
         200.0
        ],
        [
         50.0
        ],
        [
         200.0
        ],
        [
         133.33333333333334
        ],
        [
         100.0
        ],
        [
         133.33333333333334
        ],
        [
         21.05263157894737
        ],
        [
         57.142857142857146
        ],
        [
         400.0
        ],
        [
         133.33333333333334
        ],
        [
         100.0
        ],
        [
         40.0
        ],
        [
         133.33333333333334
        ],
        [
         133.33333333333334
        ],
        [
         400.0
        ],
        [
         50.0
        ],
        [
         400.0
        ],
        [
         100.0
        ],
        [
         33.333333333333336
        ],
        [
         400.0
        ],
        [
         200.0
        ],
        [
         57.142857142857146
        ],
        [
         200.0
        ],
        [
         400.0
        ],
        [
         400.0
        ],
        [
         133.33333333333334
        ],
        [
         200.0
        ],
        [
         400.0
        ],
        [
         133.33333333333334
        ],
        [
         16.666666666666668
        ],
        [
         200.0
        ],
        [
         200.0
        ],
        [
         133.33333333333334
        ],
        [
         50.0
        ],
        [
         14.285714285714286
        ],
        [
         400.0
        ],
        [
         14.814814814814815
        ],
        [
         133.33333333333334
        ],
        [
         200.0
        ],
        [
         400.0
        ],
        [
         23.529411764705884
        ],
        [
         36.36363636363637
        ],
        [
         400.0
        ],
        [
         30.76923076923077
        ],
        [
         400.0
        ],
        [
         133.33333333333334
        ],
        [
         400.0
        ],
        [
         400.0
        ],
        [
         28.571428571428573
        ],
        [
         50.0
        ],
        [
         30.76923076923077
        ],
        [
         400.0
        ],
        [
         400.0
        ],
        [
         100.0
        ],
        [
         100.0
        ],
        [
         400.0
        ],
        [
         400.0
        ],
        [
         133.33333333333334
        ],
        [
         133.33333333333334
        ],
        [
         50.0
        ],
        [
         100.0
        ],
        [
         400.0
        ],
        [
         400.0
        ],
        [
         400.0
        ],
        [
         200.0
        ],
        [
         400.0
        ],
        [
         400.0
        ],
        [
         133.33333333333334
        ],
        [
         200.0
        ],
        [
         133.33333333333334
        ],
        [
         80.0
        ],
        [
         200.0
        ],
        [
         100.0
        ],
        [
         400.0
        ],
        [
         200.0
        ],
        [
         80.0
        ],
        [
         400.0
        ],
        [
         28.571428571428573
        ],
        [
         200.0
        ],
        [
         400.0
        ],
        [
         400.0
        ],
        [
         66.66666666666667
        ],
        [
         400.0
        ],
        [
         200.0
        ],
        [
         400.0
        ],
        [
         400.0
        ],
        [
         133.33333333333334
        ],
        [
         40.0
        ],
        [
         66.66666666666667
        ],
        [
         66.66666666666667
        ],
        [
         16.0
        ],
        [
         200.0
        ],
        [
         400.0
        ],
        [
         200.0
        ],
        [
         100.0
        ],
        [
         200.0
        ],
        [
         100.0
        ],
        [
         400.0
        ],
        [
         66.66666666666667
        ],
        [
         66.66666666666667
        ],
        [
         400.0
        ],
        [
         133.33333333333334
        ],
        [
         200.0
        ],
        [
         100.0
        ],
        [
         133.33333333333334
        ],
        [
         80.0
        ],
        [
         16.666666666666668
        ],
        [
         200.0
        ],
        [
         200.0
        ],
        [
         200.0
        ],
        [
         200.0
        ],
        [
         40.0
        ],
        [
         200.0
        ],
        [
         36.36363636363637
        ],
        [
         40.0
        ],
        [
         133.33333333333334
        ],
        [
         21.05263157894737
        ],
        [
         19.047619047619047
        ],
        [
         200.0
        ],
        [
         200.0
        ],
        [
         100.0
        ],
        [
         133.33333333333334
        ],
        [
         36.36363636363637
        ],
        [
         200.0
        ],
        [
         200.0
        ],
        [
         200.0
        ],
        [
         200.0
        ],
        [
         400.0
        ],
        [
         133.33333333333334
        ],
        [
         44.44444444444444
        ],
        [
         133.33333333333334
        ],
        [
         200.0
        ],
        [
         57.142857142857146
        ],
        [
         133.33333333333334
        ],
        [
         133.33333333333334
        ],
        [
         133.33333333333334
        ],
        [
         57.142857142857146
        ],
        [
         200.0
        ],
        [
         400.0
        ],
        [
         133.33333333333334
        ],
        [
         100.0
        ],
        [
         40.0
        ],
        [
         66.66666666666667
        ],
        [
         400.0
        ],
        [
         100.0
        ],
        [
         200.0
        ],
        [
         100.0
        ],
        [
         133.33333333333334
        ],
        [
         133.33333333333334
        ],
        [
         400.0
        ],
        [
         400.0
        ],
        [
         400.0
        ],
        [
         400.0
        ],
        [
         133.33333333333334
        ],
        [
         200.0
        ],
        [
         400.0
        ],
        [
         400.0
        ],
        [
         400.0
        ],
        [
         400.0
        ],
        [
         100.0
        ],
        [
         133.33333333333334
        ],
        [
         200.0
        ],
        [
         100.0
        ],
        [
         26.666666666666668
        ],
        [
         400.0
        ],
        [
         57.142857142857146
        ],
        [
         400.0
        ],
        [
         133.33333333333334
        ],
        [
         100.0
        ],
        [
         200.0
        ],
        [
         400.0
        ],
        [
         400.0
        ],
        [
         133.33333333333334
        ],
        [
         400.0
        ],
        [
         400.0
        ],
        [
         400.0
        ],
        [
         133.33333333333334
        ],
        [
         200.0
        ],
        [
         100.0
        ],
        [
         66.66666666666667
        ],
        [
         133.33333333333334
        ],
        [
         133.33333333333334
        ],
        [
         400.0
        ],
        [
         400.0
        ],
        [
         200.0
        ],
        [
         133.33333333333334
        ],
        [
         66.66666666666667
        ],
        [
         57.142857142857146
        ],
        [
         200.0
        ],
        [
         133.33333333333334
        ],
        [
         400.0
        ],
        [
         400.0
        ],
        [
         400.0
        ],
        [
         400.0
        ],
        [
         400.0
        ],
        [
         133.33333333333334
        ],
        [
         400.0
        ],
        [
         400.0
        ],
        [
         400.0
        ],
        [
         200.0
        ],
        [
         400.0
        ],
        [
         400.0
        ],
        [
         400.0
        ],
        [
         400.0
        ],
        [
         200.0
        ],
        [
         400.0
        ],
        [
         200.0
        ],
        [
         400.0
        ],
        [
         400.0
        ],
        [
         200.0
        ],
        [
         400.0
        ],
        [
         400.0
        ],
        [
         80.0
        ],
        [
         400.0
        ],
        [
         80.0
        ],
        [
         200.0
        ],
        [
         400.0
        ],
        [
         400.0
        ],
        [
         66.66666666666667
        ],
        [
         400.0
        ],
        [
         400.0
        ],
        [
         400.0
        ],
        [
         200.0
        ],
        [
         400.0
        ],
        [
         80.0
        ],
        [
         200.0
        ],
        [
         400.0
        ],
        [
         400.0
        ],
        [
         100.0
        ],
        [
         200.0
        ],
        [
         400.0
        ],
        [
         400.0
        ],
        [
         133.33333333333334
        ],
        [
         133.33333333333334
        ],
        [
         200.0
        ],
        [
         133.33333333333334
        ],
        [
         133.33333333333334
        ],
        [
         400.0
        ],
        [
         400.0
        ],
        [
         400.0
        ],
        [
         400.0
        ],
        [
         100.0
        ],
        [
         100.0
        ],
        [
         400.0
        ],
        [
         200.0
        ],
        [
         200.0
        ],
        [
         400.0
        ],
        [
         400.0
        ],
        [
         200.0
        ],
        [
         400.0
        ],
        [
         400.0
        ],
        [
         400.0
        ],
        [
         400.0
        ],
        [
         200.0
        ],
        [
         200.0
        ],
        [
         400.0
        ],
        [
         400.0
        ],
        [
         400.0
        ],
        [
         80.0
        ],
        [
         200.0
        ],
        [
         400.0
        ],
        [
         400.0
        ],
        [
         100.0
        ],
        [
         400.0
        ],
        [
         400.0
        ],
        [
         400.0
        ],
        [
         200.0
        ],
        [
         400.0
        ],
        [
         100.0
        ],
        [
         200.0
        ],
        [
         400.0
        ],
        [
         400.0
        ],
        [
         200.0
        ],
        [
         400.0
        ],
        [
         133.33333333333334
        ],
        [
         200.0
        ],
        [
         400.0
        ],
        [
         400.0
        ],
        [
         400.0
        ],
        [
         200.0
        ],
        [
         400.0
        ],
        [
         133.33333333333334
        ],
        [
         133.33333333333334
        ],
        [
         400.0
        ],
        [
         400.0
        ],
        [
         200.0
        ],
        [
         200.0
        ],
        [
         100.0
        ],
        [
         200.0
        ],
        [
         200.0
        ],
        [
         200.0
        ],
        [
         400.0
        ],
        [
         400.0
        ],
        [
         400.0
        ],
        [
         400.0
        ],
        [
         400.0
        ],
        [
         400.0
        ],
        [
         400.0
        ],
        [
         400.0
        ],
        [
         200.0
        ],
        [
         400.0
        ],
        [
         400.0
        ],
        [
         200.0
        ],
        [
         400.0
        ],
        [
         200.0
        ],
        [
         400.0
        ],
        [
         400.0
        ],
        [
         400.0
        ],
        [
         400.0
        ],
        [
         400.0
        ],
        [
         400.0
        ],
        [
         400.0
        ],
        [
         400.0
        ],
        [
         200.0
        ],
        [
         200.0
        ],
        [
         200.0
        ],
        [
         400.0
        ],
        [
         200.0
        ],
        [
         200.0
        ],
        [
         133.33333333333334
        ],
        [
         100.0
        ],
        [
         200.0
        ],
        [
         400.0
        ],
        [
         200.0
        ],
        [
         400.0
        ],
        [
         400.0
        ],
        [
         200.0
        ],
        [
         133.33333333333334
        ],
        [
         400.0
        ],
        [
         100.0
        ],
        [
         400.0
        ],
        [
         400.0
        ],
        [
         200.0
        ],
        [
         80.0
        ],
        [
         400.0
        ],
        [
         200.0
        ],
        [
         200.0
        ],
        [
         200.0
        ],
        [
         100.0
        ],
        [
         400.0
        ],
        [
         100.0
        ],
        [
         100.0
        ],
        [
         400.0
        ],
        [
         400.0
        ],
        [
         133.33333333333334
        ],
        [
         400.0
        ],
        [
         80.0
        ],
        [
         200.0
        ],
        [
         400.0
        ],
        [
         133.33333333333334
        ],
        [
         400.0
        ],
        [
         200.0
        ],
        [
         200.0
        ],
        [
         100.0
        ],
        [
         133.33333333333334
        ],
        [
         200.0
        ],
        [
         400.0
        ],
        [
         400.0
        ],
        [
         133.33333333333334
        ],
        [
         200.0
        ],
        [
         400.0
        ],
        [
         400.0
        ],
        [
         400.0
        ],
        [
         400.0
        ],
        [
         400.0
        ],
        [
         400.0
        ],
        [
         400.0
        ],
        [
         200.0
        ],
        [
         200.0
        ],
        [
         200.0
        ],
        [
         400.0
        ],
        [
         400.0
        ],
        [
         66.66666666666667
        ],
        [
         400.0
        ],
        [
         400.0
        ],
        [
         400.0
        ],
        [
         400.0
        ],
        [
         400.0
        ],
        [
         400.0
        ],
        [
         400.0
        ],
        [
         400.0
        ],
        [
         400.0
        ],
        [
         400.0
        ],
        [
         400.0
        ],
        [
         400.0
        ],
        [
         400.0
        ],
        [
         400.0
        ],
        [
         400.0
        ],
        [
         400.0
        ],
        [
         400.0
        ],
        [
         400.0
        ],
        [
         400.0
        ],
        [
         133.33333333333334
        ],
        [
         200.0
        ],
        [
         200.0
        ],
        [
         400.0
        ],
        [
         400.0
        ],
        [
         200.0
        ],
        [
         400.0
        ],
        [
         400.0
        ],
        [
         400.0
        ],
        [
         400.0
        ],
        [
         400.0
        ],
        [
         133.33333333333334
        ],
        [
         400.0
        ],
        [
         400.0
        ],
        [
         200.0
        ],
        [
         200.0
        ],
        [
         200.0
        ],
        [
         400.0
        ],
        [
         133.33333333333334
        ],
        [
         400.0
        ],
        [
         400.0
        ],
        [
         200.0
        ],
        [
         200.0
        ],
        [
         400.0
        ],
        [
         400.0
        ],
        [
         200.0
        ],
        [
         400.0
        ],
        [
         400.0
        ],
        [
         200.0
        ],
        [
         400.0
        ],
        [
         200.0
        ],
        [
         200.0
        ],
        [
         400.0
        ],
        [
         200.0
        ],
        [
         400.0
        ],
        [
         400.0
        ],
        [
         400.0
        ],
        [
         400.0
        ],
        [
         400.0
        ],
        [
         400.0
        ],
        [
         200.0
        ],
        [
         400.0
        ],
        [
         200.0
        ],
        [
         400.0
        ],
        [
         200.0
        ],
        [
         400.0
        ],
        [
         400.0
        ],
        [
         400.0
        ],
        [
         400.0
        ],
        [
         400.0
        ],
        [
         400.0
        ],
        [
         400.0
        ],
        [
         400.0
        ],
        [
         400.0
        ],
        [
         400.0
        ],
        [
         400.0
        ],
        [
         400.0
        ],
        [
         400.0
        ],
        [
         400.0
        ],
        [
         400.0
        ],
        [
         200.0
        ],
        [
         200.0
        ],
        [
         400.0
        ],
        [
         400.0
        ],
        [
         400.0
        ],
        [
         400.0
        ],
        [
         400.0
        ],
        [
         400.0
        ],
        [
         400.0
        ],
        [
         400.0
        ],
        [
         400.0
        ],
        [
         400.0
        ],
        [
         400.0
        ],
        [
         400.0
        ],
        [
         400.0
        ],
        [
         400.0
        ],
        [
         400.0
        ],
        [
         400.0
        ],
        [
         400.0
        ],
        [
         400.0
        ],
        [
         400.0
        ],
        [
         200.0
        ],
        [
         400.0
        ],
        [
         133.33333333333334
        ],
        [
         400.0
        ],
        [
         400.0
        ],
        [
         200.0
        ],
        [
         400.0
        ],
        [
         400.0
        ],
        [
         400.0
        ],
        [
         400.0
        ],
        [
         100.0
        ],
        [
         133.33333333333334
        ],
        [
         400.0
        ],
        [
         400.0
        ],
        [
         400.0
        ],
        [
         400.0
        ],
        [
         400.0
        ],
        [
         400.0
        ],
        [
         400.0
        ],
        [
         400.0
        ],
        [
         400.0
        ],
        [
         400.0
        ],
        [
         400.0
        ],
        [
         400.0
        ],
        [
         400.0
        ],
        [
         400.0
        ],
        [
         400.0
        ],
        [
         400.0
        ],
        [
         400.0
        ],
        [
         400.0
        ],
        [
         400.0
        ],
        [
         400.0
        ],
        [
         400.0
        ],
        [
         200.0
        ],
        [
         400.0
        ],
        [
         400.0
        ],
        [
         400.0
        ],
        [
         400.0
        ],
        [
         400.0
        ],
        [
         400.0
        ],
        [
         400.0
        ],
        [
         400.0
        ],
        [
         400.0
        ],
        [
         400.0
        ],
        [
         400.0
        ],
        [
         400.0
        ],
        [
         400.0
        ],
        [
         400.0
        ],
        [
         400.0
        ],
        [
         400.0
        ],
        [
         400.0
        ],
        [
         400.0
        ],
        [
         400.0
        ],
        [
         400.0
        ],
        [
         400.0
        ],
        [
         400.0
        ],
        [
         400.0
        ],
        [
         400.0
        ],
        [
         400.0
        ],
        [
         400.0
        ],
        [
         400.0
        ],
        [
         400.0
        ],
        [
         400.0
        ],
        [
         400.0
        ],
        [
         400.0
        ],
        [
         400.0
        ],
        [
         400.0
        ],
        [
         400.0
        ],
        [
         400.0
        ],
        [
         400.0
        ],
        [
         400.0
        ],
        [
         400.0
        ],
        [
         400.0
        ],
        [
         400.0
        ],
        [
         400.0
        ],
        [
         400.0
        ],
        [
         400.0
        ],
        [
         400.0
        ],
        [
         400.0
        ],
        [
         400.0
        ],
        [
         400.0
        ],
        [
         400.0
        ],
        [
         400.0
        ],
        [
         400.0
        ],
        [
         400.0
        ],
        [
         400.0
        ],
        [
         400.0
        ],
        [
         400.0
        ],
        [
         200.0
        ],
        [
         33.333333333333336
        ],
        [
         50.0
        ],
        [
         50.0
        ],
        [
         400.0
        ],
        [
         400.0
        ],
        [
         66.66666666666667
        ],
        [
         44.44444444444444
        ],
        [
         10.81081081081081
        ],
        [
         80.0
        ],
        [
         30.76923076923077
        ],
        [
         200.0
        ],
        [
         25.0
        ],
        [
         200.0
        ],
        [
         400.0
        ],
        [
         36.36363636363637
        ],
        [
         12.5
        ],
        [
         200.0
        ],
        [
         40.0
        ],
        [
         57.142857142857146
        ],
        [
         40.0
        ],
        [
         100.0
        ],
        [
         11.764705882352942
        ],
        [
         400.0
        ],
        [
         28.571428571428573
        ],
        [
         12.903225806451612
        ],
        [
         200.0
        ],
        [
         400.0
        ],
        [
         11.764705882352942
        ],
        [
         50.0
        ],
        [
         22.22222222222222
        ],
        [
         400.0
        ],
        [
         400.0
        ],
        [
         400.0
        ],
        [
         400.0
        ],
        [
         80.0
        ],
        [
         50.0
        ],
        [
         15.384615384615385
        ],
        [
         133.33333333333334
        ],
        [
         36.36363636363637
        ],
        [
         57.142857142857146
        ],
        [
         400.0
        ],
        [
         50.0
        ],
        [
         30.76923076923077
        ],
        [
         400.0
        ],
        [
         23.529411764705884
        ],
        [
         200.0
        ],
        [
         25.0
        ],
        [
         200.0
        ],
        [
         200.0
        ],
        [
         400.0
        ],
        [
         400.0
        ],
        [
         400.0
        ],
        [
         400.0
        ],
        [
         400.0
        ],
        [
         400.0
        ],
        [
         16.0
        ],
        [
         200.0
        ],
        [
         400.0
        ],
        [
         80.0
        ],
        [
         40.0
        ],
        [
         100.0
        ],
        [
         26.666666666666668
        ],
        [
         200.0
        ],
        [
         200.0
        ],
        [
         133.33333333333334
        ],
        [
         200.0
        ],
        [
         400.0
        ],
        [
         200.0
        ],
        [
         23.529411764705884
        ],
        [
         25.0
        ],
        [
         57.142857142857146
        ],
        [
         200.0
        ],
        [
         200.0
        ],
        [
         200.0
        ],
        [
         133.33333333333334
        ],
        [
         100.0
        ],
        [
         80.0
        ],
        [
         50.0
        ],
        [
         80.0
        ],
        [
         80.0
        ],
        [
         25.0
        ],
        [
         44.44444444444444
        ],
        [
         200.0
        ],
        [
         100.0
        ],
        [
         200.0
        ],
        [
         400.0
        ],
        [
         80.0
        ],
        [
         33.333333333333336
        ],
        [
         66.66666666666667
        ],
        [
         80.0
        ],
        [
         400.0
        ],
        [
         100.0
        ],
        [
         200.0
        ],
        [
         44.44444444444444
        ],
        [
         200.0
        ],
        [
         400.0
        ],
        [
         80.0
        ],
        [
         80.0
        ],
        [
         400.0
        ],
        [
         400.0
        ],
        [
         100.0
        ],
        [
         400.0
        ],
        [
         40.0
        ],
        [
         400.0
        ],
        [
         400.0
        ],
        [
         33.333333333333336
        ],
        [
         20.0
        ],
        [
         66.66666666666667
        ],
        [
         133.33333333333334
        ],
        [
         100.0
        ],
        [
         33.333333333333336
        ],
        [
         400.0
        ],
        [
         200.0
        ],
        [
         200.0
        ],
        [
         400.0
        ],
        [
         66.66666666666667
        ],
        [
         66.66666666666667
        ],
        [
         57.142857142857146
        ],
        [
         100.0
        ],
        [
         100.0
        ],
        [
         400.0
        ],
        [
         400.0
        ],
        [
         400.0
        ],
        [
         33.333333333333336
        ],
        [
         80.0
        ],
        [
         400.0
        ],
        [
         66.66666666666667
        ],
        [
         400.0
        ],
        [
         100.0
        ],
        [
         100.0
        ],
        [
         36.36363636363637
        ],
        [
         133.33333333333334
        ],
        [
         400.0
        ],
        [
         200.0
        ],
        [
         400.0
        ],
        [
         100.0
        ],
        [
         13.793103448275861
        ],
        [
         400.0
        ],
        [
         400.0
        ],
        [
         25.0
        ],
        [
         400.0
        ],
        [
         200.0
        ],
        [
         100.0
        ],
        [
         80.0
        ],
        [
         400.0
        ],
        [
         200.0
        ],
        [
         400.0
        ],
        [
         400.0
        ],
        [
         400.0
        ],
        [
         400.0
        ],
        [
         200.0
        ],
        [
         200.0
        ],
        [
         200.0
        ],
        [
         57.142857142857146
        ],
        [
         200.0
        ],
        [
         80.0
        ],
        [
         200.0
        ],
        [
         66.66666666666667
        ],
        [
         57.142857142857146
        ],
        [
         26.666666666666668
        ],
        [
         200.0
        ],
        [
         400.0
        ],
        [
         133.33333333333334
        ],
        [
         26.666666666666668
        ],
        [
         40.0
        ],
        [
         400.0
        ],
        [
         400.0
        ],
        [
         400.0
        ],
        [
         40.0
        ],
        [
         400.0
        ],
        [
         400.0
        ],
        [
         400.0
        ],
        [
         33.333333333333336
        ],
        [
         400.0
        ],
        [
         200.0
        ],
        [
         133.33333333333334
        ],
        [
         400.0
        ],
        [
         133.33333333333334
        ],
        [
         200.0
        ],
        [
         100.0
        ],
        [
         57.142857142857146
        ],
        [
         400.0
        ],
        [
         200.0
        ],
        [
         200.0
        ],
        [
         133.33333333333334
        ],
        [
         200.0
        ],
        [
         30.76923076923077
        ],
        [
         200.0
        ],
        [
         50.0
        ],
        [
         100.0
        ],
        [
         100.0
        ],
        [
         200.0
        ],
        [
         400.0
        ],
        [
         57.142857142857146
        ],
        [
         66.66666666666667
        ],
        [
         200.0
        ],
        [
         50.0
        ],
        [
         200.0
        ],
        [
         80.0
        ],
        [
         200.0
        ],
        [
         400.0
        ],
        [
         133.33333333333334
        ],
        [
         400.0
        ],
        [
         80.0
        ],
        [
         80.0
        ],
        [
         400.0
        ],
        [
         200.0
        ],
        [
         133.33333333333334
        ],
        [
         400.0
        ],
        [
         400.0
        ],
        [
         200.0
        ],
        [
         200.0
        ],
        [
         133.33333333333334
        ],
        [
         200.0
        ],
        [
         400.0
        ],
        [
         400.0
        ],
        [
         400.0
        ],
        [
         200.0
        ],
        [
         400.0
        ],
        [
         133.33333333333334
        ],
        [
         50.0
        ],
        [
         200.0
        ],
        [
         66.66666666666667
        ],
        [
         200.0
        ],
        [
         400.0
        ],
        [
         200.0
        ],
        [
         400.0
        ],
        [
         133.33333333333334
        ],
        [
         400.0
        ],
        [
         400.0
        ],
        [
         200.0
        ],
        [
         100.0
        ],
        [
         133.33333333333334
        ],
        [
         200.0
        ],
        [
         200.0
        ],
        [
         200.0
        ],
        [
         400.0
        ],
        [
         200.0
        ],
        [
         200.0
        ],
        [
         400.0
        ],
        [
         100.0
        ],
        [
         100.0
        ],
        [
         400.0
        ],
        [
         400.0
        ],
        [
         133.33333333333334
        ],
        [
         66.66666666666667
        ],
        [
         400.0
        ],
        [
         100.0
        ],
        [
         200.0
        ],
        [
         400.0
        ],
        [
         400.0
        ],
        [
         66.66666666666667
        ],
        [
         200.0
        ],
        [
         400.0
        ],
        [
         200.0
        ],
        [
         200.0
        ],
        [
         133.33333333333334
        ],
        [
         400.0
        ],
        [
         50.0
        ],
        [
         133.33333333333334
        ],
        [
         200.0
        ],
        [
         200.0
        ],
        [
         400.0
        ],
        [
         200.0
        ],
        [
         200.0
        ],
        [
         400.0
        ],
        [
         400.0
        ],
        [
         400.0
        ],
        [
         100.0
        ],
        [
         400.0
        ],
        [
         400.0
        ],
        [
         400.0
        ],
        [
         200.0
        ],
        [
         400.0
        ],
        [
         400.0
        ],
        [
         400.0
        ],
        [
         133.33333333333334
        ],
        [
         100.0
        ],
        [
         400.0
        ],
        [
         44.44444444444444
        ],
        [
         400.0
        ],
        [
         80.0
        ],
        [
         400.0
        ],
        [
         400.0
        ],
        [
         200.0
        ],
        [
         400.0
        ],
        [
         200.0
        ],
        [
         400.0
        ],
        [
         400.0
        ],
        [
         133.33333333333334
        ],
        [
         400.0
        ],
        [
         400.0
        ],
        [
         200.0
        ],
        [
         400.0
        ],
        [
         400.0
        ],
        [
         400.0
        ],
        [
         400.0
        ],
        [
         400.0
        ],
        [
         100.0
        ],
        [
         400.0
        ],
        [
         400.0
        ],
        [
         133.33333333333334
        ],
        [
         100.0
        ],
        [
         100.0
        ],
        [
         400.0
        ],
        [
         100.0
        ],
        [
         100.0
        ],
        [
         66.66666666666667
        ],
        [
         200.0
        ],
        [
         200.0
        ],
        [
         200.0
        ],
        [
         400.0
        ],
        [
         400.0
        ],
        [
         400.0
        ],
        [
         200.0
        ],
        [
         400.0
        ],
        [
         400.0
        ],
        [
         200.0
        ],
        [
         100.0
        ],
        [
         200.0
        ],
        [
         400.0
        ],
        [
         200.0
        ],
        [
         200.0
        ],
        [
         200.0
        ],
        [
         200.0
        ],
        [
         400.0
        ],
        [
         200.0
        ],
        [
         400.0
        ],
        [
         400.0
        ],
        [
         200.0
        ],
        [
         200.0
        ],
        [
         200.0
        ],
        [
         200.0
        ],
        [
         200.0
        ],
        [
         400.0
        ],
        [
         400.0
        ],
        [
         400.0
        ],
        [
         200.0
        ],
        [
         80.0
        ],
        [
         200.0
        ],
        [
         400.0
        ],
        [
         400.0
        ],
        [
         200.0
        ],
        [
         400.0
        ],
        [
         400.0
        ],
        [
         400.0
        ],
        [
         400.0
        ],
        [
         400.0
        ],
        [
         80.0
        ],
        [
         400.0
        ],
        [
         400.0
        ],
        [
         400.0
        ],
        [
         400.0
        ],
        [
         400.0
        ],
        [
         133.33333333333334
        ],
        [
         400.0
        ],
        [
         200.0
        ],
        [
         400.0
        ],
        [
         400.0
        ],
        [
         400.0
        ],
        [
         400.0
        ],
        [
         400.0
        ],
        [
         133.33333333333334
        ],
        [
         100.0
        ],
        [
         100.0
        ],
        [
         200.0
        ],
        [
         200.0
        ],
        [
         400.0
        ],
        [
         400.0
        ],
        [
         400.0
        ],
        [
         400.0
        ],
        [
         400.0
        ],
        [
         200.0
        ],
        [
         400.0
        ],
        [
         400.0
        ],
        [
         57.142857142857146
        ],
        [
         400.0
        ],
        [
         400.0
        ],
        [
         400.0
        ],
        [
         400.0
        ],
        [
         400.0
        ],
        [
         200.0
        ],
        [
         400.0
        ],
        [
         400.0
        ],
        [
         400.0
        ],
        [
         400.0
        ],
        [
         400.0
        ],
        [
         400.0
        ],
        [
         400.0
        ],
        [
         200.0
        ],
        [
         400.0
        ],
        [
         400.0
        ],
        [
         400.0
        ],
        [
         200.0
        ],
        [
         133.33333333333334
        ],
        [
         400.0
        ],
        [
         400.0
        ],
        [
         400.0
        ],
        [
         200.0
        ],
        [
         400.0
        ],
        [
         133.33333333333334
        ],
        [
         400.0
        ],
        [
         400.0
        ],
        [
         80.0
        ],
        [
         400.0
        ],
        [
         200.0
        ],
        [
         100.0
        ],
        [
         200.0
        ],
        [
         80.0
        ],
        [
         200.0
        ],
        [
         400.0
        ],
        [
         400.0
        ],
        [
         400.0
        ],
        [
         400.0
        ],
        [
         400.0
        ],
        [
         200.0
        ],
        [
         400.0
        ],
        [
         400.0
        ],
        [
         400.0
        ],
        [
         200.0
        ],
        [
         400.0
        ],
        [
         400.0
        ],
        [
         400.0
        ],
        [
         80.0
        ],
        [
         400.0
        ],
        [
         400.0
        ],
        [
         400.0
        ],
        [
         400.0
        ],
        [
         400.0
        ],
        [
         200.0
        ],
        [
         400.0
        ],
        [
         400.0
        ],
        [
         400.0
        ],
        [
         400.0
        ],
        [
         400.0
        ],
        [
         400.0
        ],
        [
         133.33333333333334
        ],
        [
         400.0
        ],
        [
         133.33333333333334
        ],
        [
         400.0
        ],
        [
         133.33333333333334
        ],
        [
         200.0
        ],
        [
         400.0
        ],
        [
         133.33333333333334
        ],
        [
         200.0
        ],
        [
         400.0
        ],
        [
         133.33333333333334
        ],
        [
         200.0
        ],
        [
         400.0
        ],
        [
         200.0
        ],
        [
         400.0
        ],
        [
         400.0
        ],
        [
         400.0
        ],
        [
         200.0
        ],
        [
         400.0
        ],
        [
         400.0
        ],
        [
         400.0
        ],
        [
         200.0
        ],
        [
         400.0
        ],
        [
         400.0
        ],
        [
         400.0
        ],
        [
         400.0
        ],
        [
         400.0
        ],
        [
         400.0
        ],
        [
         400.0
        ],
        [
         400.0
        ],
        [
         200.0
        ],
        [
         400.0
        ],
        [
         200.0
        ],
        [
         200.0
        ],
        [
         400.0
        ],
        [
         400.0
        ],
        [
         400.0
        ],
        [
         200.0
        ],
        [
         400.0
        ],
        [
         400.0
        ],
        [
         400.0
        ],
        [
         200.0
        ],
        [
         400.0
        ],
        [
         400.0
        ],
        [
         400.0
        ],
        [
         400.0
        ],
        [
         400.0
        ],
        [
         400.0
        ],
        [
         400.0
        ],
        [
         200.0
        ],
        [
         400.0
        ],
        [
         133.33333333333334
        ],
        [
         400.0
        ],
        [
         400.0
        ],
        [
         400.0
        ],
        [
         80.0
        ],
        [
         400.0
        ],
        [
         400.0
        ],
        [
         400.0
        ],
        [
         400.0
        ],
        [
         200.0
        ],
        [
         400.0
        ],
        [
         400.0
        ],
        [
         400.0
        ],
        [
         200.0
        ],
        [
         400.0
        ],
        [
         400.0
        ],
        [
         400.0
        ],
        [
         400.0
        ],
        [
         200.0
        ],
        [
         400.0
        ],
        [
         400.0
        ],
        [
         133.33333333333334
        ],
        [
         400.0
        ],
        [
         400.0
        ],
        [
         400.0
        ],
        [
         400.0
        ],
        [
         400.0
        ],
        [
         133.33333333333334
        ],
        [
         400.0
        ],
        [
         400.0
        ],
        [
         400.0
        ],
        [
         400.0
        ],
        [
         400.0
        ],
        [
         400.0
        ],
        [
         400.0
        ],
        [
         200.0
        ],
        [
         400.0
        ],
        [
         400.0
        ],
        [
         400.0
        ],
        [
         400.0
        ],
        [
         400.0
        ],
        [
         400.0
        ],
        [
         400.0
        ],
        [
         400.0
        ],
        [
         400.0
        ],
        [
         400.0
        ],
        [
         400.0
        ],
        [
         400.0
        ],
        [
         400.0
        ],
        [
         400.0
        ],
        [
         400.0
        ],
        [
         400.0
        ],
        [
         400.0
        ],
        [
         400.0
        ],
        [
         400.0
        ],
        [
         400.0
        ],
        [
         400.0
        ],
        [
         400.0
        ],
        [
         400.0
        ],
        [
         200.0
        ],
        [
         400.0
        ],
        [
         400.0
        ],
        [
         400.0
        ],
        [
         400.0
        ],
        [
         400.0
        ],
        [
         400.0
        ],
        [
         400.0
        ],
        [
         400.0
        ],
        [
         400.0
        ],
        [
         400.0
        ],
        [
         400.0
        ],
        [
         400.0
        ],
        [
         400.0
        ],
        [
         400.0
        ],
        [
         400.0
        ],
        [
         400.0
        ],
        [
         400.0
        ],
        [
         400.0
        ],
        [
         400.0
        ],
        [
         400.0
        ],
        [
         400.0
        ],
        [
         400.0
        ],
        [
         400.0
        ],
        [
         400.0
        ],
        [
         400.0
        ],
        [
         400.0
        ],
        [
         400.0
        ],
        [
         400.0
        ],
        [
         400.0
        ],
        [
         400.0
        ],
        [
         400.0
        ],
        [
         100.0
        ],
        [
         133.33333333333334
        ],
        [
         200.0
        ],
        [
         200.0
        ],
        [
         80.0
        ],
        [
         66.66666666666667
        ],
        [
         80.0
        ],
        [
         100.0
        ],
        [
         57.142857142857146
        ],
        [
         22.22222222222222
        ],
        [
         100.0
        ],
        [
         44.44444444444444
        ],
        [
         100.0
        ],
        [
         400.0
        ],
        [
         50.0
        ],
        [
         200.0
        ],
        [
         12.5
        ],
        [
         33.333333333333336
        ],
        [
         400.0
        ],
        [
         400.0
        ],
        [
         133.33333333333334
        ],
        [
         25.0
        ],
        [
         33.333333333333336
        ],
        [
         200.0
        ],
        [
         400.0
        ],
        [
         28.571428571428573
        ],
        [
         400.0
        ],
        [
         400.0
        ],
        [
         400.0
        ],
        [
         400.0
        ],
        [
         400.0
        ],
        [
         57.142857142857146
        ],
        [
         100.0
        ],
        [
         17.391304347826086
        ],
        [
         44.44444444444444
        ],
        [
         133.33333333333334
        ],
        [
         200.0
        ],
        [
         200.0
        ],
        [
         100.0
        ],
        [
         133.33333333333334
        ],
        [
         50.0
        ],
        [
         400.0
        ],
        [
         33.333333333333336
        ],
        [
         400.0
        ],
        [
         80.0
        ],
        [
         15.384615384615385
        ],
        [
         22.22222222222222
        ],
        [
         200.0
        ],
        [
         17.391304347826086
        ],
        [
         400.0
        ],
        [
         50.0
        ],
        [
         100.0
        ],
        [
         80.0
        ],
        [
         400.0
        ],
        [
         66.66666666666667
        ],
        [
         80.0
        ],
        [
         200.0
        ],
        [
         200.0
        ],
        [
         66.66666666666667
        ],
        [
         14.285714285714286
        ],
        [
         100.0
        ],
        [
         400.0
        ],
        [
         100.0
        ],
        [
         100.0
        ],
        [
         57.142857142857146
        ],
        [
         133.33333333333334
        ],
        [
         36.36363636363637
        ],
        [
         200.0
        ],
        [
         200.0
        ],
        [
         80.0
        ],
        [
         57.142857142857146
        ],
        [
         36.36363636363637
        ],
        [
         200.0
        ],
        [
         30.76923076923077
        ],
        [
         133.33333333333334
        ],
        [
         200.0
        ],
        [
         200.0
        ],
        [
         400.0
        ],
        [
         400.0
        ],
        [
         100.0
        ],
        [
         400.0
        ],
        [
         14.285714285714286
        ],
        [
         400.0
        ],
        [
         400.0
        ],
        [
         80.0
        ],
        [
         200.0
        ],
        [
         26.666666666666668
        ],
        [
         14.814814814814815
        ],
        [
         133.33333333333334
        ],
        [
         133.33333333333334
        ],
        [
         100.0
        ],
        [
         50.0
        ],
        [
         57.142857142857146
        ],
        [
         400.0
        ],
        [
         400.0
        ],
        [
         20.0
        ],
        [
         200.0
        ],
        [
         400.0
        ],
        [
         80.0
        ],
        [
         400.0
        ],
        [
         400.0
        ],
        [
         400.0
        ],
        [
         80.0
        ],
        [
         400.0
        ],
        [
         80.0
        ],
        [
         80.0
        ],
        [
         80.0
        ],
        [
         66.66666666666667
        ],
        [
         66.66666666666667
        ],
        [
         400.0
        ],
        [
         100.0
        ],
        [
         400.0
        ],
        [
         400.0
        ],
        [
         80.0
        ],
        [
         200.0
        ],
        [
         200.0
        ],
        [
         80.0
        ],
        [
         50.0
        ],
        [
         200.0
        ],
        [
         30.76923076923077
        ],
        [
         57.142857142857146
        ],
        [
         44.44444444444444
        ],
        [
         80.0
        ],
        [
         28.571428571428573
        ],
        [
         200.0
        ],
        [
         400.0
        ],
        [
         22.22222222222222
        ],
        [
         66.66666666666667
        ],
        [
         400.0
        ],
        [
         400.0
        ],
        [
         66.66666666666667
        ],
        [
         200.0
        ],
        [
         400.0
        ],
        [
         133.33333333333334
        ],
        [
         133.33333333333334
        ],
        [
         133.33333333333334
        ],
        [
         133.33333333333334
        ],
        [
         200.0
        ],
        [
         400.0
        ],
        [
         100.0
        ],
        [
         200.0
        ],
        [
         100.0
        ],
        [
         400.0
        ],
        [
         400.0
        ],
        [
         133.33333333333334
        ],
        [
         100.0
        ],
        [
         33.333333333333336
        ],
        [
         14.285714285714286
        ],
        [
         100.0
        ],
        [
         400.0
        ],
        [
         400.0
        ],
        [
         400.0
        ],
        [
         400.0
        ],
        [
         133.33333333333334
        ],
        [
         200.0
        ],
        [
         400.0
        ],
        [
         80.0
        ],
        [
         50.0
        ],
        [
         33.333333333333336
        ],
        [
         400.0
        ],
        [
         400.0
        ],
        [
         200.0
        ],
        [
         80.0
        ],
        [
         66.66666666666667
        ],
        [
         57.142857142857146
        ],
        [
         100.0
        ],
        [
         400.0
        ],
        [
         50.0
        ],
        [
         200.0
        ],
        [
         200.0
        ],
        [
         28.571428571428573
        ],
        [
         133.33333333333334
        ],
        [
         200.0
        ],
        [
         133.33333333333334
        ],
        [
         66.66666666666667
        ],
        [
         80.0
        ],
        [
         100.0
        ],
        [
         200.0
        ],
        [
         66.66666666666667
        ],
        [
         100.0
        ],
        [
         133.33333333333334
        ],
        [
         100.0
        ],
        [
         133.33333333333334
        ],
        [
         133.33333333333334
        ],
        [
         57.142857142857146
        ],
        [
         400.0
        ],
        [
         400.0
        ],
        [
         400.0
        ],
        [
         200.0
        ],
        [
         400.0
        ],
        [
         400.0
        ],
        [
         400.0
        ],
        [
         400.0
        ],
        [
         200.0
        ],
        [
         133.33333333333334
        ],
        [
         400.0
        ],
        [
         66.66666666666667
        ],
        [
         400.0
        ],
        [
         400.0
        ],
        [
         200.0
        ],
        [
         400.0
        ],
        [
         200.0
        ],
        [
         400.0
        ],
        [
         200.0
        ],
        [
         100.0
        ],
        [
         133.33333333333334
        ],
        [
         400.0
        ],
        [
         400.0
        ],
        [
         400.0
        ],
        [
         100.0
        ],
        [
         200.0
        ],
        [
         400.0
        ],
        [
         66.66666666666667
        ],
        [
         400.0
        ],
        [
         100.0
        ],
        [
         200.0
        ],
        [
         400.0
        ],
        [
         200.0
        ],
        [
         133.33333333333334
        ],
        [
         133.33333333333334
        ],
        [
         400.0
        ],
        [
         133.33333333333334
        ],
        [
         400.0
        ],
        [
         133.33333333333334
        ],
        [
         400.0
        ],
        [
         400.0
        ],
        [
         200.0
        ],
        [
         100.0
        ],
        [
         200.0
        ],
        [
         200.0
        ],
        [
         100.0
        ],
        [
         200.0
        ],
        [
         133.33333333333334
        ],
        [
         400.0
        ],
        [
         133.33333333333334
        ],
        [
         80.0
        ],
        [
         66.66666666666667
        ],
        [
         400.0
        ],
        [
         400.0
        ],
        [
         400.0
        ],
        [
         200.0
        ],
        [
         133.33333333333334
        ],
        [
         400.0
        ],
        [
         200.0
        ],
        [
         400.0
        ],
        [
         400.0
        ],
        [
         400.0
        ],
        [
         400.0
        ],
        [
         200.0
        ],
        [
         133.33333333333334
        ],
        [
         200.0
        ],
        [
         200.0
        ],
        [
         200.0
        ],
        [
         200.0
        ],
        [
         400.0
        ],
        [
         400.0
        ],
        [
         400.0
        ],
        [
         200.0
        ],
        [
         400.0
        ],
        [
         400.0
        ],
        [
         133.33333333333334
        ],
        [
         40.0
        ],
        [
         100.0
        ],
        [
         400.0
        ],
        [
         400.0
        ],
        [
         133.33333333333334
        ],
        [
         200.0
        ],
        [
         100.0
        ],
        [
         400.0
        ],
        [
         66.66666666666667
        ],
        [
         400.0
        ],
        [
         200.0
        ],
        [
         100.0
        ],
        [
         133.33333333333334
        ],
        [
         400.0
        ],
        [
         133.33333333333334
        ],
        [
         133.33333333333334
        ],
        [
         400.0
        ],
        [
         400.0
        ],
        [
         400.0
        ],
        [
         400.0
        ],
        [
         133.33333333333334
        ],
        [
         400.0
        ],
        [
         100.0
        ],
        [
         80.0
        ],
        [
         133.33333333333334
        ],
        [
         200.0
        ],
        [
         200.0
        ],
        [
         200.0
        ],
        [
         400.0
        ],
        [
         200.0
        ],
        [
         400.0
        ],
        [
         400.0
        ],
        [
         100.0
        ],
        [
         200.0
        ],
        [
         400.0
        ],
        [
         66.66666666666667
        ],
        [
         33.333333333333336
        ],
        [
         400.0
        ],
        [
         400.0
        ],
        [
         400.0
        ],
        [
         400.0
        ],
        [
         400.0
        ],
        [
         400.0
        ],
        [
         133.33333333333334
        ],
        [
         200.0
        ],
        [
         400.0
        ],
        [
         200.0
        ],
        [
         133.33333333333334
        ],
        [
         400.0
        ],
        [
         400.0
        ],
        [
         400.0
        ],
        [
         200.0
        ],
        [
         400.0
        ],
        [
         400.0
        ],
        [
         400.0
        ],
        [
         400.0
        ],
        [
         400.0
        ],
        [
         400.0
        ],
        [
         400.0
        ],
        [
         100.0
        ],
        [
         200.0
        ],
        [
         400.0
        ],
        [
         400.0
        ],
        [
         100.0
        ],
        [
         200.0
        ],
        [
         200.0
        ],
        [
         200.0
        ],
        [
         200.0
        ],
        [
         400.0
        ],
        [
         100.0
        ],
        [
         80.0
        ],
        [
         400.0
        ],
        [
         400.0
        ],
        [
         200.0
        ],
        [
         400.0
        ],
        [
         400.0
        ],
        [
         200.0
        ],
        [
         400.0
        ],
        [
         133.33333333333334
        ],
        [
         133.33333333333334
        ],
        [
         100.0
        ],
        [
         400.0
        ],
        [
         400.0
        ],
        [
         200.0
        ],
        [
         200.0
        ],
        [
         100.0
        ],
        [
         400.0
        ],
        [
         100.0
        ],
        [
         200.0
        ],
        [
         400.0
        ],
        [
         400.0
        ],
        [
         133.33333333333334
        ],
        [
         200.0
        ],
        [
         400.0
        ],
        [
         200.0
        ],
        [
         57.142857142857146
        ],
        [
         200.0
        ],
        [
         200.0
        ],
        [
         400.0
        ],
        [
         80.0
        ],
        [
         100.0
        ],
        [
         200.0
        ],
        [
         400.0
        ],
        [
         57.142857142857146
        ],
        [
         133.33333333333334
        ],
        [
         133.33333333333334
        ],
        [
         400.0
        ],
        [
         100.0
        ],
        [
         400.0
        ],
        [
         400.0
        ],
        [
         200.0
        ],
        [
         200.0
        ],
        [
         400.0
        ],
        [
         400.0
        ],
        [
         133.33333333333334
        ],
        [
         200.0
        ],
        [
         400.0
        ],
        [
         400.0
        ],
        [
         400.0
        ],
        [
         400.0
        ],
        [
         400.0
        ],
        [
         400.0
        ],
        [
         100.0
        ],
        [
         400.0
        ],
        [
         200.0
        ],
        [
         200.0
        ],
        [
         400.0
        ],
        [
         133.33333333333334
        ],
        [
         200.0
        ],
        [
         200.0
        ],
        [
         400.0
        ],
        [
         400.0
        ],
        [
         133.33333333333334
        ],
        [
         400.0
        ],
        [
         133.33333333333334
        ],
        [
         400.0
        ],
        [
         200.0
        ],
        [
         400.0
        ],
        [
         200.0
        ],
        [
         400.0
        ],
        [
         400.0
        ],
        [
         200.0
        ],
        [
         400.0
        ],
        [
         133.33333333333334
        ],
        [
         400.0
        ],
        [
         400.0
        ],
        [
         400.0
        ],
        [
         400.0
        ],
        [
         400.0
        ],
        [
         400.0
        ],
        [
         80.0
        ],
        [
         200.0
        ],
        [
         400.0
        ],
        [
         400.0
        ],
        [
         400.0
        ],
        [
         400.0
        ],
        [
         200.0
        ],
        [
         400.0
        ],
        [
         400.0
        ],
        [
         400.0
        ],
        [
         400.0
        ],
        [
         400.0
        ],
        [
         133.33333333333334
        ],
        [
         400.0
        ],
        [
         400.0
        ],
        [
         200.0
        ],
        [
         400.0
        ],
        [
         400.0
        ],
        [
         400.0
        ],
        [
         400.0
        ],
        [
         200.0
        ],
        [
         400.0
        ],
        [
         400.0
        ],
        [
         200.0
        ],
        [
         400.0
        ],
        [
         400.0
        ],
        [
         100.0
        ],
        [
         66.66666666666667
        ],
        [
         200.0
        ],
        [
         200.0
        ],
        [
         400.0
        ],
        [
         400.0
        ],
        [
         400.0
        ],
        [
         133.33333333333334
        ],
        [
         400.0
        ],
        [
         400.0
        ],
        [
         200.0
        ],
        [
         200.0
        ],
        [
         400.0
        ],
        [
         400.0
        ],
        [
         400.0
        ],
        [
         200.0
        ],
        [
         400.0
        ],
        [
         400.0
        ],
        [
         400.0
        ],
        [
         400.0
        ],
        [
         400.0
        ],
        [
         400.0
        ],
        [
         400.0
        ],
        [
         133.33333333333334
        ],
        [
         400.0
        ],
        [
         400.0
        ],
        [
         400.0
        ],
        [
         400.0
        ],
        [
         400.0
        ],
        [
         400.0
        ],
        [
         400.0
        ],
        [
         400.0
        ],
        [
         200.0
        ],
        [
         400.0
        ],
        [
         200.0
        ],
        [
         200.0
        ],
        [
         200.0
        ],
        [
         200.0
        ],
        [
         400.0
        ],
        [
         100.0
        ],
        [
         200.0
        ],
        [
         400.0
        ],
        [
         400.0
        ],
        [
         200.0
        ],
        [
         400.0
        ],
        [
         400.0
        ],
        [
         400.0
        ],
        [
         200.0
        ],
        [
         133.33333333333334
        ],
        [
         200.0
        ],
        [
         400.0
        ],
        [
         400.0
        ],
        [
         400.0
        ],
        [
         100.0
        ],
        [
         400.0
        ],
        [
         200.0
        ],
        [
         400.0
        ],
        [
         400.0
        ],
        [
         400.0
        ],
        [
         400.0
        ],
        [
         400.0
        ],
        [
         400.0
        ],
        [
         200.0
        ],
        [
         400.0
        ],
        [
         200.0
        ],
        [
         400.0
        ],
        [
         400.0
        ],
        [
         200.0
        ],
        [
         400.0
        ],
        [
         100.0
        ],
        [
         200.0
        ],
        [
         400.0
        ],
        [
         400.0
        ],
        [
         80.0
        ],
        [
         400.0
        ],
        [
         400.0
        ],
        [
         22.22222222222222
        ],
        [
         400.0
        ],
        [
         200.0
        ],
        [
         400.0
        ],
        [
         400.0
        ],
        [
         400.0
        ],
        [
         400.0
        ],
        [
         400.0
        ],
        [
         400.0
        ],
        [
         400.0
        ],
        [
         200.0
        ],
        [
         400.0
        ],
        [
         400.0
        ],
        [
         400.0
        ],
        [
         400.0
        ],
        [
         133.33333333333334
        ],
        [
         400.0
        ],
        [
         400.0
        ],
        [
         400.0
        ],
        [
         400.0
        ],
        [
         400.0
        ],
        [
         400.0
        ],
        [
         400.0
        ],
        [
         400.0
        ],
        [
         400.0
        ],
        [
         400.0
        ],
        [
         400.0
        ],
        [
         400.0
        ],
        [
         400.0
        ],
        [
         400.0
        ],
        [
         400.0
        ],
        [
         400.0
        ],
        [
         400.0
        ],
        [
         400.0
        ],
        [
         200.0
        ],
        [
         400.0
        ],
        [
         400.0
        ],
        [
         400.0
        ],
        [
         400.0
        ],
        [
         400.0
        ],
        [
         400.0
        ],
        [
         400.0
        ],
        [
         200.0
        ],
        [
         400.0
        ],
        [
         400.0
        ],
        [
         400.0
        ],
        [
         400.0
        ],
        [
         400.0
        ],
        [
         400.0
        ],
        [
         400.0
        ],
        [
         400.0
        ],
        [
         400.0
        ],
        [
         400.0
        ],
        [
         400.0
        ],
        [
         400.0
        ],
        [
         400.0
        ],
        [
         400.0
        ],
        [
         400.0
        ],
        [
         400.0
        ],
        [
         400.0
        ],
        [
         400.0
        ],
        [
         400.0
        ],
        [
         400.0
        ],
        [
         400.0
        ],
        [
         400.0
        ],
        [
         400.0
        ],
        [
         400.0
        ],
        [
         400.0
        ],
        [
         400.0
        ],
        [
         400.0
        ],
        [
         400.0
        ],
        [
         400.0
        ],
        [
         400.0
        ],
        [
         400.0
        ],
        [
         400.0
        ],
        [
         400.0
        ],
        [
         200.0
        ],
        [
         36.36363636363637
        ],
        [
         9.30232558139535
        ],
        [
         200.0
        ],
        [
         21.05263157894737
        ],
        [
         400.0
        ],
        [
         16.666666666666668
        ],
        [
         133.33333333333334
        ],
        [
         133.33333333333334
        ],
        [
         9.523809523809524
        ],
        [
         10.0
        ],
        [
         400.0
        ],
        [
         133.33333333333334
        ],
        [
         4.25531914893617
        ],
        [
         400.0
        ],
        [
         80.0
        ],
        [
         100.0
        ],
        [
         100.0
        ],
        [
         400.0
        ],
        [
         200.0
        ],
        [
         26.666666666666668
        ],
        [
         20.0
        ],
        [
         400.0
        ],
        [
         400.0
        ],
        [
         66.66666666666667
        ],
        [
         12.5
        ],
        [
         30.76923076923077
        ],
        [
         40.0
        ],
        [
         400.0
        ],
        [
         100.0
        ],
        [
         44.44444444444444
        ],
        [
         400.0
        ],
        [
         25.0
        ],
        [
         50.0
        ],
        [
         400.0
        ],
        [
         44.44444444444444
        ],
        [
         400.0
        ],
        [
         400.0
        ],
        [
         400.0
        ],
        [
         80.0
        ],
        [
         200.0
        ],
        [
         26.666666666666668
        ],
        [
         18.181818181818183
        ],
        [
         133.33333333333334
        ],
        [
         22.22222222222222
        ],
        [
         12.903225806451612
        ],
        [
         200.0
        ],
        [
         200.0
        ],
        [
         36.36363636363637
        ],
        [
         400.0
        ],
        [
         133.33333333333334
        ],
        [
         20.0
        ],
        [
         19.047619047619047
        ],
        [
         133.33333333333334
        ],
        [
         400.0
        ],
        [
         100.0
        ],
        [
         21.05263157894737
        ],
        [
         133.33333333333334
        ],
        [
         100.0
        ],
        [
         400.0
        ],
        [
         36.36363636363637
        ],
        [
         400.0
        ],
        [
         133.33333333333334
        ],
        [
         133.33333333333334
        ],
        [
         100.0
        ],
        [
         66.66666666666667
        ],
        [
         28.571428571428573
        ],
        [
         200.0
        ],
        [
         33.333333333333336
        ],
        [
         200.0
        ],
        [
         21.05263157894737
        ],
        [
         100.0
        ],
        [
         200.0
        ],
        [
         100.0
        ],
        [
         13.333333333333334
        ],
        [
         200.0
        ],
        [
         80.0
        ],
        [
         33.333333333333336
        ],
        [
         133.33333333333334
        ],
        [
         400.0
        ],
        [
         66.66666666666667
        ],
        [
         400.0
        ],
        [
         133.33333333333334
        ],
        [
         200.0
        ],
        [
         400.0
        ],
        [
         400.0
        ],
        [
         200.0
        ],
        [
         200.0
        ],
        [
         200.0
        ],
        [
         200.0
        ],
        [
         133.33333333333334
        ],
        [
         400.0
        ],
        [
         133.33333333333334
        ],
        [
         200.0
        ],
        [
         400.0
        ],
        [
         200.0
        ],
        [
         200.0
        ],
        [
         50.0
        ],
        [
         400.0
        ],
        [
         400.0
        ],
        [
         57.142857142857146
        ],
        [
         200.0
        ],
        [
         133.33333333333334
        ],
        [
         44.44444444444444
        ],
        [
         66.66666666666667
        ],
        [
         66.66666666666667
        ],
        [
         44.44444444444444
        ],
        [
         400.0
        ],
        [
         66.66666666666667
        ],
        [
         200.0
        ],
        [
         400.0
        ],
        [
         400.0
        ],
        [
         133.33333333333334
        ],
        [
         133.33333333333334
        ],
        [
         400.0
        ],
        [
         400.0
        ],
        [
         133.33333333333334
        ],
        [
         133.33333333333334
        ],
        [
         133.33333333333334
        ],
        [
         200.0
        ],
        [
         400.0
        ],
        [
         100.0
        ],
        [
         133.33333333333334
        ],
        [
         400.0
        ],
        [
         200.0
        ],
        [
         400.0
        ],
        [
         133.33333333333334
        ],
        [
         50.0
        ],
        [
         44.44444444444444
        ],
        [
         400.0
        ],
        [
         80.0
        ],
        [
         400.0
        ],
        [
         400.0
        ],
        [
         400.0
        ],
        [
         133.33333333333334
        ],
        [
         400.0
        ],
        [
         400.0
        ],
        [
         200.0
        ],
        [
         200.0
        ],
        [
         133.33333333333334
        ],
        [
         200.0
        ],
        [
         80.0
        ],
        [
         100.0
        ],
        [
         66.66666666666667
        ],
        [
         200.0
        ],
        [
         28.571428571428573
        ],
        [
         66.66666666666667
        ],
        [
         200.0
        ],
        [
         200.0
        ],
        [
         66.66666666666667
        ],
        [
         133.33333333333334
        ],
        [
         400.0
        ],
        [
         400.0
        ],
        [
         200.0
        ],
        [
         100.0
        ],
        [
         400.0
        ],
        [
         400.0
        ],
        [
         33.333333333333336
        ],
        [
         400.0
        ],
        [
         200.0
        ],
        [
         57.142857142857146
        ],
        [
         400.0
        ],
        [
         133.33333333333334
        ],
        [
         200.0
        ],
        [
         133.33333333333334
        ],
        [
         400.0
        ],
        [
         133.33333333333334
        ],
        [
         100.0
        ],
        [
         400.0
        ],
        [
         80.0
        ],
        [
         400.0
        ],
        [
         400.0
        ],
        [
         400.0
        ],
        [
         200.0
        ],
        [
         33.333333333333336
        ],
        [
         200.0
        ],
        [
         400.0
        ],
        [
         200.0
        ],
        [
         400.0
        ],
        [
         80.0
        ],
        [
         80.0
        ],
        [
         200.0
        ],
        [
         400.0
        ],
        [
         200.0
        ],
        [
         400.0
        ],
        [
         80.0
        ],
        [
         400.0
        ],
        [
         133.33333333333334
        ],
        [
         80.0
        ],
        [
         66.66666666666667
        ],
        [
         400.0
        ],
        [
         200.0
        ],
        [
         200.0
        ],
        [
         400.0
        ],
        [
         133.33333333333334
        ],
        [
         400.0
        ],
        [
         200.0
        ],
        [
         200.0
        ],
        [
         200.0
        ],
        [
         400.0
        ],
        [
         400.0
        ],
        [
         400.0
        ],
        [
         400.0
        ],
        [
         400.0
        ],
        [
         80.0
        ],
        [
         200.0
        ],
        [
         100.0
        ],
        [
         400.0
        ],
        [
         200.0
        ],
        [
         400.0
        ],
        [
         100.0
        ],
        [
         133.33333333333334
        ],
        [
         66.66666666666667
        ],
        [
         133.33333333333334
        ],
        [
         133.33333333333334
        ],
        [
         400.0
        ],
        [
         66.66666666666667
        ],
        [
         133.33333333333334
        ],
        [
         200.0
        ],
        [
         50.0
        ],
        [
         80.0
        ],
        [
         80.0
        ],
        [
         200.0
        ],
        [
         133.33333333333334
        ],
        [
         400.0
        ],
        [
         133.33333333333334
        ],
        [
         400.0
        ],
        [
         400.0
        ],
        [
         400.0
        ],
        [
         66.66666666666667
        ],
        [
         400.0
        ],
        [
         200.0
        ],
        [
         100.0
        ],
        [
         100.0
        ],
        [
         100.0
        ],
        [
         400.0
        ],
        [
         25.0
        ],
        [
         400.0
        ],
        [
         400.0
        ],
        [
         50.0
        ],
        [
         200.0
        ],
        [
         400.0
        ],
        [
         200.0
        ],
        [
         200.0
        ],
        [
         80.0
        ],
        [
         100.0
        ],
        [
         200.0
        ],
        [
         200.0
        ],
        [
         400.0
        ],
        [
         200.0
        ],
        [
         50.0
        ],
        [
         200.0
        ],
        [
         200.0
        ],
        [
         400.0
        ],
        [
         44.44444444444444
        ],
        [
         57.142857142857146
        ],
        [
         400.0
        ],
        [
         14.814814814814815
        ],
        [
         400.0
        ],
        [
         200.0
        ],
        [
         400.0
        ],
        [
         66.66666666666667
        ],
        [
         400.0
        ],
        [
         133.33333333333334
        ],
        [
         133.33333333333334
        ],
        [
         200.0
        ],
        [
         200.0
        ],
        [
         400.0
        ],
        [
         200.0
        ],
        [
         133.33333333333334
        ],
        [
         400.0
        ],
        [
         200.0
        ],
        [
         44.44444444444444
        ],
        [
         400.0
        ],
        [
         400.0
        ],
        [
         400.0
        ],
        [
         400.0
        ],
        [
         400.0
        ],
        [
         400.0
        ],
        [
         50.0
        ],
        [
         57.142857142857146
        ],
        [
         400.0
        ],
        [
         400.0
        ],
        [
         400.0
        ],
        [
         400.0
        ],
        [
         400.0
        ],
        [
         400.0
        ],
        [
         400.0
        ],
        [
         200.0
        ],
        [
         400.0
        ],
        [
         400.0
        ],
        [
         200.0
        ],
        [
         80.0
        ],
        [
         400.0
        ],
        [
         400.0
        ],
        [
         133.33333333333334
        ],
        [
         400.0
        ],
        [
         200.0
        ],
        [
         400.0
        ],
        [
         133.33333333333334
        ],
        [
         133.33333333333334
        ],
        [
         400.0
        ],
        [
         400.0
        ],
        [
         200.0
        ],
        [
         133.33333333333334
        ],
        [
         133.33333333333334
        ],
        [
         66.66666666666667
        ],
        [
         200.0
        ],
        [
         400.0
        ],
        [
         200.0
        ],
        [
         400.0
        ],
        [
         400.0
        ],
        [
         400.0
        ],
        [
         66.66666666666667
        ],
        [
         400.0
        ],
        [
         400.0
        ],
        [
         400.0
        ],
        [
         200.0
        ],
        [
         200.0
        ],
        [
         400.0
        ],
        [
         200.0
        ],
        [
         200.0
        ],
        [
         200.0
        ],
        [
         100.0
        ],
        [
         400.0
        ],
        [
         57.142857142857146
        ],
        [
         133.33333333333334
        ],
        [
         400.0
        ],
        [
         400.0
        ],
        [
         66.66666666666667
        ],
        [
         200.0
        ],
        [
         400.0
        ],
        [
         400.0
        ],
        [
         200.0
        ],
        [
         200.0
        ],
        [
         133.33333333333334
        ],
        [
         400.0
        ],
        [
         400.0
        ],
        [
         200.0
        ],
        [
         100.0
        ],
        [
         400.0
        ],
        [
         200.0
        ],
        [
         400.0
        ],
        [
         400.0
        ],
        [
         200.0
        ],
        [
         200.0
        ],
        [
         133.33333333333334
        ],
        [
         400.0
        ],
        [
         400.0
        ],
        [
         400.0
        ],
        [
         400.0
        ],
        [
         57.142857142857146
        ],
        [
         400.0
        ],
        [
         400.0
        ],
        [
         200.0
        ],
        [
         400.0
        ],
        [
         200.0
        ],
        [
         200.0
        ],
        [
         200.0
        ],
        [
         400.0
        ],
        [
         200.0
        ],
        [
         100.0
        ],
        [
         400.0
        ],
        [
         200.0
        ],
        [
         400.0
        ],
        [
         400.0
        ],
        [
         400.0
        ],
        [
         133.33333333333334
        ],
        [
         400.0
        ],
        [
         400.0
        ],
        [
         400.0
        ],
        [
         400.0
        ],
        [
         80.0
        ],
        [
         400.0
        ],
        [
         80.0
        ],
        [
         400.0
        ],
        [
         400.0
        ],
        [
         400.0
        ],
        [
         400.0
        ],
        [
         400.0
        ],
        [
         400.0
        ],
        [
         200.0
        ],
        [
         400.0
        ],
        [
         66.66666666666667
        ],
        [
         400.0
        ],
        [
         400.0
        ],
        [
         400.0
        ],
        [
         400.0
        ],
        [
         400.0
        ],
        [
         133.33333333333334
        ],
        [
         400.0
        ],
        [
         400.0
        ],
        [
         400.0
        ],
        [
         400.0
        ],
        [
         400.0
        ],
        [
         400.0
        ],
        [
         400.0
        ],
        [
         400.0
        ],
        [
         400.0
        ],
        [
         80.0
        ],
        [
         200.0
        ],
        [
         400.0
        ],
        [
         57.142857142857146
        ],
        [
         400.0
        ],
        [
         200.0
        ],
        [
         100.0
        ],
        [
         400.0
        ],
        [
         400.0
        ],
        [
         400.0
        ],
        [
         400.0
        ],
        [
         400.0
        ],
        [
         200.0
        ],
        [
         400.0
        ],
        [
         400.0
        ],
        [
         400.0
        ],
        [
         200.0
        ],
        [
         400.0
        ],
        [
         400.0
        ],
        [
         400.0
        ],
        [
         200.0
        ],
        [
         200.0
        ],
        [
         100.0
        ],
        [
         400.0
        ],
        [
         400.0
        ],
        [
         400.0
        ],
        [
         200.0
        ],
        [
         200.0
        ],
        [
         400.0
        ],
        [
         400.0
        ],
        [
         400.0
        ],
        [
         200.0
        ],
        [
         400.0
        ],
        [
         400.0
        ],
        [
         200.0
        ],
        [
         400.0
        ],
        [
         200.0
        ],
        [
         400.0
        ],
        [
         200.0
        ],
        [
         400.0
        ],
        [
         200.0
        ],
        [
         133.33333333333334
        ],
        [
         400.0
        ],
        [
         400.0
        ],
        [
         200.0
        ],
        [
         200.0
        ],
        [
         400.0
        ],
        [
         200.0
        ],
        [
         400.0
        ],
        [
         400.0
        ],
        [
         200.0
        ],
        [
         400.0
        ],
        [
         400.0
        ],
        [
         400.0
        ],
        [
         200.0
        ],
        [
         400.0
        ],
        [
         400.0
        ],
        [
         200.0
        ],
        [
         400.0
        ],
        [
         400.0
        ],
        [
         400.0
        ],
        [
         400.0
        ],
        [
         400.0
        ],
        [
         400.0
        ],
        [
         400.0
        ],
        [
         400.0
        ],
        [
         200.0
        ],
        [
         400.0
        ],
        [
         400.0
        ],
        [
         400.0
        ],
        [
         200.0
        ],
        [
         400.0
        ],
        [
         400.0
        ],
        [
         400.0
        ],
        [
         400.0
        ],
        [
         400.0
        ],
        [
         400.0
        ],
        [
         400.0
        ],
        [
         400.0
        ],
        [
         400.0
        ],
        [
         200.0
        ],
        [
         400.0
        ],
        [
         400.0
        ],
        [
         400.0
        ],
        [
         133.33333333333334
        ],
        [
         400.0
        ],
        [
         400.0
        ],
        [
         133.33333333333334
        ],
        [
         400.0
        ],
        [
         133.33333333333334
        ],
        [
         400.0
        ],
        [
         400.0
        ],
        [
         400.0
        ],
        [
         400.0
        ],
        [
         200.0
        ],
        [
         400.0
        ],
        [
         400.0
        ],
        [
         400.0
        ],
        [
         100.0
        ],
        [
         400.0
        ],
        [
         400.0
        ],
        [
         400.0
        ],
        [
         400.0
        ],
        [
         400.0
        ],
        [
         400.0
        ],
        [
         133.33333333333334
        ],
        [
         400.0
        ],
        [
         400.0
        ],
        [
         400.0
        ],
        [
         400.0
        ],
        [
         400.0
        ],
        [
         400.0
        ],
        [
         400.0
        ],
        [
         400.0
        ],
        [
         400.0
        ],
        [
         400.0
        ],
        [
         400.0
        ],
        [
         400.0
        ],
        [
         400.0
        ],
        [
         400.0
        ],
        [
         400.0
        ],
        [
         400.0
        ],
        [
         400.0
        ],
        [
         400.0
        ],
        [
         400.0
        ],
        [
         400.0
        ],
        [
         400.0
        ],
        [
         400.0
        ],
        [
         400.0
        ],
        [
         400.0
        ],
        [
         400.0
        ],
        [
         400.0
        ],
        [
         400.0
        ],
        [
         400.0
        ],
        [
         400.0
        ],
        [
         400.0
        ],
        [
         400.0
        ],
        [
         400.0
        ],
        [
         400.0
        ],
        [
         400.0
        ],
        [
         400.0
        ],
        [
         400.0
        ],
        [
         400.0
        ],
        [
         400.0
        ],
        [
         400.0
        ],
        [
         400.0
        ],
        [
         400.0
        ],
        [
         400.0
        ],
        [
         400.0
        ],
        [
         400.0
        ],
        [
         400.0
        ],
        [
         400.0
        ],
        [
         400.0
        ],
        [
         400.0
        ],
        [
         400.0
        ],
        [
         400.0
        ],
        [
         400.0
        ],
        [
         400.0
        ],
        [
         400.0
        ],
        [
         400.0
        ],
        [
         400.0
        ],
        [
         400.0
        ],
        [
         400.0
        ],
        [
         400.0
        ],
        [
         400.0
        ],
        [
         400.0
        ],
        [
         400.0
        ],
        [
         400.0
        ],
        [
         400.0
        ],
        [
         400.0
        ],
        [
         400.0
        ],
        [
         400.0
        ],
        [
         400.0
        ],
        [
         400.0
        ],
        [
         30.76923076923077
        ],
        [
         40.0
        ],
        [
         36.36363636363637
        ],
        [
         50.0
        ],
        [
         50.0
        ],
        [
         15.384615384615385
        ],
        [
         133.33333333333334
        ],
        [
         80.0
        ],
        [
         14.814814814814815
        ],
        [
         400.0
        ],
        [
         133.33333333333334
        ],
        [
         26.666666666666668
        ],
        [
         200.0
        ],
        [
         28.571428571428573
        ],
        [
         6.896551724137931
        ],
        [
         400.0
        ],
        [
         16.666666666666668
        ],
        [
         36.36363636363637
        ],
        [
         400.0
        ],
        [
         133.33333333333334
        ],
        [
         33.333333333333336
        ],
        [
         44.44444444444444
        ],
        [
         100.0
        ],
        [
         13.793103448275861
        ],
        [
         33.333333333333336
        ],
        [
         16.666666666666668
        ],
        [
         50.0
        ],
        [
         57.142857142857146
        ],
        [
         26.666666666666668
        ],
        [
         50.0
        ],
        [
         57.142857142857146
        ],
        [
         400.0
        ],
        [
         17.391304347826086
        ],
        [
         66.66666666666667
        ],
        [
         80.0
        ],
        [
         100.0
        ],
        [
         28.571428571428573
        ],
        [
         25.0
        ],
        [
         57.142857142857146
        ],
        [
         57.142857142857146
        ],
        [
         26.666666666666668
        ],
        [
         200.0
        ],
        [
         22.22222222222222
        ],
        [
         33.333333333333336
        ],
        [
         80.0
        ],
        [
         22.22222222222222
        ],
        [
         50.0
        ],
        [
         57.142857142857146
        ],
        [
         400.0
        ],
        [
         16.666666666666668
        ],
        [
         200.0
        ],
        [
         200.0
        ],
        [
         400.0
        ],
        [
         400.0
        ],
        [
         133.33333333333334
        ],
        [
         400.0
        ],
        [
         400.0
        ],
        [
         400.0
        ],
        [
         100.0
        ],
        [
         50.0
        ],
        [
         30.76923076923077
        ],
        [
         400.0
        ],
        [
         100.0
        ],
        [
         400.0
        ],
        [
         100.0
        ],
        [
         400.0
        ],
        [
         66.66666666666667
        ],
        [
         20.0
        ],
        [
         200.0
        ],
        [
         133.33333333333334
        ],
        [
         200.0
        ],
        [
         66.66666666666667
        ],
        [
         200.0
        ],
        [
         66.66666666666667
        ],
        [
         44.44444444444444
        ],
        [
         133.33333333333334
        ],
        [
         44.44444444444444
        ],
        [
         133.33333333333334
        ],
        [
         400.0
        ],
        [
         133.33333333333334
        ],
        [
         400.0
        ],
        [
         400.0
        ],
        [
         133.33333333333334
        ],
        [
         12.121212121212121
        ],
        [
         200.0
        ],
        [
         80.0
        ],
        [
         400.0
        ],
        [
         400.0
        ],
        [
         133.33333333333334
        ],
        [
         80.0
        ],
        [
         133.33333333333334
        ],
        [
         200.0
        ],
        [
         133.33333333333334
        ],
        [
         100.0
        ],
        [
         400.0
        ],
        [
         66.66666666666667
        ],
        [
         40.0
        ],
        [
         400.0
        ],
        [
         200.0
        ],
        [
         400.0
        ],
        [
         36.36363636363637
        ],
        [
         400.0
        ],
        [
         400.0
        ],
        [
         133.33333333333334
        ],
        [
         14.814814814814815
        ],
        [
         400.0
        ],
        [
         36.36363636363637
        ],
        [
         200.0
        ],
        [
         57.142857142857146
        ],
        [
         200.0
        ],
        [
         80.0
        ],
        [
         400.0
        ],
        [
         200.0
        ],
        [
         133.33333333333334
        ],
        [
         19.047619047619047
        ],
        [
         57.142857142857146
        ],
        [
         80.0
        ],
        [
         30.76923076923077
        ],
        [
         400.0
        ],
        [
         200.0
        ],
        [
         400.0
        ],
        [
         100.0
        ],
        [
         400.0
        ],
        [
         400.0
        ],
        [
         400.0
        ],
        [
         400.0
        ],
        [
         66.66666666666667
        ],
        [
         200.0
        ],
        [
         400.0
        ],
        [
         100.0
        ],
        [
         200.0
        ],
        [
         57.142857142857146
        ],
        [
         100.0
        ],
        [
         400.0
        ],
        [
         57.142857142857146
        ],
        [
         80.0
        ],
        [
         400.0
        ],
        [
         80.0
        ],
        [
         200.0
        ],
        [
         133.33333333333334
        ],
        [
         133.33333333333334
        ],
        [
         200.0
        ],
        [
         133.33333333333334
        ],
        [
         100.0
        ],
        [
         400.0
        ],
        [
         200.0
        ],
        [
         200.0
        ],
        [
         200.0
        ],
        [
         400.0
        ],
        [
         400.0
        ],
        [
         44.44444444444444
        ],
        [
         133.33333333333334
        ],
        [
         26.666666666666668
        ],
        [
         100.0
        ],
        [
         200.0
        ],
        [
         400.0
        ],
        [
         133.33333333333334
        ],
        [
         200.0
        ],
        [
         80.0
        ],
        [
         50.0
        ],
        [
         133.33333333333334
        ],
        [
         100.0
        ],
        [
         100.0
        ],
        [
         133.33333333333334
        ],
        [
         100.0
        ],
        [
         200.0
        ],
        [
         200.0
        ],
        [
         200.0
        ],
        [
         133.33333333333334
        ],
        [
         200.0
        ],
        [
         200.0
        ],
        [
         200.0
        ],
        [
         200.0
        ],
        [
         400.0
        ],
        [
         400.0
        ],
        [
         400.0
        ],
        [
         400.0
        ],
        [
         80.0
        ],
        [
         133.33333333333334
        ],
        [
         200.0
        ],
        [
         400.0
        ],
        [
         400.0
        ],
        [
         57.142857142857146
        ],
        [
         100.0
        ],
        [
         100.0
        ],
        [
         133.33333333333334
        ],
        [
         133.33333333333334
        ],
        [
         200.0
        ],
        [
         400.0
        ],
        [
         133.33333333333334
        ],
        [
         400.0
        ],
        [
         57.142857142857146
        ],
        [
         400.0
        ],
        [
         400.0
        ],
        [
         133.33333333333334
        ],
        [
         400.0
        ],
        [
         100.0
        ],
        [
         400.0
        ],
        [
         200.0
        ],
        [
         400.0
        ],
        [
         400.0
        ],
        [
         133.33333333333334
        ],
        [
         400.0
        ],
        [
         200.0
        ],
        [
         400.0
        ],
        [
         100.0
        ],
        [
         400.0
        ],
        [
         200.0
        ],
        [
         100.0
        ],
        [
         200.0
        ],
        [
         57.142857142857146
        ],
        [
         400.0
        ],
        [
         400.0
        ],
        [
         200.0
        ],
        [
         133.33333333333334
        ],
        [
         80.0
        ],
        [
         200.0
        ],
        [
         400.0
        ],
        [
         100.0
        ],
        [
         400.0
        ],
        [
         400.0
        ],
        [
         100.0
        ],
        [
         400.0
        ],
        [
         80.0
        ],
        [
         133.33333333333334
        ],
        [
         100.0
        ],
        [
         200.0
        ],
        [
         100.0
        ],
        [
         80.0
        ],
        [
         200.0
        ],
        [
         400.0
        ],
        [
         66.66666666666667
        ],
        [
         100.0
        ],
        [
         400.0
        ],
        [
         400.0
        ],
        [
         200.0
        ],
        [
         200.0
        ],
        [
         400.0
        ],
        [
         400.0
        ],
        [
         200.0
        ],
        [
         400.0
        ],
        [
         200.0
        ],
        [
         100.0
        ],
        [
         200.0
        ],
        [
         400.0
        ],
        [
         400.0
        ],
        [
         400.0
        ],
        [
         400.0
        ],
        [
         100.0
        ],
        [
         400.0
        ],
        [
         400.0
        ],
        [
         200.0
        ],
        [
         44.44444444444444
        ],
        [
         133.33333333333334
        ],
        [
         400.0
        ],
        [
         133.33333333333334
        ],
        [
         133.33333333333334
        ],
        [
         400.0
        ],
        [
         100.0
        ],
        [
         400.0
        ],
        [
         400.0
        ],
        [
         400.0
        ],
        [
         400.0
        ],
        [
         200.0
        ],
        [
         400.0
        ],
        [
         200.0
        ],
        [
         200.0
        ],
        [
         400.0
        ],
        [
         100.0
        ],
        [
         400.0
        ],
        [
         200.0
        ],
        [
         400.0
        ],
        [
         200.0
        ],
        [
         400.0
        ],
        [
         400.0
        ],
        [
         200.0
        ],
        [
         133.33333333333334
        ],
        [
         400.0
        ],
        [
         400.0
        ],
        [
         200.0
        ],
        [
         400.0
        ],
        [
         100.0
        ],
        [
         400.0
        ],
        [
         100.0
        ],
        [
         200.0
        ],
        [
         400.0
        ],
        [
         400.0
        ],
        [
         200.0
        ],
        [
         400.0
        ],
        [
         133.33333333333334
        ],
        [
         400.0
        ],
        [
         400.0
        ],
        [
         133.33333333333334
        ],
        [
         400.0
        ],
        [
         80.0
        ],
        [
         400.0
        ],
        [
         100.0
        ],
        [
         400.0
        ],
        [
         200.0
        ],
        [
         200.0
        ],
        [
         400.0
        ],
        [
         400.0
        ],
        [
         400.0
        ],
        [
         400.0
        ],
        [
         400.0
        ],
        [
         200.0
        ],
        [
         400.0
        ],
        [
         400.0
        ],
        [
         133.33333333333334
        ],
        [
         400.0
        ],
        [
         133.33333333333334
        ],
        [
         400.0
        ],
        [
         400.0
        ],
        [
         200.0
        ],
        [
         200.0
        ],
        [
         200.0
        ],
        [
         200.0
        ],
        [
         200.0
        ],
        [
         133.33333333333334
        ],
        [
         200.0
        ],
        [
         50.0
        ],
        [
         100.0
        ],
        [
         200.0
        ],
        [
         400.0
        ],
        [
         200.0
        ],
        [
         200.0
        ],
        [
         200.0
        ],
        [
         200.0
        ],
        [
         400.0
        ],
        [
         133.33333333333334
        ],
        [
         400.0
        ],
        [
         400.0
        ],
        [
         400.0
        ],
        [
         400.0
        ],
        [
         400.0
        ],
        [
         80.0
        ],
        [
         400.0
        ],
        [
         100.0
        ],
        [
         200.0
        ],
        [
         200.0
        ],
        [
         400.0
        ],
        [
         400.0
        ],
        [
         100.0
        ],
        [
         400.0
        ],
        [
         200.0
        ],
        [
         200.0
        ],
        [
         133.33333333333334
        ],
        [
         400.0
        ],
        [
         400.0
        ],
        [
         133.33333333333334
        ],
        [
         400.0
        ],
        [
         400.0
        ],
        [
         200.0
        ],
        [
         133.33333333333334
        ],
        [
         400.0
        ],
        [
         400.0
        ],
        [
         400.0
        ],
        [
         200.0
        ],
        [
         400.0
        ],
        [
         200.0
        ],
        [
         400.0
        ],
        [
         400.0
        ],
        [
         133.33333333333334
        ],
        [
         400.0
        ],
        [
         400.0
        ],
        [
         133.33333333333334
        ],
        [
         400.0
        ],
        [
         400.0
        ],
        [
         200.0
        ],
        [
         400.0
        ],
        [
         400.0
        ],
        [
         200.0
        ],
        [
         400.0
        ],
        [
         133.33333333333334
        ],
        [
         200.0
        ],
        [
         133.33333333333334
        ],
        [
         400.0
        ],
        [
         400.0
        ],
        [
         400.0
        ],
        [
         400.0
        ],
        [
         400.0
        ],
        [
         200.0
        ],
        [
         400.0
        ],
        [
         200.0
        ],
        [
         400.0
        ],
        [
         400.0
        ],
        [
         100.0
        ],
        [
         400.0
        ],
        [
         400.0
        ],
        [
         400.0
        ],
        [
         400.0
        ],
        [
         400.0
        ],
        [
         200.0
        ],
        [
         200.0
        ],
        [
         400.0
        ],
        [
         400.0
        ],
        [
         400.0
        ],
        [
         400.0
        ],
        [
         400.0
        ],
        [
         400.0
        ],
        [
         400.0
        ],
        [
         400.0
        ],
        [
         400.0
        ],
        [
         133.33333333333334
        ],
        [
         200.0
        ],
        [
         200.0
        ],
        [
         400.0
        ],
        [
         400.0
        ],
        [
         100.0
        ],
        [
         133.33333333333334
        ],
        [
         400.0
        ],
        [
         400.0
        ],
        [
         400.0
        ],
        [
         400.0
        ],
        [
         400.0
        ],
        [
         400.0
        ],
        [
         200.0
        ],
        [
         200.0
        ],
        [
         80.0
        ],
        [
         400.0
        ],
        [
         400.0
        ],
        [
         133.33333333333334
        ],
        [
         400.0
        ],
        [
         400.0
        ],
        [
         400.0
        ],
        [
         400.0
        ],
        [
         400.0
        ],
        [
         400.0
        ],
        [
         400.0
        ],
        [
         400.0
        ],
        [
         200.0
        ],
        [
         400.0
        ],
        [
         400.0
        ],
        [
         400.0
        ],
        [
         400.0
        ],
        [
         400.0
        ],
        [
         400.0
        ],
        [
         400.0
        ],
        [
         400.0
        ],
        [
         400.0
        ],
        [
         200.0
        ],
        [
         400.0
        ],
        [
         400.0
        ],
        [
         400.0
        ],
        [
         400.0
        ],
        [
         200.0
        ],
        [
         200.0
        ],
        [
         400.0
        ],
        [
         200.0
        ],
        [
         200.0
        ],
        [
         200.0
        ],
        [
         400.0
        ],
        [
         400.0
        ],
        [
         400.0
        ],
        [
         400.0
        ],
        [
         400.0
        ],
        [
         200.0
        ],
        [
         200.0
        ],
        [
         400.0
        ],
        [
         400.0
        ],
        [
         400.0
        ],
        [
         400.0
        ],
        [
         400.0
        ],
        [
         400.0
        ],
        [
         400.0
        ],
        [
         100.0
        ],
        [
         400.0
        ],
        [
         400.0
        ],
        [
         200.0
        ],
        [
         400.0
        ],
        [
         200.0
        ],
        [
         400.0
        ],
        [
         400.0
        ],
        [
         400.0
        ],
        [
         400.0
        ],
        [
         400.0
        ],
        [
         400.0
        ],
        [
         400.0
        ],
        [
         400.0
        ],
        [
         400.0
        ],
        [
         200.0
        ],
        [
         200.0
        ],
        [
         400.0
        ],
        [
         400.0
        ],
        [
         400.0
        ],
        [
         66.66666666666667
        ],
        [
         400.0
        ],
        [
         400.0
        ],
        [
         400.0
        ],
        [
         400.0
        ],
        [
         400.0
        ],
        [
         400.0
        ],
        [
         400.0
        ],
        [
         400.0
        ],
        [
         400.0
        ],
        [
         400.0
        ],
        [
         400.0
        ],
        [
         400.0
        ],
        [
         400.0
        ],
        [
         400.0
        ],
        [
         400.0
        ],
        [
         400.0
        ],
        [
         400.0
        ],
        [
         400.0
        ],
        [
         400.0
        ],
        [
         400.0
        ],
        [
         400.0
        ],
        [
         133.33333333333334
        ],
        [
         400.0
        ],
        [
         400.0
        ],
        [
         400.0
        ],
        [
         400.0
        ],
        [
         400.0
        ],
        [
         400.0
        ],
        [
         400.0
        ],
        [
         400.0
        ],
        [
         400.0
        ],
        [
         400.0
        ],
        [
         400.0
        ],
        [
         200.0
        ],
        [
         400.0
        ],
        [
         400.0
        ],
        [
         200.0
        ],
        [
         400.0
        ],
        [
         400.0
        ],
        [
         400.0
        ],
        [
         400.0
        ],
        [
         400.0
        ],
        [
         400.0
        ],
        [
         400.0
        ],
        [
         400.0
        ],
        [
         400.0
        ],
        [
         400.0
        ],
        [
         400.0
        ],
        [
         200.0
        ],
        [
         400.0
        ],
        [
         400.0
        ],
        [
         400.0
        ],
        [
         400.0
        ],
        [
         400.0
        ],
        [
         400.0
        ],
        [
         400.0
        ],
        [
         400.0
        ],
        [
         400.0
        ],
        [
         400.0
        ],
        [
         400.0
        ],
        [
         400.0
        ],
        [
         400.0
        ],
        [
         400.0
        ],
        [
         200.0
        ],
        [
         400.0
        ],
        [
         400.0
        ],
        [
         400.0
        ],
        [
         400.0
        ],
        [
         400.0
        ],
        [
         400.0
        ],
        [
         400.0
        ],
        [
         400.0
        ],
        [
         400.0
        ],
        [
         400.0
        ],
        [
         400.0
        ],
        [
         400.0
        ],
        [
         400.0
        ],
        [
         400.0
        ],
        [
         400.0
        ],
        [
         400.0
        ],
        [
         400.0
        ],
        [
         400.0
        ],
        [
         400.0
        ],
        [
         400.0
        ],
        [
         400.0
        ],
        [
         400.0
        ],
        [
         400.0
        ],
        [
         400.0
        ],
        [
         400.0
        ],
        [
         400.0
        ],
        [
         400.0
        ],
        [
         400.0
        ],
        [
         400.0
        ],
        [
         400.0
        ],
        [
         400.0
        ],
        [
         400.0
        ],
        [
         400.0
        ],
        [
         400.0
        ],
        [
         400.0
        ],
        [
         400.0
        ],
        [
         400.0
        ],
        [
         400.0
        ],
        [
         400.0
        ],
        [
         400.0
        ],
        [
         400.0
        ],
        [
         400.0
        ],
        [
         200.0
        ],
        [
         133.33333333333334
        ],
        [
         10.81081081081081
        ],
        [
         44.44444444444444
        ],
        [
         200.0
        ],
        [
         80.0
        ],
        [
         133.33333333333334
        ],
        [
         400.0
        ],
        [
         200.0
        ],
        [
         100.0
        ],
        [
         200.0
        ],
        [
         36.36363636363637
        ],
        [
         57.142857142857146
        ],
        [
         50.0
        ],
        [
         7.6923076923076925
        ],
        [
         200.0
        ],
        [
         400.0
        ],
        [
         14.285714285714286
        ],
        [
         57.142857142857146
        ],
        [
         20.0
        ],
        [
         14.814814814814815
        ],
        [
         36.36363636363637
        ],
        [
         400.0
        ],
        [
         133.33333333333334
        ],
        [
         57.142857142857146
        ],
        [
         400.0
        ],
        [
         400.0
        ],
        [
         100.0
        ],
        [
         30.76923076923077
        ],
        [
         44.44444444444444
        ],
        [
         400.0
        ],
        [
         80.0
        ],
        [
         28.571428571428573
        ],
        [
         50.0
        ],
        [
         200.0
        ],
        [
         100.0
        ],
        [
         133.33333333333334
        ],
        [
         200.0
        ],
        [
         50.0
        ],
        [
         33.333333333333336
        ],
        [
         8.333333333333334
        ],
        [
         200.0
        ],
        [
         10.81081081081081
        ],
        [
         100.0
        ],
        [
         400.0
        ],
        [
         25.0
        ],
        [
         26.666666666666668
        ],
        [
         66.66666666666667
        ],
        [
         100.0
        ],
        [
         100.0
        ],
        [
         400.0
        ],
        [
         400.0
        ],
        [
         400.0
        ],
        [
         100.0
        ],
        [
         26.666666666666668
        ],
        [
         200.0
        ],
        [
         133.33333333333334
        ],
        [
         100.0
        ],
        [
         80.0
        ],
        [
         133.33333333333334
        ],
        [
         57.142857142857146
        ],
        [
         21.05263157894737
        ],
        [
         40.0
        ],
        [
         100.0
        ],
        [
         25.0
        ],
        [
         400.0
        ],
        [
         200.0
        ],
        [
         200.0
        ],
        [
         40.0
        ],
        [
         80.0
        ],
        [
         100.0
        ],
        [
         66.66666666666667
        ],
        [
         33.333333333333336
        ],
        [
         11.764705882352942
        ],
        [
         133.33333333333334
        ],
        [
         200.0
        ],
        [
         400.0
        ],
        [
         400.0
        ],
        [
         200.0
        ],
        [
         100.0
        ],
        [
         200.0
        ],
        [
         200.0
        ],
        [
         28.571428571428573
        ],
        [
         133.33333333333334
        ],
        [
         400.0
        ],
        [
         400.0
        ],
        [
         40.0
        ],
        [
         44.44444444444444
        ],
        [
         400.0
        ],
        [
         133.33333333333334
        ],
        [
         20.0
        ],
        [
         18.181818181818183
        ],
        [
         400.0
        ],
        [
         400.0
        ],
        [
         200.0
        ],
        [
         80.0
        ],
        [
         400.0
        ],
        [
         133.33333333333334
        ],
        [
         200.0
        ],
        [
         400.0
        ],
        [
         26.666666666666668
        ],
        [
         400.0
        ],
        [
         33.333333333333336
        ],
        [
         400.0
        ],
        [
         80.0
        ],
        [
         100.0
        ],
        [
         12.121212121212121
        ],
        [
         33.333333333333336
        ],
        [
         200.0
        ],
        [
         40.0
        ],
        [
         400.0
        ],
        [
         400.0
        ],
        [
         100.0
        ],
        [
         200.0
        ],
        [
         50.0
        ],
        [
         66.66666666666667
        ],
        [
         400.0
        ],
        [
         100.0
        ],
        [
         80.0
        ],
        [
         133.33333333333334
        ],
        [
         100.0
        ],
        [
         57.142857142857146
        ],
        [
         33.333333333333336
        ],
        [
         36.36363636363637
        ],
        [
         44.44444444444444
        ],
        [
         400.0
        ],
        [
         400.0
        ],
        [
         400.0
        ],
        [
         57.142857142857146
        ],
        [
         50.0
        ],
        [
         57.142857142857146
        ],
        [
         100.0
        ],
        [
         400.0
        ],
        [
         57.142857142857146
        ],
        [
         100.0
        ],
        [
         400.0
        ],
        [
         133.33333333333334
        ],
        [
         100.0
        ],
        [
         80.0
        ],
        [
         400.0
        ],
        [
         40.0
        ],
        [
         400.0
        ],
        [
         66.66666666666667
        ],
        [
         100.0
        ],
        [
         400.0
        ],
        [
         400.0
        ],
        [
         400.0
        ],
        [
         200.0
        ],
        [
         400.0
        ],
        [
         133.33333333333334
        ],
        [
         66.66666666666667
        ],
        [
         200.0
        ],
        [
         200.0
        ],
        [
         200.0
        ],
        [
         28.571428571428573
        ],
        [
         133.33333333333334
        ],
        [
         200.0
        ],
        [
         200.0
        ],
        [
         200.0
        ],
        [
         133.33333333333334
        ],
        [
         200.0
        ],
        [
         200.0
        ],
        [
         200.0
        ],
        [
         133.33333333333334
        ],
        [
         50.0
        ],
        [
         80.0
        ],
        [
         200.0
        ],
        [
         200.0
        ],
        [
         66.66666666666667
        ],
        [
         200.0
        ],
        [
         80.0
        ],
        [
         200.0
        ],
        [
         133.33333333333334
        ],
        [
         66.66666666666667
        ],
        [
         133.33333333333334
        ],
        [
         400.0
        ],
        [
         200.0
        ],
        [
         80.0
        ],
        [
         400.0
        ],
        [
         50.0
        ],
        [
         133.33333333333334
        ],
        [
         400.0
        ],
        [
         400.0
        ],
        [
         400.0
        ],
        [
         133.33333333333334
        ],
        [
         200.0
        ],
        [
         80.0
        ],
        [
         50.0
        ],
        [
         400.0
        ],
        [
         200.0
        ],
        [
         66.66666666666667
        ],
        [
         200.0
        ],
        [
         66.66666666666667
        ],
        [
         400.0
        ],
        [
         80.0
        ],
        [
         200.0
        ],
        [
         200.0
        ],
        [
         400.0
        ],
        [
         400.0
        ],
        [
         133.33333333333334
        ],
        [
         133.33333333333334
        ],
        [
         400.0
        ],
        [
         200.0
        ],
        [
         80.0
        ],
        [
         133.33333333333334
        ],
        [
         200.0
        ],
        [
         133.33333333333334
        ],
        [
         80.0
        ],
        [
         400.0
        ],
        [
         80.0
        ],
        [
         400.0
        ],
        [
         200.0
        ],
        [
         44.44444444444444
        ],
        [
         133.33333333333334
        ],
        [
         200.0
        ],
        [
         400.0
        ],
        [
         400.0
        ],
        [
         133.33333333333334
        ],
        [
         400.0
        ],
        [
         400.0
        ],
        [
         66.66666666666667
        ],
        [
         50.0
        ],
        [
         400.0
        ],
        [
         133.33333333333334
        ],
        [
         400.0
        ],
        [
         200.0
        ],
        [
         133.33333333333334
        ],
        [
         133.33333333333334
        ],
        [
         100.0
        ],
        [
         400.0
        ],
        [
         200.0
        ],
        [
         14.285714285714286
        ],
        [
         400.0
        ],
        [
         400.0
        ],
        [
         400.0
        ],
        [
         200.0
        ],
        [
         400.0
        ],
        [
         400.0
        ],
        [
         400.0
        ],
        [
         400.0
        ],
        [
         400.0
        ],
        [
         400.0
        ],
        [
         400.0
        ],
        [
         200.0
        ],
        [
         57.142857142857146
        ],
        [
         400.0
        ],
        [
         66.66666666666667
        ],
        [
         200.0
        ],
        [
         400.0
        ],
        [
         400.0
        ],
        [
         400.0
        ],
        [
         400.0
        ],
        [
         80.0
        ],
        [
         400.0
        ],
        [
         400.0
        ],
        [
         400.0
        ],
        [
         200.0
        ],
        [
         200.0
        ],
        [
         200.0
        ],
        [
         200.0
        ],
        [
         400.0
        ],
        [
         400.0
        ],
        [
         400.0
        ],
        [
         400.0
        ],
        [
         400.0
        ],
        [
         400.0
        ],
        [
         200.0
        ],
        [
         200.0
        ],
        [
         200.0
        ],
        [
         100.0
        ],
        [
         44.44444444444444
        ],
        [
         400.0
        ],
        [
         400.0
        ],
        [
         400.0
        ],
        [
         80.0
        ],
        [
         400.0
        ],
        [
         400.0
        ],
        [
         200.0
        ],
        [
         400.0
        ],
        [
         400.0
        ],
        [
         200.0
        ],
        [
         133.33333333333334
        ],
        [
         200.0
        ],
        [
         400.0
        ],
        [
         100.0
        ],
        [
         133.33333333333334
        ],
        [
         200.0
        ],
        [
         133.33333333333334
        ],
        [
         400.0
        ],
        [
         400.0
        ],
        [
         66.66666666666667
        ],
        [
         50.0
        ],
        [
         400.0
        ],
        [
         200.0
        ],
        [
         400.0
        ],
        [
         400.0
        ],
        [
         400.0
        ],
        [
         400.0
        ],
        [
         200.0
        ],
        [
         400.0
        ],
        [
         400.0
        ],
        [
         133.33333333333334
        ],
        [
         400.0
        ],
        [
         400.0
        ],
        [
         400.0
        ],
        [
         400.0
        ],
        [
         200.0
        ],
        [
         400.0
        ],
        [
         400.0
        ],
        [
         100.0
        ],
        [
         200.0
        ],
        [
         400.0
        ],
        [
         200.0
        ],
        [
         400.0
        ],
        [
         200.0
        ],
        [
         200.0
        ],
        [
         400.0
        ],
        [
         400.0
        ],
        [
         400.0
        ],
        [
         400.0
        ],
        [
         44.44444444444444
        ],
        [
         200.0
        ],
        [
         400.0
        ],
        [
         400.0
        ],
        [
         400.0
        ],
        [
         400.0
        ],
        [
         80.0
        ],
        [
         200.0
        ],
        [
         200.0
        ],
        [
         400.0
        ],
        [
         200.0
        ],
        [
         400.0
        ],
        [
         400.0
        ],
        [
         200.0
        ],
        [
         133.33333333333334
        ],
        [
         80.0
        ],
        [
         66.66666666666667
        ],
        [
         100.0
        ],
        [
         400.0
        ],
        [
         400.0
        ],
        [
         400.0
        ],
        [
         400.0
        ],
        [
         400.0
        ],
        [
         400.0
        ],
        [
         400.0
        ],
        [
         200.0
        ],
        [
         400.0
        ],
        [
         400.0
        ],
        [
         66.66666666666667
        ],
        [
         400.0
        ],
        [
         400.0
        ],
        [
         400.0
        ],
        [
         400.0
        ],
        [
         400.0
        ],
        [
         400.0
        ],
        [
         200.0
        ],
        [
         400.0
        ],
        [
         400.0
        ],
        [
         400.0
        ],
        [
         133.33333333333334
        ],
        [
         400.0
        ],
        [
         400.0
        ],
        [
         400.0
        ],
        [
         400.0
        ],
        [
         400.0
        ],
        [
         400.0
        ],
        [
         400.0
        ],
        [
         400.0
        ],
        [
         400.0
        ],
        [
         400.0
        ],
        [
         400.0
        ],
        [
         200.0
        ],
        [
         400.0
        ],
        [
         400.0
        ],
        [
         200.0
        ],
        [
         200.0
        ],
        [
         400.0
        ],
        [
         200.0
        ],
        [
         200.0
        ],
        [
         200.0
        ],
        [
         400.0
        ],
        [
         400.0
        ],
        [
         133.33333333333334
        ],
        [
         400.0
        ],
        [
         400.0
        ],
        [
         400.0
        ],
        [
         400.0
        ],
        [
         200.0
        ],
        [
         400.0
        ],
        [
         80.0
        ],
        [
         400.0
        ],
        [
         400.0
        ],
        [
         200.0
        ],
        [
         200.0
        ],
        [
         400.0
        ],
        [
         400.0
        ],
        [
         400.0
        ],
        [
         400.0
        ],
        [
         400.0
        ],
        [
         400.0
        ],
        [
         400.0
        ],
        [
         400.0
        ],
        [
         200.0
        ],
        [
         100.0
        ],
        [
         400.0
        ],
        [
         133.33333333333334
        ],
        [
         400.0
        ],
        [
         400.0
        ],
        [
         200.0
        ],
        [
         400.0
        ],
        [
         200.0
        ],
        [
         400.0
        ],
        [
         400.0
        ],
        [
         400.0
        ],
        [
         400.0
        ],
        [
         400.0
        ],
        [
         400.0
        ],
        [
         400.0
        ],
        [
         200.0
        ],
        [
         400.0
        ],
        [
         133.33333333333334
        ],
        [
         200.0
        ],
        [
         133.33333333333334
        ],
        [
         400.0
        ],
        [
         133.33333333333334
        ],
        [
         200.0
        ],
        [
         400.0
        ],
        [
         400.0
        ],
        [
         400.0
        ],
        [
         400.0
        ],
        [
         400.0
        ],
        [
         400.0
        ],
        [
         400.0
        ],
        [
         200.0
        ],
        [
         400.0
        ],
        [
         400.0
        ],
        [
         200.0
        ],
        [
         200.0
        ],
        [
         400.0
        ],
        [
         400.0
        ],
        [
         200.0
        ],
        [
         200.0
        ],
        [
         66.66666666666667
        ],
        [
         133.33333333333334
        ],
        [
         400.0
        ],
        [
         400.0
        ],
        [
         400.0
        ],
        [
         400.0
        ],
        [
         200.0
        ],
        [
         400.0
        ],
        [
         400.0
        ],
        [
         400.0
        ],
        [
         400.0
        ],
        [
         400.0
        ],
        [
         400.0
        ],
        [
         400.0
        ],
        [
         200.0
        ],
        [
         400.0
        ],
        [
         400.0
        ],
        [
         400.0
        ],
        [
         133.33333333333334
        ],
        [
         200.0
        ],
        [
         400.0
        ],
        [
         200.0
        ],
        [
         400.0
        ],
        [
         400.0
        ],
        [
         400.0
        ],
        [
         400.0
        ],
        [
         400.0
        ],
        [
         400.0
        ],
        [
         100.0
        ],
        [
         200.0
        ],
        [
         200.0
        ],
        [
         400.0
        ],
        [
         400.0
        ],
        [
         400.0
        ],
        [
         400.0
        ],
        [
         400.0
        ],
        [
         200.0
        ],
        [
         400.0
        ],
        [
         400.0
        ],
        [
         200.0
        ],
        [
         400.0
        ],
        [
         400.0
        ],
        [
         200.0
        ],
        [
         200.0
        ],
        [
         400.0
        ],
        [
         400.0
        ],
        [
         400.0
        ],
        [
         400.0
        ],
        [
         400.0
        ],
        [
         400.0
        ],
        [
         400.0
        ],
        [
         400.0
        ],
        [
         400.0
        ],
        [
         400.0
        ],
        [
         400.0
        ],
        [
         400.0
        ],
        [
         400.0
        ],
        [
         400.0
        ],
        [
         400.0
        ],
        [
         400.0
        ],
        [
         400.0
        ],
        [
         400.0
        ],
        [
         400.0
        ],
        [
         400.0
        ],
        [
         400.0
        ],
        [
         400.0
        ],
        [
         400.0
        ],
        [
         400.0
        ],
        [
         133.33333333333334
        ],
        [
         400.0
        ],
        [
         400.0
        ],
        [
         400.0
        ],
        [
         200.0
        ],
        [
         400.0
        ],
        [
         200.0
        ],
        [
         400.0
        ],
        [
         400.0
        ],
        [
         400.0
        ],
        [
         400.0
        ],
        [
         400.0
        ],
        [
         400.0
        ],
        [
         400.0
        ],
        [
         400.0
        ],
        [
         400.0
        ],
        [
         400.0
        ],
        [
         400.0
        ],
        [
         400.0
        ],
        [
         400.0
        ],
        [
         400.0
        ],
        [
         400.0
        ],
        [
         400.0
        ],
        [
         400.0
        ],
        [
         400.0
        ],
        [
         400.0
        ],
        [
         400.0
        ],
        [
         400.0
        ],
        [
         400.0
        ],
        [
         400.0
        ],
        [
         200.0
        ],
        [
         200.0
        ],
        [
         400.0
        ],
        [
         400.0
        ],
        [
         400.0
        ],
        [
         400.0
        ],
        [
         200.0
        ],
        [
         400.0
        ],
        [
         400.0
        ],
        [
         400.0
        ],
        [
         400.0
        ],
        [
         400.0
        ],
        [
         400.0
        ],
        [
         400.0
        ],
        [
         400.0
        ],
        [
         400.0
        ],
        [
         400.0
        ],
        [
         400.0
        ],
        [
         400.0
        ],
        [
         400.0
        ],
        [
         400.0
        ],
        [
         400.0
        ],
        [
         400.0
        ],
        [
         400.0
        ],
        [
         400.0
        ],
        [
         400.0
        ],
        [
         400.0
        ],
        [
         400.0
        ],
        [
         400.0
        ],
        [
         400.0
        ],
        [
         400.0
        ]
       ],
       "datasetInfos": [],
       "dbfsResultPath": null,
       "isJsonSchema": true,
       "metadata": {},
       "overflow": false,
       "plotOptions": {
        "customPlotOptions": {},
        "displayType": "table",
        "pivotAggregation": null,
        "pivotColumns": null,
        "xColumns": null,
        "yColumns": null
       },
       "removedWidgets": [],
       "schema": [
        {
         "metadata": "{}",
         "name": "idf",
         "type": "\"double\""
        }
       ],
       "type": "table"
      }
     },
     "output_type": "display_data"
    },
    {
     "output_type": "display_data",
     "data": {
      "text/plain": [
       "Databricks visualization. Run in Databricks to view."
      ]
     },
     "metadata": {
      "application/vnd.databricks.v1.subcommand+json": {
       "bindings": {},
       "collapsed": false,
       "command": "# Create a DataFrame and visualize using display()\n# TODO: Uncomment the template below and replace <FILL IN> with appropriate code\nidfsToCountRow = idfsSmall.map(lambda record: Row(idf=record[1]))\nidfsToCountDF = sqlContext.createDataFrame(idfsToCountRow)\n\n# YOUR CODE HERE\n# raise NotImplementedError()\n\ndisplay(idfsToCountDF)",
       "commandTitle": "Visualization 1",
       "commandType": "auto",
       "commandVersion": 0,
       "commentThread": [],
       "commentsVisible": false,
       "contentSha256Hex": null,
       "customPlotOptions": {
        "histogram": [
         {
          "key": "bins",
          "value": "20"
         }
        ],
        "plotlyBar": [
         {
          "key": "grouped",
          "value": true
         },
         {
          "key": "stacked",
          "value": false
         },
         {
          "key": "100_stacked",
          "value": false
         }
        ]
       },
       "datasetPreviewNameToCmdIdMap": {},
       "diffDeletes": [],
       "diffInserts": [],
       "displayType": "histogram",
       "error": null,
       "errorSummary": null,
       "errorTraceType": null,
       "finishTime": 0,
       "globalVars": {},
       "guid": "",
       "height": "auto",
       "hideCommandCode": false,
       "hideCommandResult": false,
       "iPythonMetadata": null,
       "inputWidgets": {},
       "isLockedInExamMode": false,
       "latestUser": "a user",
       "latestUserId": null,
       "listResultMetadata": null,
       "metadata": {},
       "nuid": "e81082d0-9735-4799-8624-5b58b300ed88",
       "origId": 0,
       "parentHierarchy": [],
       "pivotAggregation": "sum",
       "pivotColumns": [],
       "position": 45.0,
       "resultDbfsErrorMessage": null,
       "resultDbfsStatus": "INLINED_IN_TREE",
       "results": null,
       "showCommandTitle": false,
       "startTime": 0,
       "state": "input",
       "streamStates": {},
       "subcommandOptions": null,
       "submitTime": 0,
       "subtype": "tableResultSubCmd.visualization",
       "tableResultIndex": 0,
       "useConsistentColors": false,
       "version": "CommandV1",
       "width": "auto",
       "workflows": [],
       "xColumns": [],
       "yColumns": [
        "idf"
       ]
      }
     },
     "output_type": "display_data"
    }
   ],
   "source": [
    "# Create a DataFrame and visualize using display()\n",
    "# TODO: Uncomment the template below and replace <FILL IN> with appropriate code\n",
    "idfsToCountRow = idfsSmall.map(lambda record: Row(idf=record[1]))\n",
    "idfsToCountDF = sqlContext.createDataFrame(idfsToCountRow)\n",
    "\n",
    "# YOUR CODE HERE\n",
    "# raise NotImplementedError()\n",
    "\n",
    "display(idfsToCountDF)"
   ]
  },
  {
   "cell_type": "markdown",
   "metadata": {
    "application/vnd.databricks.v1+cell": {
     "cellMetadata": {
      "byteLimit": 2048000,
      "rowLimit": 10000
     },
     "inputWidgets": {},
     "nuid": "ba27e260-b9d6-494c-9a8b-f6b61474930a",
     "showTitle": false,
     "title": ""
    },
    "id": "uKCJiCSj_sa4"
   },
   "source": [
    "### (2f) Implement a TF-IDF function\n",
    "Use your `tf` function to implement a `tfidf(tokens, idfs)` function that takes a list of tokens from a document and a Python dictionary of IDF weights and returns a Python dictionary mapping individual tokens to total TF-IDF weights.\n",
    "\n",
    "The steps your function should perform are:\n",
    "* Calculate the token frequencies (TF) for `tokens`\n",
    "* Create a Python dictionary where each token maps to the token's frequency times the token's IDF weight\n",
    "\n",
    "Use your `tfidf` function to compute the weights of Amazon product record 'b000hkgj8k'. To do this, we need to extract the record for the token from the tokenized small Amazon dataset and we need to convert the IDFs for the small dataset into a Python dictionary. We can do the first part, by using a `filter()` transformation to extract the matching record and a `collect()` action to return the value to the driver.\n",
    "\n",
    "For the second part, we use the [`collectAsMap()` action](https://spark.apache.org/docs/latest/api/python/reference/api/pyspark.RDD.collectAsMap.html) to return the IDFs to the driver as a Python dictionary."
   ]
  },
  {
   "cell_type": "code",
   "execution_count": 0,
   "metadata": {
    "application/vnd.databricks.v1+cell": {
     "cellMetadata": {
      "byteLimit": 2048000,
      "rowLimit": 10000
     },
     "inputWidgets": {},
     "nuid": "8fd1499c-c6ad-4f24-af12-bf106ecebebc",
     "showTitle": false,
     "title": ""
    },
    "deletable": false,
    "id": "XA3zMhWq_sa4",
    "nbgrader": {
     "cell_type": "code",
     "checksum": "7eb34e1a642211f70874e15c9370c0c9",
     "grade": false,
     "grade_id": "tfidf",
     "locked": false,
     "schema_version": 3,
     "solution": true,
     "task": false
    }
   },
   "outputs": [
    {
     "output_type": "stream",
     "name": "stdout",
     "output_type": "stream",
     "text": [
      "Amazon record \"b000hkgj8k\" has tokens and weights:\n{'autocad': 33.33333333333333, '2007': 3.5087719298245617, 'courseware': 66.66666666666666, 'customizing': 16.666666666666664, 'interface': 3.0303030303030303, 'autodesk': 8.333333333333332, 'psg': 33.33333333333333}\nAmazon record \"b000jz4hqo\" has tokens and weights: \n{'clickart': 22.22222222222222, '950': 44.44444444444444, '000': 4.444444444444445, 'premier': 11.11111111111111, 'image': 4.040404040404041, 'pack': 3.4188034188034186, 'dvd': 1.7777777777777777, 'rom': 1.8518518518518519, 'broderbund': 22.22222222222222}\n"
     ]
    }
   ],
   "source": [
    "def tfidf(tokens, idfs):\n",
    "    \"\"\" Compute TF-IDF\n",
    "    Args:\n",
    "        tokens (list of str): input list of tokens from tokenize\n",
    "        idfs (dictionary): record to IDF value\n",
    "    Returns:\n",
    "        dictionary: a dictionary of records to TF-IDF values\n",
    "    \"\"\"\n",
    "    \n",
    "    # TODO: Uncomment the template below and replace <FILL IN> with appropriate code\n",
    "    tfs = tf(tokens)\n",
    "    tfIdfDict = {key: tfs[key]*idfs[key] for key in tfs if key in idfs}\n",
    "    return tfIdfDict\n",
    "    \n",
    "    # YOUR CODE HERE\n",
    "    # raise NotImplementedError()\n",
    "\n",
    "recb000hkgj8k = amazonRecToToken.filter(lambda x: x[0] == 'b000hkgj8k').collect()[0][1]\n",
    "idfsSmallWeights = idfsSmall.collectAsMap()\n",
    "rec_b000hkgj8k_weights = tfidf(recb000hkgj8k, idfsSmallWeights)\n",
    "\n",
    "recb000jz4hqo = amazonRecToToken.filter(lambda x: x[0] == 'b000jz4hqo').collect()[0][1]\n",
    "rec_b000jz4hqo_weights = tfidf(recb000jz4hqo, idfsSmallWeights)\n",
    "\n",
    "print('Amazon record \"b000hkgj8k\" has tokens and weights:\\n%s' % rec_b000hkgj8k_weights)\n",
    "print('Amazon record \"b000jz4hqo\" has tokens and weights: \\n%s' % rec_b000jz4hqo_weights)"
   ]
  },
  {
   "cell_type": "code",
   "execution_count": 0,
   "metadata": {
    "application/vnd.databricks.v1+cell": {
     "cellMetadata": {
      "byteLimit": 2048000,
      "rowLimit": 10000
     },
     "inputWidgets": {},
     "nuid": "b02a164d-39f2-441a-a8ee-f0cc1f425e38",
     "showTitle": false,
     "title": ""
    },
    "deletable": false,
    "editable": false,
    "id": "FCncgiY3_sa4",
    "nbgrader": {
     "cell_type": "code",
     "checksum": "2a8ff673a6b749561ce56c98184f5ec7",
     "grade": true,
     "grade_id": "tfidf_test",
     "locked": true,
     "points": 1,
     "schema_version": 3,
     "solution": false,
     "task": false
    }
   },
   "outputs": [],
   "source": [
    "\"\"\"Check for the TFIDF score vector associated with Record recb000jz4hqo\"\"\"\n",
    "assert_equal(rec_b000hkgj8k_weights, \n",
    "                   {'autocad': 33.33333333333333, 'autodesk': 8.333333333333332,\n",
    "                    'courseware': 66.66666666666666, 'psg': 33.33333333333333,\n",
    "                    '2007': 3.5087719298245617, 'customizing': 16.666666666666664,\n",
    "                    'interface': 3.0303030303030303})\n"
   ]
  },
  {
   "cell_type": "markdown",
   "metadata": {
    "application/vnd.databricks.v1+cell": {
     "cellMetadata": {
      "byteLimit": 2048000,
      "rowLimit": 10000
     },
     "inputWidgets": {},
     "nuid": "219ba68a-1e19-4ba5-8352-4134a80e46ae",
     "showTitle": false,
     "title": ""
    },
    "id": "2yKYcxM0_sa4"
   },
   "source": [
    "## Part 3: ER as Text Similarity - Cosine Similarity\n",
    "Now we are ready to do text comparisons in a formal way. The metric of string distance we will use is called **[cosine similarity][cosine]**. We will treat each document as a vector in some high dimensional space. Then, to compare two documents we compute the cosine of the angle between their two document vectors. This is *much* easier than it sounds.\n",
    "\n",
    "The first question to answer is how do we represent documents as vectors? The answer is familiar: bag-of-words! We treat each unique token as a dimension, and treat token weights as magnitudes in their respective token dimensions. For example, suppose we use simple counts as weights, and we want to interpret the string \"Hello, world!  Goodbye, world!\" as a vector. Then in the \"hello\" and \"goodbye\" dimensions the vector has value 1, in the \"world\" dimension it has value 2, and it is zero in all other dimensions.\n",
    "\n",
    "The next question is: given two vectors how do we find the cosine of the angle between them? Recall the formula for the dot product of two vectors:\n",
    "\\\\[ a \\cdot b = \\| a \\| \\| b \\| \\cos \\theta \\\\]\n",
    "Here \\\\( a \\cdot b = \\sum a_i b_i \\\\) is the ordinary dot product of two vectors, and \\\\( \\|a\\| = \\sqrt{ \\sum a_i^2 } \\\\) is the norm of \\\\( a \\\\).\n",
    "\n",
    "We can rearrange terms and solve for the cosine to find it is simply the normalized dot product of the vectors. With our vector model, the dot product and norm computations are simple functions of the bag-of-words document representations, so we now have a formal way to compute similarity:\n",
    "\\\\[ similarity = \\cos \\theta = \\frac{a \\cdot b}{\\|a\\| \\|b\\|} = \\frac{\\sum a_i b_i}{\\sqrt{\\sum a_i^2} \\sqrt{\\sum b_i^2}} \\\\]\n",
    "\n",
    "Setting aside the algebra, the geometric interpretation is more intuitive. The angle between two document vectors is small if they share many tokens in common, because they are pointing in roughly the same direction. For that case, the cosine of the angle will be large. Otherwise, if the angle is large (and they have few words in common), the cosine is small. Therefore, cosine similarity scales proportionally with our intuitive sense of similarity.\n",
    "[cosine]: https://en.wikipedia.org/wiki/Cosine_similarity"
   ]
  },
  {
   "cell_type": "markdown",
   "metadata": {
    "application/vnd.databricks.v1+cell": {
     "cellMetadata": {
      "byteLimit": 2048000,
      "rowLimit": 10000
     },
     "inputWidgets": {},
     "nuid": "4aa09c45-1cca-4a2b-bb41-0b7058ac64bb",
     "showTitle": false,
     "title": ""
    },
    "id": "R_0V99ne_sa4"
   },
   "source": [
    "### (3a) Implement the components of a `cosineSimilarity` function\n",
    "Implement the components of a `cosineSimilarity` function.\n",
    "Use the `tokenize` and `tfidf` functions, and the IDF weights from Part 2 for extracting tokens and assigning them weights.\n",
    "The steps you should perform are:\n",
    "* Define a function `dotprod` that takes two Python dictionaries and produces the dot product of them, where the dot product is defined as the sum of the product of values for tokens that appear in *both* dictionaries\n",
    "* Define a function `norm` that returns the square root of the dot product of a dictionary and itself\n",
    "* Define a function `cossim` that returns the dot product of two dictionaries divided by the norm of the first dictionary and then by the norm of the second dictionary"
   ]
  },
  {
   "cell_type": "code",
   "execution_count": 0,
   "metadata": {
    "application/vnd.databricks.v1+cell": {
     "cellMetadata": {
      "byteLimit": 2048000,
      "rowLimit": 10000
     },
     "inputWidgets": {},
     "nuid": "0ffc427d-ce48-4d99-ab9e-3fa958db950d",
     "showTitle": false,
     "title": ""
    },
    "deletable": false,
    "id": "zH4cDkW9_sa4",
    "nbgrader": {
     "cell_type": "code",
     "checksum": "0ee8e358cc2f096db30895eaf21db3c0",
     "grade": false,
     "grade_id": "cosine_similarity_math",
     "locked": false,
     "schema_version": 3,
     "solution": true,
     "task": false
    }
   },
   "outputs": [
    {
     "output_type": "stream",
     "name": "stdout",
     "output_type": "stream",
     "text": [
      "102 6.164414002968976 0.8262970212292282\n"
     ]
    }
   ],
   "source": [
    "\n",
    "def dotprod(a, b):\n",
    "    # TODO: Uncomment the template below and replace <FILL IN> with appropriate code\n",
    "    return sum(a[key]*b[key] for key in a if key in b)\n",
    "    \n",
    "    # YOUR CODE HERE\n",
    "    # raise NotImplementedError()\n",
    "\n",
    "def norm(a):\n",
    "    # TODO: Uncomment the template below and replace <FILL IN> with appropriate code\n",
    "    return math.sqrt(sum(a[key]**2 for key in a))\n",
    "    \n",
    "    # YOUR CODE HERE\n",
    "    # raise NotImplementedError()\n",
    "\n",
    "def cossim(a, b):\n",
    "    # TODO: Uncomment the template below and replace <FILL IN> with appropriate code\n",
    "    return dotprod(a, b) / (norm(a) * norm(b))\n",
    "    \n",
    "    # YOUR CODE HERE\n",
    "    # raise NotImplementedError()\n",
    "\n",
    "testVec1 = {'foo': 2, 'bar': 3, 'baz': 5 }\n",
    "testVec2 = {'foo': 1, 'bar': 0, 'baz': 20 }\n",
    "dp = dotprod(testVec1, testVec2)\n",
    "nm = norm(testVec1)\n",
    "cs = cossim(testVec1, testVec2)\n",
    "print(dp, nm, cs)"
   ]
  },
  {
   "cell_type": "code",
   "execution_count": 0,
   "metadata": {
    "application/vnd.databricks.v1+cell": {
     "cellMetadata": {
      "byteLimit": 2048000,
      "rowLimit": 10000
     },
     "inputWidgets": {},
     "nuid": "2fbe5529-a41c-452d-801d-83e02cdf7a76",
     "showTitle": false,
     "title": ""
    },
    "deletable": false,
    "editable": false,
    "id": "_A7mOg-p_sa4",
    "nbgrader": {
     "cell_type": "code",
     "checksum": "50f8f05d38b3792b3c161844b064a924",
     "grade": true,
     "grade_id": "cosine_similarity_math_test",
     "locked": true,
     "points": 1,
     "schema_version": 3,
     "solution": false,
     "task": false
    }
   },
   "outputs": [],
   "source": [
    "\"\"\"Check that the dot product between testVec1 and testVec2 is 102\"\"\"\n",
    "assert_equal(dp, 102)\n",
    "\"\"\"Check that the L2 norm of testVec1 is around 6.16441400297\"\"\"\n",
    "assert_true(abs(nm - 6.16441400297) < 0.0000001)\n",
    "\"\"\"Check that the cosine similarity between testVec1 and testVec2 is around 0.826297021229\"\"\"\n",
    "assert_true(abs(cs - 0.826297021229) < 0.0000001)"
   ]
  },
  {
   "cell_type": "markdown",
   "metadata": {
    "application/vnd.databricks.v1+cell": {
     "cellMetadata": {
      "byteLimit": 2048000,
      "rowLimit": 10000
     },
     "inputWidgets": {},
     "nuid": "b7f91892-7707-4aaa-a04f-ea729ef223ce",
     "showTitle": false,
     "title": ""
    },
    "id": "qSWUlJrG_sa5"
   },
   "source": [
    "### (3b) Implement a `cosineSimilarity` function\n",
    "Implement a `cosineSimilarity(string1, string2, idfsDictionary)` function that takes two strings and a dictionary of IDF weights, and computes their cosine similarity in the context of some global IDF weights.\n",
    "\n",
    "The steps you should perform are:\n",
    "* Apply your `tfidf` function to the tokenized first and second strings, using the dictionary of IDF weights\n",
    "* Compute and return your `cossim` function applied to the results of the two `tfidf` functions"
   ]
  },
  {
   "cell_type": "code",
   "execution_count": 0,
   "metadata": {
    "application/vnd.databricks.v1+cell": {
     "cellMetadata": {
      "byteLimit": 2048000,
      "rowLimit": 10000
     },
     "inputWidgets": {},
     "nuid": "661ed811-629e-42e2-a05c-f95eec32856a",
     "showTitle": false,
     "title": ""
    },
    "deletable": false,
    "id": "IFBglgUk_sa5",
    "nbgrader": {
     "cell_type": "code",
     "checksum": "61bfceb68fdbd5a1618d26e7538624ce",
     "grade": false,
     "grade_id": "cosine_similarity",
     "locked": false,
     "schema_version": 3,
     "solution": true,
     "task": false
    }
   },
   "outputs": [
    {
     "output_type": "stream",
     "name": "stdout",
     "output_type": "stream",
     "text": [
      "0.05772433821630337\n"
     ]
    }
   ],
   "source": [
    "def cosineSimilarity(string1, string2, idfsDictionary):\n",
    "    \"\"\" Compute cosine similarity between two strings\n",
    "    Args:\n",
    "        string1 (str): first string\n",
    "        string2 (str): second string\n",
    "        idfsDictionary (dictionary): a dictionary of IDF values\n",
    "    Returns:\n",
    "        cossim: cosine similarity value\n",
    "    \"\"\"\n",
    "    # TODO: Uncomment the template below and replace <FILL IN> with appropriate code\n",
    "    w1 = tfidf(tokenize(string1), idfs=idfsDictionary)\n",
    "    w2 = tfidf(tokenize(string2), idfs=idfsDictionary)\n",
    "    \n",
    "    # YOUR CODE HERE\n",
    "    # raise NotImplementedError()\n",
    "    return cossim(w1, w2)\n",
    "\n",
    "cossimAdobe = cosineSimilarity('Adobe Photoshop',\n",
    "                               'Adobe Illustrator',\n",
    "                               idfsSmallWeights)\n",
    "\n",
    "print(cossimAdobe)"
   ]
  },
  {
   "cell_type": "code",
   "execution_count": 0,
   "metadata": {
    "application/vnd.databricks.v1+cell": {
     "cellMetadata": {
      "byteLimit": 2048000,
      "rowLimit": 10000
     },
     "inputWidgets": {},
     "nuid": "2108a849-7fbd-4aee-8595-734e050adeff",
     "showTitle": false,
     "title": ""
    },
    "deletable": false,
    "editable": false,
    "id": "43adALiK_sa5",
    "nbgrader": {
     "cell_type": "code",
     "checksum": "da3f6b898365474f9c622cba0c385d9a",
     "grade": true,
     "grade_id": "cosine_similarity_test",
     "locked": true,
     "points": 1,
     "schema_version": 3,
     "solution": false,
     "task": false
    }
   },
   "outputs": [],
   "source": [
    "\"\"\"Check that the cosine similarity between Adobe Photoshop and Adobe Illustrator is around 0.0577243382163\"\"\"\n",
    "assert_true(abs(cossimAdobe - 0.0577243382163) < 0.0000001)"
   ]
  },
  {
   "cell_type": "markdown",
   "metadata": {
    "application/vnd.databricks.v1+cell": {
     "cellMetadata": {
      "byteLimit": 2048000,
      "rowLimit": 10000
     },
     "inputWidgets": {},
     "nuid": "df606ea6-45d8-4922-bd17-ce4b9be170fa",
     "showTitle": false,
     "title": ""
    },
    "id": "aEaoxHQz_sa5"
   },
   "source": [
    "### (3c) Perform Entity Resolution\n",
    "Now we can finally do some entity resolution!\n",
    "For *every* product record in the small Google dataset, use your `cosineSimilarity` function to compute its similarity to every record in the small Amazon dataset.  Then, build a dictionary mapping `(Google URL, Amazon ID)` tuples to similarity scores between 0 and 1.\n",
    "We'll do this computation two different ways, first we'll do it without a broadcast variable, and then we'll use a broadcast variable\n",
    "\n",
    "The steps you should perform are:\n",
    "* Create an RDD that is a combination of the small Google and small Amazon datasets that has as elements all pairs of elements (a, b) where a is in self and b is in other. The result will be an RDD of the form: `[ ((Google URL1, Google String1), (Amazon ID1, Amazon String1)), ((Google URL1, Google String1), (Amazon ID2, Amazon String2)), ((Google URL2, Google String2), (Amazon ID1, Amazon String1)), ... ]`\n",
    "* Define a worker function that given an element from the combination RDD computes the cosineSimlarity for the two records in the element\n",
    "* Apply the worker function to every element in the RDD\n",
    "\n",
    "Now, compute the similarity between Amazon record `b000o24l3q` and Google record `http://www.google.com/base/feeds/snippets/17242822440574356561`.\n",
    "\n",
    "**Hint**: Use Spark's [cartesian](https://spark.apache.org/docs/1.6.2/api/python/pyspark.html#pyspark.RDD.cartesian) method."
   ]
  },
  {
   "cell_type": "code",
   "execution_count": 0,
   "metadata": {
    "application/vnd.databricks.v1+cell": {
     "cellMetadata": {
      "byteLimit": 2048000,
      "rowLimit": 10000
     },
     "inputWidgets": {},
     "nuid": "1bf3c362-0cf0-4111-8f88-a25ee299d158",
     "showTitle": false,
     "title": ""
    },
    "deletable": false,
    "id": "1cXHv6wK_sa5",
    "nbgrader": {
     "cell_type": "code",
     "checksum": "40f704dc5f687c6495e3422ae9beeaa6",
     "grade": false,
     "grade_id": "compute_similarity",
     "locked": false,
     "schema_version": 3,
     "solution": true,
     "task": false
    }
   },
   "outputs": [
    {
     "output_type": "stream",
     "name": "stdout",
     "output_type": "stream",
     "text": [
      "Requested similarity is 0.00030317194045132.\n"
     ]
    }
   ],
   "source": [
    "# TODO: Uncomment the template below and replace <FILL IN> with appropriate code\n",
    "crossSmall = (googleSmall\n",
    "              .cartesian(amazonSmall)\n",
    "              .cache())\n",
    "\n",
    "# YOUR CODE HERE\n",
    "# raise NotImplementedError()\n",
    "\n",
    "def computeSimilarity(record):\n",
    "    \"\"\" Compute similarity on a combination record\n",
    "    Args:\n",
    "        record: a pair, (google record, amazon record)\n",
    "    Returns:\n",
    "        pair: a pair, (google URL, amazon ID, cosine similarity value)\n",
    "    \"\"\"\n",
    "    googleRec = record[0]\n",
    "    amazonRec = record[1]    \n",
    "    \n",
    "    # TODO: Uncomment the template below and replace <FILL IN> with appropriate code\n",
    "    googleURL = googleRec[0]\n",
    "    amazonID = amazonRec[0]\n",
    "    googleValue = googleRec[1]\n",
    "    amazonValue = amazonRec[1]\n",
    "    cs = cosineSimilarity(googleValue, amazonValue, idfsSmallWeights)\n",
    "\n",
    "    # YOUR CODE HERE\n",
    "    # raise NotImplementedError()\n",
    "    \n",
    "    return (googleURL, amazonID, cs)\n",
    "  \n",
    "# TODO: Uncomment the template below and replace <FILL IN> with appropriate code\n",
    "similarities = (crossSmall\n",
    "                .map(lambda record: computeSimilarity(record))\n",
    "                .cache())\n",
    "\n",
    "\n",
    "# YOUR CODE HERE\n",
    "# raise NotImplementedError()\n",
    "\n",
    "def similar(amazonID, googleURL):\n",
    "    \"\"\" Return similarity value\n",
    "    Args:\n",
    "        amazonID: amazon ID\n",
    "        googleURL: google URL\n",
    "    Returns:\n",
    "        similar: cosine similarity value\n",
    "    \"\"\"\n",
    "    return (similarities\n",
    "            .filter(lambda record: (record[0] == googleURL and record[1] == amazonID))\n",
    "            .collect()[0][2])\n",
    "\n",
    "similarityAmazonGoogle = similar('b000o24l3q', 'http://www.google.com/base/feeds/snippets/17242822440574356561')\n",
    "print('Requested similarity is %s.' % similarityAmazonGoogle)"
   ]
  },
  {
   "cell_type": "code",
   "execution_count": 0,
   "metadata": {
    "application/vnd.databricks.v1+cell": {
     "cellMetadata": {
      "byteLimit": 2048000,
      "rowLimit": 10000
     },
     "inputWidgets": {},
     "nuid": "a82192fd-235d-4317-8fd4-df376dffa206",
     "showTitle": false,
     "title": ""
    },
    "deletable": false,
    "editable": false,
    "id": "IM_2LJ21_sa5",
    "nbgrader": {
     "cell_type": "code",
     "checksum": "3756c14c04eb6ebd05d079b633919ec9",
     "grade": true,
     "grade_id": "compute_similarity_test",
     "locked": true,
     "points": 1,
     "schema_version": 3,
     "solution": false,
     "task": false
    }
   },
   "outputs": [],
   "source": [
    "\"\"\"Check that the cosine similarity between the Amazon record and the Google record is around 0.000303171940451\"\"\"\n",
    "assert_true(abs(similarityAmazonGoogle - 0.000303171940451) < 0.0000001)"
   ]
  },
  {
   "cell_type": "markdown",
   "metadata": {
    "application/vnd.databricks.v1+cell": {
     "cellMetadata": {
      "byteLimit": 2048000,
      "rowLimit": 10000
     },
     "inputWidgets": {},
     "nuid": "7e51bea1-4d54-42d4-853c-6d42c489dd12",
     "showTitle": false,
     "title": ""
    },
    "id": "y5NRQwnm_sa5"
   },
   "source": [
    "### (3d) Perform Entity Resolution with Broadcast Variables\n",
    "The solution in (3c) works well for small datasets, but it requires Spark to (automatically) send the `idfsSmallWeights` variable to all the workers _for each record_. For example, if we only have one worker, and we have 1,000 records, we would be sending `idfSmallWeights` to the same worker 1,000 times. Further, if we didn't `cache()` similarities, then it might have to be recreated if we run `similar()` multiple times. While this approach works fine for small datasets, it becomes a bottleneck for larger datasets.\n",
    "\n",
    "Instead, we can use a broadcast variable - we define the broadcast variable in the driver and then we can refer to it in each worker. Spark saves the broadcast variable at each worker, so it is only sent once.\n",
    "\n",
    "The steps you should perform are:\n",
    "* Define a `computeSimilarityBroadcast` function that given an element from the combination RDD computes the cosine simlarity for the two records in the element. This will be the same as the worker function `computeSimilarity` in (3c) except that it uses a broadcast variable.\n",
    "* Apply the worker function to every element in the RDD\n",
    "\n",
    "Again, compute the similarity between Amazon record `b000o24l3q` and Google record `http://www.google.com/base/feeds/snippets/17242822440574356561`."
   ]
  },
  {
   "cell_type": "code",
   "execution_count": 0,
   "metadata": {
    "application/vnd.databricks.v1+cell": {
     "cellMetadata": {
      "byteLimit": 2048000,
      "rowLimit": 10000
     },
     "inputWidgets": {},
     "nuid": "b1d8c031-c294-4893-96de-1c96f9339bd3",
     "showTitle": false,
     "title": ""
    },
    "deletable": false,
    "id": "q7GPlCHA_sa6",
    "nbgrader": {
     "cell_type": "code",
     "checksum": "7802a678524c2b5cfd45cf5d5c69027c",
     "grade": false,
     "grade_id": "compute_similarity_broadcast",
     "locked": false,
     "schema_version": 3,
     "solution": true,
     "task": false
    }
   },
   "outputs": [
    {
     "output_type": "stream",
     "name": "stdout",
     "output_type": "stream",
     "text": [
      "Requested similarity is 0.00030317194045132.\n"
     ]
    }
   ],
   "source": [
    "def computeSimilarityBroadcast(record):\n",
    "    \"\"\" Compute similarity on a combination record, using Broadcast variable\n",
    "    Args:\n",
    "        record: a pair, (google record, amazon record)\n",
    "    Returns:\n",
    "        pair: a pair, (google URL, amazon ID, cosine similarity value)\n",
    "    \"\"\"\n",
    "    googleRec = record[0]\n",
    "    amazonRec = record[1]\n",
    "    \n",
    "    # TODO: Uncomment the template below and replace <FILL IN> with appropriate code\n",
    "    googleURL = googleRec[0]\n",
    "    amazonID = amazonRec[0]\n",
    "    googleValue = googleRec[1]\n",
    "    amazonValue = amazonRec[1]\n",
    "    cs = cosineSimilarity(googleValue, amazonValue, idfsSmallBroadcast.value)\n",
    "    \n",
    "    # YOUR CODE HERE\n",
    "    # raise NotImplementedError()\n",
    "    \n",
    "    return (googleURL, amazonID, cs)\n",
    "\n",
    "idfsSmallBroadcast = sc.broadcast(idfsSmallWeights)\n",
    "\n",
    "# TODO: Uncomment the template below and replace <FILL IN> with appropriate code\n",
    "similaritiesBroadcast = (crossSmall\n",
    "                         .map(lambda record: computeSimilarityBroadcast(record))\n",
    "                         .cache())\n",
    "\n",
    "# YOUR CODE HERE\n",
    "# raise NotImplementedError()\n",
    "\n",
    "def similarBroadcast(amazonID, googleURL):\n",
    "    \"\"\" Return similarity value, computed using Broadcast variable\n",
    "    Args:\n",
    "        amazonID: amazon ID\n",
    "        googleURL: google URL\n",
    "    Returns:\n",
    "        similar: cosine similarity value\n",
    "    \"\"\"\n",
    "    return (similaritiesBroadcast\n",
    "            .filter(lambda record: (record[0] == googleURL and record[1] == amazonID))\n",
    "            .collect()[0][2])\n",
    "\n",
    "similarityAmazonGoogleBroadcast = similarBroadcast('b000o24l3q', 'http://www.google.com/base/feeds/snippets/17242822440574356561')\n",
    "print('Requested similarity is %s.' % similarityAmazonGoogleBroadcast)"
   ]
  },
  {
   "cell_type": "code",
   "execution_count": 0,
   "metadata": {
    "application/vnd.databricks.v1+cell": {
     "cellMetadata": {
      "byteLimit": 2048000,
      "rowLimit": 10000
     },
     "inputWidgets": {},
     "nuid": "35a6e22f-c962-45e4-9a7b-e623a3d5013e",
     "showTitle": false,
     "title": ""
    },
    "deletable": false,
    "editable": false,
    "id": "n-W_XGHG_sa6",
    "nbgrader": {
     "cell_type": "code",
     "checksum": "ec97c6c2aa3800df17736f2ddf4c4199",
     "grade": true,
     "grade_id": "compute_similarity_broadcast_test",
     "locked": true,
     "points": 1,
     "schema_version": 3,
     "solution": false,
     "task": false
    }
   },
   "outputs": [],
   "source": [
    "\n",
    "\"\"\"Check that idfsSmallBroadcast is a boradcast variable\"\"\"\n",
    "assert_true(isinstance(idfsSmallBroadcast, Broadcast))\n",
    "\"\"\"Check that the number of weights/tokens is 4772\"\"\"\n",
    "assert_equal(len(idfsSmallBroadcast.value), 4772)\n",
    "\"\"\"Check that the cosine similarity between the Amazon record and the Google record is around 0.000303171940451\"\"\"\n",
    "assert_true(abs(similarityAmazonGoogleBroadcast - 0.000303171940451) < 0.0000001)"
   ]
  },
  {
   "cell_type": "markdown",
   "metadata": {
    "application/vnd.databricks.v1+cell": {
     "cellMetadata": {
      "byteLimit": 2048000,
      "rowLimit": 10000
     },
     "inputWidgets": {},
     "nuid": "31a0f0bd-d392-48e3-8ba9-2d46f64528ee",
     "showTitle": false,
     "title": ""
    },
    "id": "jxJ3l39C_sa6"
   },
   "source": [
    "### (3e) Perform a Gold Standard evaluation\n",
    "\n",
    "First, we'll load the \"gold standard\" data, considered to be ground truth, and use it to answer several questions. We read and parse the Gold Standard data, where the format of each line is \"Amazon Product ID\",\"Google URL\". The resulting RDD has elements of the form:\n",
    "\n",
    "```\n",
    "(\"AmazonID GoogleURL\", 'gold')\n",
    "```\n",
    "\n",
    "Run the following cell to create the `parse_goldfile_line()` function that we'll use to parse the data."
   ]
  },
  {
   "cell_type": "code",
   "execution_count": 0,
   "metadata": {
    "application/vnd.databricks.v1+cell": {
     "cellMetadata": {
      "byteLimit": 2048000,
      "rowLimit": 10000
     },
     "inputWidgets": {},
     "nuid": "9c067da1-a9aa-41a6-b0c0-57c8cefcb018",
     "showTitle": false,
     "title": ""
    },
    "id": "YUyICc5S_sa6"
   },
   "outputs": [
    {
     "output_type": "stream",
     "name": "stdout",
     "output_type": "stream",
     "text": [
      "Read 1301 lines, successfully parsed 1300 lines, failed to parse 0 lines\n"
     ]
    }
   ],
   "source": [
    "GOLDFILE_PATTERN = '^(.+),(.+)'\n",
    "\n",
    "# Parse each line of a data file useing the specified regular expression pattern\n",
    "def parse_goldfile_line(goldfile_line):\n",
    "    \"\"\" Parse a line from the 'golden standard' data file\n",
    "    Args:\n",
    "        goldfile_line: a line of data\n",
    "    Returns:\n",
    "        pair: ((key, 'gold', 1 if successful or else 0))\n",
    "    \"\"\"\n",
    "    match = re.search(GOLDFILE_PATTERN, goldfile_line)\n",
    "    if match is None:\n",
    "        print('Invalid goldfile line: %s' % goldfile_line)\n",
    "        return (goldfile_line, -1)\n",
    "    elif match.group(1) == '\"idAmazon\"':\n",
    "        print('Header datafile line: %s' % goldfile_line)\n",
    "        return (goldfile_line, 0)\n",
    "    else:\n",
    "        key = '%s %s' % (removeQuotes(match.group(1)), removeQuotes(match.group(2)))\n",
    "        return ((key, 'gold'), 1)\n",
    "    \n",
    "GOAL_STANDARD = \"https://raw.githubusercontent.com/10605/data/master/hw1/\" + GOLD_STANDARD_PATH\n",
    "sc.addFile(GOAL_STANDARD)\n",
    "\n",
    "gsRaw = (sc\n",
    "         .textFile(\"file:///\" + SparkFiles.get(GOLD_STANDARD_PATH))\n",
    "         .map(parse_goldfile_line)\n",
    "         .cache())\n",
    "\n",
    "gsFailed = (gsRaw\n",
    "            .filter(lambda s: s[1] == -1)\n",
    "            .map(lambda s: s[0]))\n",
    "for line in gsFailed.take(10):\n",
    "    print('Invalid goldfile line: %s' % line)\n",
    "\n",
    "goldStandard = (gsRaw\n",
    "                .filter(lambda s: s[1] == 1)\n",
    "                .map(lambda s: s[0])\n",
    "                .cache())\n",
    "\n",
    "print('Read %d lines, successfully parsed %d lines, failed to parse %d lines' % (gsRaw.count(),\n",
    "                                                                                 goldStandard.count(),\n",
    "                                                                                 gsFailed.count()))\n",
    "assert (gsFailed.count() == 0)\n",
    "assert (gsRaw.count() == (goldStandard.count() + 1))"
   ]
  },
  {
   "cell_type": "markdown",
   "metadata": {
    "application/vnd.databricks.v1+cell": {
     "cellMetadata": {
      "byteLimit": 2048000,
      "rowLimit": 10000
     },
     "inputWidgets": {},
     "nuid": "179c954a-9448-4312-9458-34ae006e19a9",
     "showTitle": false,
     "title": ""
    },
    "id": "QBVyIeap_sa6"
   },
   "source": [
    "### Using the \"gold standard\" data we can answer the following questions:\n",
    "\n",
    "* How many true duplicate pairs are there in the small datasets?\n",
    "* What is the average similarity score for true duplicates?\n",
    "* What about for non-duplicates?\n",
    "The steps you should perform are:\n",
    "* Create a new `sims` RDD from the `similaritiesBroadcast` RDD, where each element consists of a pair of the form (\"AmazonID GoogleURL\", cosineSimilarityScore). Note that AmazonID is in front. An example entry from `sims` is: `('b000bi7uqs http://www.google.com/base/feeds/snippets/18403148885652932189', 0.40202896125621296)`\n",
    "* Combine the `sims` RDD with the `goldStandard` RDD by creating a new `trueDupsRDD` RDD that has just the cosine similarity scores for those \"AmazonID GoogleURL\" pairs that appear in both the `sims` RDD and `goldStandard` RDD. Hint: you can do this using the [join()](http://spark.apache.org/docs/1.6.2/api/python/pyspark.html#pyspark.RDD.join) transformation.\n",
    "* Count the number of true duplicate pairs in the `trueDupsRDD` dataset\n",
    "* Compute the average similarity score for true duplicates in the `trueDupsRDD` datasets. Remember to use `float` for calculation\n",
    "* Create a new `nonDupsRDD` RDD that has just the cosine similarity scores for those \"AmazonID GoogleURL\" pairs from the `similaritiesBroadcast` RDD that **do not** appear in both the `sims` RDD and `goldStandard` RDD. Hint: you can do this using the [subtractByKey()](https://spark.apache.org/docs/1.6.2/api/python/pyspark.html#pyspark.RDD.subtractByKey) transformation\n",
    "* Compute the average similarity score for non-duplicates in the last datasets. Remember to use `float` for calculation"
   ]
  },
  {
   "cell_type": "code",
   "execution_count": 0,
   "metadata": {
    "application/vnd.databricks.v1+cell": {
     "cellMetadata": {
      "byteLimit": 2048000,
      "rowLimit": 10000
     },
     "inputWidgets": {},
     "nuid": "30b2a63f-898d-4038-91b2-f8e87a6210e7",
     "showTitle": false,
     "title": ""
    },
    "deletable": false,
    "id": "cDbJ-afr_sa6",
    "nbgrader": {
     "cell_type": "code",
     "checksum": "7bea352a44241854afee90724d87e813",
     "grade": false,
     "grade_id": "gold_standard_evaluation",
     "locked": false,
     "schema_version": 3,
     "solution": true,
     "task": false
    }
   },
   "outputs": [
    {
     "output_type": "stream",
     "name": "stdout",
     "output_type": "stream",
     "text": [
      "There are 146 true duplicates.\nThe average similarity of true duplicates is 0.26433257343519145.\nAnd for non duplicates, it is 0.0012347630465555245.\n"
     ]
    }
   ],
   "source": [
    "# TODO: Uncomment the template below and replace <FILL IN> with appropriate code\n",
    "sims = similaritiesBroadcast.map(lambda record: (record[1]+' '+record[0], record[2]))\n",
    "\n",
    "trueDupsRDD = (sims\n",
    "               .join(goldStandard))\n",
    "trueDupsCount = trueDupsRDD.count()\n",
    "avgSimDups = trueDupsRDD.map(lambda record: record[1][0]).reduce(lambda x, y: x+y) / trueDupsCount\n",
    "\n",
    "nonDupsRDD = (sims\n",
    "              .subtractByKey(goldStandard))\n",
    "avgSimNon = nonDupsRDD.map(lambda record: record[1]).reduce(lambda x, y: x+y) / nonDupsRDD.count()\n",
    " \n",
    "# YOUR CODE HERE\n",
    "# raise NotImplementedError()\n",
    "\n",
    "print('There are %s true duplicates.' % trueDupsCount)\n",
    "print('The average similarity of true duplicates is %s.' % avgSimDups)\n",
    "print('And for non duplicates, it is %s.' % avgSimNon)"
   ]
  },
  {
   "cell_type": "code",
   "execution_count": 0,
   "metadata": {
    "application/vnd.databricks.v1+cell": {
     "cellMetadata": {
      "byteLimit": 2048000,
      "rowLimit": 10000
     },
     "inputWidgets": {},
     "nuid": "e95145fd-3c7d-472c-b12e-7b7b577d74de",
     "showTitle": false,
     "title": ""
    },
    "deletable": false,
    "editable": false,
    "id": "xnTQpe6a_sa6",
    "nbgrader": {
     "cell_type": "code",
     "checksum": "921ca47564c5af7de08e1ef72992ebf6",
     "grade": true,
     "grade_id": "gold_standard_evaluation_test",
     "locked": true,
     "points": 1,
     "schema_version": 3,
     "solution": false,
     "task": false
    }
   },
   "outputs": [],
   "source": [
    "\"\"\"Check that there are 146 true duplicate pairs in the dataset\"\"\"\n",
    "assert_equal(trueDupsCount, 146)\n"
   ]
  },
  {
   "cell_type": "markdown",
   "metadata": {
    "application/vnd.databricks.v1+cell": {
     "cellMetadata": {
      "byteLimit": 2048000,
      "rowLimit": 10000
     },
     "inputWidgets": {},
     "nuid": "af744394-95fd-4353-a126-5faafc43d27a",
     "showTitle": false,
     "title": ""
    },
    "id": "CrfvYqkb_sa7"
   },
   "source": [
    "## Part 4: Scalable ER\n",
    "In the previous parts, we built a text similarity function and used it for small scale entity resolution.  Our implementation is limited by its quadratic run time complexity, and is not practical for even modestly sized datasets.  In this part, we will implement a more scalable algorithm and use it to do entity resolution on the full dataset.\n",
    "\n",
    "### Inverted Indices\n",
    "To improve our ER algorithm from the earlier parts, we should begin by analyzing its running time. In particular, the algorithm above is quadratic in two ways. First, we did a lot of redundant computation of tokens and weights, since each record was reprocessed every time it was compared. Second, we made quadratically many token comparisons between records.\n",
    "\n",
    "The first source of quadratic overhead can be eliminated with precomputation and look-up tables, but the second source is a little more tricky. In the worst case, every token in every record in one dataset exists in every record in the other dataset, and therefore every token makes a non-zero contribution to the cosine similarity. In this case, token comparison is unavoidably quadratic.\n",
    "\n",
    "But in reality most records have nothing (or very little) in common. Moreover, it is typical for a record in one dataset to have at most one duplicate record in the other dataset (this is the case assuming each dataset has been de-duplicated against itself). In this case, the output is linear in the size of the input and we can hope to achieve linear running time.\n",
    "\n",
    "An [**inverted index**](https://en.wikipedia.org/wiki/Inverted_index) is a data structure that will allow us to avoid making quadratically many token comparisons.  It maps each token in the dataset to the list of documents that contain the token.  So, instead of comparing, record by record, each token to every other token to see if they match, we will use inverted indices to *look up* records that match on a particular token.\n",
    "\n",
    "> **Note on terminology**: In text search, a *forward* index maps documents in a dataset to the tokens they contain.  An *inverted* index supports the inverse mapping.\n",
    "\n",
    "> **Note**: For this section, use the complete Google and Amazon datasets, not the samples"
   ]
  },
  {
   "cell_type": "markdown",
   "metadata": {
    "application/vnd.databricks.v1+cell": {
     "cellMetadata": {
      "byteLimit": 2048000,
      "rowLimit": 10000
     },
     "inputWidgets": {},
     "nuid": "bccbdbad-7127-430c-bcef-b6147e95040a",
     "showTitle": false,
     "title": ""
    },
    "id": "GRsrAMQ8_sa7"
   },
   "source": [
    "### (4a) Tokenize the full dataset\n",
    "Tokenize each of the two full datasets for Google and Amazon so that each record in the resulting RDD will look like `(product id, list of tokens)`. Use the `tokenize()` function we defined in (1b)."
   ]
  },
  {
   "cell_type": "code",
   "execution_count": 0,
   "metadata": {
    "application/vnd.databricks.v1+cell": {
     "cellMetadata": {
      "byteLimit": 2048000,
      "rowLimit": 10000
     },
     "inputWidgets": {},
     "nuid": "84529479-ff5c-4cb3-839e-1e4030d7ae29",
     "showTitle": false,
     "title": ""
    },
    "deletable": false,
    "id": "91ORWk9e_sa7",
    "nbgrader": {
     "cell_type": "code",
     "checksum": "70f405c9c7788ae6e38c64f7dd6e2963",
     "grade": false,
     "grade_id": "full_tokenize",
     "locked": false,
     "schema_version": 3,
     "solution": true,
     "task": false
    }
   },
   "outputs": [
    {
     "output_type": "stream",
     "name": "stdout",
     "output_type": "stream",
     "text": [
      "Amazon full dataset is 1363 products, Google full dataset is 3226 products\n"
     ]
    }
   ],
   "source": [
    "# TODO: Uncomment the template below and replace <FILL IN> with appropriate code\n",
    "amazonFullRecToToken = amazon.map(lambda record: (record[0], tokenize(record[1])))\n",
    "googleFullRecToToken = google.map(lambda record: (record[0], tokenize(record[1])))\n",
    "\n",
    "# YOUR CODE HERE\n",
    "# raise NotImplementedError()\n",
    "\n",
    "print('Amazon full dataset is %s products, Google full dataset is %s products' % (amazonFullRecToToken.count(),\n",
    "                                                                                  googleFullRecToToken.count()))"
   ]
  },
  {
   "cell_type": "code",
   "execution_count": 0,
   "metadata": {
    "application/vnd.databricks.v1+cell": {
     "cellMetadata": {
      "byteLimit": 2048000,
      "rowLimit": 10000
     },
     "inputWidgets": {},
     "nuid": "53470995-7462-4f2e-8f7f-67db468773bd",
     "showTitle": false,
     "title": ""
    },
    "deletable": false,
    "editable": false,
    "id": "Dk3h4tk4_sa7",
    "nbgrader": {
     "cell_type": "code",
     "checksum": "b03dc23911738338664b51257f186fcc",
     "grade": true,
     "grade_id": "full_tokenize_test",
     "locked": true,
     "points": 1,
     "schema_version": 3,
     "solution": false,
     "task": false
    }
   },
   "outputs": [],
   "source": [
    "\"\"\"Check that Amazon full dataset has 1363 products\"\"\"\n",
    "assert_equal(amazonFullRecToToken.count(), 1363)\n"
   ]
  },
  {
   "cell_type": "markdown",
   "metadata": {
    "application/vnd.databricks.v1+cell": {
     "cellMetadata": {
      "byteLimit": 2048000,
      "rowLimit": 10000
     },
     "inputWidgets": {},
     "nuid": "82636ddb-6b65-4a1d-a062-ca864cc9c245",
     "showTitle": false,
     "title": ""
    },
    "id": "slQ9THE5_sa7"
   },
   "source": [
    "### (4b) Compute IDFs and TF-IDFs for the full datasets\n",
    "\n",
    "We will reuse your code from above to compute TF-IDF weights for the complete combined datasets.\n",
    "The steps you should perform are:\n",
    "* Create a new `fullCorpusRDD` that contains the tokens from the full Amazon and Google datasets.\n",
    "* Apply your `idfs` function to the `fullCorpusRDD`\n",
    "* Create a broadcast variable containing a dictionary of the IDF weights for the full dataset.\n",
    "* For each of the Amazon and Google full datasets, create weight RDDs that map IDs/URLs to TF-IDF weighted token vectors."
   ]
  },
  {
   "cell_type": "code",
   "execution_count": 0,
   "metadata": {
    "application/vnd.databricks.v1+cell": {
     "cellMetadata": {
      "byteLimit": 2048000,
      "rowLimit": 10000
     },
     "inputWidgets": {},
     "nuid": "fd797698-4328-404d-98d9-a3de5d0bcccf",
     "showTitle": false,
     "title": ""
    },
    "deletable": false,
    "id": "fcUlXqiF_sa7",
    "nbgrader": {
     "cell_type": "code",
     "checksum": "d50145b8ae7d3c6dc341ca2a2871e6a0",
     "grade": false,
     "grade_id": "full_tfidf",
     "locked": false,
     "schema_version": 3,
     "solution": true,
     "task": false
    }
   },
   "outputs": [
    {
     "output_type": "stream",
     "name": "stdout",
     "output_type": "stream",
     "text": [
      "There are 17078 unique tokens in the full datasets.\nThere are 1363 Amazon weights and 3226 Google weights.\n"
     ]
    }
   ],
   "source": [
    "# TODO: Uncomment the template below and replace <FILL IN> with appropriate code\n",
    "fullCorpusRDD = amazonFullRecToToken + googleFullRecToToken\n",
    "idfsFull = idfs(fullCorpusRDD)\n",
    "idfsFullCount = idfsFull.count()\n",
    "\n",
    "# YOUR CODE HERE\n",
    "# raise NotImplementedError()\n",
    "\n",
    "print('There are %s unique tokens in the full datasets.' % idfsFullCount)\n",
    "\n",
    "# Convert to dict and then broadcast. The dictionary should map token to token weights.\n",
    "# TODO: Uncomment the template below and replace <FILL IN> with appropriate code\n",
    "idfsFullWeights = idfsFull.collectAsMap()\n",
    "idfsFullBroadcast = sc.broadcast(idfsFullWeights)\n",
    "\n",
    "# YOUR CODE HERE\n",
    "# raise NotImplementedError()\n",
    "\n",
    "# Pre-compute TF-IDF weights.  Build mappings from record ID weight vector.\n",
    "# TODO: Uncomment the template below and replace <FILL IN> with appropriate code\n",
    "amazonWeightsRDD = amazonFullRecToToken.map(lambda record: (record[0], tfidf(record[1], idfsFullBroadcast.value)))\n",
    "googleWeightsRDD = googleFullRecToToken.map(lambda record: (record[0], tfidf(record[1], idfsFullBroadcast.value)))\n",
    "\n",
    "# YOUR CODE HERE\n",
    "# raise NotImplementedError()\n",
    "\n",
    "print('There are %s Amazon weights and %s Google weights.' % (amazonWeightsRDD.count(),\n",
    "                                                              googleWeightsRDD.count()))"
   ]
  },
  {
   "cell_type": "code",
   "execution_count": 0,
   "metadata": {
    "application/vnd.databricks.v1+cell": {
     "cellMetadata": {
      "byteLimit": 2048000,
      "rowLimit": 10000
     },
     "inputWidgets": {},
     "nuid": "10dad200-36ed-44ca-b4da-506d9df11eef",
     "showTitle": false,
     "title": ""
    },
    "deletable": false,
    "editable": false,
    "id": "4gioRgvq_sa7",
    "nbgrader": {
     "cell_type": "code",
     "checksum": "07239fc945cebe8e6cd9d228c4febf13",
     "grade": true,
     "grade_id": "full_tfidf_test",
     "locked": true,
     "points": 1,
     "schema_version": 3,
     "solution": false,
     "task": false
    }
   },
   "outputs": [],
   "source": [
    "\"\"\"Check that there are 17078 unique tokens in the full dataset\"\"\"\n",
    "assert_equal(idfsFullCount, 17078)\n",
    "\"\"\"Check that Amazon full dataset has 1363 products/weights\"\"\"\n",
    "assert_equal(amazonWeightsRDD.count(), 1363)\n"
   ]
  },
  {
   "cell_type": "markdown",
   "metadata": {
    "application/vnd.databricks.v1+cell": {
     "cellMetadata": {
      "byteLimit": 2048000,
      "rowLimit": 10000
     },
     "inputWidgets": {},
     "nuid": "3503ebf1-f203-4002-9eec-f5c866bf5df1",
     "showTitle": false,
     "title": ""
    },
    "id": "yseC0qD__sa7"
   },
   "source": [
    "### (4c) Compute Norms for the weights from the full datasets\n",
    "\n",
    "We will reuse your code from above to compute norms of the IDF weights for the complete combined dataset.\n",
    "The steps you should perform are:\n",
    "* Create two collections, one for each of the full Amazon and Google datasets, where IDs/URLs map to the norm of the associated TF-IDF weighted token vectors.\n",
    "* Convert each collection into a broadcast variable, containing a dictionary of the norm of IDF weights for the full dataset"
   ]
  },
  {
   "cell_type": "code",
   "execution_count": 0,
   "metadata": {
    "application/vnd.databricks.v1+cell": {
     "cellMetadata": {
      "byteLimit": 2048000,
      "rowLimit": 10000
     },
     "inputWidgets": {},
     "nuid": "ea65e1b6-1506-49e3-b091-c240733af6fb",
     "showTitle": false,
     "title": ""
    },
    "deletable": false,
    "id": "9_NzZzAg_sa7",
    "nbgrader": {
     "cell_type": "code",
     "checksum": "59b7ca283041d28a2f0993ddc4beb2e8",
     "grade": false,
     "grade_id": "full_norms",
     "locked": false,
     "schema_version": 3,
     "solution": true,
     "task": false
    }
   },
   "outputs": [
    {
     "output_type": "stream",
     "name": "stdout",
     "output_type": "stream",
     "text": [
      "There are 1363 Amazon norms and 3226 Google norms.\n"
     ]
    }
   ],
   "source": [
    "# TODO: Uncomment the template below and replace <FILL IN> with appropriate code\n",
    "amazonNorms = amazonWeightsRDD.map(lambda record: (record[0], math.sqrt(sum(weight**2 for weight in record[1].values())))).collectAsMap()\n",
    "amazonNormsBroadcast = sc.broadcast(amazonNorms)\n",
    "googleNorms = googleWeightsRDD.map(lambda record: (record[0], math.sqrt(sum(weight**2 for weight in record[1].values())))).collectAsMap()\n",
    "googleNormsBroadcast = sc.broadcast(googleNorms)\n",
    "\n",
    "# YOUR CODE HERE\n",
    "# raise NotImplementedError()\n",
    "\n",
    "print('There are %s Amazon norms and %s Google norms.' % (len(amazonNorms), len(googleNorms)))"
   ]
  },
  {
   "cell_type": "code",
   "execution_count": 0,
   "metadata": {
    "application/vnd.databricks.v1+cell": {
     "cellMetadata": {
      "byteLimit": 2048000,
      "rowLimit": 10000
     },
     "inputWidgets": {},
     "nuid": "1f00ae29-f12a-4adf-b49d-ee4c51767035",
     "showTitle": false,
     "title": ""
    },
    "deletable": false,
    "editable": false,
    "id": "QrcL-iXt_sa8",
    "nbgrader": {
     "cell_type": "code",
     "checksum": "0ade35ad1540eab9f39691a34c8b9e4e",
     "grade": true,
     "grade_id": "full_norms_test",
     "locked": true,
     "points": 1,
     "schema_version": 3,
     "solution": false,
     "task": false
    }
   },
   "outputs": [],
   "source": [
    "\"\"\"Check that amazonNormsBroadcast is a boradcast variable\"\"\"\n",
    "assert_true(isinstance(amazonNormsBroadcast, Broadcast))\n",
    "\"\"\"Check that Amazon full dataset has 1363 products/norms\"\"\"\n",
    "assert_equal(len(amazonNormsBroadcast.value), 1363)\n"
   ]
  },
  {
   "cell_type": "markdown",
   "metadata": {
    "application/vnd.databricks.v1+cell": {
     "cellMetadata": {
      "byteLimit": 2048000,
      "rowLimit": 10000
     },
     "inputWidgets": {},
     "nuid": "2f0922d0-8be6-4579-9e4d-b35cfd828bd8",
     "showTitle": false,
     "title": ""
    },
    "id": "oV5DBWaP_sa8"
   },
   "source": [
    "### (4d) Create inverted indices from the full datasets\n",
    "\n",
    "Build inverted indices of both data sources.\n",
    "The steps you should perform are:\n",
    "* Create an invert function that given a pair of (ID/URL, TF-IDF weighted token vector), returns a list of pairs of (token, ID/URL). Recall that the TF-IDF weighted token vector is a Python dictionary with keys that are tokens and values that are weights.\n",
    "* Use your invert function to convert the full Amazon and Google TF-IDF weighted token vector datasets into two RDDs where each element is a pair of a token and an ID/URL that contain that token. These are inverted indices."
   ]
  },
  {
   "cell_type": "code",
   "execution_count": 0,
   "metadata": {
    "application/vnd.databricks.v1+cell": {
     "cellMetadata": {
      "byteLimit": 2048000,
      "rowLimit": 10000
     },
     "inputWidgets": {},
     "nuid": "38b50447-1e77-4f5e-92d7-a455f6ca7c97",
     "showTitle": false,
     "title": ""
    },
    "deletable": false,
    "id": "D4ybU20h_sa8",
    "nbgrader": {
     "cell_type": "code",
     "checksum": "09893aa8b21161da6c852db036383c0f",
     "grade": false,
     "grade_id": "invert",
     "locked": false,
     "schema_version": 3,
     "solution": true,
     "task": false
    }
   },
   "outputs": [
    {
     "output_type": "stream",
     "name": "stdout",
     "output_type": "stream",
     "text": [
      "There are 111387 Amazon inverted pairs and 77678 Google inverted pairs.\n"
     ]
    }
   ],
   "source": [
    "# TODO: Uncomment the template below and replace <FILL IN> with appropriate code\n",
    "def invert(record):\n",
    "    \"\"\" Invert (ID, tokens) to a list of (token, ID)\n",
    "    Args:\n",
    "        record: a pair, (ID, token vector)\n",
    "    Returns:\n",
    "        pairs: a list of pairs of token to ID\n",
    "    \"\"\"\n",
    "    ID = record[0]\n",
    "    token_vector = record[1]\n",
    "    tokens = token_vector.keys()\n",
    "    pairs = [(token, ID) for token in tokens]\n",
    "    return (pairs)\n",
    "\n",
    "amazonInvPairsRDD = (amazonWeightsRDD\n",
    "                    .flatMap(lambda record: invert(record))\n",
    "                    .cache())\n",
    "\n",
    "googleInvPairsRDD = (googleWeightsRDD\n",
    "                    .flatMap(lambda record: invert(record))\n",
    "                    .cache())\n",
    "\n",
    "\n",
    "# YOUR CODE HERE\n",
    "# raise NotImplementedError()\n",
    "\n",
    "print('There are %s Amazon inverted pairs and %s Google inverted pairs.' % (amazonInvPairsRDD.count(),\n",
    "                                                                            googleInvPairsRDD.count()))"
   ]
  },
  {
   "cell_type": "code",
   "execution_count": 0,
   "metadata": {
    "application/vnd.databricks.v1+cell": {
     "cellMetadata": {
      "byteLimit": 2048000,
      "rowLimit": 10000
     },
     "inputWidgets": {},
     "nuid": "b64df2e2-84a4-4720-af39-2c14b17698aa",
     "showTitle": false,
     "title": ""
    },
    "deletable": false,
    "editable": false,
    "id": "8RmXpwsj_sa8",
    "nbgrader": {
     "cell_type": "code",
     "checksum": "69a5f4ea1dde2bd41127f21568a8f259",
     "grade": true,
     "grade_id": "invert_test",
     "locked": true,
     "points": 1,
     "schema_version": 3,
     "solution": false,
     "task": false
    }
   },
   "outputs": [],
   "source": [
    "invertedPair = invert((1, {'foo': 2}))\n",
    "\"\"\"Check that the function successfully inverts (ID, tokens) to a list of (tokens, ID)\"\"\"\n",
    "assert_equal(invertedPair[0][1], 1)\n",
    "\"\"\"Check that there are 111387 Amazon inverted pairs\"\"\"\n",
    "assert_equal(amazonInvPairsRDD.count(), 111387)\n"
   ]
  },
  {
   "cell_type": "markdown",
   "metadata": {
    "application/vnd.databricks.v1+cell": {
     "cellMetadata": {
      "byteLimit": 2048000,
      "rowLimit": 10000
     },
     "inputWidgets": {},
     "nuid": "c6bbc3ca-f089-49d1-ac12-af47badbeadd",
     "showTitle": false,
     "title": ""
    },
    "id": "dFzqgfKx_sa8"
   },
   "source": [
    "### (4e) Identify common tokens from the full dataset\n",
    "\n",
    "We are now in position to efficiently perform ER on the full datasets. Implement the following algorithm to build an RDD that maps a pair of (ID, URL) to a list of tokens they share in common. This might take more time to run than other cells."
   ]
  },
  {
   "cell_type": "code",
   "execution_count": 0,
   "metadata": {
    "application/vnd.databricks.v1+cell": {
     "cellMetadata": {
      "byteLimit": 2048000,
      "rowLimit": 10000
     },
     "inputWidgets": {},
     "nuid": "8a775ee8-34c0-44d5-9726-5640826a3a27",
     "showTitle": false,
     "title": ""
    },
    "deletable": false,
    "id": "rGT_qYpH_sa8",
    "nbgrader": {
     "cell_type": "code",
     "checksum": "c955cd66d233bf4a05f30bf2bfb79438",
     "grade": false,
     "grade_id": "swap_and_common_tokens",
     "locked": false,
     "schema_version": 3,
     "solution": true,
     "task": false
    }
   },
   "outputs": [
    {
     "output_type": "stream",
     "name": "stdout",
     "output_type": "stream",
     "text": [
      "Found 2441100 common tokens\n"
     ]
    }
   ],
   "source": [
    "# TODO: Uncomment the template below and replace <FILL IN> with appropriate code\n",
    "# (Note that it might take some time to run this cell)\n",
    "def swap(record):\n",
    "    \"\"\" Swap (token, (ID, URL)) to ((ID, URL), token)\n",
    "    Args:\n",
    "        record: a pair, (token, (ID, URL))\n",
    "    Returns:\n",
    "        pair: ((ID, URL), token)\n",
    "    \"\"\"\n",
    "    token = record[0]\n",
    "    keys = record[1]\n",
    "    return (keys, token)\n",
    "\n",
    "\n",
    "commonTokens = (amazonInvPairsRDD\n",
    "                .join(googleInvPairsRDD).map(lambda record: swap(record)).groupByKey().mapValues(list)\n",
    "                .cache())\n",
    "\n",
    "\n",
    "# YOUR CODE HERE\n",
    "# raise NotImplementedError()\n",
    "\n",
    "print('Found %d common tokens' % commonTokens.count())"
   ]
  },
  {
   "cell_type": "code",
   "execution_count": 0,
   "metadata": {
    "application/vnd.databricks.v1+cell": {
     "cellMetadata": {
      "byteLimit": 2048000,
      "rowLimit": 10000
     },
     "inputWidgets": {},
     "nuid": "bd1f848f-af0e-49dc-a837-232690058891",
     "showTitle": false,
     "title": ""
    },
    "deletable": false,
    "editable": false,
    "id": "3QMk5uHW_sa8",
    "nbgrader": {
     "cell_type": "code",
     "checksum": "0242ec426b8393853b6437f2f796dafe",
     "grade": true,
     "grade_id": "swap_and_common_tokens_test",
     "locked": true,
     "points": 1,
     "schema_version": 3,
     "solution": false,
     "task": false
    }
   },
   "outputs": [],
   "source": [
    "\"\"\"Check that there are 2441100 common tokens\"\"\"\n",
    "assert_equal(commonTokens.count(), 2441100)"
   ]
  },
  {
   "cell_type": "markdown",
   "metadata": {
    "application/vnd.databricks.v1+cell": {
     "cellMetadata": {
      "byteLimit": 2048000,
      "rowLimit": 10000
     },
     "inputWidgets": {},
     "nuid": "c4d52bfe-85b7-4504-b324-401cdfc65851",
     "showTitle": false,
     "title": ""
    },
    "id": "VJ1Ep89P_sa8"
   },
   "source": [
    "### (4f) Compute Similarity Scores\n",
    "\n",
    "Use the data structures from parts **(4a)** and **(4e)** to build a dictionary to map record pairs to cosine similarity scores.\n",
    "The steps you should perform are:\n",
    "* Create two broadcast dictionaries from the amazonWeights and googleWeights RDDs\n",
    "* Create a `fastCosinesSimilarity` function that takes in a record consisting of the pair ((Amazon ID, Google URL), tokens list) and computes the sum for each of the tokens in the token list of the products of the Amazon weight for the token times the Google weight for the token. The sum should then be divided by the norm for the Google URL and then divided by the norm for the Amazon ID. The function should return this value in a pair with the key being the (Amazon ID, Google URL). *Make sure you use broadcast variables you created for both the weights and norms*\n",
    "* Apply your `fastCosinesSimilarity` function to the common tokens from the full dataset"
   ]
  },
  {
   "cell_type": "code",
   "execution_count": 0,
   "metadata": {
    "application/vnd.databricks.v1+cell": {
     "cellMetadata": {
      "byteLimit": 2048000,
      "rowLimit": 10000
     },
     "inputWidgets": {},
     "nuid": "244f8123-a18a-49ba-a69f-7f52e660d0f1",
     "showTitle": false,
     "title": ""
    },
    "deletable": false,
    "id": "3fJiKpgN_sa9",
    "nbgrader": {
     "cell_type": "code",
     "checksum": "e20b7bcaaa5b343499546d72a665f785",
     "grade": false,
     "grade_id": "full_similarity",
     "locked": false,
     "schema_version": 3,
     "solution": true,
     "task": false
    }
   },
   "outputs": [
    {
     "output_type": "stream",
     "name": "stdout",
     "output_type": "stream",
     "text": [
      "2441100\n"
     ]
    }
   ],
   "source": [
    "# TODO: Uncomment the template below and replace <FILL IN> with appropriate code\n",
    "amazonWeightsBroadcast = sc.broadcast(amazonWeightsRDD.collectAsMap())\n",
    "googleWeightsBroadcast = sc.broadcast(googleWeightsRDD.collectAsMap())\n",
    "\n",
    "# print(amazonNormsBroadcast.value['b000jz4hqo'])\n",
    "# print(amazonWeightsBroadcast.value['b000jz4hqo'])\n",
    "\n",
    "def fastCosineSimilarity(record):\n",
    "    \"\"\" Compute Cosine Similarity using Broadcast variables\n",
    "    Args:\n",
    "        record: ((ID, URL), iterable(token))\n",
    "    Returns:\n",
    "        pair: ((ID, URL), cosine similarity value)\n",
    "    \"\"\"\n",
    "    amazon_id = record[0][0]\n",
    "    google_url = record[0][1]\n",
    "    tokens_list = record[1]\n",
    "    s = sum(amazonWeightsBroadcast.value[amazon_id][token] * googleWeightsBroadcast.value[google_url][token] for token in tokens_list)\n",
    "    value = s / (amazonNormsBroadcast.value[amazon_id] * googleNormsBroadcast.value[google_url])\n",
    "    key = (amazon_id, google_url)\n",
    "    return (key, value)\n",
    "\n",
    "similaritiesFullRDD = (commonTokens\n",
    "                       .map(lambda record: fastCosineSimilarity(record))\n",
    "                       .cache())\n",
    "\n",
    "# YOUR CODE HERE\n",
    "# raise NotImplementedError()\n",
    "\n",
    "print(similaritiesFullRDD.count())"
   ]
  },
  {
   "cell_type": "code",
   "execution_count": 0,
   "metadata": {
    "application/vnd.databricks.v1+cell": {
     "cellMetadata": {
      "byteLimit": 2048000,
      "rowLimit": 10000
     },
     "inputWidgets": {},
     "nuid": "ad100a11-8cb0-4fe8-b9ee-80bfd91178f9",
     "showTitle": false,
     "title": ""
    },
    "deletable": false,
    "editable": false,
    "id": "bP9qGTHu_sa9",
    "nbgrader": {
     "cell_type": "code",
     "checksum": "26d1db457d6f0555c1609b06e6a9a0bd",
     "grade": true,
     "grade_id": "full_similarity_test",
     "locked": true,
     "points": 1,
     "schema_version": 3,
     "solution": false,
     "task": false
    }
   },
   "outputs": [],
   "source": [
    "similarityTest = similaritiesFullRDD.filter(lambda kv : kv[0][0] == 'b00005lzly' and kv[0][1] == 'http://www.google.com/base/feeds/snippets/13823221823254120257').collect()\n",
    "\"\"\"Check that we are testing the similarity score of one pair of product\"\"\"\n",
    "assert_equal(len(similarityTest), 1)\n",
    "\"\"\"Check that the similarity socre is very small (they are the same entity)\"\"\"\n",
    "assert_true(abs(similarityTest[0][1] - 4.286548414e-06) < 0.000000000001)\n",
    "\"\"\"Check that there are 2441100 common tokens\"\"\"\n",
    "assert_equal(similaritiesFullRDD.count(), 2441100)"
   ]
  },
  {
   "cell_type": "markdown",
   "metadata": {
    "application/vnd.databricks.v1+cell": {
     "cellMetadata": {
      "byteLimit": 2048000,
      "rowLimit": 10000
     },
     "inputWidgets": {},
     "nuid": "a2e1467e-ee18-40fa-adc7-b74414af0181",
     "showTitle": false,
     "title": ""
    },
    "id": "waFdtCvf_sa9"
   },
   "source": [
    "## **Part 5: Analysis** \n",
    "\n",
    "Now we have an authoritative list of record-pair similarities, but we need a way to use those similarities to decide if two records are duplicates or not. The simplest approach is to pick a **threshold**. Pairs whose similarity is above the threshold are declared duplicates, and pairs below the threshold are declared distinct.\n",
    "\n",
    "To decide where to set the threshold we need to understand what kind of errors result at different levels. If we set the threshold too low, we get more **false positives**, that is, record-pairs we say are duplicates that in reality are not. If we set the threshold too high, we get more **false negatives**, that is, record-pairs that really are duplicates but that we miss.\n",
    "\n",
    "ER algorithms are evaluated by the common metrics of information retrieval and search called **precision** and **recall**. Precision asks, of all the record-pairs marked duplicates, what fraction are true duplicates? Recall asks, of all the true duplicates in the data, what fraction did we successfully find? As with false positives and false negatives, there is a trade-off between precision and recall. A third metric, called **F-measure**, takes the harmonic mean of precision and recall to measure overall goodness in a single value:\n",
    "\\\\[ Fmeasure = 2 \\frac{precision * recall}{precision + recall} \\\\]"
   ]
  },
  {
   "cell_type": "markdown",
   "metadata": {
    "application/vnd.databricks.v1+cell": {
     "cellMetadata": {
      "byteLimit": 2048000,
      "rowLimit": 10000
     },
     "inputWidgets": {},
     "nuid": "a9fde684-bace-43e5-9a05-e2b3a6c0c9d0",
     "showTitle": false,
     "title": ""
    },
    "id": "0oY_tRDX_sa9"
   },
   "source": [
    "### (5a) Counting True Positives, False Positives, and False Negatives\n",
    "\n",
    "We need functions that count True Positives (true duplicates above the threshold), and False Positives and False Negatives:\n",
    "* We start with creating the `simsFullRDD` from our `similaritiesFullRDD` that consists of a pair of ((Amazon ID, Google URL), simlarity score)\n",
    "* From this RDD, we create an RDD consisting of only the similarity scores\n",
    "* To look up the similarity scores for true duplicates, we perform a left outer join using the `goldStandard` RDD and `simsFullRDD` and extract the similarities scores using the helper function"
   ]
  },
  {
   "cell_type": "code",
   "execution_count": 0,
   "metadata": {
    "application/vnd.databricks.v1+cell": {
     "cellMetadata": {
      "byteLimit": 2048000,
      "rowLimit": 10000
     },
     "inputWidgets": {},
     "nuid": "e61f8ff0-7669-40fe-85d1-9e8f15e525e8",
     "showTitle": false,
     "title": ""
    },
    "id": "5tYRnpPh_sa9"
   },
   "outputs": [
    {
     "output_type": "stream",
     "name": "stdout",
     "output_type": "stream",
     "text": [
      "There are 1300 true duplicates.\n"
     ]
    }
   ],
   "source": [
    "# Create an RDD of ((Amazon ID, Google URL), similarity score)\n",
    "simsFullRDD = similaritiesFullRDD.map(lambda x: (\"%s %s\" % (x[0][0], x[0][1]), x[1]))\n",
    "assert (simsFullRDD.count() == 2441100)\n",
    "\n",
    "# Create an RDD of just the similarity scores\n",
    "simsFullValuesRDD = (simsFullRDD\n",
    "                     .map(lambda x: x[1])\n",
    "                     .cache())\n",
    "assert (simsFullValuesRDD.count() == 2441100)\n",
    "\n",
    "# Look up all similarity scores for true duplicates\n",
    "\n",
    "# This helper function will return the similarity score for records that are in the gold standard and the simsFullRDD (True positives), and will return 0 for records that are in the gold standard but not in simsFullRDD (False Negatives).\n",
    "def gs_value(record):\n",
    "    if (record[1][1] is None):\n",
    "        return 0\n",
    "    else:\n",
    "        return record[1][1]\n",
    "\n",
    "# Join the gold standard and simsFullRDD, and then extract the similarities scores using the helper function\n",
    "trueDupSimsRDD = (goldStandard\n",
    "                  .leftOuterJoin(simsFullRDD)\n",
    "                  .map(gs_value)\n",
    "                  .cache())\n",
    "print('There are %s true duplicates.' % trueDupSimsRDD.count())\n",
    "assert(trueDupSimsRDD.count() == 1300)"
   ]
  },
  {
   "cell_type": "markdown",
   "metadata": {
    "application/vnd.databricks.v1+cell": {
     "cellMetadata": {
      "byteLimit": 2048000,
      "rowLimit": 10000
     },
     "inputWidgets": {},
     "nuid": "22a8db8e-d27e-46e6-912d-5c84d2d944c5",
     "showTitle": false,
     "title": ""
    },
    "id": "julwT1D0_sa9"
   },
   "source": [
    "The next step is to pick a threshold between 0 and 1 for the count of True Positives (true duplicates above the threshold). However, we would like to explore many different thresholds.\n",
    "\n",
    "To do this, we divide the space of thresholds into 100 bins, and take the following actions:\n",
    "* We use Spark Accumulators to implement our counting function. We define a custom accumulator type, `VectorAccumulatorParam`, along with functions to initialize the accumulator's vector to zero, and to add two vectors. Note that we have to use the += operator because you can only add to an accumulator.\n",
    "* We create a helper function to create a list with one entry (bit) set to a value and all others set to 0.\n",
    "* We create 101 bins for the 100 threshold values between 0 and 1.\n",
    "* Now, for each similarity score, we can compute the false positives. We do this by adding each similarity score to the appropriate bin of the vector. Then we remove true positives from the vector by using the gold standard data.\n",
    "* We define functions for computing false positive and negative and true positives, for a given threshold."
   ]
  },
  {
   "cell_type": "code",
   "execution_count": 0,
   "metadata": {
    "application/vnd.databricks.v1+cell": {
     "cellMetadata": {
      "byteLimit": 2048000,
      "rowLimit": 10000
     },
     "inputWidgets": {},
     "nuid": "3bea02f3-39ec-477e-813d-004917ab63a0",
     "showTitle": false,
     "title": ""
    },
    "id": "W9K7-gNl_sa9"
   },
   "outputs": [],
   "source": [
    "\n",
    "class VectorAccumulatorParam(AccumulatorParam):\n",
    "    # Initialize the VectorAccumulator to 0\n",
    "    def zero(self, value):\n",
    "        return [0] * len(value)\n",
    "\n",
    "    # Add two VectorAccumulator variables\n",
    "    def addInPlace(self, val1, val2):\n",
    "        for i in range(len(val1)):\n",
    "            val1[i] += val2[i]\n",
    "        return val1\n",
    "\n",
    "# Return a list with entry x set to value and all other entries set to 0\n",
    "def set_bit(x, value, length):\n",
    "    bits = []\n",
    "    for y in range(length):\n",
    "        if (x == y):\n",
    "            bits.append(value)\n",
    "        else:\n",
    "            bits.append(0)\n",
    "    return bits\n",
    "\n",
    "# Pre-bin counts of false positives for different threshold ranges\n",
    "BINS = 101\n",
    "nthresholds = 100\n",
    "def bin(similarity):\n",
    "    return int(similarity * nthresholds)\n",
    "\n",
    "# fpCounts[i] = number of entries (possible false positives) where bin(similarity) == i\n",
    "zeros = [0] * BINS\n",
    "fpCounts = sc.accumulator(zeros, VectorAccumulatorParam())\n",
    "\n",
    "def add_element(score):\n",
    "    global fpCounts\n",
    "    b = bin(score)\n",
    "    fpCounts += set_bit(b, 1, BINS)\n",
    "\n",
    "simsFullValuesRDD.foreach(add_element)\n",
    "\n",
    "# Remove true positives from FP counts\n",
    "def sub_element(score):\n",
    "    global fpCounts\n",
    "    b = bin(score)\n",
    "    fpCounts += set_bit(b, -1, BINS)\n",
    "\n",
    "trueDupSimsRDD.foreach(sub_element)\n",
    "\n",
    "def falsepos(threshold):\n",
    "    fpList = fpCounts.value\n",
    "    return sum([fpList[b] for b in range(0, BINS) if float(b) / nthresholds >= threshold])\n",
    "\n",
    "def falseneg(threshold):\n",
    "    return trueDupSimsRDD.filter(lambda x: x < threshold).count()\n",
    "\n",
    "def truepos(threshold):\n",
    "    return trueDupSimsRDD.count() - falsenegDict[threshold]"
   ]
  },
  {
   "cell_type": "markdown",
   "metadata": {
    "application/vnd.databricks.v1+cell": {
     "cellMetadata": {
      "byteLimit": 2048000,
      "rowLimit": 10000
     },
     "inputWidgets": {},
     "nuid": "59fe5b30-b3d2-470c-9dd7-54cab28162f3",
     "showTitle": false,
     "title": ""
    },
    "id": "SA3axvvD_sa-"
   },
   "source": [
    "### (5b) Precision, Recall, and F-measures\n",
    "We define functions so that we can compute the [Precision](https://en.wikipedia.org/wiki/Precision_and_recall), [Recall](https://en.wikipedia.org/wiki/Precision_and_recall), and [F-measure](https://en.wikipedia.org/wiki/Precision_and_recall#F-measure) as a function of threshold value:\n",
    "* Precision = true-positives / (true-positives + false-positives)\n",
    "* Recall = true-positives / (true-positives + false-negatives)\n",
    "* F-measure = 2 x Recall x Precision / (Recall + Precision)"
   ]
  },
  {
   "cell_type": "code",
   "execution_count": 0,
   "metadata": {
    "application/vnd.databricks.v1+cell": {
     "cellMetadata": {
      "byteLimit": 2048000,
      "rowLimit": 10000
     },
     "inputWidgets": {},
     "nuid": "9a5242cf-5f76-4bbe-b0cb-517f63ea9aad",
     "showTitle": false,
     "title": ""
    },
    "id": "wgZ-4vGk_sa-"
   },
   "outputs": [],
   "source": [
    "# Precision = true-positives / (true-positives + false-positives)\n",
    "# Recall = true-positives / (true-positives + false-negatives)\n",
    "# F-measure = 2 x Recall x Precision / (Recall + Precision)\n",
    "\n",
    "def precision(threshold):\n",
    "    tp = trueposDict[threshold]\n",
    "    return float(tp) / (tp + falseposDict[threshold])\n",
    "\n",
    "def recall(threshold):\n",
    "    tp = trueposDict[threshold]\n",
    "    return float(tp) / (tp + falsenegDict[threshold])\n",
    "\n",
    "def fmeasure(threshold):\n",
    "    r = recall(threshold)\n",
    "    p = precision(threshold)\n",
    "    return 2 * r * p / (r + p)"
   ]
  },
  {
   "cell_type": "markdown",
   "metadata": {
    "application/vnd.databricks.v1+cell": {
     "cellMetadata": {
      "byteLimit": 2048000,
      "rowLimit": 10000
     },
     "inputWidgets": {},
     "nuid": "4d02b244-1fcb-482a-9980-b0a5d10aff7d",
     "showTitle": false,
     "title": ""
    },
    "id": "OKO8K34n_sa-"
   },
   "source": [
    "### (5c) Line Plots\n",
    "We can make line plots of precision, recall, and F-measure as a function of threshold value, for thresholds between 0.0 and 1.0.  You can change `nthresholds` (above in part **(5a)**) to change the threshold values to plot."
   ]
  },
  {
   "cell_type": "code",
   "execution_count": 0,
   "metadata": {
    "application/vnd.databricks.v1+cell": {
     "cellMetadata": {
      "byteLimit": 2048000,
      "rowLimit": 10000
     },
     "inputWidgets": {},
     "nuid": "bf4f9e22-8d31-4fe0-abe2-8526416ddd89",
     "showTitle": false,
     "title": ""
    },
    "id": "fWuEH26h_sa-"
   },
   "outputs": [
    {
     "output_type": "stream",
     "name": "stdout",
     "output_type": "stream",
     "text": [
      "0.0005325468026709271 0.0010645266950540452\n"
     ]
    },
    {
     "output_type": "execute_result",
     "data": {
      "text/plain": [
       "<matplotlib.legend.Legend at 0x7fe3c89737c0>"
      ]
     },
     "execution_count": 54,
     "metadata": {},
     "output_type": "execute_result"
    },
    {
     "output_type": "display_data",
     "data": {
      "image/png": "[encoded data removed]",
      "text/plain": [
       "<Figure size 640x480 with 1 Axes>"
      ]
     },
     "metadata": {},
     "output_type": "display_data"
    }
   ],
   "source": [
    "thresholds = [float(n) / nthresholds for n in range(0, nthresholds)]\n",
    "falseposDict = dict([(t, falsepos(t)) for t in thresholds])\n",
    "falsenegDict = dict([(t, falseneg(t)) for t in thresholds])\n",
    "trueposDict = dict([(t, truepos(t)) for t in thresholds])\n",
    "\n",
    "precisions = [precision(t) for t in thresholds]\n",
    "recalls = [recall(t) for t in thresholds]\n",
    "fmeasures = [fmeasure(t) for t in thresholds]\n",
    "\n",
    "print(precisions[0], fmeasures[0])\n",
    "assert (abs(precisions[0] - 0.000532546802671) < 0.0000001)\n",
    "assert (abs(fmeasures[0] - 0.00106452669505) < 0.0000001)\n",
    "\n",
    "\n",
    "fig = plt.figure()\n",
    "plt.plot(thresholds, precisions)\n",
    "plt.plot(thresholds, recalls)\n",
    "plt.plot(thresholds, fmeasures)\n",
    "plt.legend(['Precision', 'Recall', 'F-measure'])\n",
    "# display(fig)"
   ]
  },
  {
   "cell_type": "markdown",
   "metadata": {
    "application/vnd.databricks.v1+cell": {
     "cellMetadata": {
      "byteLimit": 2048000,
      "rowLimit": 10000
     },
     "inputWidgets": {},
     "nuid": "94813fc0-9f4b-4f5f-baab-6d267d7a105d",
     "showTitle": false,
     "title": ""
    },
    "id": "1NzTsHBq_sa-"
   },
   "source": [
    "You can also create a similar plot using the Databricks `display()` function.\n",
    "\n",
    "* Run the following cell.\n",
    "* Then, select **Line** from the drop-down.\n",
    "* Then, click on **Plot Options**, and configure the plot as shown below.\n",
    "\n",
    "<img src=\"http://spark-mooc.github.io/web-assets/images/cs110x/lab3-change-plot-5c.png\" alt=\"plot options\" style=\"height: 500px\"/>"
   ]
  },
  {
   "cell_type": "code",
   "execution_count": 0,
   "metadata": {
    "application/vnd.databricks.v1+cell": {
     "cellMetadata": {
      "byteLimit": 2048000,
      "rowLimit": 10000
     },
     "inputWidgets": {},
     "nuid": "df90efd0-913c-4269-afa4-4d14149aed19",
     "showTitle": false,
     "title": ""
    },
    "id": "t8EX29W3_sa-"
   },
   "outputs": [
    {
     "output_type": "display_data",
     "data": {
      "text/html": [
       "<style scoped>\n",
       "  .table-result-container {\n",
       "    max-height: 300px;\n",
       "    overflow: auto;\n",
       "  }\n",
       "  table, th, td {\n",
       "    border: 1px solid black;\n",
       "    border-collapse: collapse;\n",
       "  }\n",
       "  th, td {\n",
       "    padding: 5px;\n",
       "  }\n",
       "  th {\n",
       "    text-align: left;\n",
       "  }\n",
       "</style><div class='table-result-container'><table class='table-result'><thead style='background-color: white'><tr><th>threshold</th><th>precision</th><th>recall</th><th>fmeasure</th></tr></thead><tbody><tr><td>0.0</td><td>5.325468026709271E-4</td><td>1.0</td><td>0.0010645266950540452</td></tr><tr><td>0.01</td><td>0.04223433242506812</td><td>0.8823076923076923</td><td>0.08061002178649238</td></tr><tr><td>0.02</td><td>0.0721438790108318</td><td>0.8146153846153846</td><td>0.1325489705238125</td></tr><tr><td>0.03</td><td>0.09929360262660432</td><td>0.7676923076923077</td><td>0.17584353801427186</td></tr><tr><td>0.04</td><td>0.12232013678810996</td><td>0.7153846153846154</td><td>0.2089183421318657</td></tr><tr><td>0.05</td><td>0.14329964134333226</td><td>0.6761538461538461</td><td>0.23648103309120258</td></tr><tr><td>0.06</td><td>0.1631177964446181</td><td>0.6423076923076924</td><td>0.2601651347561926</td></tr><tr><td>0.07</td><td>0.17951063343242626</td><td>0.6038461538461538</td><td>0.2767495152476644</td></tr><tr><td>0.08</td><td>0.19719428268925357</td><td>0.573076923076923</td><td>0.2934226073257188</td></tr><tr><td>0.09</td><td>0.21696673787000306</td><td>0.546923076923077</td><td>0.3106838540528731</td></tr><tr><td>0.1</td><td>0.23519342690859293</td><td>0.5284615384615384</td><td>0.3255152807391613</td></tr><tr><td>0.11</td><td>0.24962121212121213</td><td>0.5069230769230769</td><td>0.3345177664974619</td></tr><tr><td>0.12</td><td>0.263681592039801</td><td>0.48923076923076925</td><td>0.3426724137931035</td></tr><tr><td>0.13</td><td>0.2777272727272727</td><td>0.47</td><td>0.34914285714285714</td></tr><tr><td>0.14</td><td>0.2933597621407334</td><td>0.4553846153846154</td><td>0.35684147076552136</td></tr><tr><td>0.15</td><td>0.3076923076923077</td><td>0.4369230769230769</td><td>0.3610934520025429</td></tr><tr><td>0.16</td><td>0.3175245806824754</td><td>0.42230769230769233</td><td>0.36249587322548693</td></tr><tr><td>0.17</td><td>0.33189920098340503</td><td>0.4153846153846154</td><td>0.3689784762555518</td></tr><tr><td>0.18</td><td>0.34098360655737703</td><td>0.4</td><td>0.3681415929203539</td></tr><tr><td>0.19</td><td>0.3509015256588072</td><td>0.3892307692307692</td><td>0.3690736688548505</td></tr><tr><td>0.2</td><td>0.3641063515509601</td><td>0.3792307692307692</td><td>0.3715146948003014</td></tr><tr><td>0.21</td><td>0.3746006389776358</td><td>0.3607692307692308</td><td>0.36755485893416934</td></tr><tr><td>0.22</td><td>0.38671209540034074</td><td>0.34923076923076923</td><td>0.36701697655618437</td></tr><tr><td>0.23</td><td>0.3978201634877384</td><td>0.33692307692307694</td><td>0.36484798000832985</td></tr><tr><td>0.24</td><td>0.4</td><td>0.32461538461538464</td><td>0.35838641188959663</td></tr><tr><td>0.25</td><td>0.40788177339901477</td><td>0.31846153846153846</td><td>0.3576673866090712</td></tr><tr><td>0.26</td><td>0.41333333333333333</td><td>0.31</td><td>0.3542857142857142</td></tr><tr><td>0.27</td><td>0.41808510638297874</td><td>0.30230769230769233</td><td>0.3508928571428572</td></tr><tr><td>0.28</td><td>0.4211111111111111</td><td>0.2915384615384615</td><td>0.34454545454545454</td></tr><tr><td>0.29</td><td>0.42790697674418604</td><td>0.28307692307692306</td><td>0.34074074074074073</td></tr><tr><td>0.3</td><td>0.43333333333333335</td><td>0.27</td><td>0.33270142180094786</td></tr><tr><td>0.31</td><td>0.437094682230869</td><td>0.2592307692307692</td><td>0.32544664413326896</td></tr><tr><td>0.32</td><td>0.4358974358974359</td><td>0.24846153846153846</td><td>0.3165115139637433</td></tr><tr><td>0.33</td><td>0.43626062322946174</td><td>0.23692307692307693</td><td>0.3070787637088734</td></tr><tr><td>0.34</td><td>0.44542772861356933</td><td>0.2323076923076923</td><td>0.30535894843276035</td></tr><tr><td>0.35</td><td>0.45038167938931295</td><td>0.22692307692307692</td><td>0.30179028132992325</td></tr><tr><td>0.36</td><td>0.4558359621451104</td><td>0.22230769230769232</td><td>0.2988624612202689</td></tr><tr><td>0.37</td><td>0.4538087520259319</td><td>0.2153846153846154</td><td>0.29212310902451755</td></tr><tr><td>0.38</td><td>0.4539249146757679</td><td>0.20461538461538462</td><td>0.28207847295864263</td></tr><tr><td>0.39</td><td>0.4592198581560284</td><td>0.19923076923076924</td><td>0.2778969957081545</td></tr><tr><td>0.4</td><td>0.4684014869888476</td><td>0.19384615384615383</td><td>0.27421109902067464</td></tr><tr><td>0.41</td><td>0.47093023255813954</td><td>0.18692307692307691</td><td>0.2676211453744493</td></tr><tr><td>0.42</td><td>0.48096192384769537</td><td>0.18461538461538463</td><td>0.2668148971650917</td></tr><tr><td>0.43</td><td>0.4875</td><td>0.18</td><td>0.26292134831460673</td></tr><tr><td>0.44</td><td>0.4900662251655629</td><td>0.17076923076923076</td><td>0.25328009127210493</td></tr><tr><td>0.45</td><td>0.49658314350797267</td><td>0.1676923076923077</td><td>0.2507188039102932</td></tr><tr><td>0.46</td><td>0.498812351543943</td><td>0.16153846153846155</td><td>0.24404416037187684</td></tr><tr><td>0.47</td><td>0.5089058524173028</td><td>0.15384615384615385</td><td>0.23626698168930896</td></tr><tr><td>0.48</td><td>0.5173333333333333</td><td>0.14923076923076922</td><td>0.23164179104477614</td></tr><tr><td>0.49</td><td>0.532394366197183</td><td>0.1453846153846154</td><td>0.2283987915407855</td></tr><tr><td>0.5</td><td>0.5232558139534884</td><td>0.13846153846153847</td><td>0.2189781021897811</td></tr><tr><td>0.51</td><td>0.5272727272727272</td><td>0.13384615384615384</td><td>0.2134969325153374</td></tr><tr><td>0.52</td><td>0.5333333333333333</td><td>0.12923076923076923</td><td>0.20804953560371514</td></tr><tr><td>0.53</td><td>0.5298013245033113</td><td>0.12307692307692308</td><td>0.1997503121098627</td></tr><tr><td>0.54</td><td>0.5275862068965518</td><td>0.1176923076923077</td><td>0.19245283018867926</td></tr><tr><td>0.55</td><td>0.5215827338129496</td><td>0.11153846153846154</td><td>0.18377693282636248</td></tr><tr><td>0.56</td><td>0.5111940298507462</td><td>0.10538461538461538</td><td>0.17474489795918366</td></tr><tr><td>0.57</td><td>0.5057471264367817</td><td>0.10153846153846154</td><td>0.16912235746316462</td></tr><tr><td>0.58</td><td>0.5224489795918368</td><td>0.09846153846153846</td><td>0.16569579288025887</td></tr><tr><td>0.59</td><td>0.5271966527196653</td><td>0.09692307692307692</td><td>0.16374269005847955</td></tr><tr><td>0.6</td><td>0.5350877192982456</td><td>0.09384615384615384</td><td>0.15968586387434555</td></tr><tr><td>0.61</td><td>0.5388127853881278</td><td>0.09076923076923077</td><td>0.1553653719552337</td></tr><tr><td>0.62</td><td>0.5416666666666666</td><td>0.09</td><td>0.15435356200527706</td></tr><tr><td>0.63</td><td>0.5377358490566038</td><td>0.0876923076923077</td><td>0.15079365079365079</td></tr><tr><td>0.64</td><td>0.5294117647058824</td><td>0.08307692307692308</td><td>0.14361702127659576</td></tr><tr><td>0.65</td><td>0.5412371134020618</td><td>0.08076923076923077</td><td>0.14056224899598393</td></tr><tr><td>0.66</td><td>0.5376344086021505</td><td>0.07692307692307693</td><td>0.13458950201884257</td></tr><tr><td>0.67</td><td>0.5307262569832403</td><td>0.07307692307692308</td><td>0.12846517917511835</td></tr><tr><td>0.68</td><td>0.5329341317365269</td><td>0.06846153846153846</td><td>0.12133605998636673</td></tr><tr><td>0.69</td><td>0.5443037974683544</td><td>0.06615384615384616</td><td>0.1179698216735254</td></tr><tr><td>0.7</td><td>0.5496688741721855</td><td>0.06384615384615384</td><td>0.11440385940730531</td></tr><tr><td>0.71</td><td>0.5416666666666666</td><td>0.06</td><td>0.10803324099722991</td></tr><tr><td>0.72</td><td>0.5474452554744526</td><td>0.057692307692307696</td><td>0.10438413361169102</td></tr><tr><td>0.73</td><td>0.5658914728682171</td><td>0.05615384615384615</td><td>0.10216934919524144</td></tr><tr><td>0.74</td><td>0.5725806451612904</td><td>0.054615384615384614</td><td>0.09971910112359551</td></tr><tr><td>0.75</td><td>0.5630252100840336</td><td>0.05153846153846154</td><td>0.09443269908386187</td></tr><tr><td>0.76</td><td>0.5752212389380531</td><td>0.05</td><td>0.09200283085633404</td></tr><tr><td>0.77</td><td>0.5871559633027523</td><td>0.04923076923076923</td><td>0.0908445706174592</td></tr><tr><td>0.78</td><td>0.5904761904761905</td><td>0.047692307692307694</td><td>0.08825622775800712</td></tr><tr><td>0.79</td><td>0.5980392156862745</td><td>0.04692307692307692</td><td>0.08701854493580598</td></tr><tr><td>0.8</td><td>0.59</td><td>0.045384615384615384</td><td>0.0842857142857143</td></tr><tr><td>0.81</td><td>0.6</td><td>0.04384615384615385</td><td>0.08172043010752687</td></tr><tr><td>0.82</td><td>0.5957446808510638</td><td>0.043076923076923075</td><td>0.08034433285509325</td></tr><tr><td>0.83</td><td>0.5934065934065934</td><td>0.04153846153846154</td><td>0.07764198418404025</td></tr><tr><td>0.84</td><td>0.6046511627906976</td><td>0.04</td><td>0.07503607503607504</td></tr><tr><td>0.85</td><td>0.6144578313253012</td><td>0.03923076923076923</td><td>0.0737527114967462</td></tr><tr><td>0.86</td><td>0.631578947368421</td><td>0.036923076923076927</td><td>0.06976744186046512</td></tr><tr><td>0.87</td><td>0.6111111111111112</td><td>0.033846153846153845</td><td>0.0641399416909621</td></tr><tr><td>0.88</td><td>0.6212121212121212</td><td>0.031538461538461536</td><td>0.060029282576866766</td></tr><tr><td>0.89</td><td>0.6349206349206349</td><td>0.03076923076923077</td><td>0.0586940572267058</td></tr><tr><td>0.9</td><td>0.6271186440677966</td><td>0.02846153846153846</td><td>0.05445180279617366</td></tr><tr><td>0.91</td><td>0.6491228070175439</td><td>0.02846153846153846</td><td>0.05453205600589536</td></tr><tr><td>0.92</td><td>0.6545454545454545</td><td>0.027692307692307693</td><td>0.053136531365313655</td></tr><tr><td>0.93</td><td>0.6470588235294118</td><td>0.025384615384615384</td><td>0.048852701702442644</td></tr><tr><td>0.94</td><td>0.6458333333333334</td><td>0.023846153846153847</td><td>0.04599406528189911</td></tr><tr><td>0.95</td><td>0.6341463414634146</td><td>0.02</td><td>0.03877703206562267</td></tr><tr><td>0.96</td><td>0.59375</td><td>0.014615384615384615</td><td>0.028528528528528527</td></tr><tr><td>0.97</td><td>0.5769230769230769</td><td>0.011538461538461539</td><td>0.022624434389140274</td></tr><tr><td>0.98</td><td>0.5909090909090909</td><td>0.01</td><td>0.019667170953101363</td></tr><tr><td>0.99</td><td>0.625</td><td>0.007692307692307693</td><td>0.015197568389057753</td></tr></tbody></table></div>"
      ]
     },
     "metadata": {
      "application/vnd.databricks.v1+output": {
       "addedWidgets": {},
       "aggData": [],
       "aggError": "",
       "aggOverflow": false,
       "aggSchema": [],
       "aggSeriesLimitReached": false,
       "aggType": "",
       "arguments": {},
       "columnCustomDisplayInfos": {},
       "data": [
        [
         0.0,
         5.325468026709271E-4,
         1.0,
         0.0010645266950540452
        ],
        [
         0.01,
         0.04223433242506812,
         0.8823076923076923,
         0.08061002178649238
        ],
        [
         0.02,
         0.0721438790108318,
         0.8146153846153846,
         0.1325489705238125
        ],
        [
         0.03,
         0.09929360262660432,
         0.7676923076923077,
         0.17584353801427186
        ],
        [
         0.04,
         0.12232013678810996,
         0.7153846153846154,
         0.2089183421318657
        ],
        [
         0.05,
         0.14329964134333226,
         0.6761538461538461,
         0.23648103309120258
        ],
        [
         0.06,
         0.1631177964446181,
         0.6423076923076924,
         0.2601651347561926
        ],
        [
         0.07,
         0.17951063343242626,
         0.6038461538461538,
         0.2767495152476644
        ],
        [
         0.08,
         0.19719428268925357,
         0.573076923076923,
         0.2934226073257188
        ],
        [
         0.09,
         0.21696673787000306,
         0.546923076923077,
         0.3106838540528731
        ],
        [
         0.1,
         0.23519342690859293,
         0.5284615384615384,
         0.3255152807391613
        ],
        [
         0.11,
         0.24962121212121213,
         0.5069230769230769,
         0.3345177664974619
        ],
        [
         0.12,
         0.263681592039801,
         0.48923076923076925,
         0.3426724137931035
        ],
        [
         0.13,
         0.2777272727272727,
         0.47,
         0.34914285714285714
        ],
        [
         0.14,
         0.2933597621407334,
         0.4553846153846154,
         0.35684147076552136
        ],
        [
         0.15,
         0.3076923076923077,
         0.4369230769230769,
         0.3610934520025429
        ],
        [
         0.16,
         0.3175245806824754,
         0.42230769230769233,
         0.36249587322548693
        ],
        [
         0.17,
         0.33189920098340503,
         0.4153846153846154,
         0.3689784762555518
        ],
        [
         0.18,
         0.34098360655737703,
         0.4,
         0.3681415929203539
        ],
        [
         0.19,
         0.3509015256588072,
         0.3892307692307692,
         0.3690736688548505
        ],
        [
         0.2,
         0.3641063515509601,
         0.3792307692307692,
         0.3715146948003014
        ],
        [
         0.21,
         0.3746006389776358,
         0.3607692307692308,
         0.36755485893416934
        ],
        [
         0.22,
         0.38671209540034074,
         0.34923076923076923,
         0.36701697655618437
        ],
        [
         0.23,
         0.3978201634877384,
         0.33692307692307694,
         0.36484798000832985
        ],
        [
         0.24,
         0.4,
         0.32461538461538464,
         0.35838641188959663
        ],
        [
         0.25,
         0.40788177339901477,
         0.31846153846153846,
         0.3576673866090712
        ],
        [
         0.26,
         0.41333333333333333,
         0.31,
         0.3542857142857142
        ],
        [
         0.27,
         0.41808510638297874,
         0.30230769230769233,
         0.3508928571428572
        ],
        [
         0.28,
         0.4211111111111111,
         0.2915384615384615,
         0.34454545454545454
        ],
        [
         0.29,
         0.42790697674418604,
         0.28307692307692306,
         0.34074074074074073
        ],
        [
         0.3,
         0.43333333333333335,
         0.27,
         0.33270142180094786
        ],
        [
         0.31,
         0.437094682230869,
         0.2592307692307692,
         0.32544664413326896
        ],
        [
         0.32,
         0.4358974358974359,
         0.24846153846153846,
         0.3165115139637433
        ],
        [
         0.33,
         0.43626062322946174,
         0.23692307692307693,
         0.3070787637088734
        ],
        [
         0.34,
         0.44542772861356933,
         0.2323076923076923,
         0.30535894843276035
        ],
        [
         0.35,
         0.45038167938931295,
         0.22692307692307692,
         0.30179028132992325
        ],
        [
         0.36,
         0.4558359621451104,
         0.22230769230769232,
         0.2988624612202689
        ],
        [
         0.37,
         0.4538087520259319,
         0.2153846153846154,
         0.29212310902451755
        ],
        [
         0.38,
         0.4539249146757679,
         0.20461538461538462,
         0.28207847295864263
        ],
        [
         0.39,
         0.4592198581560284,
         0.19923076923076924,
         0.2778969957081545
        ],
        [
         0.4,
         0.4684014869888476,
         0.19384615384615383,
         0.27421109902067464
        ],
        [
         0.41,
         0.47093023255813954,
         0.18692307692307691,
         0.2676211453744493
        ],
        [
         0.42,
         0.48096192384769537,
         0.18461538461538463,
         0.2668148971650917
        ],
        [
         0.43,
         0.4875,
         0.18,
         0.26292134831460673
        ],
        [
         0.44,
         0.4900662251655629,
         0.17076923076923076,
         0.25328009127210493
        ],
        [
         0.45,
         0.49658314350797267,
         0.1676923076923077,
         0.2507188039102932
        ],
        [
         0.46,
         0.498812351543943,
         0.16153846153846155,
         0.24404416037187684
        ],
        [
         0.47,
         0.5089058524173028,
         0.15384615384615385,
         0.23626698168930896
        ],
        [
         0.48,
         0.5173333333333333,
         0.14923076923076922,
         0.23164179104477614
        ],
        [
         0.49,
         0.532394366197183,
         0.1453846153846154,
         0.2283987915407855
        ],
        [
         0.5,
         0.5232558139534884,
         0.13846153846153847,
         0.2189781021897811
        ],
        [
         0.51,
         0.5272727272727272,
         0.13384615384615384,
         0.2134969325153374
        ],
        [
         0.52,
         0.5333333333333333,
         0.12923076923076923,
         0.20804953560371514
        ],
        [
         0.53,
         0.5298013245033113,
         0.12307692307692308,
         0.1997503121098627
        ],
        [
         0.54,
         0.5275862068965518,
         0.1176923076923077,
         0.19245283018867926
        ],
        [
         0.55,
         0.5215827338129496,
         0.11153846153846154,
         0.18377693282636248
        ],
        [
         0.56,
         0.5111940298507462,
         0.10538461538461538,
         0.17474489795918366
        ],
        [
         0.57,
         0.5057471264367817,
         0.10153846153846154,
         0.16912235746316462
        ],
        [
         0.58,
         0.5224489795918368,
         0.09846153846153846,
         0.16569579288025887
        ],
        [
         0.59,
         0.5271966527196653,
         0.09692307692307692,
         0.16374269005847955
        ],
        [
         0.6,
         0.5350877192982456,
         0.09384615384615384,
         0.15968586387434555
        ],
        [
         0.61,
         0.5388127853881278,
         0.09076923076923077,
         0.1553653719552337
        ],
        [
         0.62,
         0.5416666666666666,
         0.09,
         0.15435356200527706
        ],
        [
         0.63,
         0.5377358490566038,
         0.0876923076923077,
         0.15079365079365079
        ],
        [
         0.64,
         0.5294117647058824,
         0.08307692307692308,
         0.14361702127659576
        ],
        [
         0.65,
         0.5412371134020618,
         0.08076923076923077,
         0.14056224899598393
        ],
        [
         0.66,
         0.5376344086021505,
         0.07692307692307693,
         0.13458950201884257
        ],
        [
         0.67,
         0.5307262569832403,
         0.07307692307692308,
         0.12846517917511835
        ],
        [
         0.68,
         0.5329341317365269,
         0.06846153846153846,
         0.12133605998636673
        ],
        [
         0.69,
         0.5443037974683544,
         0.06615384615384616,
         0.1179698216735254
        ],
        [
         0.7,
         0.5496688741721855,
         0.06384615384615384,
         0.11440385940730531
        ],
        [
         0.71,
         0.5416666666666666,
         0.06,
         0.10803324099722991
        ],
        [
         0.72,
         0.5474452554744526,
         0.057692307692307696,
         0.10438413361169102
        ],
        [
         0.73,
         0.5658914728682171,
         0.05615384615384615,
         0.10216934919524144
        ],
        [
         0.74,
         0.5725806451612904,
         0.054615384615384614,
         0.09971910112359551
        ],
        [
         0.75,
         0.5630252100840336,
         0.05153846153846154,
         0.09443269908386187
        ],
        [
         0.76,
         0.5752212389380531,
         0.05,
         0.09200283085633404
        ],
        [
         0.77,
         0.5871559633027523,
         0.04923076923076923,
         0.0908445706174592
        ],
        [
         0.78,
         0.5904761904761905,
         0.047692307692307694,
         0.08825622775800712
        ],
        [
         0.79,
         0.5980392156862745,
         0.04692307692307692,
         0.08701854493580598
        ],
        [
         0.8,
         0.59,
         0.045384615384615384,
         0.0842857142857143
        ],
        [
         0.81,
         0.6,
         0.04384615384615385,
         0.08172043010752687
        ],
        [
         0.82,
         0.5957446808510638,
         0.043076923076923075,
         0.08034433285509325
        ],
        [
         0.83,
         0.5934065934065934,
         0.04153846153846154,
         0.07764198418404025
        ],
        [
         0.84,
         0.6046511627906976,
         0.04,
         0.07503607503607504
        ],
        [
         0.85,
         0.6144578313253012,
         0.03923076923076923,
         0.0737527114967462
        ],
        [
         0.86,
         0.631578947368421,
         0.036923076923076927,
         0.06976744186046512
        ],
        [
         0.87,
         0.6111111111111112,
         0.033846153846153845,
         0.0641399416909621
        ],
        [
         0.88,
         0.6212121212121212,
         0.031538461538461536,
         0.060029282576866766
        ],
        [
         0.89,
         0.6349206349206349,
         0.03076923076923077,
         0.0586940572267058
        ],
        [
         0.9,
         0.6271186440677966,
         0.02846153846153846,
         0.05445180279617366
        ],
        [
         0.91,
         0.6491228070175439,
         0.02846153846153846,
         0.05453205600589536
        ],
        [
         0.92,
         0.6545454545454545,
         0.027692307692307693,
         0.053136531365313655
        ],
        [
         0.93,
         0.6470588235294118,
         0.025384615384615384,
         0.048852701702442644
        ],
        [
         0.94,
         0.6458333333333334,
         0.023846153846153847,
         0.04599406528189911
        ],
        [
         0.95,
         0.6341463414634146,
         0.02,
         0.03877703206562267
        ],
        [
         0.96,
         0.59375,
         0.014615384615384615,
         0.028528528528528527
        ],
        [
         0.97,
         0.5769230769230769,
         0.011538461538461539,
         0.022624434389140274
        ],
        [
         0.98,
         0.5909090909090909,
         0.01,
         0.019667170953101363
        ],
        [
         0.99,
         0.625,
         0.007692307692307693,
         0.015197568389057753
        ]
       ],
       "datasetInfos": [],
       "dbfsResultPath": null,
       "isJsonSchema": true,
       "metadata": {},
       "overflow": false,
       "plotOptions": {
        "customPlotOptions": {},
        "displayType": "table",
        "pivotAggregation": null,
        "pivotColumns": null,
        "xColumns": null,
        "yColumns": null
       },
       "removedWidgets": [],
       "schema": [
        {
         "metadata": "{}",
         "name": "threshold",
         "type": "\"double\""
        },
        {
         "metadata": "{}",
         "name": "precision",
         "type": "\"double\""
        },
        {
         "metadata": "{}",
         "name": "recall",
         "type": "\"double\""
        },
        {
         "metadata": "{}",
         "name": "fmeasure",
         "type": "\"double\""
        }
       ],
       "type": "table"
      }
     },
     "output_type": "display_data"
    },
    {
     "output_type": "display_data",
     "data": {
      "text/plain": [
       "Databricks visualization. Run in Databricks to view."
      ]
     },
     "metadata": {
      "application/vnd.databricks.v1.subcommand+json": {
       "bindings": {},
       "collapsed": false,
       "command": "# Create a DataFrame and visualize using display()\ngraph = [(t, precision(t), recall(t),fmeasure(t)) for t in thresholds]\ngraphRDD = sc.parallelize(graph)\n\ngraphRow = graphRDD.map(lambda kv: Row(threshold=kv[0], precision=kv[1], recall=kv[2], fmeasure=kv[3]))\ngraphDF = sqlContext.createDataFrame(graphRow)\ndisplay(graphDF)",
       "commandTitle": "Visualization 1",
       "commandType": "auto",
       "commandVersion": 0,
       "commentThread": [],
       "commentsVisible": false,
       "contentSha256Hex": null,
       "customPlotOptions": {
        "plotlyBar": [
         {
          "key": "grouped",
          "value": true
         },
         {
          "key": "stacked",
          "value": false
         },
         {
          "key": "100_stacked",
          "value": false
         }
        ],
        "plotlyLine": [
         {
          "key": "yRange",
          "value": ""
         },
         {
          "key": "showPoints",
          "value": false
         },
         {
          "key": "logScale",
          "value": false
         }
        ]
       },
       "datasetPreviewNameToCmdIdMap": {},
       "diffDeletes": [],
       "diffInserts": [],
       "displayType": "plotlyLine",
       "error": null,
       "errorSummary": null,
       "errorTraceType": null,
       "finishTime": 0,
       "globalVars": {},
       "guid": "",
       "height": "auto",
       "hideCommandCode": false,
       "hideCommandResult": false,
       "iPythonMetadata": null,
       "inputWidgets": {},
       "isLockedInExamMode": false,
       "latestUser": "a user",
       "latestUserId": null,
       "listResultMetadata": null,
       "metadata": {},
       "nuid": "9409dc34-0dc0-49ba-b8cb-386bcba5d084",
       "origId": 0,
       "parentHierarchy": [],
       "pivotAggregation": "sum",
       "pivotColumns": [],
       "position": 96.0,
       "resultDbfsErrorMessage": null,
       "resultDbfsStatus": "INLINED_IN_TREE",
       "results": null,
       "showCommandTitle": false,
       "startTime": 0,
       "state": "input",
       "streamStates": {},
       "subcommandOptions": null,
       "submitTime": 0,
       "subtype": "tableResultSubCmd.visualization",
       "tableResultIndex": 0,
       "useConsistentColors": false,
       "version": "CommandV1",
       "width": "auto",
       "workflows": [],
       "xColumns": [
        "threshold"
       ],
       "yColumns": [
        "fmeasure",
        "precision",
        "recall"
       ]
      }
     },
     "output_type": "display_data"
    }
   ],
   "source": [
    "# Create a DataFrame and visualize using display()\n",
    "graph = [(t, precision(t), recall(t),fmeasure(t)) for t in thresholds]\n",
    "graphRDD = sc.parallelize(graph)\n",
    "\n",
    "graphRow = graphRDD.map(lambda kv: Row(threshold=kv[0], precision=kv[1], recall=kv[2], fmeasure=kv[3]))\n",
    "graphDF = sqlContext.createDataFrame(graphRow)\n",
    "display(graphDF)"
   ]
  },
  {
   "cell_type": "markdown",
   "metadata": {
    "application/vnd.databricks.v1+cell": {
     "cellMetadata": {
      "byteLimit": 2048000,
      "rowLimit": 10000
     },
     "inputWidgets": {},
     "nuid": "9f0202e6-75b1-4185-ab5f-73d3aabf8629",
     "showTitle": false,
     "title": ""
    },
    "id": "jFGKvKwe_sa-"
   },
   "source": [
    "> Note: There is no code to write for Part 5. We just think it is important to see how to do the analysis."
   ]
  },
  {
   "cell_type": "markdown",
   "metadata": {
    "application/vnd.databricks.v1+cell": {
     "cellMetadata": {
      "byteLimit": 2048000,
      "rowLimit": 10000
     },
     "inputWidgets": {},
     "nuid": "da220f29-4093-46a9-8805-780c799173c1",
     "showTitle": false,
     "title": ""
    },
    "id": "jntQIsNq_sa-"
   },
   "source": [
    "## Discussion\n",
    "\n",
    "State-of-the-art tools can get an F-measure of about 60% on this dataset. In this lab exercise, our best F-measure is closer to 40%. Look at some examples of errors (both False Positives and False Negatives) and think about what went wrong.\n",
    "\n",
    "### There are several ways we might improve our simple classifier, including:\n",
    "* Using additional attributes\n",
    "* Performing better featurization of our textual data (e.g., stemming, n-grams, etc.)\n",
    "* Using different similarity functions"
   ]
  },
  {
   "cell_type": "code",
   "execution_count": 0,
   "metadata": {
    "application/vnd.databricks.v1+cell": {
     "cellMetadata": {
      "byteLimit": 2048000,
      "rowLimit": 10000
     },
     "inputWidgets": {},
     "nuid": "44eefe2e-a537-4399-a235-8f0973d5e986",
     "showTitle": false,
     "title": ""
    },
    "id": "-ABN6Cnw_sa_"
   },
   "outputs": [],
   "source": []
  }
 ],
 "metadata": {
  "application/vnd.databricks.v1+notebook": {
   "dashboards": [],
   "language": "python",
   "notebookMetadata": {
    "pythonIndentUnit": 4
   },
   "notebookName": "hw1_coding_1",
   "widgets": {}
  },
  "colab": {
   "name": "hw1_coding_1_modified.ipynb",
   "provenance": [],
   "toc_visible": true
  },
  "kernelspec": {
   "display_name": "Python 3",
   "language": "python",
   "name": "python3"
  },
  "language_info": {
   "codemirror_mode": {
    "name": "ipython",
    "version": 3
   },
   "file_extension": ".py",
   "mimetype": "text/x-python",
   "name": "python",
   "nbconvert_exporter": "python",
   "pygments_lexer": "ipython3",
   "version": "3.8.5"
  }
 },
 "nbformat": 4,
 "nbformat_minor": 0
}
